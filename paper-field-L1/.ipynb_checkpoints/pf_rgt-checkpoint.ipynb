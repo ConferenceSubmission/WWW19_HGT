{
 "cells": [
  {
   "cell_type": "code",
   "execution_count": 1,
   "metadata": {},
   "outputs": [],
   "source": [
    "import sys\n",
    "sys.path.append('../')\n",
    "from utils import *\n",
    "from model import *"
   ]
  },
  {
   "cell_type": "code",
   "execution_count": 2,
   "metadata": {},
   "outputs": [],
   "source": [
    "data_dir = '/datadrive/data_cs/'\n",
    "batch_size = 256\n",
    "batch_num  = 128\n",
    "epoch_num  = 100\n",
    "samp_num   = 7\n",
    "\n",
    "device = torch.device(\"cuda:0\")\n",
    "graph = dill.load(open(data_dir + 'graph.pk', 'rb'))"
   ]
  },
  {
   "cell_type": "code",
   "execution_count": 3,
   "metadata": {},
   "outputs": [],
   "source": [
    "train_range = {t: True for t in graph.times if t != None and t < 2015}\n",
    "valid_range = {t: True for t in graph.times if t != None and t >= 2015  and t <= 2016}\n",
    "test_range  = {t: True for t in graph.times if t != None and t > 2016}"
   ]
  },
  {
   "cell_type": "code",
   "execution_count": 4,
   "metadata": {},
   "outputs": [],
   "source": [
    "def pf_sample(seed, papers, pairs, t_range, batch_size, test = False):\n",
    "    np.random.seed(seed)\n",
    "    _time = np.random.choice(list(papers.keys()))\n",
    "    sampn = min(len(papers[_time]), batch_size)\n",
    "    pids = np.array(papers[_time])[np.random.choice(len(papers[_time]), sampn, replace = False)]\n",
    "    fids = []\n",
    "    edge = defaultdict(lambda: {})\n",
    "    for x_id, p_id in enumerate(pids):\n",
    "        f_ids = pairs[p_id]\n",
    "        for f_id in f_ids:\n",
    "            if f_id not in fids:\n",
    "                fids += [f_id]\n",
    "            edge[x_id][fids.index(f_id)] = True\n",
    "    pids = np.stack([pids, np.repeat([_time], sampn)]).T\n",
    "    fids = np.stack([fids, np.repeat([_time], len(fids))]).T\n",
    " \n",
    "    feature, times, edge_list, _ = sample_subgraph(graph, t_range, \\\n",
    "                inp = {'paper': pids, 'field': fids}, sampled_depth = 3, sampled_number = 100)\n",
    "\n",
    "    el = []\n",
    "    for i in edge_list['paper']['field']['rev_PF_in']:\n",
    "        if i[0] in edge and i[1] in edge[i[0]]:\n",
    "            continue\n",
    "        el += [i]\n",
    "    edge_list['paper']['field']['rev_PF_in'] = el\n",
    "\n",
    "    el = []\n",
    "    for i in edge_list['field']['paper']['PF_in']:\n",
    "        if i[1] in edge and i[0] in edge[i[1]]:\n",
    "            continue\n",
    "        el += [i]\n",
    "    edge_list['field']['paper']['PF_in'] = el\n",
    "    \n",
    "    \n",
    "    node_feature, node_type, edge_time, edge_index, edge_type, node_dict, edge_dict = \\\n",
    "            to_torch(feature, times, edge_list, graph)\n",
    "    '''\n",
    "        Trace the paper_id and field_id by its own index plus the type start index\n",
    "    '''\n",
    "    paper_ids = np.arange(len(pids)) + node_dict['paper'][0]\n",
    "    field_ids = np.arange(len(fids)) + node_dict['field'][0]\n",
    "    ylabel = torch.zeros(sampn, len(cand_list))\n",
    "    for x_id, p_id in enumerate(pids[:,0]):\n",
    "        for f_id in pairs[p_id]:\n",
    "            ylabel[x_id][cand_list.index(f_id)] = 1\n",
    "    ylabel /= ylabel.sum(axis=1).view(-1, 1)\n",
    "    return node_feature, node_type, edge_time, edge_index, edge_type, field_ids, paper_ids, ylabel\n",
    "    \n",
    "def prepare_data(pool, process_ids):\n",
    "    jobs = []\n",
    "    for process_id in process_ids[:-1]:\n",
    "        p = pool.apply_async(pf_sample, args=(np.random.randint(2**32 - 1), train_papers, \\\n",
    "                                               train_pairs, train_range, batch_size))\n",
    "        jobs.append(p)\n",
    "    p = pool.apply_async(pf_sample, args=(np.random.randint(2**32 - 1), valid_papers, \\\n",
    "                                           valid_pairs, valid_range, batch_size))\n",
    "    jobs.append(p)\n",
    "    return jobs"
   ]
  },
  {
   "cell_type": "code",
   "execution_count": 5,
   "metadata": {},
   "outputs": [],
   "source": [
    "class GNN(nn.Module):\n",
    "    def __init__(self, in_dim, n_hid, num_types, num_relations, n_heads, n_layers, dropout = 0.3):\n",
    "        super(GNN, self).__init__()\n",
    "        self.gcs = nn.ModuleList()\n",
    "        self.num_types = num_types\n",
    "        self.in_dim    = in_dim\n",
    "        self.n_hid     = n_hid\n",
    "        self.aggregat_ws   = nn.ModuleList()\n",
    "        self.drop          = nn.Dropout(dropout)\n",
    "        for t in range(num_types):\n",
    "            self.aggregat_ws.append(nn.Linear(in_dim, n_hid))\n",
    "        for l in range(n_layers):\n",
    "            self.gcs.append(RAGCNConv(n_hid, n_hid, num_types, num_relations, n_heads, dropout))\n",
    "    def set_device(self, device):\n",
    "        self.device = device\n",
    "        for gc in self.gcs:\n",
    "            gc.device = device\n",
    "    def forward(self, node_feature, node_type, edge_time, edge_index, edge_type):\n",
    "        res = torch.zeros(node_feature.size(0), self.n_hid).to(node_feature.device)\n",
    "        for t_id in range(self.num_types):\n",
    "            aggregat_w = self.aggregat_ws[t_id]\n",
    "            idx = (node_type == t_id)\n",
    "            if idx.sum() == 0:\n",
    "                continue\n",
    "            res[idx] = torch.tanh(aggregat_w(node_feature[idx]))\n",
    "        meta_xs = self.drop(res)\n",
    "        del res\n",
    "        for gc in self.gcs:\n",
    "            meta_xs = gc(meta_xs, node_type, edge_index, edge_type, edge_time)\n",
    "        return meta_xs"
   ]
  },
  {
   "cell_type": "code",
   "execution_count": 6,
   "metadata": {},
   "outputs": [],
   "source": [
    "'''\n",
    "Paper-Field\n",
    "'''\n",
    "paper_ser = {}\n",
    "\n",
    "train_pairs = {}\n",
    "valid_pairs = {}\n",
    "test_pairs  = {}\n",
    "\n",
    "train_papers = {_time: {} for _time in train_range}\n",
    "valid_papers = {_time: {} for _time in valid_range}\n",
    "test_papers  = {_time: {} for _time in test_range}\n",
    "\n",
    "for f_id in graph.edge_list['field']['paper']['PF_in_L1']:\n",
    "    for p_id in graph.edge_list['field']['paper']['PF_in_L1'][f_id]:\n",
    "        _time = graph.edge_list['field']['paper']['PF_in_L1'][f_id][p_id]\n",
    "        if _time in train_range:\n",
    "            if p_id not in train_pairs:\n",
    "                train_pairs[p_id] = []\n",
    "            train_pairs[p_id] += [f_id]\n",
    "            train_papers[_time][p_id] = True\n",
    "        elif _time in valid_range:\n",
    "            if p_id not in valid_pairs:\n",
    "                valid_pairs[p_id] = []\n",
    "            valid_pairs[p_id] += [f_id]\n",
    "            valid_papers[_time][p_id] = True\n",
    "        else:\n",
    "            if p_id not in test_pairs:\n",
    "                test_pairs[p_id] = []\n",
    "            test_pairs[p_id] += [f_id]\n",
    "            test_papers[_time][p_id] = True\n",
    "for _time in list(train_papers.keys()):\n",
    "    if len(train_papers[_time]) < batch_size // 2:\n",
    "        train_papers.pop(_time)\n",
    "    else:\n",
    "        train_papers[_time] = np.array(list(train_papers[_time].keys()))\n",
    "for _time in list(valid_papers.keys()):\n",
    "    if len(valid_papers[_time]) < batch_size // 2:\n",
    "        valid_papers.pop(_time)\n",
    "    else:\n",
    "        valid_papers[_time] = np.array(list(valid_papers[_time].keys()))\n",
    "for _time in list(test_papers.keys()):\n",
    "    if len(test_papers[_time]) < batch_size // 2:\n",
    "        test_papers.pop(_time)\n",
    "    else:\n",
    "        test_papers[_time] = np.array(list(test_papers[_time].keys()))"
   ]
  },
  {
   "cell_type": "code",
   "execution_count": 7,
   "metadata": {},
   "outputs": [],
   "source": [
    "types = graph.get_types()\n",
    "cand_list = list(graph.edge_list['field']['paper']['PF_in_L1'])\n",
    "gnn = GNN(in_dim = len(graph.node_feature['paper']['emb'][0]) + 401, n_hid = 256, num_types = len(types), \\\n",
    "          num_relations = len(graph.get_meta_graph()) + 1, n_heads = 8, n_layers = 3).to(device)\n",
    "gnn = torch.load('../pre-train/save/cpc_model.pt').to(device)\n",
    "classifier = Classifier(256, len(cand_list)).to(device)\n",
    "model = nn.Sequential(gnn, classifier)\n",
    "optimizer = torch.optim.AdamW(model.parameters())\n",
    "scheduler = torch.optim.lr_scheduler.CosineAnnealingLR(optimizer, 1000, eta_min=1e-6)"
   ]
  },
  {
   "cell_type": "code",
   "execution_count": null,
   "metadata": {},
   "outputs": [],
   "source": []
  },
  {
   "cell_type": "code",
   "execution_count": 8,
   "metadata": {
    "scrolled": true
   },
   "outputs": [
    {
     "name": "stdout",
     "output_type": "stream",
     "text": [
      "Data Preparation: 181.5s\n"
     ]
    },
    {
     "name": "stderr",
     "output_type": "stream",
     "text": [
      "/home/ziniu/anaconda3/lib/python3.7/site-packages/torch/serialization.py:256: UserWarning: Couldn't retrieve source code for container of type GNN. It won't be checked for correctness upon loading.\n",
      "  \"type \" + obj.__name__ + \". It won't be checked \"\n"
     ]
    },
    {
     "name": "stdout",
     "output_type": "stream",
     "text": [
      "Epoch: 1 (248.4s)  LR: 0.00060 Train Loss: 8.05  Valid Loss: 5.17  Valid NDCG: 0.6099\n",
      "Data Preparation: 2.3s\n"
     ]
    },
    {
     "name": "stderr",
     "output_type": "stream",
     "text": [
      "/home/ziniu/anaconda3/lib/python3.7/site-packages/torch/serialization.py:256: UserWarning: Couldn't retrieve source code for container of type GNN. It won't be checked for correctness upon loading.\n",
      "  \"type \" + obj.__name__ + \". It won't be checked \"\n"
     ]
    },
    {
     "name": "stdout",
     "output_type": "stream",
     "text": [
      "Epoch: 2 (259.0s)  LR: 0.00069 Train Loss: 3.60  Valid Loss: 3.41  Valid NDCG: 0.6690\n",
      "Data Preparation: 2.5s\n",
      "Epoch: 3 (266.8s)  LR: 0.00078 Train Loss: 2.47  Valid Loss: 2.77  Valid NDCG: 0.6563\n",
      "Data Preparation: 2.5s\n"
     ]
    },
    {
     "name": "stderr",
     "output_type": "stream",
     "text": [
      "/home/ziniu/anaconda3/lib/python3.7/site-packages/torch/serialization.py:256: UserWarning: Couldn't retrieve source code for container of type GNN. It won't be checked for correctness upon loading.\n",
      "  \"type \" + obj.__name__ + \". It won't be checked \"\n"
     ]
    },
    {
     "name": "stdout",
     "output_type": "stream",
     "text": [
      "Epoch: 4 (274.3s)  LR: 0.00085 Train Loss: 2.13  Valid Loss: 2.32  Valid NDCG: 0.6910\n",
      "Data Preparation: 2.4s\n"
     ]
    },
    {
     "name": "stderr",
     "output_type": "stream",
     "text": [
      "/home/ziniu/anaconda3/lib/python3.7/site-packages/torch/serialization.py:256: UserWarning: Couldn't retrieve source code for container of type GNN. It won't be checked for correctness upon loading.\n",
      "  \"type \" + obj.__name__ + \". It won't be checked \"\n"
     ]
    },
    {
     "name": "stdout",
     "output_type": "stream",
     "text": [
      "Epoch: 5 (267.5s)  LR: 0.00091 Train Loss: 1.99  Valid Loss: 2.23  Valid NDCG: 0.7193\n",
      "0.7404752560506321\n",
      "Data Preparation: 25.2s\n"
     ]
    },
    {
     "name": "stderr",
     "output_type": "stream",
     "text": [
      "/home/ziniu/anaconda3/lib/python3.7/site-packages/torch/serialization.py:256: UserWarning: Couldn't retrieve source code for container of type GNN. It won't be checked for correctness upon loading.\n",
      "  \"type \" + obj.__name__ + \". It won't be checked \"\n"
     ]
    },
    {
     "name": "stdout",
     "output_type": "stream",
     "text": [
      "Epoch: 6 (258.4s)  LR: 0.00096 Train Loss: 1.79  Valid Loss: 2.41  Valid NDCG: 0.7290\n",
      "Data Preparation: 3.0s\n"
     ]
    },
    {
     "name": "stderr",
     "output_type": "stream",
     "text": [
      "/home/ziniu/anaconda3/lib/python3.7/site-packages/torch/serialization.py:256: UserWarning: Couldn't retrieve source code for container of type GNN. It won't be checked for correctness upon loading.\n",
      "  \"type \" + obj.__name__ + \". It won't be checked \"\n"
     ]
    },
    {
     "name": "stdout",
     "output_type": "stream",
     "text": [
      "Epoch: 7 (263.6s)  LR: 0.00099 Train Loss: 1.74  Valid Loss: 2.12  Valid NDCG: 0.7540\n",
      "Data Preparation: 2.7s\n",
      "Epoch: 8 (261.0s)  LR: 0.00100 Train Loss: 1.66  Valid Loss: 2.23  Valid NDCG: 0.7440\n",
      "Data Preparation: 2.7s\n"
     ]
    },
    {
     "name": "stderr",
     "output_type": "stream",
     "text": [
      "/home/ziniu/anaconda3/lib/python3.7/site-packages/torch/serialization.py:256: UserWarning: Couldn't retrieve source code for container of type GNN. It won't be checked for correctness upon loading.\n",
      "  \"type \" + obj.__name__ + \". It won't be checked \"\n"
     ]
    },
    {
     "name": "stdout",
     "output_type": "stream",
     "text": [
      "Epoch: 9 (267.0s)  LR: 0.00099 Train Loss: 1.57  Valid Loss: 1.79  Valid NDCG: 0.7679\n",
      "Data Preparation: 2.4s\n"
     ]
    },
    {
     "name": "stderr",
     "output_type": "stream",
     "text": [
      "/home/ziniu/anaconda3/lib/python3.7/site-packages/torch/serialization.py:256: UserWarning: Couldn't retrieve source code for container of type GNN. It won't be checked for correctness upon loading.\n",
      "  \"type \" + obj.__name__ + \". It won't be checked \"\n"
     ]
    },
    {
     "name": "stdout",
     "output_type": "stream",
     "text": [
      "Epoch: 10 (258.3s)  LR: 0.00096 Train Loss: 1.48  Valid Loss: 1.61  Valid NDCG: 0.7689\n",
      "0.7985078665001789\n",
      "Data Preparation: 27.1s\n"
     ]
    },
    {
     "name": "stderr",
     "output_type": "stream",
     "text": [
      "/home/ziniu/anaconda3/lib/python3.7/site-packages/torch/serialization.py:256: UserWarning: Couldn't retrieve source code for container of type GNN. It won't be checked for correctness upon loading.\n",
      "  \"type \" + obj.__name__ + \". It won't be checked \"\n"
     ]
    },
    {
     "name": "stdout",
     "output_type": "stream",
     "text": [
      "Epoch: 11 (271.8s)  LR: 0.00092 Train Loss: 1.44  Valid Loss: 1.72  Valid NDCG: 0.7886\n",
      "Data Preparation: 3.1s\n"
     ]
    },
    {
     "name": "stderr",
     "output_type": "stream",
     "text": [
      "/home/ziniu/anaconda3/lib/python3.7/site-packages/torch/serialization.py:256: UserWarning: Couldn't retrieve source code for container of type GNN. It won't be checked for correctness upon loading.\n",
      "  \"type \" + obj.__name__ + \". It won't be checked \"\n"
     ]
    },
    {
     "name": "stdout",
     "output_type": "stream",
     "text": [
      "Epoch: 12 (269.5s)  LR: 0.00086 Train Loss: 1.36  Valid Loss: 1.59  Valid NDCG: 0.7967\n",
      "Data Preparation: 2.6s\n"
     ]
    },
    {
     "name": "stderr",
     "output_type": "stream",
     "text": [
      "/home/ziniu/anaconda3/lib/python3.7/site-packages/torch/serialization.py:256: UserWarning: Couldn't retrieve source code for container of type GNN. It won't be checked for correctness upon loading.\n",
      "  \"type \" + obj.__name__ + \". It won't be checked \"\n"
     ]
    },
    {
     "name": "stdout",
     "output_type": "stream",
     "text": [
      "Epoch: 13 (267.6s)  LR: 0.00079 Train Loss: 1.31  Valid Loss: 1.49  Valid NDCG: 0.8066\n",
      "Data Preparation: 2.8s\n"
     ]
    },
    {
     "name": "stderr",
     "output_type": "stream",
     "text": [
      "/home/ziniu/anaconda3/lib/python3.7/site-packages/torch/serialization.py:256: UserWarning: Couldn't retrieve source code for container of type GNN. It won't be checked for correctness upon loading.\n",
      "  \"type \" + obj.__name__ + \". It won't be checked \"\n"
     ]
    },
    {
     "name": "stdout",
     "output_type": "stream",
     "text": [
      "Epoch: 14 (264.6s)  LR: 0.00070 Train Loss: 1.24  Valid Loss: 1.78  Valid NDCG: 0.8079\n",
      "Data Preparation: 2.7s\n",
      "Epoch: 15 (263.5s)  LR: 0.00061 Train Loss: 1.23  Valid Loss: 2.11  Valid NDCG: 0.8072\n",
      "0.6714630688412927\n",
      "Data Preparation: 24.2s\n"
     ]
    },
    {
     "name": "stderr",
     "output_type": "stream",
     "text": [
      "/home/ziniu/anaconda3/lib/python3.7/site-packages/torch/serialization.py:256: UserWarning: Couldn't retrieve source code for container of type GNN. It won't be checked for correctness upon loading.\n",
      "  \"type \" + obj.__name__ + \". It won't be checked \"\n"
     ]
    },
    {
     "name": "stdout",
     "output_type": "stream",
     "text": [
      "Epoch: 16 (267.4s)  LR: 0.00051 Train Loss: 1.17  Valid Loss: 1.52  Valid NDCG: 0.8313\n",
      "Data Preparation: 2.7s\n",
      "Epoch: 17 (282.2s)  LR: 0.00042 Train Loss: 1.16  Valid Loss: 1.50  Valid NDCG: 0.8302\n",
      "Data Preparation: 4.6s\n",
      "Epoch: 18 (279.8s)  LR: 0.00032 Train Loss: 1.08  Valid Loss: 1.63  Valid NDCG: 0.8286\n",
      "Data Preparation: 2.8s\n",
      "Epoch: 19 (270.1s)  LR: 0.00024 Train Loss: 1.07  Valid Loss: 1.45  Valid NDCG: 0.8214\n",
      "Data Preparation: 2.7s\n"
     ]
    },
    {
     "name": "stderr",
     "output_type": "stream",
     "text": [
      "/home/ziniu/anaconda3/lib/python3.7/site-packages/torch/serialization.py:256: UserWarning: Couldn't retrieve source code for container of type GNN. It won't be checked for correctness upon loading.\n",
      "  \"type \" + obj.__name__ + \". It won't be checked \"\n"
     ]
    },
    {
     "name": "stdout",
     "output_type": "stream",
     "text": [
      "Epoch: 20 (273.7s)  LR: 0.00016 Train Loss: 1.06  Valid Loss: 1.24  Valid NDCG: 0.8528\n",
      "0.7193466901577611\n",
      "Data Preparation: 25.3s\n"
     ]
    },
    {
     "name": "stderr",
     "output_type": "stream",
     "text": [
      "/home/ziniu/anaconda3/lib/python3.7/site-packages/torch/serialization.py:256: UserWarning: Couldn't retrieve source code for container of type GNN. It won't be checked for correctness upon loading.\n",
      "  \"type \" + obj.__name__ + \". It won't be checked \"\n"
     ]
    },
    {
     "name": "stdout",
     "output_type": "stream",
     "text": [
      "Epoch: 21 (273.1s)  LR: 0.00009 Train Loss: 1.04  Valid Loss: 1.09  Valid NDCG: 0.8729\n",
      "Data Preparation: 2.9s\n",
      "Epoch: 22 (274.2s)  LR: 0.00005 Train Loss: 1.03  Valid Loss: 1.44  Valid NDCG: 0.8583\n",
      "Data Preparation: 3.1s\n",
      "Epoch: 23 (279.8s)  LR: 0.00001 Train Loss: 1.01  Valid Loss: 1.39  Valid NDCG: 0.8235\n",
      "Data Preparation: 3.0s\n",
      "Epoch: 24 (283.8s)  LR: 0.00000 Train Loss: 1.04  Valid Loss: 1.42  Valid NDCG: 0.8355\n",
      "Data Preparation: 2.9s\n",
      "Epoch: 25 (276.6s)  LR: 0.00001 Train Loss: 1.04  Valid Loss: 1.46  Valid NDCG: 0.8341\n",
      "0.7551942123598429\n",
      "Data Preparation: 28.7s\n",
      "Epoch: 26 (282.3s)  LR: 0.00003 Train Loss: 0.98  Valid Loss: 1.35  Valid NDCG: 0.8429\n",
      "Data Preparation: 4.0s\n",
      "Epoch: 27 (277.7s)  LR: 0.00007 Train Loss: 1.00  Valid Loss: 1.50  Valid NDCG: 0.8408\n",
      "Data Preparation: 2.7s\n",
      "Epoch: 28 (272.3s)  LR: 0.00013 Train Loss: 1.02  Valid Loss: 1.47  Valid NDCG: 0.8366\n",
      "Data Preparation: 2.5s\n",
      "Epoch: 29 (280.5s)  LR: 0.00020 Train Loss: 1.00  Valid Loss: 1.53  Valid NDCG: 0.8009\n",
      "Data Preparation: 3.1s\n",
      "Epoch: 30 (270.6s)  LR: 0.00029 Train Loss: 1.02  Valid Loss: 1.64  Valid NDCG: 0.7972\n",
      "0.8358103091673681\n",
      "Data Preparation: 30.1s\n"
     ]
    },
    {
     "name": "stderr",
     "output_type": "stream",
     "text": [
      "/home/ziniu/anaconda3/lib/python3.7/site-packages/torch/serialization.py:256: UserWarning: Couldn't retrieve source code for container of type GNN. It won't be checked for correctness upon loading.\n",
      "  \"type \" + obj.__name__ + \". It won't be checked \"\n"
     ]
    },
    {
     "name": "stdout",
     "output_type": "stream",
     "text": [
      "Epoch: 31 (274.5s)  LR: 0.00038 Train Loss: 1.02  Valid Loss: 1.14  Valid NDCG: 0.8762\n",
      "Data Preparation: 3.1s\n",
      "Epoch: 32 (275.3s)  LR: 0.00048 Train Loss: 0.99  Valid Loss: 1.30  Valid NDCG: 0.8192\n",
      "Data Preparation: 3.3s\n",
      "Epoch: 33 (275.0s)  LR: 0.00057 Train Loss: 1.02  Valid Loss: 1.37  Valid NDCG: 0.8531\n",
      "Data Preparation: 3.0s\n"
     ]
    },
    {
     "name": "stderr",
     "output_type": "stream",
     "text": [
      "/home/ziniu/anaconda3/lib/python3.7/site-packages/torch/serialization.py:256: UserWarning: Couldn't retrieve source code for container of type GNN. It won't be checked for correctness upon loading.\n",
      "  \"type \" + obj.__name__ + \". It won't be checked \"\n"
     ]
    },
    {
     "name": "stdout",
     "output_type": "stream",
     "text": [
      "Epoch: 34 (266.6s)  LR: 0.00067 Train Loss: 0.98  Valid Loss: 0.94  Valid NDCG: 0.8858\n",
      "Data Preparation: 2.8s\n",
      "Epoch: 35 (263.4s)  LR: 0.00075 Train Loss: 0.95  Valid Loss: 1.03  Valid NDCG: 0.8621\n",
      "0.8608149827217804\n",
      "Data Preparation: 30.2s\n",
      "Epoch: 36 (267.9s)  LR: 0.00083 Train Loss: 0.97  Valid Loss: 1.00  Valid NDCG: 0.8784\n",
      "Data Preparation: 2.9s\n"
     ]
    },
    {
     "name": "stderr",
     "output_type": "stream",
     "text": [
      "/home/ziniu/anaconda3/lib/python3.7/site-packages/torch/serialization.py:256: UserWarning: Couldn't retrieve source code for container of type GNN. It won't be checked for correctness upon loading.\n",
      "  \"type \" + obj.__name__ + \". It won't be checked \"\n"
     ]
    },
    {
     "name": "stdout",
     "output_type": "stream",
     "text": [
      "Epoch: 37 (277.9s)  LR: 0.00090 Train Loss: 0.94  Valid Loss: 0.89  Valid NDCG: 0.8892\n",
      "Data Preparation: 2.7s\n",
      "Epoch: 38 (268.7s)  LR: 0.00095 Train Loss: 0.98  Valid Loss: 1.27  Valid NDCG: 0.8489\n",
      "Data Preparation: 2.7s\n",
      "Epoch: 39 (281.9s)  LR: 0.00098 Train Loss: 0.93  Valid Loss: 1.24  Valid NDCG: 0.8653\n",
      "Data Preparation: 3.2s\n",
      "Epoch: 40 (273.3s)  LR: 0.00100 Train Loss: 0.96  Valid Loss: 1.35  Valid NDCG: 0.8043\n",
      "0.7631666069107612\n",
      "Data Preparation: 26.8s\n",
      "Epoch: 41 (268.4s)  LR: 0.00100 Train Loss: 0.95  Valid Loss: 0.95  Valid NDCG: 0.8794\n",
      "Data Preparation: 3.1s\n",
      "Epoch: 42 (265.1s)  LR: 0.00097 Train Loss: 0.90  Valid Loss: 0.92  Valid NDCG: 0.8812\n",
      "Data Preparation: 2.8s\n",
      "Epoch: 43 (276.4s)  LR: 0.00093 Train Loss: 0.89  Valid Loss: 1.21  Valid NDCG: 0.8358\n",
      "Data Preparation: 3.0s\n",
      "Epoch: 44 (268.5s)  LR: 0.00088 Train Loss: 0.89  Valid Loss: 1.28  Valid NDCG: 0.8647\n",
      "Data Preparation: 3.2s\n",
      "Epoch: 45 (278.4s)  LR: 0.00081 Train Loss: 0.85  Valid Loss: 1.20  Valid NDCG: 0.8447\n",
      "0.8818088913551998\n",
      "Data Preparation: 26.0s\n",
      "Epoch: 46 (271.7s)  LR: 0.00072 Train Loss: 0.82  Valid Loss: 0.98  Valid NDCG: 0.8789\n",
      "Data Preparation: 3.3s\n"
     ]
    },
    {
     "name": "stderr",
     "output_type": "stream",
     "text": [
      "/home/ziniu/anaconda3/lib/python3.7/site-packages/torch/serialization.py:256: UserWarning: Couldn't retrieve source code for container of type GNN. It won't be checked for correctness upon loading.\n",
      "  \"type \" + obj.__name__ + \". It won't be checked \"\n"
     ]
    },
    {
     "name": "stdout",
     "output_type": "stream",
     "text": [
      "Epoch: 47 (276.7s)  LR: 0.00063 Train Loss: 0.78  Valid Loss: 0.91  Valid NDCG: 0.9036\n",
      "Data Preparation: 3.2s\n",
      "Epoch: 48 (273.3s)  LR: 0.00054 Train Loss: 0.76  Valid Loss: 0.90  Valid NDCG: 0.8771\n",
      "Data Preparation: 2.8s\n",
      "Epoch: 49 (272.4s)  LR: 0.00044 Train Loss: 0.75  Valid Loss: 0.87  Valid NDCG: 0.9019\n",
      "Data Preparation: 2.9s\n",
      "Epoch: 50 (281.9s)  LR: 0.00035 Train Loss: 0.71  Valid Loss: 1.06  Valid NDCG: 0.8691\n",
      "0.8598076249359288\n",
      "Data Preparation: 27.5s\n"
     ]
    },
    {
     "name": "stderr",
     "output_type": "stream",
     "text": [
      "/home/ziniu/anaconda3/lib/python3.7/site-packages/torch/serialization.py:256: UserWarning: Couldn't retrieve source code for container of type GNN. It won't be checked for correctness upon loading.\n",
      "  \"type \" + obj.__name__ + \". It won't be checked \"\n"
     ]
    },
    {
     "name": "stdout",
     "output_type": "stream",
     "text": [
      "Epoch: 51 (270.0s)  LR: 0.00026 Train Loss: 0.71  Valid Loss: 0.88  Valid NDCG: 0.9144\n",
      "Data Preparation: 3.0s\n",
      "Epoch: 52 (272.4s)  LR: 0.00018 Train Loss: 0.68  Valid Loss: 0.88  Valid NDCG: 0.9007\n",
      "Data Preparation: 3.0s\n",
      "Epoch: 53 (273.0s)  LR: 0.00011 Train Loss: 0.66  Valid Loss: 0.73  Valid NDCG: 0.9139\n",
      "Data Preparation: 2.8s\n",
      "Epoch: 54 (268.5s)  LR: 0.00006 Train Loss: 0.66  Valid Loss: 0.77  Valid NDCG: 0.9062\n",
      "Data Preparation: 2.6s\n"
     ]
    },
    {
     "name": "stderr",
     "output_type": "stream",
     "text": [
      "/home/ziniu/anaconda3/lib/python3.7/site-packages/torch/serialization.py:256: UserWarning: Couldn't retrieve source code for container of type GNN. It won't be checked for correctness upon loading.\n",
      "  \"type \" + obj.__name__ + \". It won't be checked \"\n"
     ]
    },
    {
     "name": "stdout",
     "output_type": "stream",
     "text": [
      "Epoch: 55 (268.8s)  LR: 0.00002 Train Loss: 0.67  Valid Loss: 0.64  Valid NDCG: 0.9346\n",
      "0.8363141845896002\n",
      "Data Preparation: 27.1s\n",
      "Epoch: 56 (266.3s)  LR: 0.00000 Train Loss: 0.66  Valid Loss: 0.78  Valid NDCG: 0.9120\n",
      "Data Preparation: 2.8s\n",
      "Epoch: 57 (267.9s)  LR: 0.00000 Train Loss: 0.65  Valid Loss: 0.79  Valid NDCG: 0.8981\n",
      "Data Preparation: 2.8s\n",
      "Epoch: 58 (266.3s)  LR: 0.00002 Train Loss: 0.68  Valid Loss: 0.67  Valid NDCG: 0.9203\n",
      "Data Preparation: 3.1s\n",
      "Epoch: 59 (268.1s)  LR: 0.00006 Train Loss: 0.66  Valid Loss: 0.76  Valid NDCG: 0.9070\n",
      "Data Preparation: 3.3s\n",
      "Epoch: 60 (269.4s)  LR: 0.00012 Train Loss: 0.64  Valid Loss: 0.61  Valid NDCG: 0.9312\n",
      "0.9167801368456387\n",
      "Data Preparation: 29.0s\n",
      "Epoch: 61 (257.5s)  LR: 0.00018 Train Loss: 0.67  Valid Loss: 0.64  Valid NDCG: 0.9290\n",
      "Data Preparation: 2.7s\n",
      "Epoch: 62 (272.6s)  LR: 0.00027 Train Loss: 0.63  Valid Loss: 0.63  Valid NDCG: 0.9230\n",
      "Data Preparation: 3.0s\n",
      "Epoch: 63 (271.4s)  LR: 0.00036 Train Loss: 0.65  Valid Loss: 0.64  Valid NDCG: 0.9310\n",
      "Data Preparation: 2.7s\n",
      "Epoch: 64 (270.6s)  LR: 0.00045 Train Loss: 0.67  Valid Loss: 0.62  Valid NDCG: 0.9254\n",
      "Data Preparation: 2.8s\n",
      "Epoch: 65 (264.5s)  LR: 0.00055 Train Loss: 0.65  Valid Loss: 0.67  Valid NDCG: 0.9243\n",
      "0.9132243134827582\n",
      "Data Preparation: 27.9s\n",
      "Epoch: 66 (276.4s)  LR: 0.00064 Train Loss: 0.62  Valid Loss: 0.67  Valid NDCG: 0.9185\n",
      "Data Preparation: 2.8s\n",
      "Epoch: 67 (264.2s)  LR: 0.00073 Train Loss: 0.67  Valid Loss: 0.69  Valid NDCG: 0.9242\n",
      "Data Preparation: 2.8s\n"
     ]
    },
    {
     "name": "stderr",
     "output_type": "stream",
     "text": [
      "/home/ziniu/anaconda3/lib/python3.7/site-packages/torch/serialization.py:256: UserWarning: Couldn't retrieve source code for container of type GNN. It won't be checked for correctness upon loading.\n",
      "  \"type \" + obj.__name__ + \". It won't be checked \"\n"
     ]
    },
    {
     "name": "stdout",
     "output_type": "stream",
     "text": [
      "Epoch: 68 (268.1s)  LR: 0.00081 Train Loss: 0.64  Valid Loss: 0.57  Valid NDCG: 0.9395\n",
      "Data Preparation: 2.9s\n",
      "Epoch: 69 (269.6s)  LR: 0.00088 Train Loss: 0.66  Valid Loss: 0.71  Valid NDCG: 0.9284\n",
      "Data Preparation: 3.0s\n"
     ]
    },
    {
     "name": "stderr",
     "output_type": "stream",
     "text": [
      "/home/ziniu/anaconda3/lib/python3.7/site-packages/torch/serialization.py:256: UserWarning: Couldn't retrieve source code for container of type GNN. It won't be checked for correctness upon loading.\n",
      "  \"type \" + obj.__name__ + \". It won't be checked \"\n"
     ]
    },
    {
     "name": "stdout",
     "output_type": "stream",
     "text": [
      "Epoch: 70 (267.1s)  LR: 0.00094 Train Loss: 0.66  Valid Loss: 0.63  Valid NDCG: 0.9410\n",
      "0.9334814394569324\n",
      "Data Preparation: 30.0s\n"
     ]
    },
    {
     "name": "stderr",
     "output_type": "stream",
     "text": [
      "/home/ziniu/anaconda3/lib/python3.7/site-packages/torch/serialization.py:256: UserWarning: Couldn't retrieve source code for container of type GNN. It won't be checked for correctness upon loading.\n",
      "  \"type \" + obj.__name__ + \". It won't be checked \"\n"
     ]
    },
    {
     "name": "stdout",
     "output_type": "stream",
     "text": [
      "Epoch: 71 (266.0s)  LR: 0.00098 Train Loss: 0.61  Valid Loss: 0.57  Valid NDCG: 0.9412\n",
      "Data Preparation: 2.8s\n",
      "Epoch: 72 (264.1s)  LR: 0.00100 Train Loss: 0.64  Valid Loss: 0.61  Valid NDCG: 0.9322\n",
      "Data Preparation: 2.8s\n",
      "Epoch: 73 (267.0s)  LR: 0.00100 Train Loss: 0.62  Valid Loss: 0.66  Valid NDCG: 0.9335\n",
      "Data Preparation: 3.0s\n",
      "Epoch: 74 (263.0s)  LR: 0.00098 Train Loss: 0.63  Valid Loss: 0.60  Valid NDCG: 0.9380\n",
      "Data Preparation: 2.8s\n",
      "Epoch: 75 (256.7s)  LR: 0.00095 Train Loss: 0.64  Valid Loss: 0.74  Valid NDCG: 0.9100\n",
      "0.8165175499215854\n",
      "Data Preparation: 27.7s\n",
      "Epoch: 76 (268.8s)  LR: 0.00089 Train Loss: 0.57  Valid Loss: 0.62  Valid NDCG: 0.9330\n",
      "Data Preparation: 2.8s\n"
     ]
    },
    {
     "name": "stderr",
     "output_type": "stream",
     "text": [
      "/home/ziniu/anaconda3/lib/python3.7/site-packages/torch/serialization.py:256: UserWarning: Couldn't retrieve source code for container of type GNN. It won't be checked for correctness upon loading.\n",
      "  \"type \" + obj.__name__ + \". It won't be checked \"\n"
     ]
    },
    {
     "name": "stdout",
     "output_type": "stream",
     "text": [
      "Epoch: 77 (272.5s)  LR: 0.00083 Train Loss: 0.55  Valid Loss: 0.49  Valid NDCG: 0.9463\n",
      "Data Preparation: 3.0s\n"
     ]
    },
    {
     "name": "stderr",
     "output_type": "stream",
     "text": [
      "/home/ziniu/anaconda3/lib/python3.7/site-packages/torch/serialization.py:256: UserWarning: Couldn't retrieve source code for container of type GNN. It won't be checked for correctness upon loading.\n",
      "  \"type \" + obj.__name__ + \". It won't be checked \"\n"
     ]
    },
    {
     "name": "stdout",
     "output_type": "stream",
     "text": [
      "Epoch: 78 (267.2s)  LR: 0.00075 Train Loss: 0.53  Valid Loss: 0.45  Valid NDCG: 0.9530\n",
      "Data Preparation: 4.3s\n",
      "Epoch: 79 (259.1s)  LR: 0.00066 Train Loss: 0.52  Valid Loss: 0.54  Valid NDCG: 0.9364\n",
      "Data Preparation: 3.7s\n",
      "Epoch: 80 (252.1s)  LR: 0.00056 Train Loss: 0.50  Valid Loss: 0.52  Valid NDCG: 0.9490\n",
      "0.891879406033753\n",
      "Data Preparation: 24.9s\n",
      "Epoch: 81 (247.0s)  LR: 0.00047 Train Loss: 0.48  Valid Loss: 0.62  Valid NDCG: 0.9372\n",
      "Data Preparation: 2.7s\n"
     ]
    },
    {
     "name": "stderr",
     "output_type": "stream",
     "text": [
      "/home/ziniu/anaconda3/lib/python3.7/site-packages/torch/serialization.py:256: UserWarning: Couldn't retrieve source code for container of type GNN. It won't be checked for correctness upon loading.\n",
      "  \"type \" + obj.__name__ + \". It won't be checked \"\n"
     ]
    },
    {
     "name": "stdout",
     "output_type": "stream",
     "text": [
      "Epoch: 82 (251.3s)  LR: 0.00037 Train Loss: 0.47  Valid Loss: 0.43  Valid NDCG: 0.9553\n",
      "Data Preparation: 3.2s\n"
     ]
    },
    {
     "name": "stderr",
     "output_type": "stream",
     "text": [
      "/home/ziniu/anaconda3/lib/python3.7/site-packages/torch/serialization.py:256: UserWarning: Couldn't retrieve source code for container of type GNN. It won't be checked for correctness upon loading.\n",
      "  \"type \" + obj.__name__ + \". It won't be checked \"\n"
     ]
    },
    {
     "name": "stdout",
     "output_type": "stream",
     "text": [
      "Epoch: 83 (254.4s)  LR: 0.00028 Train Loss: 0.46  Valid Loss: 0.42  Valid NDCG: 0.9608\n",
      "Data Preparation: 3.0s\n",
      "Epoch: 84 (250.7s)  LR: 0.00020 Train Loss: 0.46  Valid Loss: 0.54  Valid NDCG: 0.9355\n",
      "Data Preparation: 2.8s\n",
      "Epoch: 85 (259.3s)  LR: 0.00013 Train Loss: 0.41  Valid Loss: 0.54  Valid NDCG: 0.9427\n",
      "0.9094225180573607\n",
      "Data Preparation: 24.9s\n"
     ]
    },
    {
     "name": "stderr",
     "output_type": "stream",
     "text": [
      "/home/ziniu/anaconda3/lib/python3.7/site-packages/torch/serialization.py:256: UserWarning: Couldn't retrieve source code for container of type GNN. It won't be checked for correctness upon loading.\n",
      "  \"type \" + obj.__name__ + \". It won't be checked \"\n"
     ]
    },
    {
     "name": "stdout",
     "output_type": "stream",
     "text": [
      "Epoch: 86 (261.2s)  LR: 0.00007 Train Loss: 0.41  Valid Loss: 0.39  Valid NDCG: 0.9621\n",
      "Data Preparation: 3.2s\n",
      "Epoch: 87 (253.8s)  LR: 0.00003 Train Loss: 0.42  Valid Loss: 0.47  Valid NDCG: 0.9477\n",
      "Data Preparation: 3.1s\n"
     ]
    },
    {
     "name": "stderr",
     "output_type": "stream",
     "text": [
      "/home/ziniu/anaconda3/lib/python3.7/site-packages/torch/serialization.py:256: UserWarning: Couldn't retrieve source code for container of type GNN. It won't be checked for correctness upon loading.\n",
      "  \"type \" + obj.__name__ + \". It won't be checked \"\n"
     ]
    },
    {
     "name": "stdout",
     "output_type": "stream",
     "text": [
      "Epoch: 88 (253.8s)  LR: 0.00001 Train Loss: 0.42  Valid Loss: 0.32  Valid NDCG: 0.9705\n",
      "Data Preparation: 2.9s\n",
      "Epoch: 89 (257.9s)  LR: 0.00000 Train Loss: 0.42  Valid Loss: 0.37  Valid NDCG: 0.9593\n",
      "Data Preparation: 2.8s\n",
      "Epoch: 90 (253.3s)  LR: 0.00002 Train Loss: 0.41  Valid Loss: 0.46  Valid NDCG: 0.9467\n",
      "0.9622923302565956\n",
      "Data Preparation: 27.0s\n",
      "Epoch: 91 (252.9s)  LR: 0.00005 Train Loss: 0.41  Valid Loss: 0.45  Valid NDCG: 0.9646\n",
      "Data Preparation: 2.8s\n",
      "Epoch: 92 (248.1s)  LR: 0.00010 Train Loss: 0.41  Valid Loss: 0.38  Valid NDCG: 0.9678\n",
      "Data Preparation: 2.8s\n",
      "Epoch: 93 (256.2s)  LR: 0.00017 Train Loss: 0.41  Valid Loss: 0.47  Valid NDCG: 0.9504\n",
      "Data Preparation: 2.7s\n",
      "Epoch: 94 (260.0s)  LR: 0.00024 Train Loss: 0.40  Valid Loss: 0.36  Valid NDCG: 0.9610\n",
      "Data Preparation: 3.1s\n",
      "Epoch: 95 (248.8s)  LR: 0.00033 Train Loss: 0.42  Valid Loss: 0.35  Valid NDCG: 0.9639\n",
      "0.9221195520752069\n",
      "Data Preparation: 27.5s\n",
      "Epoch: 96 (253.7s)  LR: 0.00043 Train Loss: 0.41  Valid Loss: 0.43  Valid NDCG: 0.9562\n",
      "Data Preparation: 3.0s\n",
      "Epoch: 97 (254.1s)  LR: 0.00052 Train Loss: 0.43  Valid Loss: 0.38  Valid NDCG: 0.9591\n",
      "Data Preparation: 2.9s\n",
      "Epoch: 98 (259.9s)  LR: 0.00062 Train Loss: 0.42  Valid Loss: 0.42  Valid NDCG: 0.9582\n",
      "Data Preparation: 3.2s\n",
      "Epoch: 99 (253.2s)  LR: 0.00071 Train Loss: 0.43  Valid Loss: 0.34  Valid NDCG: 0.9674\n",
      "Data Preparation: 3.0s\n",
      "Epoch: 100 (255.4s)  LR: 0.00079 Train Loss: 0.42  Valid Loss: 0.32  Valid NDCG: 0.9664\n",
      "0.9285846675557905\n"
     ]
    }
   ],
   "source": [
    "stats = []\n",
    "pool = mp.Pool(4)\n",
    "process_ids = np.arange(batch_num // 4)\n",
    "st = time.time()\n",
    "jobs = prepare_data(pool, process_ids)\n",
    "train_step = 1500\n",
    "best_val   = 0\n",
    "res = []\n",
    "criterion = nn.KLDivLoss(reduction='batchmean')\n",
    "for epoch in np.arange(epoch_num)+1:\n",
    "    '''\n",
    "        Prepare Training and Validation Data\n",
    "    '''\n",
    "    train_data = [job.get() for job in jobs[:-1]]\n",
    "    valid_data = jobs[-1].get()\n",
    "    pool.close()\n",
    "    pool.join()\n",
    "    pool = mp.Pool(4)\n",
    "    jobs = prepare_data(pool, process_ids)\n",
    "    et = time.time()\n",
    "    print('Data Preparation: %.1fs' % (et - st))\n",
    "    \n",
    "    model.train()\n",
    "    train_losses = []\n",
    "    torch.cuda.empty_cache()\n",
    "    for batch in np.arange(2):\n",
    "        for node_feature, node_type, edge_time, edge_index, edge_type, field_ids, paper_ids, ylabel in train_data:\n",
    "            node_rep = gnn.forward(node_feature.to(device), node_type.to(device), \\\n",
    "                                   edge_time.to(device), edge_index.to(device), edge_type.to(device))\n",
    "            res  = classifier.forward(node_rep[paper_ids])\n",
    "            loss = criterion(res, ylabel.to(device))\n",
    "            optimizer.zero_grad() \n",
    "            torch.cuda.empty_cache()\n",
    "            loss.backward()\n",
    "            \n",
    "            torch.nn.utils.clip_grad_norm_(model.parameters(), 0.2)\n",
    "            optimizer.step()\n",
    "            train_losses += [loss.cpu().detach().tolist()]\n",
    "            train_step += 1\n",
    "            scheduler.step(train_step)\n",
    "            del res, loss\n",
    "    '''\n",
    "        Valid\n",
    "    '''\n",
    "    model.eval()\n",
    "    with torch.no_grad():\n",
    "        node_feature, node_type, edge_time, edge_index, edge_type, field_ids, paper_ids, ylabel = valid_data\n",
    "        node_rep = gnn.forward(node_feature.to(device), node_type.to(device), \\\n",
    "                                   edge_time.to(device), edge_index.to(device), edge_type.to(device))\n",
    "        res  = classifier.forward(node_rep[paper_ids])\n",
    "        loss = criterion(res, ylabel.to(device))\n",
    "        valid_res = []\n",
    "\n",
    "        for ai, bi in zip(ylabel, res.argsort(descending = True)):\n",
    "            valid_res += [ai[bi].tolist()]\n",
    "        valid_ndcg = np.average([ndcg_at_k(resi, len(resi)) for resi in valid_res])\n",
    "        if valid_ndcg > best_val:\n",
    "            best_val = valid_ndcg\n",
    "            torch.save(model, './save/rgt_1.pt')\n",
    "        st = time.time()\n",
    "        print((\"Epoch: %d (%.1fs)  LR: %.5f Train Loss: %.2f  Valid Loss: %.2f  Valid NDCG: %.4f\") % \\\n",
    "              (epoch, (st-et), optimizer.param_groups[0]['lr'], np.average(train_losses), loss.cpu().detach().tolist(),\\\n",
    "              valid_ndcg))\n",
    "        stats += [[np.average(train_losses), loss.cpu().detach().tolist()]]\n",
    "        del res, loss\n",
    "        if epoch % 5 == 0:\n",
    "            '''\n",
    "                Test\n",
    "            '''\n",
    "            _time = np.random.choice(list(test_papers.keys()))\n",
    "            node_feature, node_type, edge_time, edge_index, edge_type, field_ids, paper_ids, ylabel = pf_sample(np.random.randint(2 ** 32 - 1), test_papers, \\\n",
    "                                                           test_pairs, test_range, batch_size, test=True)\n",
    "            paper_rep = gnn.forward(node_feature.to(device), node_type.to(device), \\\n",
    "                      edge_time.to(device), edge_index.to(device), edge_type.to(device))[paper_ids]\n",
    "            res  = classifier.forward(paper_rep)\n",
    "            test_res = []\n",
    "            for ai, bi in zip(ylabel, res.argsort(descending = True)):\n",
    "                test_res += [ai[bi].tolist()]\n",
    "            test_ndcg = np.average([ndcg_at_k(resi, len(resi)) for resi in test_res])\n",
    "            print(test_ndcg)\n",
    "            del res\n",
    "    del train_data, valid_data"
   ]
  },
  {
   "cell_type": "code",
   "execution_count": null,
   "metadata": {},
   "outputs": [],
   "source": [
    "pool = mp.Pool(4)\n",
    "process_ids = np.arange(batch_num // 4)\n",
    "st = time.time()\n",
    "jobs = prepare_data(pool, process_ids)\n",
    "for epoch in np.arange(epoch_num - epoch)+epoch:\n",
    "    '''\n",
    "        Prepare Training and Validation Data\n",
    "    '''\n",
    "    train_data = [job.get() for job in jobs[:-1]]\n",
    "    valid_data = jobs[-1].get()\n",
    "    pool.close()\n",
    "    pool.join()\n",
    "    pool = mp.Pool(4)\n",
    "    jobs = prepare_data(pool, process_ids)\n",
    "    et = time.time()\n",
    "    print('Data Preparation: %.1fs' % (et - st))\n",
    "    \n",
    "    model.train()\n",
    "    train_losses = []\n",
    "    torch.cuda.empty_cache()\n",
    "    for batch in np.arange(2):\n",
    "        for node_feature, node_type, edge_time, edge_index, edge_type, field_ids, paper_ids, ylabel in train_data:\n",
    "            node_rep = gnn.forward(node_feature.to(device), node_type.to(device), \\\n",
    "                                   edge_time.to(device), edge_index.to(device), edge_type.to(device))\n",
    "            res  = classifier.forward(node_rep[paper_ids])\n",
    "            loss = criterion(res, ylabel.to(device))\n",
    "            optimizer.zero_grad() \n",
    "            torch.cuda.empty_cache()\n",
    "            loss.backward()\n",
    "            \n",
    "            torch.nn.utils.clip_grad_norm_(model.parameters(), 0.2)\n",
    "            optimizer.step()\n",
    "            train_losses += [loss.cpu().detach().tolist()]\n",
    "            train_step += 1\n",
    "            scheduler.step(train_step)\n",
    "            del res, loss\n",
    "    '''\n",
    "        Valid\n",
    "    '''\n",
    "    model.eval()\n",
    "    with torch.no_grad():\n",
    "        node_feature, node_type, edge_time, edge_index, edge_type, field_ids, paper_ids, ylabel = valid_data\n",
    "        node_rep = gnn.forward(node_feature.to(device), node_type.to(device), \\\n",
    "                                   edge_time.to(device), edge_index.to(device), edge_type.to(device))\n",
    "        res  = classifier.forward(node_rep[paper_ids])\n",
    "        loss = criterion(res, ylabel.to(device))\n",
    "        valid_res = []\n",
    "\n",
    "        for ai, bi in zip(ylabel, res.argsort(descending = True)):\n",
    "            valid_res += [ai[bi].tolist()]\n",
    "        valid_ndcg = np.average([ndcg_at_k(resi, len(resi)) for resi in valid_res])\n",
    "        if valid_ndcg > best_val:\n",
    "            best_val = valid_ndcg\n",
    "            torch.save(model, './save/rgt_1.pt')\n",
    "        st = time.time()\n",
    "        print((\"Epoch: %d (%.1fs)  LR: %.5f Train Loss: %.2f  Valid Loss: %.2f  Valid NDCG: %.4f\") % \\\n",
    "              (epoch, (st-et), optimizer.param_groups[0]['lr'], np.average(train_losses), loss.cpu().detach().tolist(),\\\n",
    "              valid_ndcg))\n",
    "        stats += [[np.average(train_losses), loss.cpu().detach().tolist()]]\n",
    "        del res, loss\n",
    "        if epoch % 5 == 0:\n",
    "            '''\n",
    "                Test\n",
    "            '''\n",
    "            _time = np.random.choice(list(test_papers.keys()))\n",
    "            node_feature, node_type, edge_time, edge_index, edge_type, field_ids, paper_ids, ylabel = pf_sample(np.random.randint(2 ** 32 - 1), test_papers, \\\n",
    "                                                           test_pairs, test_range, batch_size, test=True)\n",
    "            paper_rep = gnn.forward(node_feature.to(device), node_type.to(device), \\\n",
    "                      edge_time.to(device), edge_index.to(device), edge_type.to(device))[paper_ids]\n",
    "            res  = classifier.forward(paper_rep)\n",
    "            test_res = []\n",
    "            for ai, bi in zip(ylabel, res.argsort(descending = True)):\n",
    "                test_res += [ai[bi].tolist()]\n",
    "            test_ndcg = np.average([ndcg_at_k(resi, len(resi)) for resi in test_res])\n",
    "            print(test_ndcg)\n",
    "            del res\n",
    "    del train_data, valid_data"
   ]
  },
  {
   "cell_type": "code",
   "execution_count": null,
   "metadata": {},
   "outputs": [],
   "source": []
  },
  {
   "cell_type": "code",
   "execution_count": 9,
   "metadata": {},
   "outputs": [],
   "source": [
    "# del model\n",
    "# torch.cuda.empty_cache()"
   ]
  },
  {
   "cell_type": "code",
   "execution_count": 10,
   "metadata": {},
   "outputs": [
    {
     "data": {
      "image/png": "[encoded data removed]",
      "text/plain": [
       "<Figure size 432x288 with 1 Axes>"
      ]
     },
     "metadata": {
      "needs_background": "light"
     },
     "output_type": "display_data"
    }
   ],
   "source": [
    "stats = np.array(stats)\n",
    "plt.plot(stats[:,0])\n",
    "plt.plot(stats[:,1])\n",
    "plt.show()"
   ]
  },
  {
   "cell_type": "code",
   "execution_count": null,
   "metadata": {},
   "outputs": [],
   "source": []
  },
  {
   "cell_type": "code",
   "execution_count": 11,
   "metadata": {
    "scrolled": true
   },
   "outputs": [
    {
     "name": "stdout",
     "output_type": "stream",
     "text": [
      "0.9369006932722409 0.018718785316671652\n",
      "0.956475832372921 0.025457158102199295\n"
     ]
    }
   ],
   "source": [
    "model.eval()\n",
    "gnn, classifier = model\n",
    "with torch.no_grad():\n",
    "    test_res = []\n",
    "    for _ in range(10):\n",
    "        _time = np.random.choice(list(test_papers.keys()))\n",
    "        node_feature, node_type, edge_time, edge_index, edge_type, field_ids, paper_ids, ylabel = pf_sample(np.random.randint(2 ** 32 - 1), test_papers, \\\n",
    "                                                       test_pairs, test_range, batch_size, test=True)\n",
    "        paper_rep = gnn.forward(node_feature.to(device), node_type.to(device), \\\n",
    "                      edge_time.to(device), edge_index.to(device), edge_type.to(device))[paper_ids]\n",
    "        res = classifier.forward(paper_rep)\n",
    "        for ai, bi in zip(ylabel, res.argsort(descending = True)):\n",
    "            test_res += [ai[bi].tolist()]\n",
    "    test_ndcg = [ndcg_at_k(resi, len(resi)) for resi in test_res]\n",
    "    print(np.average(test_ndcg), np.var(test_ndcg))\n",
    "    test_mrr = mean_reciprocal_rank(test_res)\n",
    "    print(np.average(test_mrr), np.var(test_mrr))"
   ]
  },
  {
   "cell_type": "code",
   "execution_count": 12,
   "metadata": {},
   "outputs": [],
   "source": [
    "best_model = torch.load('./save/rgt_1.pt')"
   ]
  },
  {
   "cell_type": "code",
   "execution_count": 13,
   "metadata": {},
   "outputs": [
    {
     "name": "stdout",
     "output_type": "stream",
     "text": [
      "0.9130637266275506 0.02642489988982388\n",
      "0.9300928874722502 0.042157254018154594\n"
     ]
    }
   ],
   "source": [
    "best_model.eval()\n",
    "gnn, classifier = best_model\n",
    "with torch.no_grad():\n",
    "    test_res = []\n",
    "    for _ in range(10):\n",
    "        _time = np.random.choice(list(test_papers.keys()))\n",
    "        node_feature, node_type, edge_time, edge_index, edge_type, field_ids, paper_ids, ylabel = pf_sample(np.random.randint(2 ** 32 - 1), test_papers, \\\n",
    "                                                       test_pairs, test_range, batch_size, test=True)\n",
    "        paper_rep = gnn.forward(node_feature.to(device), node_type.to(device), \\\n",
    "                      edge_time.to(device), edge_index.to(device), edge_type.to(device))[paper_ids]\n",
    "        res = classifier.forward(paper_rep)\n",
    "        for ai, bi in zip(ylabel, res.argsort(descending = True)):\n",
    "            test_res += [ai[bi].tolist()]\n",
    "    test_ndcg = [ndcg_at_k(resi, len(resi)) for resi in test_res]\n",
    "    print(np.average(test_ndcg), np.var(test_ndcg))\n",
    "    test_mrr = mean_reciprocal_rank(test_res)\n",
    "    print(np.average(test_mrr), np.var(test_mrr))"
   ]
  }
 ],
 "metadata": {
  "kernelspec": {
   "display_name": "Python 3",
   "language": "python",
   "name": "python3"
  },
  "language_info": {
   "codemirror_mode": {
    "name": "ipython",
    "version": 3
   },
   "file_extension": ".py",
   "mimetype": "text/x-python",
   "name": "python",
   "nbconvert_exporter": "python",
   "pygments_lexer": "ipython3",
   "version": "3.7.3"
  }
 },
 "nbformat": 4,
 "nbformat_minor": 2
}
