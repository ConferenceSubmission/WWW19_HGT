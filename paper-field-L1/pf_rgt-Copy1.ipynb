{
 "cells": [
  {
   "cell_type": "code",
   "execution_count": 1,
   "metadata": {},
   "outputs": [],
   "source": [
    "import sys\n",
    "sys.path.append('../')\n",
    "from utils import *\n",
    "from model import *"
   ]
  },
  {
   "cell_type": "code",
   "execution_count": 2,
   "metadata": {},
   "outputs": [],
   "source": [
    "data_dir = '/datadrive/data_cs/'\n",
    "batch_size = 256\n",
    "batch_num  = 128\n",
    "epoch_num  = 200\n",
    "samp_num   = 7\n",
    "\n",
    "device = torch.device(\"cuda:1\")\n",
    "graph = dill.load(open(data_dir + 'graph.pk', 'rb'))"
   ]
  },
  {
   "cell_type": "code",
   "execution_count": 3,
   "metadata": {},
   "outputs": [],
   "source": [
    "def sample_subgraph(graph, time_range, sampled_depth = 2, sampled_number = 8, inp = None):\n",
    "    '''\n",
    "        Sample Sub-Graph based on the connection of other nodes with currently sampled nodes\n",
    "        We maintain budgets for each node type, indexed by <node_id, time>.\n",
    "        Currently sampled nodes are stored in layer_data.\n",
    "        After nodes are sampled, we construct the sampled adjacancy matrix.\n",
    "    '''\n",
    "    layer_data  = defaultdict( #target_type\n",
    "                        lambda: {} # {target_id: [ser, time]}\n",
    "                    )\n",
    "    budget     = defaultdict( #source_type\n",
    "                                    lambda: defaultdict(  #source_id\n",
    "                                        lambda: [0., 2000] #sampled_score, source_time\n",
    "                            ))\n",
    "    new_layer_adj  = defaultdict( #target_type\n",
    "                                    lambda: defaultdict(  #source_type\n",
    "                                        lambda: defaultdict(  #relation_type\n",
    "                                            lambda: [] #[target_id, source_id]\n",
    "                                )))\n",
    "    '''\n",
    "        For each node being sampled, we find out all its neighborhood, \n",
    "        adding the degree count of these nodes in the budget.\n",
    "        Note that there exist some nodes that have many neighborhoods\n",
    "        (such as fields, venues), for those case, we only consider \n",
    "    '''\n",
    "    def add_budget(te, target_id, target_time, layer_data, budget):\n",
    "        for source_type in te:\n",
    "            tes = te[source_type]\n",
    "            for relation_type in tes:\n",
    "                if relation_type == 'self':\n",
    "                    continue\n",
    "                adl = tes[relation_type][target_id]\n",
    "                if len(adl) < sampled_number:\n",
    "                    sampled_ids = list(adl.keys())\n",
    "                else:\n",
    "                    sampled_ids = np.random.choice(list(adl.keys()), sampled_number, replace = False)\n",
    "                for source_id in sampled_ids:\n",
    "                    source_time = adl[source_id]\n",
    "                    if source_time == None:\n",
    "                        source_time = target_time\n",
    "                    '''\n",
    "                        If the node's time is out of range or already being sampled, skip\n",
    "                        Otherwise, accumulate the normalized degree.\n",
    "                    '''\n",
    "                    if source_time not in time_range or source_id in layer_data[source_type]:\n",
    "                        continue\n",
    "                    budget[source_type][source_id][0] += 1. / len(sampled_ids)\n",
    "                    budget[source_type][source_id][1] = source_time\n",
    "    '''\n",
    "        The encode and decode function is used to index each node\n",
    "        by its node_id and time together. So that a same node with\n",
    "        different timestamps can exist in the sampled graph.\n",
    "    '''\n",
    "    \n",
    "    if inp == None:\n",
    "        _time = np.random.choice(list(time_range.keys()))\n",
    "        res = graph.node_feature['paper'][graph.node_feature['paper']['time'] == _time]\n",
    "        sampn = min(len(res), sampled_number)\n",
    "        rand_paper_ids  = np.random.choice(list(res.index), sampn, replace = False)\n",
    "        '''\n",
    "            First adding the sampled nodes then updating budget.\n",
    "        '''\n",
    "        for _id in rand_paper_ids:\n",
    "            layer_data['paper'][_id] = [len(layer_data['paper']), _time]\n",
    "        for _id in rand_paper_ids:\n",
    "            add_budget(graph.edge_list['paper'], _id, _time, layer_data, budget)\n",
    "    else:\n",
    "        '''\n",
    "            First adding the sampled nodes then updating budget.\n",
    "        '''\n",
    "        for _type in inp:\n",
    "            for _id, _time in inp[_type]:\n",
    "                layer_data[_type][_id] = [len(layer_data[_type]), _time]\n",
    "        for _type in inp:\n",
    "            te = graph.edge_list[_type]\n",
    "            for _id, _time in inp[_type]:\n",
    "                add_budget(te, _id, _time, layer_data, budget)\n",
    "    '''\n",
    "        We recursively expand the sampled graph by sampled_depth.\n",
    "        Each time we sample a fixed number of nodes for each budget,\n",
    "        based on the accumulated degree.\n",
    "    '''\n",
    "    for layer in range(sampled_depth):\n",
    "        sts = list(budget.keys())\n",
    "        for source_type in sts:\n",
    "            te = graph.edge_list[source_type]\n",
    "            keys  = np.array(list(budget[source_type].keys()))\n",
    "            vals  = np.array(list(budget[source_type].values()))\n",
    "            if sampled_number > len(keys):\n",
    "                '''\n",
    "                    Directly sample all the nodes\n",
    "                '''\n",
    "                sampled_ids = np.arange(len(keys))\n",
    "            else:\n",
    "                '''\n",
    "                    Sample based on accumulated degree\n",
    "                '''\n",
    "                score = vals[:,0] ** 2\n",
    "                score = score / np.sum(score)\n",
    "                sampled_ids = np.random.choice(len(score), sampled_number, p = score, replace = False) \n",
    "            sampled_keys = keys[sampled_ids]\n",
    "            sampled_tims = vals[sampled_ids][:, 1]\n",
    "            '''\n",
    "                First adding the sampled nodes then updating budget.\n",
    "            '''\n",
    "            for k, t in zip(sampled_keys, sampled_tims):\n",
    "                layer_data[source_type][k] = [len(layer_data[source_type]), t]\n",
    "            for k, t in zip(sampled_keys, sampled_tims):\n",
    "                add_budget(te, int(k), int(t), layer_data, budget)\n",
    "                budget[source_type].pop(k)    \n",
    "    '''\n",
    "        Prepare feature, time and adjacency matrix for the sampled graph\n",
    "    '''\n",
    "    feature = {}\n",
    "    times   = {}\n",
    "    indxs   = {}\n",
    "    for _type in layer_data:\n",
    "        idxs = []\n",
    "        tims = []\n",
    "        for k in layer_data[_type]:\n",
    "            idxs += [k]\n",
    "            tims += [layer_data[_type][k][1]]\n",
    "        if 'node_emb' in graph.node_feature[_type]:\n",
    "            feature[_type] = np.array(list(graph.node_feature['field'].loc[idxs, 'node_emb']), dtype=np.float)\n",
    "        else:\n",
    "            feature[_type] = np.zeros([len(layer_data[_type]), 400])\n",
    "        feature[_type] = np.concatenate((feature[_type], list(graph.node_feature[_type].loc[idxs, 'emb']),\\\n",
    "            np.log10(np.array(list(graph.node_feature[_type].loc[idxs, 'citation'])).reshape(-1, 1) + 0.01)), axis=1)\n",
    "        indxs[_type] = idxs\n",
    "        times[_type] = tims\n",
    "        \n",
    "    edge_list = defaultdict( #target_type\n",
    "                        lambda: defaultdict(  #source_type\n",
    "                            lambda: defaultdict(  #relation_type\n",
    "                                lambda: [] # [target_id, source_id] \n",
    "                                    )))\n",
    "    for _type in layer_data:\n",
    "        for _key in layer_data[_type]:\n",
    "            _ser = layer_data[_type][_key][0]\n",
    "            edge_list[_type][_type]['self'] += [[_ser, _ser]]\n",
    "    '''\n",
    "        Reconstruct sampled adjacancy matrix by checking whether each\n",
    "        link exist in the original graph\n",
    "    '''\n",
    "    for target_type in graph.edge_list:\n",
    "        te = graph.edge_list[target_type]\n",
    "        for source_type in te:\n",
    "            tes = te[source_type]\n",
    "            for relation_type in tes:\n",
    "#                 if relation_type in ['APA_coauthor', 'rev_APV_in', 'IPI_coauthor', 'APV_in']:\n",
    "#                     continue\n",
    "                tesr = tes[relation_type]\n",
    "                for target_key in layer_data[target_type]:\n",
    "                    target_ser = layer_data[target_type][target_key][0]\n",
    "                    tesrt = tesr[target_key]\n",
    "                    for source_key in layer_data[source_type]:\n",
    "                        source_ser = layer_data[source_type][source_key][0]\n",
    "                        '''\n",
    "                            Check whether each link (target_id, source_id) exist in original adjacancy matrix\n",
    "                        '''\n",
    "                        if source_key in tesrt:\n",
    "                            edge_list[target_type][source_type][relation_type] += [[target_ser, source_ser]]\n",
    "    return feature, times, edge_list, indxs"
   ]
  },
  {
   "cell_type": "code",
   "execution_count": 4,
   "metadata": {},
   "outputs": [],
   "source": [
    "train_range = {t: True for t in graph.times if t != None and t < 2015}\n",
    "valid_range = {t: True for t in graph.times if t != None and t >= 2015  and t <= 2016}\n",
    "test_range  = {t: True for t in graph.times if t != None and t > 2016}"
   ]
  },
  {
   "cell_type": "code",
   "execution_count": 5,
   "metadata": {},
   "outputs": [],
   "source": [
    "def pf_sample(seed, papers, pairs, t_range, batch_size, test = False):\n",
    "    np.random.seed(seed)\n",
    "    _time = np.random.choice(list(papers.keys()))\n",
    "    sampn = min(len(papers[_time]), batch_size)\n",
    "    pids = np.array(papers[_time])[np.random.choice(len(papers[_time]), sampn, replace = False)]\n",
    "    fids = []\n",
    "    edge = defaultdict(lambda: {})\n",
    "    for x_id, p_id in enumerate(pids):\n",
    "        f_ids = pairs[p_id]\n",
    "        for f_id in f_ids:\n",
    "            if f_id not in fids:\n",
    "                fids += [f_id]\n",
    "            edge[x_id][fids.index(f_id)] = True\n",
    "    pids = np.stack([pids, np.repeat([_time], sampn)]).T\n",
    "    fids = np.stack([fids, np.repeat([_time], len(fids))]).T\n",
    " \n",
    "    feature, times, edge_list, _ = sample_subgraph(graph, t_range, \\\n",
    "                inp = {'paper': pids, 'field': fids}, sampled_depth = 3, sampled_number = 100)\n",
    "\n",
    "    el = []\n",
    "    for i in edge_list['paper']['field']['rev_PF_in_L2']:\n",
    "        if i[0] in edge and i[1] in edge[i[0]]:\n",
    "            continue\n",
    "        el += [i]\n",
    "    edge_list['paper']['field']['rev_PF_in_L2'] = el\n",
    "\n",
    "    el = []\n",
    "    for i in edge_list['field']['paper']['PF_in_L2']:\n",
    "        if i[1] in edge and i[0] in edge[i[1]]:\n",
    "            continue\n",
    "        el += [i]\n",
    "    edge_list['field']['paper']['PF_in_L2'] = el\n",
    "    \n",
    "    \n",
    "    node_feature, node_type, edge_time, edge_index, edge_type, node_dict, edge_dict = \\\n",
    "            to_torch(feature, times, edge_list, graph)\n",
    "    '''\n",
    "        Trace the paper_id and field_id by its own index plus the type start index\n",
    "    '''\n",
    "    paper_ids = np.arange(len(pids)) + node_dict['paper'][0]\n",
    "    field_ids = np.arange(len(fids)) + node_dict['field'][0]\n",
    "    ylabel = torch.zeros(sampn, len(cand_list))\n",
    "    for x_id, p_id in enumerate(pids[:,0]):\n",
    "        for f_id in pairs[p_id]:\n",
    "            ylabel[x_id][cand_list.index(f_id)] = 1\n",
    "    ylabel /= ylabel.sum(axis=1).view(-1, 1)\n",
    "    return node_feature, node_type, edge_time, edge_index, edge_type, field_ids, paper_ids, ylabel\n",
    "    \n",
    "def prepare_data(pool, process_ids):\n",
    "    jobs = []\n",
    "    for process_id in process_ids[:-1]:\n",
    "        p = pool.apply_async(pf_sample, args=(np.random.randint(2**32 - 1), train_papers, \\\n",
    "                                               train_pairs, train_range, batch_size))\n",
    "        jobs.append(p)\n",
    "    p = pool.apply_async(pf_sample, args=(np.random.randint(2**32 - 1), valid_papers, \\\n",
    "                                           valid_pairs, valid_range, batch_size))\n",
    "    jobs.append(p)\n",
    "    return jobs"
   ]
  },
  {
   "cell_type": "code",
   "execution_count": 6,
   "metadata": {},
   "outputs": [],
   "source": [
    "class GNN(nn.Module):\n",
    "    def __init__(self, in_dim, n_hid, num_types, num_relations, n_heads, n_layers, dropout = 0.3):\n",
    "        super(GNN, self).__init__()\n",
    "        self.gcs = nn.ModuleList()\n",
    "        self.num_types = num_types\n",
    "        self.in_dim    = in_dim\n",
    "        self.n_hid     = n_hid\n",
    "        self.aggregat_ws   = nn.ModuleList()\n",
    "        self.drop          = nn.Dropout(dropout)\n",
    "        for t in range(num_types):\n",
    "            self.aggregat_ws.append(nn.Linear(in_dim, n_hid))\n",
    "        for l in range(n_layers):\n",
    "            self.gcs.append(RAGCNConv(n_hid, n_hid, num_types, num_relations, n_heads, dropout))\n",
    "    def set_device(self, device):\n",
    "        self.device = device\n",
    "        for gc in self.gcs:\n",
    "            gc.device = device\n",
    "    def forward(self, node_feature, node_type, edge_time, edge_index, edge_type):\n",
    "        res = torch.zeros(node_feature.size(0), self.n_hid).to(node_feature.device)\n",
    "        for t_id in range(self.num_types):\n",
    "            aggregat_w = self.aggregat_ws[t_id]\n",
    "            idx = (node_type == t_id)\n",
    "            if idx.sum() == 0:\n",
    "                continue\n",
    "            res[idx] = torch.tanh(aggregat_w(node_feature[idx]))\n",
    "        meta_xs = self.drop(res)\n",
    "        del res\n",
    "        for gc in self.gcs:\n",
    "            meta_xs = gc(meta_xs, node_type, edge_index, edge_type, edge_time)\n",
    "        return meta_xs"
   ]
  },
  {
   "cell_type": "code",
   "execution_count": 7,
   "metadata": {},
   "outputs": [],
   "source": [
    "'''\n",
    "Paper-Field\n",
    "'''\n",
    "paper_ser = {}\n",
    "\n",
    "train_pairs = {}\n",
    "valid_pairs = {}\n",
    "test_pairs  = {}\n",
    "\n",
    "train_papers = {_time: {} for _time in train_range}\n",
    "valid_papers = {_time: {} for _time in valid_range}\n",
    "test_papers  = {_time: {} for _time in test_range}\n",
    "\n",
    "for f_id in graph.edge_list['field']['paper']['PF_in_L2']:\n",
    "    for p_id in graph.edge_list['field']['paper']['PF_in_L2'][f_id]:\n",
    "        _time = graph.edge_list['field']['paper']['PF_in_L2'][f_id][p_id]\n",
    "        if _time in train_range:\n",
    "            if p_id not in train_pairs:\n",
    "                train_pairs[p_id] = []\n",
    "            train_pairs[p_id] += [f_id]\n",
    "            train_papers[_time][p_id] = True\n",
    "        elif _time in valid_range:\n",
    "            if p_id not in valid_pairs:\n",
    "                valid_pairs[p_id] = []\n",
    "            valid_pairs[p_id] += [f_id]\n",
    "            valid_papers[_time][p_id] = True\n",
    "        else:\n",
    "            if p_id not in test_pairs:\n",
    "                test_pairs[p_id] = []\n",
    "            test_pairs[p_id] += [f_id]\n",
    "            test_papers[_time][p_id] = True\n",
    "for _time in list(train_papers.keys()):\n",
    "    if len(train_papers[_time]) < batch_size // 2:\n",
    "        train_papers.pop(_time)\n",
    "    else:\n",
    "        train_papers[_time] = np.array(list(train_papers[_time].keys()))\n",
    "for _time in list(valid_papers.keys()):\n",
    "    if len(valid_papers[_time]) < batch_size // 2:\n",
    "        valid_papers.pop(_time)\n",
    "    else:\n",
    "        valid_papers[_time] = np.array(list(valid_papers[_time].keys()))\n",
    "for _time in list(test_papers.keys()):\n",
    "    if len(test_papers[_time]) < batch_size // 2:\n",
    "        test_papers.pop(_time)\n",
    "    else:\n",
    "        test_papers[_time] = np.array(list(test_papers[_time].keys()))"
   ]
  },
  {
   "cell_type": "code",
   "execution_count": 8,
   "metadata": {},
   "outputs": [],
   "source": [
    "types = graph.get_types()\n",
    "cand_list = list(graph.edge_list['field']['paper']['PF_in_L2'])\n",
    "gnn = GNN(in_dim = len(graph.node_feature['paper']['emb'][0]) + 401, n_hid = 256, num_types = len(types), \\\n",
    "          num_relations = len(graph.get_meta_graph()) + 1, n_heads = 8, n_layers = 3).to(device)\n",
    "# gnn = torch.load('../pre-train/save/cpc_model.pt').to(device)\n",
    "classifier = Classifier(256, len(cand_list)).to(device)\n",
    "model = nn.Sequential(gnn, classifier)\n",
    "optimizer = torch.optim.AdamW(model.parameters())\n",
    "scheduler = torch.optim.lr_scheduler.CosineAnnealingLR(optimizer, 1000, eta_min=1e-6)"
   ]
  },
  {
   "cell_type": "code",
   "execution_count": 9,
   "metadata": {
    "scrolled": false
   },
   "outputs": [
    {
     "name": "stdout",
     "output_type": "stream",
     "text": [
      "Data Preparation: 47.1s\n"
     ]
    },
    {
     "name": "stderr",
     "output_type": "stream",
     "text": [
      "/home/ziniu/anaconda3/lib/python3.7/site-packages/torch/serialization.py:256: UserWarning: Couldn't retrieve source code for container of type GNN. It won't be checked for correctness upon loading.\n",
      "  \"type \" + obj.__name__ + \". It won't be checked \"\n"
     ]
    },
    {
     "name": "stdout",
     "output_type": "stream",
     "text": [
      "Epoch: 1 (126.6s)  LR: 0.00060 Train Loss: 8.27  Valid Loss: 6.63  Valid NDCG: 0.2166\n",
      "Data Preparation: 2.6s\n",
      "Epoch: 2 (126.8s)  LR: 0.00069 Train Loss: 6.52  Valid Loss: 6.56  Valid NDCG: 0.2059\n",
      "Data Preparation: 2.8s\n",
      "Epoch: 3 (125.8s)  LR: 0.00078 Train Loss: 6.33  Valid Loss: 6.40  Valid NDCG: 0.2097\n",
      "Data Preparation: 2.7s\n"
     ]
    },
    {
     "name": "stderr",
     "output_type": "stream",
     "text": [
      "/home/ziniu/anaconda3/lib/python3.7/site-packages/torch/serialization.py:256: UserWarning: Couldn't retrieve source code for container of type GNN. It won't be checked for correctness upon loading.\n",
      "  \"type \" + obj.__name__ + \". It won't be checked \"\n"
     ]
    },
    {
     "name": "stdout",
     "output_type": "stream",
     "text": [
      "Epoch: 4 (124.3s)  LR: 0.00085 Train Loss: 6.28  Valid Loss: 6.45  Valid NDCG: 0.2245\n",
      "Data Preparation: 3.0s\n"
     ]
    },
    {
     "name": "stderr",
     "output_type": "stream",
     "text": [
      "/home/ziniu/anaconda3/lib/python3.7/site-packages/torch/serialization.py:256: UserWarning: Couldn't retrieve source code for container of type GNN. It won't be checked for correctness upon loading.\n",
      "  \"type \" + obj.__name__ + \". It won't be checked \"\n"
     ]
    },
    {
     "name": "stdout",
     "output_type": "stream",
     "text": [
      "Epoch: 5 (125.4s)  LR: 0.00091 Train Loss: 6.07  Valid Loss: 6.11  Valid NDCG: 0.2355\n",
      "0.22592349509144\n",
      "Data Preparation: 11.1s\n",
      "Epoch: 6 (123.9s)  LR: 0.00096 Train Loss: 5.97  Valid Loss: 6.24  Valid NDCG: 0.2191\n",
      "Data Preparation: 2.7s\n",
      "Epoch: 7 (126.6s)  LR: 0.00099 Train Loss: 5.96  Valid Loss: 6.12  Valid NDCG: 0.2339\n",
      "Data Preparation: 2.8s\n"
     ]
    },
    {
     "name": "stderr",
     "output_type": "stream",
     "text": [
      "/home/ziniu/anaconda3/lib/python3.7/site-packages/torch/serialization.py:256: UserWarning: Couldn't retrieve source code for container of type GNN. It won't be checked for correctness upon loading.\n",
      "  \"type \" + obj.__name__ + \". It won't be checked \"\n"
     ]
    },
    {
     "name": "stdout",
     "output_type": "stream",
     "text": [
      "Epoch: 8 (128.5s)  LR: 0.00100 Train Loss: 5.87  Valid Loss: 6.29  Valid NDCG: 0.2393\n",
      "Data Preparation: 2.7s\n",
      "Epoch: 9 (124.4s)  LR: 0.00099 Train Loss: 5.83  Valid Loss: 6.39  Valid NDCG: 0.2303\n",
      "Data Preparation: 2.7s\n"
     ]
    },
    {
     "name": "stderr",
     "output_type": "stream",
     "text": [
      "/home/ziniu/anaconda3/lib/python3.7/site-packages/torch/serialization.py:256: UserWarning: Couldn't retrieve source code for container of type GNN. It won't be checked for correctness upon loading.\n",
      "  \"type \" + obj.__name__ + \". It won't be checked \"\n"
     ]
    },
    {
     "name": "stdout",
     "output_type": "stream",
     "text": [
      "Epoch: 10 (125.5s)  LR: 0.00096 Train Loss: 5.72  Valid Loss: 6.05  Valid NDCG: 0.2407\n",
      "0.22979212578378033\n",
      "Data Preparation: 11.0s\n"
     ]
    },
    {
     "name": "stderr",
     "output_type": "stream",
     "text": [
      "/home/ziniu/anaconda3/lib/python3.7/site-packages/torch/serialization.py:256: UserWarning: Couldn't retrieve source code for container of type GNN. It won't be checked for correctness upon loading.\n",
      "  \"type \" + obj.__name__ + \". It won't be checked \"\n"
     ]
    },
    {
     "name": "stdout",
     "output_type": "stream",
     "text": [
      "Epoch: 11 (124.1s)  LR: 0.00092 Train Loss: 5.68  Valid Loss: 6.02  Valid NDCG: 0.2496\n",
      "Data Preparation: 2.8s\n",
      "Epoch: 12 (127.2s)  LR: 0.00086 Train Loss: 5.68  Valid Loss: 5.98  Valid NDCG: 0.2484\n",
      "Data Preparation: 2.8s\n"
     ]
    },
    {
     "name": "stderr",
     "output_type": "stream",
     "text": [
      "/home/ziniu/anaconda3/lib/python3.7/site-packages/torch/serialization.py:256: UserWarning: Couldn't retrieve source code for container of type GNN. It won't be checked for correctness upon loading.\n",
      "  \"type \" + obj.__name__ + \". It won't be checked \"\n"
     ]
    },
    {
     "name": "stdout",
     "output_type": "stream",
     "text": [
      "Epoch: 13 (126.1s)  LR: 0.00079 Train Loss: 5.62  Valid Loss: 5.79  Valid NDCG: 0.2564\n",
      "Data Preparation: 2.7s\n"
     ]
    },
    {
     "name": "stderr",
     "output_type": "stream",
     "text": [
      "/home/ziniu/anaconda3/lib/python3.7/site-packages/torch/serialization.py:256: UserWarning: Couldn't retrieve source code for container of type GNN. It won't be checked for correctness upon loading.\n",
      "  \"type \" + obj.__name__ + \". It won't be checked \"\n"
     ]
    },
    {
     "name": "stdout",
     "output_type": "stream",
     "text": [
      "Epoch: 14 (125.0s)  LR: 0.00070 Train Loss: 5.48  Valid Loss: 5.74  Valid NDCG: 0.2613\n",
      "Data Preparation: 3.1s\n"
     ]
    },
    {
     "name": "stderr",
     "output_type": "stream",
     "text": [
      "/home/ziniu/anaconda3/lib/python3.7/site-packages/torch/serialization.py:256: UserWarning: Couldn't retrieve source code for container of type GNN. It won't be checked for correctness upon loading.\n",
      "  \"type \" + obj.__name__ + \". It won't be checked \"\n"
     ]
    },
    {
     "name": "stdout",
     "output_type": "stream",
     "text": [
      "Epoch: 15 (125.2s)  LR: 0.00061 Train Loss: 5.40  Valid Loss: 5.81  Valid NDCG: 0.2744\n",
      "0.27232746671980723\n",
      "Data Preparation: 11.8s\n",
      "Epoch: 16 (124.2s)  LR: 0.00051 Train Loss: 5.43  Valid Loss: 5.85  Valid NDCG: 0.2492\n",
      "Data Preparation: 3.0s\n"
     ]
    },
    {
     "name": "stderr",
     "output_type": "stream",
     "text": [
      "/home/ziniu/anaconda3/lib/python3.7/site-packages/torch/serialization.py:256: UserWarning: Couldn't retrieve source code for container of type GNN. It won't be checked for correctness upon loading.\n",
      "  \"type \" + obj.__name__ + \". It won't be checked \"\n"
     ]
    },
    {
     "name": "stdout",
     "output_type": "stream",
     "text": [
      "Epoch: 17 (127.5s)  LR: 0.00042 Train Loss: 5.35  Valid Loss: 5.65  Valid NDCG: 0.2800\n",
      "Data Preparation: 2.8s\n",
      "Epoch: 18 (126.9s)  LR: 0.00032 Train Loss: 5.34  Valid Loss: 5.71  Valid NDCG: 0.2704\n",
      "Data Preparation: 2.8s\n"
     ]
    },
    {
     "name": "stderr",
     "output_type": "stream",
     "text": [
      "/home/ziniu/anaconda3/lib/python3.7/site-packages/torch/serialization.py:256: UserWarning: Couldn't retrieve source code for container of type GNN. It won't be checked for correctness upon loading.\n",
      "  \"type \" + obj.__name__ + \". It won't be checked \"\n"
     ]
    },
    {
     "name": "stdout",
     "output_type": "stream",
     "text": [
      "Epoch: 19 (125.2s)  LR: 0.00024 Train Loss: 5.38  Valid Loss: 5.53  Valid NDCG: 0.2933\n",
      "Data Preparation: 2.8s\n",
      "Epoch: 20 (125.1s)  LR: 0.00016 Train Loss: 5.30  Valid Loss: 5.59  Valid NDCG: 0.2797\n",
      "0.25240370190001477\n",
      "Data Preparation: 11.3s\n",
      "Epoch: 21 (126.3s)  LR: 0.00009 Train Loss: 5.34  Valid Loss: 5.67  Valid NDCG: 0.2679\n",
      "Data Preparation: 3.0s\n",
      "Epoch: 22 (126.4s)  LR: 0.00005 Train Loss: 5.29  Valid Loss: 5.57  Valid NDCG: 0.2916\n",
      "Data Preparation: 2.8s\n"
     ]
    },
    {
     "name": "stderr",
     "output_type": "stream",
     "text": [
      "/home/ziniu/anaconda3/lib/python3.7/site-packages/torch/serialization.py:256: UserWarning: Couldn't retrieve source code for container of type GNN. It won't be checked for correctness upon loading.\n",
      "  \"type \" + obj.__name__ + \". It won't be checked \"\n"
     ]
    },
    {
     "name": "stdout",
     "output_type": "stream",
     "text": [
      "Epoch: 23 (149.1s)  LR: 0.00001 Train Loss: 5.25  Valid Loss: 5.50  Valid NDCG: 0.2938\n",
      "Data Preparation: 3.1s\n",
      "Epoch: 24 (155.3s)  LR: 0.00000 Train Loss: 5.26  Valid Loss: 5.57  Valid NDCG: 0.2751\n",
      "Data Preparation: 3.0s\n",
      "Epoch: 25 (152.7s)  LR: 0.00001 Train Loss: 5.29  Valid Loss: 5.44  Valid NDCG: 0.2910\n",
      "0.23294595776137314\n",
      "Data Preparation: 12.3s\n",
      "Epoch: 26 (154.9s)  LR: 0.00003 Train Loss: 5.26  Valid Loss: 5.57  Valid NDCG: 0.2830\n",
      "Data Preparation: 2.9s\n",
      "Epoch: 27 (153.9s)  LR: 0.00007 Train Loss: 5.30  Valid Loss: 5.63  Valid NDCG: 0.2798\n",
      "Data Preparation: 2.9s\n",
      "Epoch: 28 (157.4s)  LR: 0.00013 Train Loss: 5.34  Valid Loss: 5.62  Valid NDCG: 0.2858\n",
      "Data Preparation: 3.9s\n",
      "Epoch: 29 (159.6s)  LR: 0.00020 Train Loss: 5.32  Valid Loss: 5.49  Valid NDCG: 0.2879\n",
      "Data Preparation: 3.5s\n",
      "Epoch: 30 (156.7s)  LR: 0.00029 Train Loss: 5.24  Valid Loss: 5.71  Valid NDCG: 0.2923\n",
      "0.286011903453983\n",
      "Data Preparation: 11.6s\n",
      "Epoch: 31 (151.8s)  LR: 0.00038 Train Loss: 5.22  Valid Loss: 5.48  Valid NDCG: 0.2906\n",
      "Data Preparation: 2.9s\n"
     ]
    },
    {
     "name": "stderr",
     "output_type": "stream",
     "text": [
      "/home/ziniu/anaconda3/lib/python3.7/site-packages/torch/serialization.py:256: UserWarning: Couldn't retrieve source code for container of type GNN. It won't be checked for correctness upon loading.\n",
      "  \"type \" + obj.__name__ + \". It won't be checked \"\n"
     ]
    },
    {
     "name": "stdout",
     "output_type": "stream",
     "text": [
      "Epoch: 32 (157.3s)  LR: 0.00048 Train Loss: 5.18  Valid Loss: 5.45  Valid NDCG: 0.3035\n",
      "Data Preparation: 3.4s\n",
      "Epoch: 33 (159.8s)  LR: 0.00057 Train Loss: 5.21  Valid Loss: 5.47  Valid NDCG: 0.2903\n",
      "Data Preparation: 2.8s\n",
      "Epoch: 34 (152.8s)  LR: 0.00067 Train Loss: 5.11  Valid Loss: 5.50  Valid NDCG: 0.2948\n",
      "Data Preparation: 3.0s\n",
      "Epoch: 35 (150.5s)  LR: 0.00075 Train Loss: 5.10  Valid Loss: 5.44  Valid NDCG: 0.3010\n",
      "0.29104203899359055\n",
      "Data Preparation: 13.7s\n"
     ]
    },
    {
     "name": "stderr",
     "output_type": "stream",
     "text": [
      "/home/ziniu/anaconda3/lib/python3.7/site-packages/torch/serialization.py:256: UserWarning: Couldn't retrieve source code for container of type GNN. It won't be checked for correctness upon loading.\n",
      "  \"type \" + obj.__name__ + \". It won't be checked \"\n"
     ]
    },
    {
     "name": "stdout",
     "output_type": "stream",
     "text": [
      "Epoch: 36 (154.1s)  LR: 0.00083 Train Loss: 5.13  Valid Loss: 5.33  Valid NDCG: 0.3173\n",
      "Data Preparation: 3.5s\n",
      "Epoch: 37 (154.5s)  LR: 0.00090 Train Loss: 5.11  Valid Loss: 5.32  Valid NDCG: 0.2978\n",
      "Data Preparation: 3.1s\n",
      "Epoch: 38 (152.7s)  LR: 0.00095 Train Loss: 4.99  Valid Loss: 5.41  Valid NDCG: 0.3112\n",
      "Data Preparation: 3.8s\n",
      "Epoch: 39 (156.1s)  LR: 0.00098 Train Loss: 5.01  Valid Loss: 5.25  Valid NDCG: 0.3105\n",
      "Data Preparation: 3.0s\n",
      "Epoch: 40 (159.4s)  LR: 0.00100 Train Loss: 5.00  Valid Loss: 5.36  Valid NDCG: 0.2833\n",
      "0.2749817219340351\n",
      "Data Preparation: 11.7s\n",
      "Epoch: 41 (153.7s)  LR: 0.00100 Train Loss: 4.99  Valid Loss: 5.19  Valid NDCG: 0.3085\n",
      "Data Preparation: 3.0s\n",
      "Epoch: 42 (157.0s)  LR: 0.00097 Train Loss: 4.90  Valid Loss: 5.36  Valid NDCG: 0.2927\n",
      "Data Preparation: 3.2s\n",
      "Epoch: 43 (155.6s)  LR: 0.00093 Train Loss: 4.94  Valid Loss: 5.64  Valid NDCG: 0.2885\n",
      "Data Preparation: 3.1s\n",
      "Epoch: 44 (154.9s)  LR: 0.00088 Train Loss: 4.87  Valid Loss: 5.29  Valid NDCG: 0.3126\n",
      "Data Preparation: 2.9s\n",
      "Epoch: 45 (158.7s)  LR: 0.00081 Train Loss: 4.96  Valid Loss: 5.51  Valid NDCG: 0.2826\n",
      "0.24335320220506493\n",
      "Data Preparation: 13.8s\n",
      "Epoch: 46 (155.5s)  LR: 0.00072 Train Loss: 4.78  Valid Loss: 5.29  Valid NDCG: 0.3047\n",
      "Data Preparation: 3.1s\n",
      "Epoch: 47 (152.9s)  LR: 0.00063 Train Loss: 4.78  Valid Loss: 5.35  Valid NDCG: 0.2932\n",
      "Data Preparation: 3.2s\n",
      "Epoch: 48 (151.8s)  LR: 0.00054 Train Loss: 4.80  Valid Loss: 5.26  Valid NDCG: 0.2979\n",
      "Data Preparation: 3.5s\n",
      "Epoch: 49 (161.6s)  LR: 0.00044 Train Loss: 4.86  Valid Loss: 5.22  Valid NDCG: 0.3156\n",
      "Data Preparation: 3.6s\n",
      "Epoch: 50 (151.5s)  LR: 0.00035 Train Loss: 4.78  Valid Loss: 5.14  Valid NDCG: 0.3126\n",
      "0.2698486657518133\n",
      "Data Preparation: 11.9s\n"
     ]
    },
    {
     "name": "stderr",
     "output_type": "stream",
     "text": [
      "/home/ziniu/anaconda3/lib/python3.7/site-packages/torch/serialization.py:256: UserWarning: Couldn't retrieve source code for container of type GNN. It won't be checked for correctness upon loading.\n",
      "  \"type \" + obj.__name__ + \". It won't be checked \"\n"
     ]
    },
    {
     "name": "stdout",
     "output_type": "stream",
     "text": [
      "Epoch: 51 (151.9s)  LR: 0.00026 Train Loss: 4.70  Valid Loss: 5.13  Valid NDCG: 0.3243\n",
      "Data Preparation: 3.0s\n"
     ]
    },
    {
     "name": "stderr",
     "output_type": "stream",
     "text": [
      "/home/ziniu/anaconda3/lib/python3.7/site-packages/torch/serialization.py:256: UserWarning: Couldn't retrieve source code for container of type GNN. It won't be checked for correctness upon loading.\n",
      "  \"type \" + obj.__name__ + \". It won't be checked \"\n"
     ]
    },
    {
     "name": "stdout",
     "output_type": "stream",
     "text": [
      "Epoch: 52 (154.3s)  LR: 0.00018 Train Loss: 4.69  Valid Loss: 4.89  Valid NDCG: 0.3417\n",
      "Data Preparation: 3.4s\n"
     ]
    },
    {
     "name": "stderr",
     "output_type": "stream",
     "text": [
      "/home/ziniu/anaconda3/lib/python3.7/site-packages/torch/serialization.py:256: UserWarning: Couldn't retrieve source code for container of type GNN. It won't be checked for correctness upon loading.\n",
      "  \"type \" + obj.__name__ + \". It won't be checked \"\n"
     ]
    },
    {
     "name": "stdout",
     "output_type": "stream",
     "text": [
      "Epoch: 53 (158.7s)  LR: 0.00011 Train Loss: 4.83  Valid Loss: 4.95  Valid NDCG: 0.3449\n",
      "Data Preparation: 3.0s\n",
      "Epoch: 54 (152.0s)  LR: 0.00006 Train Loss: 4.72  Valid Loss: 5.13  Valid NDCG: 0.3212\n",
      "Data Preparation: 3.1s\n",
      "Epoch: 55 (153.4s)  LR: 0.00002 Train Loss: 4.67  Valid Loss: 5.15  Valid NDCG: 0.3300\n",
      "0.32055603712666525\n",
      "Data Preparation: 13.8s\n",
      "Epoch: 56 (157.8s)  LR: 0.00000 Train Loss: 4.80  Valid Loss: 5.04  Valid NDCG: 0.3308\n",
      "Data Preparation: 3.2s\n",
      "Epoch: 57 (151.4s)  LR: 0.00000 Train Loss: 4.66  Valid Loss: 5.16  Valid NDCG: 0.3189\n",
      "Data Preparation: 3.0s\n",
      "Epoch: 58 (153.2s)  LR: 0.00002 Train Loss: 4.78  Valid Loss: 5.14  Valid NDCG: 0.3124\n",
      "Data Preparation: 3.0s\n",
      "Epoch: 59 (157.3s)  LR: 0.00006 Train Loss: 4.70  Valid Loss: 5.01  Valid NDCG: 0.3309\n",
      "Data Preparation: 3.7s\n",
      "Epoch: 60 (156.7s)  LR: 0.00012 Train Loss: 4.72  Valid Loss: 5.16  Valid NDCG: 0.3206\n",
      "0.24086194698986607\n",
      "Data Preparation: 11.4s\n",
      "Epoch: 61 (150.6s)  LR: 0.00018 Train Loss: 4.72  Valid Loss: 5.10  Valid NDCG: 0.3181\n",
      "Data Preparation: 3.1s\n",
      "Epoch: 62 (148.6s)  LR: 0.00027 Train Loss: 4.59  Valid Loss: 5.27  Valid NDCG: 0.2972\n",
      "Data Preparation: 3.4s\n",
      "Epoch: 63 (154.1s)  LR: 0.00036 Train Loss: 4.67  Valid Loss: 4.99  Valid NDCG: 0.3396\n",
      "Data Preparation: 3.1s\n",
      "Epoch: 64 (158.0s)  LR: 0.00045 Train Loss: 4.66  Valid Loss: 5.07  Valid NDCG: 0.3359\n",
      "Data Preparation: 3.0s\n",
      "Epoch: 65 (154.9s)  LR: 0.00055 Train Loss: 4.73  Valid Loss: 5.06  Valid NDCG: 0.3196\n",
      "0.29395774880578107\n",
      "Data Preparation: 12.4s\n",
      "Epoch: 66 (150.5s)  LR: 0.00064 Train Loss: 4.56  Valid Loss: 5.11  Valid NDCG: 0.3150\n",
      "Data Preparation: 3.4s\n",
      "Epoch: 67 (157.4s)  LR: 0.00073 Train Loss: 4.67  Valid Loss: 5.21  Valid NDCG: 0.3350\n",
      "Data Preparation: 3.3s\n"
     ]
    },
    {
     "name": "stderr",
     "output_type": "stream",
     "text": [
      "/home/ziniu/anaconda3/lib/python3.7/site-packages/torch/serialization.py:256: UserWarning: Couldn't retrieve source code for container of type GNN. It won't be checked for correctness upon loading.\n",
      "  \"type \" + obj.__name__ + \". It won't be checked \"\n"
     ]
    },
    {
     "name": "stdout",
     "output_type": "stream",
     "text": [
      "Epoch: 68 (152.3s)  LR: 0.00081 Train Loss: 4.74  Valid Loss: 5.12  Valid NDCG: 0.3463\n",
      "Data Preparation: 3.0s\n",
      "Epoch: 69 (155.4s)  LR: 0.00088 Train Loss: 4.72  Valid Loss: 5.20  Valid NDCG: 0.3296\n",
      "Data Preparation: 3.2s\n",
      "Epoch: 70 (156.5s)  LR: 0.00094 Train Loss: 4.61  Valid Loss: 5.03  Valid NDCG: 0.3271\n",
      "0.2905511455214794\n",
      "Data Preparation: 13.7s\n",
      "Epoch: 71 (155.4s)  LR: 0.00098 Train Loss: 4.63  Valid Loss: 5.05  Valid NDCG: 0.3190\n",
      "Data Preparation: 2.9s\n",
      "Epoch: 72 (152.4s)  LR: 0.00100 Train Loss: 4.56  Valid Loss: 5.13  Valid NDCG: 0.3223\n",
      "Data Preparation: 3.1s\n",
      "Epoch: 73 (160.2s)  LR: 0.00100 Train Loss: 4.66  Valid Loss: 5.05  Valid NDCG: 0.3343\n",
      "Data Preparation: 3.0s\n",
      "Epoch: 74 (156.5s)  LR: 0.00098 Train Loss: 4.70  Valid Loss: 5.01  Valid NDCG: 0.3338\n",
      "Data Preparation: 3.1s\n",
      "Epoch: 75 (157.0s)  LR: 0.00095 Train Loss: 4.69  Valid Loss: 5.15  Valid NDCG: 0.3236\n",
      "0.27222233979057603\n",
      "Data Preparation: 12.2s\n"
     ]
    },
    {
     "name": "stderr",
     "output_type": "stream",
     "text": [
      "/home/ziniu/anaconda3/lib/python3.7/site-packages/torch/serialization.py:256: UserWarning: Couldn't retrieve source code for container of type GNN. It won't be checked for correctness upon loading.\n",
      "  \"type \" + obj.__name__ + \". It won't be checked \"\n"
     ]
    },
    {
     "name": "stdout",
     "output_type": "stream",
     "text": [
      "Epoch: 76 (154.9s)  LR: 0.00089 Train Loss: 4.61  Valid Loss: 4.97  Valid NDCG: 0.3474\n",
      "Data Preparation: 3.2s\n",
      "Epoch: 77 (155.2s)  LR: 0.00083 Train Loss: 4.52  Valid Loss: 5.32  Valid NDCG: 0.3175\n",
      "Data Preparation: 3.0s\n",
      "Epoch: 78 (148.8s)  LR: 0.00075 Train Loss: 4.51  Valid Loss: 5.16  Valid NDCG: 0.3294\n",
      "Data Preparation: 3.1s\n",
      "Epoch: 79 (154.1s)  LR: 0.00066 Train Loss: 4.58  Valid Loss: 5.06  Valid NDCG: 0.3328\n",
      "Data Preparation: 3.3s\n",
      "Epoch: 80 (155.2s)  LR: 0.00056 Train Loss: 4.57  Valid Loss: 5.03  Valid NDCG: 0.3400\n",
      "0.2599482652988351\n",
      "Data Preparation: 13.1s\n",
      "Epoch: 81 (154.5s)  LR: 0.00047 Train Loss: 4.48  Valid Loss: 5.00  Valid NDCG: 0.3356\n",
      "Data Preparation: 3.1s\n",
      "Epoch: 82 (152.3s)  LR: 0.00037 Train Loss: 4.64  Valid Loss: 5.00  Valid NDCG: 0.3318\n",
      "Data Preparation: 3.1s\n"
     ]
    },
    {
     "name": "stderr",
     "output_type": "stream",
     "text": [
      "/home/ziniu/anaconda3/lib/python3.7/site-packages/torch/serialization.py:256: UserWarning: Couldn't retrieve source code for container of type GNN. It won't be checked for correctness upon loading.\n",
      "  \"type \" + obj.__name__ + \". It won't be checked \"\n"
     ]
    },
    {
     "name": "stdout",
     "output_type": "stream",
     "text": [
      "Epoch: 83 (157.1s)  LR: 0.00028 Train Loss: 4.53  Valid Loss: 4.94  Valid NDCG: 0.3506\n",
      "Data Preparation: 4.0s\n",
      "Epoch: 84 (157.2s)  LR: 0.00020 Train Loss: 4.50  Valid Loss: 5.04  Valid NDCG: 0.3298\n",
      "Data Preparation: 3.3s\n"
     ]
    },
    {
     "name": "stderr",
     "output_type": "stream",
     "text": [
      "/home/ziniu/anaconda3/lib/python3.7/site-packages/torch/serialization.py:256: UserWarning: Couldn't retrieve source code for container of type GNN. It won't be checked for correctness upon loading.\n",
      "  \"type \" + obj.__name__ + \". It won't be checked \"\n"
     ]
    },
    {
     "name": "stdout",
     "output_type": "stream",
     "text": [
      "Epoch: 85 (153.8s)  LR: 0.00013 Train Loss: 4.44  Valid Loss: 4.82  Valid NDCG: 0.3606\n",
      "0.2662263535318294\n",
      "Data Preparation: 11.6s\n",
      "Epoch: 86 (152.6s)  LR: 0.00007 Train Loss: 4.36  Valid Loss: 4.75  Valid NDCG: 0.3553\n",
      "Data Preparation: 3.7s\n",
      "Epoch: 87 (158.2s)  LR: 0.00003 Train Loss: 4.43  Valid Loss: 5.09  Valid NDCG: 0.3513\n",
      "Data Preparation: 3.8s\n",
      "Epoch: 88 (156.1s)  LR: 0.00001 Train Loss: 4.51  Valid Loss: 5.13  Valid NDCG: 0.3248\n",
      "Data Preparation: 3.2s\n",
      "Epoch: 89 (155.7s)  LR: 0.00000 Train Loss: 4.49  Valid Loss: 4.88  Valid NDCG: 0.3466\n",
      "Data Preparation: 3.4s\n"
     ]
    },
    {
     "name": "stderr",
     "output_type": "stream",
     "text": [
      "/home/ziniu/anaconda3/lib/python3.7/site-packages/torch/serialization.py:256: UserWarning: Couldn't retrieve source code for container of type GNN. It won't be checked for correctness upon loading.\n",
      "  \"type \" + obj.__name__ + \". It won't be checked \"\n"
     ]
    },
    {
     "name": "stdout",
     "output_type": "stream",
     "text": [
      "Epoch: 90 (162.3s)  LR: 0.00002 Train Loss: 4.51  Valid Loss: 4.72  Valid NDCG: 0.3674\n",
      "0.28904805696158176\n",
      "Data Preparation: 13.6s\n",
      "Epoch: 91 (159.1s)  LR: 0.00005 Train Loss: 4.50  Valid Loss: 4.92  Valid NDCG: 0.3482\n",
      "Data Preparation: 3.3s\n",
      "Epoch: 92 (151.4s)  LR: 0.00010 Train Loss: 4.31  Valid Loss: 4.98  Valid NDCG: 0.3362\n",
      "Data Preparation: 3.3s\n",
      "Epoch: 93 (150.8s)  LR: 0.00017 Train Loss: 4.33  Valid Loss: 4.96  Valid NDCG: 0.3560\n",
      "Data Preparation: 3.4s\n",
      "Epoch: 94 (155.8s)  LR: 0.00024 Train Loss: 4.37  Valid Loss: 5.01  Valid NDCG: 0.3418\n",
      "Data Preparation: 3.6s\n",
      "Epoch: 95 (152.6s)  LR: 0.00033 Train Loss: 4.35  Valid Loss: 4.91  Valid NDCG: 0.3512\n",
      "0.3112266243285944\n",
      "Data Preparation: 12.1s\n",
      "Epoch: 96 (151.4s)  LR: 0.00043 Train Loss: 4.33  Valid Loss: 5.01  Valid NDCG: 0.3349\n",
      "Data Preparation: 3.7s\n",
      "Epoch: 97 (156.0s)  LR: 0.00052 Train Loss: 4.44  Valid Loss: 4.89  Valid NDCG: 0.3471\n",
      "Data Preparation: 3.2s\n",
      "Epoch: 98 (160.1s)  LR: 0.00062 Train Loss: 4.33  Valid Loss: 4.99  Valid NDCG: 0.3471\n",
      "Data Preparation: 3.8s\n",
      "Epoch: 99 (155.5s)  LR: 0.00071 Train Loss: 4.60  Valid Loss: 4.90  Valid NDCG: 0.3496\n",
      "Data Preparation: 3.4s\n",
      "Epoch: 100 (152.7s)  LR: 0.00079 Train Loss: 4.34  Valid Loss: 5.01  Valid NDCG: 0.3360\n",
      "0.27224531756770765\n",
      "Data Preparation: 11.5s\n",
      "Epoch: 101 (126.4s)  LR: 0.00087 Train Loss: 4.37  Valid Loss: 5.14  Valid NDCG: 0.3153\n",
      "Data Preparation: 3.2s\n",
      "Epoch: 102 (128.1s)  LR: 0.00093 Train Loss: 4.41  Valid Loss: 5.06  Valid NDCG: 0.3413\n",
      "Data Preparation: 3.2s\n",
      "Epoch: 103 (125.7s)  LR: 0.00097 Train Loss: 4.27  Valid Loss: 4.91  Valid NDCG: 0.3586\n",
      "Data Preparation: 3.3s\n",
      "Epoch: 104 (125.1s)  LR: 0.00099 Train Loss: 4.32  Valid Loss: 5.06  Valid NDCG: 0.3510\n",
      "Data Preparation: 3.4s\n",
      "Epoch: 105 (129.5s)  LR: 0.00100 Train Loss: 4.57  Valid Loss: 4.96  Valid NDCG: 0.3470\n",
      "0.3314452882518333\n",
      "Data Preparation: 11.9s\n",
      "Epoch: 106 (127.5s)  LR: 0.00099 Train Loss: 4.41  Valid Loss: 4.98  Valid NDCG: 0.3374\n",
      "Data Preparation: 3.4s\n",
      "Epoch: 107 (128.0s)  LR: 0.00096 Train Loss: 4.42  Valid Loss: 5.28  Valid NDCG: 0.3269\n",
      "Data Preparation: 3.4s\n",
      "Epoch: 108 (130.6s)  LR: 0.00091 Train Loss: 4.45  Valid Loss: 5.04  Valid NDCG: 0.3402\n",
      "Data Preparation: 3.4s\n",
      "Epoch: 109 (127.1s)  LR: 0.00084 Train Loss: 4.33  Valid Loss: 4.77  Valid NDCG: 0.3595\n",
      "Data Preparation: 3.5s\n",
      "Epoch: 110 (127.8s)  LR: 0.00077 Train Loss: 4.37  Valid Loss: 5.25  Valid NDCG: 0.3293\n",
      "0.31985891362058316\n",
      "Data Preparation: 12.4s\n",
      "Epoch: 111 (136.6s)  LR: 0.00068 Train Loss: 4.24  Valid Loss: 4.80  Valid NDCG: 0.3493\n",
      "Data Preparation: 3.3s\n",
      "Epoch: 112 (132.4s)  LR: 0.00059 Train Loss: 4.38  Valid Loss: 4.88  Valid NDCG: 0.3521\n",
      "Data Preparation: 3.3s\n",
      "Epoch: 113 (127.4s)  LR: 0.00049 Train Loss: 4.32  Valid Loss: 5.01  Valid NDCG: 0.3466\n",
      "Data Preparation: 3.3s\n",
      "Epoch: 114 (131.2s)  LR: 0.00039 Train Loss: 4.43  Valid Loss: 4.89  Valid NDCG: 0.3608\n",
      "Data Preparation: 3.3s\n",
      "Epoch: 115 (126.3s)  LR: 0.00030 Train Loss: 4.27  Valid Loss: 5.04  Valid NDCG: 0.3352\n",
      "0.2784357374520231\n",
      "Data Preparation: 11.7s\n"
     ]
    },
    {
     "name": "stderr",
     "output_type": "stream",
     "text": [
      "/home/ziniu/anaconda3/lib/python3.7/site-packages/torch/serialization.py:256: UserWarning: Couldn't retrieve source code for container of type GNN. It won't be checked for correctness upon loading.\n",
      "  \"type \" + obj.__name__ + \". It won't be checked \"\n"
     ]
    },
    {
     "name": "stdout",
     "output_type": "stream",
     "text": [
      "Epoch: 116 (129.2s)  LR: 0.00022 Train Loss: 4.24  Valid Loss: 4.74  Valid NDCG: 0.3785\n",
      "Data Preparation: 3.3s\n",
      "Epoch: 117 (135.9s)  LR: 0.00014 Train Loss: 4.40  Valid Loss: 4.72  Valid NDCG: 0.3741\n",
      "Data Preparation: 3.4s\n",
      "Epoch: 118 (135.4s)  LR: 0.00008 Train Loss: 4.14  Valid Loss: 5.14  Valid NDCG: 0.3217\n",
      "Data Preparation: 3.4s\n",
      "Epoch: 119 (148.1s)  LR: 0.00004 Train Loss: 4.25  Valid Loss: 4.71  Valid NDCG: 0.3549\n",
      "Data Preparation: 3.5s\n",
      "Epoch: 120 (157.0s)  LR: 0.00001 Train Loss: 4.24  Valid Loss: 4.83  Valid NDCG: 0.3620\n",
      "0.32099769081312607\n",
      "Data Preparation: 11.8s\n",
      "Epoch: 121 (141.2s)  LR: 0.00000 Train Loss: 4.43  Valid Loss: 5.00  Valid NDCG: 0.3518\n",
      "Data Preparation: 3.5s\n"
     ]
    },
    {
     "name": "stderr",
     "output_type": "stream",
     "text": [
      "/home/ziniu/anaconda3/lib/python3.7/site-packages/torch/serialization.py:256: UserWarning: Couldn't retrieve source code for container of type GNN. It won't be checked for correctness upon loading.\n",
      "  \"type \" + obj.__name__ + \". It won't be checked \"\n"
     ]
    },
    {
     "name": "stdout",
     "output_type": "stream",
     "text": [
      "Epoch: 122 (152.9s)  LR: 0.00001 Train Loss: 4.27  Valid Loss: 4.79  Valid NDCG: 0.3827\n",
      "Data Preparation: 3.6s\n",
      "Epoch: 123 (141.6s)  LR: 0.00004 Train Loss: 4.34  Valid Loss: 4.84  Valid NDCG: 0.3559\n",
      "Data Preparation: 3.3s\n",
      "Epoch: 124 (156.5s)  LR: 0.00009 Train Loss: 4.29  Valid Loss: 4.95  Valid NDCG: 0.3341\n",
      "Data Preparation: 3.6s\n",
      "Epoch: 125 (144.0s)  LR: 0.00015 Train Loss: 4.06  Valid Loss: 4.69  Valid NDCG: 0.3616\n",
      "0.349726625721841\n",
      "Data Preparation: 12.6s\n",
      "Epoch: 126 (151.5s)  LR: 0.00022 Train Loss: 4.30  Valid Loss: 4.75  Valid NDCG: 0.3766\n",
      "Data Preparation: 3.4s\n",
      "Epoch: 127 (150.7s)  LR: 0.00031 Train Loss: 4.05  Valid Loss: 4.88  Valid NDCG: 0.3568\n",
      "Data Preparation: 3.4s\n",
      "Epoch: 128 (142.3s)  LR: 0.00040 Train Loss: 4.23  Valid Loss: 4.90  Valid NDCG: 0.3514\n",
      "Data Preparation: 3.6s\n",
      "Epoch: 129 (157.0s)  LR: 0.00050 Train Loss: 4.21  Valid Loss: 4.71  Valid NDCG: 0.3795\n",
      "Data Preparation: 3.7s\n",
      "Epoch: 130 (139.9s)  LR: 0.00059 Train Loss: 4.05  Valid Loss: 5.01  Valid NDCG: 0.3400\n",
      "0.3149530605948518\n",
      "Data Preparation: 13.1s\n",
      "Epoch: 131 (157.2s)  LR: 0.00069 Train Loss: 4.42  Valid Loss: 4.90  Valid NDCG: 0.3448\n",
      "Data Preparation: 4.1s\n",
      "Epoch: 132 (142.3s)  LR: 0.00077 Train Loss: 4.26  Valid Loss: 5.02  Valid NDCG: 0.3364\n",
      "Data Preparation: 3.5s\n",
      "Epoch: 133 (151.6s)  LR: 0.00085 Train Loss: 4.18  Valid Loss: 5.00  Valid NDCG: 0.3386\n",
      "Data Preparation: 3.5s\n",
      "Epoch: 134 (156.5s)  LR: 0.00091 Train Loss: 4.31  Valid Loss: 4.86  Valid NDCG: 0.3545\n",
      "Data Preparation: 3.6s\n",
      "Epoch: 135 (146.6s)  LR: 0.00096 Train Loss: 4.28  Valid Loss: 4.98  Valid NDCG: 0.3433\n",
      "0.2762398522097618\n",
      "Data Preparation: 13.3s\n",
      "Epoch: 136 (154.5s)  LR: 0.00099 Train Loss: 4.24  Valid Loss: 4.85  Valid NDCG: 0.3549\n",
      "Data Preparation: 3.6s\n",
      "Epoch: 137 (145.6s)  LR: 0.00100 Train Loss: 4.41  Valid Loss: 4.80  Valid NDCG: 0.3682\n",
      "Data Preparation: 3.4s\n",
      "Epoch: 138 (155.3s)  LR: 0.00099 Train Loss: 4.26  Valid Loss: 4.92  Valid NDCG: 0.3560\n",
      "Data Preparation: 3.6s\n"
     ]
    },
    {
     "name": "stderr",
     "output_type": "stream",
     "text": [
      "/home/ziniu/anaconda3/lib/python3.7/site-packages/torch/serialization.py:256: UserWarning: Couldn't retrieve source code for container of type GNN. It won't be checked for correctness upon loading.\n",
      "  \"type \" + obj.__name__ + \". It won't be checked \"\n"
     ]
    },
    {
     "name": "stdout",
     "output_type": "stream",
     "text": [
      "Epoch: 139 (143.2s)  LR: 0.00097 Train Loss: 4.21  Valid Loss: 4.65  Valid NDCG: 0.3857\n",
      "Data Preparation: 3.7s\n",
      "Epoch: 140 (152.2s)  LR: 0.00092 Train Loss: 4.09  Valid Loss: 4.74  Valid NDCG: 0.3792\n",
      "0.3420544418620318\n",
      "Data Preparation: 12.9s\n",
      "Epoch: 141 (144.9s)  LR: 0.00086 Train Loss: 4.18  Valid Loss: 4.87  Valid NDCG: 0.3661\n",
      "Data Preparation: 3.4s\n",
      "Epoch: 142 (149.7s)  LR: 0.00079 Train Loss: 4.18  Valid Loss: 5.00  Valid NDCG: 0.3468\n",
      "Data Preparation: 3.6s\n",
      "Epoch: 143 (152.1s)  LR: 0.00070 Train Loss: 4.07  Valid Loss: 4.86  Valid NDCG: 0.3500\n",
      "Data Preparation: 3.6s\n",
      "Epoch: 144 (137.7s)  LR: 0.00061 Train Loss: 3.99  Valid Loss: 4.85  Valid NDCG: 0.3644\n",
      "Data Preparation: 3.6s\n",
      "Epoch: 145 (155.3s)  LR: 0.00052 Train Loss: 4.05  Valid Loss: 5.00  Valid NDCG: 0.3432\n",
      "0.2933615051188384\n",
      "Data Preparation: 14.3s\n",
      "Epoch: 146 (137.6s)  LR: 0.00042 Train Loss: 4.09  Valid Loss: 4.72  Valid NDCG: 0.3794\n",
      "Data Preparation: 3.6s\n",
      "Epoch: 147 (156.0s)  LR: 0.00033 Train Loss: 4.21  Valid Loss: 4.89  Valid NDCG: 0.3588\n",
      "Data Preparation: 3.4s\n",
      "Epoch: 148 (145.2s)  LR: 0.00024 Train Loss: 4.19  Valid Loss: 4.61  Valid NDCG: 0.3763\n",
      "Data Preparation: 3.5s\n",
      "Epoch: 149 (151.4s)  LR: 0.00016 Train Loss: 4.16  Valid Loss: 4.89  Valid NDCG: 0.3607\n",
      "Data Preparation: 3.7s\n",
      "Epoch: 150 (152.4s)  LR: 0.00010 Train Loss: 4.28  Valid Loss: 4.68  Valid NDCG: 0.3795\n",
      "0.36263456726479243\n",
      "Data Preparation: 12.9s\n",
      "Epoch: 151 (144.6s)  LR: 0.00005 Train Loss: 4.13  Valid Loss: 4.87  Valid NDCG: 0.3526\n",
      "Data Preparation: 3.5s\n",
      "Epoch: 152 (157.1s)  LR: 0.00002 Train Loss: 4.12  Valid Loss: 4.67  Valid NDCG: 0.3753\n",
      "Data Preparation: 3.7s\n",
      "Epoch: 153 (140.9s)  LR: 0.00000 Train Loss: 4.10  Valid Loss: 4.88  Valid NDCG: 0.3496\n",
      "Data Preparation: 3.5s\n",
      "Epoch: 154 (155.2s)  LR: 0.00001 Train Loss: 4.13  Valid Loss: 4.83  Valid NDCG: 0.3516\n",
      "Data Preparation: 3.8s\n",
      "Epoch: 155 (143.5s)  LR: 0.00003 Train Loss: 4.13  Valid Loss: 4.71  Valid NDCG: 0.3692\n",
      "0.28500656148414993\n",
      "Data Preparation: 11.9s\n",
      "Epoch: 156 (151.4s)  LR: 0.00007 Train Loss: 4.24  Valid Loss: 4.98  Valid NDCG: 0.3443\n",
      "Data Preparation: 3.4s\n",
      "Epoch: 157 (151.3s)  LR: 0.00013 Train Loss: 4.12  Valid Loss: 4.95  Valid NDCG: 0.3468\n",
      "Data Preparation: 3.5s\n",
      "Epoch: 158 (141.7s)  LR: 0.00020 Train Loss: 4.23  Valid Loss: 4.70  Valid NDCG: 0.3717\n",
      "Data Preparation: 3.4s\n",
      "Epoch: 159 (154.6s)  LR: 0.00028 Train Loss: 3.94  Valid Loss: 4.65  Valid NDCG: 0.3845\n",
      "Data Preparation: 3.5s\n"
     ]
    },
    {
     "name": "stderr",
     "output_type": "stream",
     "text": [
      "/home/ziniu/anaconda3/lib/python3.7/site-packages/torch/serialization.py:256: UserWarning: Couldn't retrieve source code for container of type GNN. It won't be checked for correctness upon loading.\n",
      "  \"type \" + obj.__name__ + \". It won't be checked \"\n"
     ]
    },
    {
     "name": "stdout",
     "output_type": "stream",
     "text": [
      "Epoch: 160 (141.7s)  LR: 0.00038 Train Loss: 4.11  Valid Loss: 4.68  Valid NDCG: 0.3865\n",
      "0.3319371851237367\n",
      "Data Preparation: 13.3s\n",
      "Epoch: 161 (158.8s)  LR: 0.00047 Train Loss: 4.29  Valid Loss: 4.81  Valid NDCG: 0.3567\n",
      "Data Preparation: 3.4s\n",
      "Epoch: 162 (143.1s)  LR: 0.00057 Train Loss: 4.04  Valid Loss: 4.84  Valid NDCG: 0.3567\n",
      "Data Preparation: 3.6s\n",
      "Epoch: 163 (153.5s)  LR: 0.00066 Train Loss: 4.13  Valid Loss: 4.83  Valid NDCG: 0.3541\n",
      "Data Preparation: 3.6s\n",
      "Epoch: 164 (147.3s)  LR: 0.00075 Train Loss: 3.96  Valid Loss: 4.97  Valid NDCG: 0.3574\n",
      "Data Preparation: 3.6s\n",
      "Epoch: 165 (145.6s)  LR: 0.00083 Train Loss: 4.11  Valid Loss: 4.71  Valid NDCG: 0.3582\n",
      "0.3337900829705448\n",
      "Data Preparation: 14.2s\n",
      "Epoch: 166 (154.9s)  LR: 0.00090 Train Loss: 4.08  Valid Loss: 4.85  Valid NDCG: 0.3607\n",
      "Data Preparation: 3.6s\n",
      "Epoch: 167 (140.6s)  LR: 0.00095 Train Loss: 3.92  Valid Loss: 4.83  Valid NDCG: 0.3546\n",
      "Data Preparation: 3.4s\n",
      "Epoch: 168 (155.4s)  LR: 0.00098 Train Loss: 3.98  Valid Loss: 4.98  Valid NDCG: 0.3602\n",
      "Data Preparation: 3.6s\n",
      "Epoch: 169 (144.1s)  LR: 0.00100 Train Loss: 4.25  Valid Loss: 4.74  Valid NDCG: 0.3750\n",
      "Data Preparation: 3.6s\n",
      "Epoch: 170 (154.0s)  LR: 0.00100 Train Loss: 3.98  Valid Loss: 4.72  Valid NDCG: 0.3506\n",
      "0.33032361390053233\n",
      "Data Preparation: 13.9s\n",
      "Epoch: 171 (142.6s)  LR: 0.00097 Train Loss: 4.04  Valid Loss: 4.81  Valid NDCG: 0.3630\n",
      "Data Preparation: 3.6s\n",
      "Epoch: 172 (151.7s)  LR: 0.00094 Train Loss: 4.21  Valid Loss: 4.68  Valid NDCG: 0.3802\n",
      "Data Preparation: 3.5s\n",
      "Epoch: 173 (154.7s)  LR: 0.00088 Train Loss: 4.19  Valid Loss: 4.92  Valid NDCG: 0.3417\n",
      "Data Preparation: 3.6s\n",
      "Epoch: 174 (146.8s)  LR: 0.00081 Train Loss: 4.04  Valid Loss: 4.78  Valid NDCG: 0.3795\n",
      "Data Preparation: 3.8s\n",
      "Epoch: 175 (154.8s)  LR: 0.00073 Train Loss: 4.18  Valid Loss: 4.71  Valid NDCG: 0.3766\n",
      "0.30760092499377617\n",
      "Data Preparation: 13.8s\n",
      "Epoch: 176 (139.8s)  LR: 0.00064 Train Loss: 3.94  Valid Loss: 4.93  Valid NDCG: 0.3504\n",
      "Data Preparation: 3.6s\n",
      "Epoch: 177 (157.3s)  LR: 0.00054 Train Loss: 4.12  Valid Loss: 5.01  Valid NDCG: 0.3495\n",
      "Data Preparation: 3.6s\n",
      "Epoch: 178 (140.3s)  LR: 0.00044 Train Loss: 4.05  Valid Loss: 4.83  Valid NDCG: 0.3592\n",
      "Data Preparation: 3.8s\n",
      "Epoch: 179 (152.3s)  LR: 0.00035 Train Loss: 3.81  Valid Loss: 4.57  Valid NDCG: 0.3788\n",
      "Data Preparation: 3.6s\n",
      "Epoch: 180 (148.7s)  LR: 0.00026 Train Loss: 4.00  Valid Loss: 4.92  Valid NDCG: 0.3517\n",
      "0.2805868625761789\n",
      "Data Preparation: 12.5s\n",
      "Epoch: 181 (150.7s)  LR: 0.00018 Train Loss: 3.89  Valid Loss: 4.65  Valid NDCG: 0.3719\n",
      "Data Preparation: 3.7s\n",
      "Epoch: 182 (152.0s)  LR: 0.00011 Train Loss: 4.05  Valid Loss: 4.64  Valid NDCG: 0.3836\n",
      "Data Preparation: 3.6s\n",
      "Epoch: 183 (143.0s)  LR: 0.00006 Train Loss: 3.91  Valid Loss: 4.86  Valid NDCG: 0.3688\n",
      "Data Preparation: 3.5s\n",
      "Epoch: 184 (156.0s)  LR: 0.00002 Train Loss: 3.97  Valid Loss: 4.72  Valid NDCG: 0.3792\n",
      "Data Preparation: 3.7s\n",
      "Epoch: 185 (144.2s)  LR: 0.00000 Train Loss: 4.27  Valid Loss: 4.83  Valid NDCG: 0.3652\n",
      "0.32937000382034876\n",
      "Data Preparation: 27.2s\n",
      "Epoch: 186 (157.0s)  LR: 0.00000 Train Loss: 4.21  Valid Loss: 4.74  Valid NDCG: 0.3735\n",
      "Data Preparation: 3.3s\n",
      "Epoch: 187 (139.5s)  LR: 0.00002 Train Loss: 3.85  Valid Loss: 4.71  Valid NDCG: 0.3807\n",
      "Data Preparation: 3.5s\n",
      "Epoch: 188 (154.3s)  LR: 0.00006 Train Loss: 4.03  Valid Loss: 4.89  Valid NDCG: 0.3671\n",
      "Data Preparation: 3.8s\n",
      "Epoch: 189 (146.9s)  LR: 0.00011 Train Loss: 4.03  Valid Loss: 4.74  Valid NDCG: 0.3661\n",
      "Data Preparation: 3.3s\n",
      "Epoch: 190 (147.3s)  LR: 0.00018 Train Loss: 3.91  Valid Loss: 4.65  Valid NDCG: 0.3841\n",
      "0.30100479869198404\n",
      "Data Preparation: 13.1s\n"
     ]
    },
    {
     "name": "stderr",
     "output_type": "stream",
     "text": [
      "/home/ziniu/anaconda3/lib/python3.7/site-packages/torch/serialization.py:256: UserWarning: Couldn't retrieve source code for container of type GNN. It won't be checked for correctness upon loading.\n",
      "  \"type \" + obj.__name__ + \". It won't be checked \"\n"
     ]
    },
    {
     "name": "stdout",
     "output_type": "stream",
     "text": [
      "Epoch: 191 (154.1s)  LR: 0.00026 Train Loss: 4.23  Valid Loss: 4.63  Valid NDCG: 0.3902\n",
      "Data Preparation: 3.4s\n",
      "Epoch: 192 (142.7s)  LR: 0.00035 Train Loss: 4.08  Valid Loss: 4.81  Valid NDCG: 0.3600\n",
      "Data Preparation: 3.8s\n",
      "Epoch: 193 (158.0s)  LR: 0.00045 Train Loss: 4.07  Valid Loss: 4.82  Valid NDCG: 0.3826\n",
      "Data Preparation: 3.5s\n",
      "Epoch: 194 (141.2s)  LR: 0.00054 Train Loss: 3.99  Valid Loss: 4.88  Valid NDCG: 0.3453\n",
      "Data Preparation: 3.3s\n",
      "Epoch: 195 (152.6s)  LR: 0.00064 Train Loss: 4.07  Valid Loss: 4.62  Valid NDCG: 0.3766\n",
      "0.3184646946622827\n",
      "Data Preparation: 12.9s\n",
      "Epoch: 196 (145.5s)  LR: 0.00073 Train Loss: 3.98  Valid Loss: 4.74  Valid NDCG: 0.3643\n",
      "Data Preparation: 3.3s\n",
      "Epoch: 197 (152.3s)  LR: 0.00081 Train Loss: 4.12  Valid Loss: 4.64  Valid NDCG: 0.3887\n",
      "Data Preparation: 3.6s\n",
      "Epoch: 198 (149.7s)  LR: 0.00088 Train Loss: 4.19  Valid Loss: 4.95  Valid NDCG: 0.3423\n",
      "Data Preparation: 3.6s\n",
      "Epoch: 199 (147.4s)  LR: 0.00094 Train Loss: 4.10  Valid Loss: 4.77  Valid NDCG: 0.3584\n",
      "Data Preparation: 3.6s\n",
      "Epoch: 200 (155.2s)  LR: 0.00098 Train Loss: 4.16  Valid Loss: 4.98  Valid NDCG: 0.3585\n",
      "0.29801633952582024\n"
     ]
    }
   ],
   "source": [
    "stats = []\n",
    "pool = mp.Pool(4)\n",
    "process_ids = np.arange(batch_num // 4)\n",
    "st = time.time()\n",
    "jobs = prepare_data(pool, process_ids)\n",
    "train_step = 1500\n",
    "best_val   = 0\n",
    "res = []\n",
    "criterion = nn.KLDivLoss(reduction='batchmean')\n",
    "for epoch in np.arange(epoch_num)+1:\n",
    "    '''\n",
    "        Prepare Training and Validation Data\n",
    "    '''\n",
    "    train_data = [job.get() for job in jobs[:-1]]\n",
    "    valid_data = jobs[-1].get()\n",
    "    pool.close()\n",
    "    pool.join()\n",
    "    pool = mp.Pool(4)\n",
    "    jobs = prepare_data(pool, process_ids)\n",
    "    et = time.time()\n",
    "    print('Data Preparation: %.1fs' % (et - st))\n",
    "    \n",
    "    model.train()\n",
    "    train_losses = []\n",
    "    torch.cuda.empty_cache()\n",
    "    for batch in np.arange(2):\n",
    "        for node_feature, node_type, edge_time, edge_index, edge_type, field_ids, paper_ids, ylabel in train_data:\n",
    "            node_rep = gnn.forward(node_feature.to(device), node_type.to(device), \\\n",
    "                                   edge_time.to(device), edge_index.to(device), edge_type.to(device))\n",
    "            res  = classifier.forward(node_rep[paper_ids])\n",
    "            loss = criterion(res, ylabel.to(device))\n",
    "            optimizer.zero_grad() \n",
    "            torch.cuda.empty_cache()\n",
    "            loss.backward()\n",
    "            \n",
    "            torch.nn.utils.clip_grad_norm_(model.parameters(), 0.2)\n",
    "            optimizer.step()\n",
    "            train_losses += [loss.cpu().detach().tolist()]\n",
    "            train_step += 1\n",
    "            scheduler.step(train_step)\n",
    "            del res, loss\n",
    "    '''\n",
    "        Valid\n",
    "    '''\n",
    "    model.eval()\n",
    "    with torch.no_grad():\n",
    "        node_feature, node_type, edge_time, edge_index, edge_type, field_ids, paper_ids, ylabel = valid_data\n",
    "        node_rep = gnn.forward(node_feature.to(device), node_type.to(device), \\\n",
    "                                   edge_time.to(device), edge_index.to(device), edge_type.to(device))\n",
    "        res  = classifier.forward(node_rep[paper_ids])\n",
    "        loss = criterion(res, ylabel.to(device))\n",
    "        valid_res = []\n",
    "\n",
    "        for ai, bi in zip(ylabel, res.argsort(descending = True)):\n",
    "            valid_res += [ai[bi].tolist()]\n",
    "        valid_ndcg = np.average([ndcg_at_k(resi, len(resi)) for resi in valid_res])\n",
    "        if valid_ndcg > best_val:\n",
    "            best_val = valid_ndcg\n",
    "            torch.save(model, './save/rgt_2.pt')\n",
    "        st = time.time()\n",
    "        print((\"Epoch: %d (%.1fs)  LR: %.5f Train Loss: %.2f  Valid Loss: %.2f  Valid NDCG: %.4f\") % \\\n",
    "              (epoch, (st-et), optimizer.param_groups[0]['lr'], np.average(train_losses), loss.cpu().detach().tolist(),\\\n",
    "              valid_ndcg))\n",
    "        stats += [[np.average(train_losses), loss.cpu().detach().tolist()]]\n",
    "        del res, loss\n",
    "        if epoch % 5 == 0:\n",
    "            '''\n",
    "                Test\n",
    "            '''\n",
    "            _time = np.random.choice(list(test_papers.keys()))\n",
    "            node_feature, node_type, edge_time, edge_index, edge_type, field_ids, paper_ids, ylabel = pf_sample(np.random.randint(2 ** 32 - 1), test_papers, \\\n",
    "                                                           test_pairs, test_range, batch_size, test=True)\n",
    "            paper_rep = gnn.forward(node_feature.to(device), node_type.to(device), \\\n",
    "                      edge_time.to(device), edge_index.to(device), edge_type.to(device))[paper_ids]\n",
    "            res  = classifier.forward(paper_rep)\n",
    "            test_res = []\n",
    "            for ai, bi in zip(ylabel, res.argsort(descending = True)):\n",
    "                test_res += [ai[bi].tolist()]\n",
    "            test_ndcg = np.average([ndcg_at_k(resi, len(resi)) for resi in test_res])\n",
    "            print(test_ndcg)\n",
    "            del res\n",
    "    del train_data, valid_data"
   ]
  },
  {
   "cell_type": "code",
   "execution_count": null,
   "metadata": {},
   "outputs": [],
   "source": []
  },
  {
   "cell_type": "code",
   "execution_count": 10,
   "metadata": {},
   "outputs": [
    {
     "data": {
      "image/png": "[encoded data removed]",
      "text/plain": [
       "<Figure size 432x288 with 1 Axes>"
      ]
     },
     "metadata": {
      "needs_background": "light"
     },
     "output_type": "display_data"
    }
   ],
   "source": [
    "stats = np.array(stats)\n",
    "plt.plot(stats[:,0])\n",
    "plt.plot(stats[:,1])\n",
    "plt.show()"
   ]
  },
  {
   "cell_type": "code",
   "execution_count": null,
   "metadata": {},
   "outputs": [],
   "source": []
  },
  {
   "cell_type": "code",
   "execution_count": 11,
   "metadata": {
    "scrolled": true
   },
   "outputs": [
    {
     "name": "stdout",
     "output_type": "stream",
     "text": [
      "0.3206365488774218 0.026781741383400094\n",
      "0.3077314998810093 0.12804626011727066\n"
     ]
    }
   ],
   "source": [
    "model.eval()\n",
    "gnn, classifier = model\n",
    "with torch.no_grad():\n",
    "    test_res = []\n",
    "    for _ in range(10):\n",
    "        _time = np.random.choice(list(test_papers.keys()))\n",
    "        node_feature, node_type, edge_time, edge_index, edge_type, field_ids, paper_ids, ylabel = pf_sample(np.random.randint(2 ** 32 - 1), test_papers, \\\n",
    "                                                       test_pairs, test_range, batch_size, test=True)\n",
    "        paper_rep = gnn.forward(node_feature.to(device), node_type.to(device), \\\n",
    "                      edge_time.to(device), edge_index.to(device), edge_type.to(device))[paper_ids]\n",
    "        res = classifier.forward(paper_rep)\n",
    "        for ai, bi in zip(ylabel, res.argsort(descending = True)):\n",
    "            test_res += [ai[bi].tolist()]\n",
    "    test_ndcg = [ndcg_at_k(resi, len(resi)) for resi in test_res]\n",
    "    print(np.average(test_ndcg), np.var(test_ndcg))\n",
    "    test_mrr = mean_reciprocal_rank(test_res)\n",
    "    print(np.average(test_mrr), np.var(test_mrr))"
   ]
  },
  {
   "cell_type": "code",
   "execution_count": 14,
   "metadata": {},
   "outputs": [],
   "source": [
    "best_model = torch.load('./save/rgt_2.pt')"
   ]
  },
  {
   "cell_type": "code",
   "execution_count": 15,
   "metadata": {},
   "outputs": [
    {
     "name": "stdout",
     "output_type": "stream",
     "text": [
      "0.30417195652757817 0.02610011738155658\n",
      "0.30119136963691334 0.13802594600203896\n"
     ]
    }
   ],
   "source": [
    "best_model.eval()\n",
    "gnn, classifier = best_model\n",
    "with torch.no_grad():\n",
    "    test_res = []\n",
    "    for _ in range(10):\n",
    "        _time = np.random.choice(list(test_papers.keys()))\n",
    "        node_feature, node_type, edge_time, edge_index, edge_type, field_ids, paper_ids, ylabel = pf_sample(np.random.randint(2 ** 32 - 1), test_papers, \\\n",
    "                                                       test_pairs, test_range, batch_size, test=True)\n",
    "        paper_rep = gnn.forward(node_feature.to(device), node_type.to(device), \\\n",
    "                      edge_time.to(device), edge_index.to(device), edge_type.to(device))[paper_ids]\n",
    "        res = classifier.forward(paper_rep)\n",
    "        for ai, bi in zip(ylabel, res.argsort(descending = True)):\n",
    "            test_res += [ai[bi].tolist()]\n",
    "    test_ndcg = [ndcg_at_k(resi, len(resi)) for resi in test_res]\n",
    "    print(np.average(test_ndcg), np.var(test_ndcg))\n",
    "    test_mrr = mean_reciprocal_rank(test_res)\n",
    "    print(np.average(test_mrr), np.var(test_mrr))"
   ]
  }
 ],
 "metadata": {
  "kernelspec": {
   "display_name": "Python 3",
   "language": "python",
   "name": "python3"
  },
  "language_info": {
   "codemirror_mode": {
    "name": "ipython",
    "version": 3
   },
   "file_extension": ".py",
   "mimetype": "text/x-python",
   "name": "python",
   "nbconvert_exporter": "python",
   "pygments_lexer": "ipython3",
   "version": "3.7.3"
  }
 },
 "nbformat": 4,
 "nbformat_minor": 2
}
