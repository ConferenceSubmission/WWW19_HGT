{
 "cells": [
  {
   "cell_type": "code",
   "execution_count": 1,
   "metadata": {},
   "outputs": [],
   "source": [
    "import sys\n",
    "sys.path.append('../')\n",
    "from utils import *\n",
    "from model import *"
   ]
  },
  {
   "cell_type": "code",
   "execution_count": 2,
   "metadata": {},
   "outputs": [],
   "source": [
    "data_dir = '/datadrive/data_cs/'\n",
    "batch_size = 256\n",
    "batch_num  = 128\n",
    "epoch_num  = 100\n",
    "samp_num   = 7\n",
    "\n",
    "device = torch.device(\"cuda:3\")\n",
    "graph = dill.load(open(data_dir + 'graph.pk', 'rb'))"
   ]
  },
  {
   "cell_type": "code",
   "execution_count": 3,
   "metadata": {},
   "outputs": [],
   "source": [
    "train_range = {t: True for t in graph.times if t != None and t < 2015}\n",
    "valid_range = {t: True for t in graph.times if t != None and t >= 2015  and t <= 2016}\n",
    "test_range  = {t: True for t in graph.times if t != None and t > 2016}"
   ]
  },
  {
   "cell_type": "code",
   "execution_count": 4,
   "metadata": {},
   "outputs": [],
   "source": [
    "def pf_sample(seed, papers, pairs, t_range, batch_size, test = False):\n",
    "    np.random.seed(seed)\n",
    "    _time = np.random.choice(list(papers.keys()))\n",
    "    sampn = min(len(papers[_time]), batch_size)\n",
    "    pids = np.array(papers[_time])[np.random.choice(len(papers[_time]), sampn, replace = False)]\n",
    "    fids = []\n",
    "    edge = defaultdict(lambda: {})\n",
    "    for x_id, p_id in enumerate(pids):\n",
    "        f_ids = pairs[p_id]\n",
    "        for f_id in f_ids:\n",
    "            if f_id not in fids:\n",
    "                fids += [f_id]\n",
    "    pids = np.stack([pids, np.repeat([_time], sampn)]).T\n",
    "    fids = np.stack([fids, np.repeat([_time], len(fids))]).T\n",
    " \n",
    "    feature, times, edge_list, _, _ = sample_subgraph(graph, t_range, \\\n",
    "                inp = {'paper': pids, 'field': fids}, sampled_depth = 4, sampled_number = 100)\n",
    "\n",
    "    el = []\n",
    "    for i in edge_list['paper']['field']['rev_PF_in_L2']:\n",
    "        if i[0] < len(pids):\n",
    "            continue\n",
    "        el += [i]\n",
    "    edge_list['paper']['field']['rev_PF_in_L2'] = el\n",
    "\n",
    "    el = []\n",
    "    for i in edge_list['field']['paper']['PF_in_L2']:\n",
    "        if i[1] < len(pids):\n",
    "            continue\n",
    "        el += [i]\n",
    "    edge_list['field']['paper']['PF_in_L2'] = el\n",
    "    \n",
    "    \n",
    "    node_feature, node_type, edge_time, edge_index, edge_type, node_dict, edge_dict = \\\n",
    "            to_torch(feature, times, edge_list, graph)\n",
    "    '''\n",
    "        Trace the paper_id and field_id by its own index plus the type start index\n",
    "    '''\n",
    "    paper_ids = np.arange(len(pids)) + node_dict['paper'][0]\n",
    "    field_ids = np.arange(len(fids)) + node_dict['field'][0]\n",
    "    ylabel = torch.zeros(sampn, len(cand_list))\n",
    "    for x_id, p_id in enumerate(pids[:,0]):\n",
    "        for f_id in pairs[p_id]:\n",
    "            ylabel[x_id][cand_list.index(f_id)] = 1\n",
    "    ylabel /= ylabel.sum(axis=1).view(-1, 1)\n",
    "    return node_feature, node_type, edge_time, edge_index, edge_type, field_ids, paper_ids, ylabel\n",
    "    \n",
    "def prepare_data(pool, process_ids, train_papers, valid_papers):\n",
    "    jobs = []\n",
    "    for process_id in process_ids[:-1]:\n",
    "        p = pool.apply_async(pf_sample, args=(np.random.randint(2**32 - 1), train_papers, \\\n",
    "                                               train_pairs, train_range, batch_size))\n",
    "        jobs.append(p)\n",
    "    p = pool.apply_async(pf_sample, args=(np.random.randint(2**32 - 1), valid_papers, \\\n",
    "                                           valid_pairs, valid_range, batch_size))\n",
    "    jobs.append(p)\n",
    "    return jobs"
   ]
  },
  {
   "cell_type": "code",
   "execution_count": 5,
   "metadata": {},
   "outputs": [],
   "source": [
    "class GNN(nn.Module):\n",
    "    def __init__(self, in_dim, n_hid, num_types, num_relations, n_heads, n_layers, dropout = 0.3):\n",
    "        super(GNN, self).__init__()\n",
    "        self.gcs = nn.ModuleList()\n",
    "        self.num_types = num_types\n",
    "        self.in_dim    = in_dim\n",
    "        self.n_hid     = n_hid\n",
    "        self.aggregat_ws   = nn.ModuleList()\n",
    "        self.drop          = nn.Dropout(dropout)\n",
    "        for t in range(num_types):\n",
    "            self.aggregat_ws.append(nn.Linear(in_dim, n_hid))\n",
    "        for l in range(n_layers):\n",
    "            self.gcs.append(RAGCNConv(n_hid, n_hid, num_types, num_relations, n_heads, dropout))\n",
    "    def set_device(self, device):\n",
    "        self.device = device\n",
    "        for gc in self.gcs:\n",
    "            gc.device = device\n",
    "    def forward(self, node_feature, node_type, edge_time, edge_index, edge_type):\n",
    "        res = torch.zeros(node_feature.size(0), self.n_hid).to(node_feature.device)\n",
    "        for t_id in range(self.num_types):\n",
    "            aggregat_w = self.aggregat_ws[t_id]\n",
    "            idx = (node_type == t_id)\n",
    "            if idx.sum() == 0:\n",
    "                continue\n",
    "            res[idx] = torch.tanh(aggregat_w(node_feature[idx]))\n",
    "        meta_xs = self.drop(res)\n",
    "        del res\n",
    "        for gc in self.gcs:\n",
    "            meta_xs = gc(meta_xs, node_type, edge_index, edge_type, edge_time)\n",
    "        return meta_xs"
   ]
  },
  {
   "cell_type": "code",
   "execution_count": 6,
   "metadata": {},
   "outputs": [],
   "source": [
    "'''\n",
    "Paper-Field\n",
    "'''\n",
    "paper_ser = {}\n",
    "\n",
    "train_pairs = {}\n",
    "valid_pairs = {}\n",
    "test_pairs  = {}\n",
    "\n",
    "train_papers = {_time: {} for _time in train_range}\n",
    "valid_papers = {_time: {} for _time in valid_range}\n",
    "test_papers  = {_time: {} for _time in test_range}\n",
    "\n",
    "for f_id in graph.edge_list['field']['paper']['PF_in_L2']:\n",
    "    for p_id in graph.edge_list['field']['paper']['PF_in_L2'][f_id]:\n",
    "        _time = graph.edge_list['field']['paper']['PF_in_L2'][f_id][p_id]\n",
    "        if _time in train_range:\n",
    "            if p_id not in train_pairs:\n",
    "                train_pairs[p_id] = []\n",
    "            train_pairs[p_id] += [f_id]\n",
    "            train_papers[_time][p_id] = True\n",
    "        elif _time in valid_range:\n",
    "            if p_id not in valid_pairs:\n",
    "                valid_pairs[p_id] = []\n",
    "            valid_pairs[p_id] += [f_id]\n",
    "            valid_papers[_time][p_id] = True\n",
    "        else:\n",
    "            if p_id not in test_pairs:\n",
    "                test_pairs[p_id] = []\n",
    "            test_pairs[p_id] += [f_id]\n",
    "            test_papers[_time][p_id] = True\n",
    "for _time in list(train_papers.keys()):\n",
    "    if len(train_papers[_time]) < batch_size // 2:\n",
    "        train_papers.pop(_time)\n",
    "    else:\n",
    "        train_papers[_time] = np.array(list(train_papers[_time].keys()))\n",
    "for _time in list(valid_papers.keys()):\n",
    "    if len(valid_papers[_time]) < batch_size // 2:\n",
    "        valid_papers.pop(_time)\n",
    "    else:\n",
    "        valid_papers[_time] = np.array(list(valid_papers[_time].keys()))\n",
    "for _time in list(test_papers.keys()):\n",
    "    if len(test_papers[_time]) < batch_size // 2:\n",
    "        test_papers.pop(_time)\n",
    "    else:\n",
    "        test_papers[_time] = np.array(list(test_papers[_time].keys()))"
   ]
  },
  {
   "cell_type": "code",
   "execution_count": 7,
   "metadata": {},
   "outputs": [],
   "source": [
    "types = graph.get_types()\n",
    "cand_list = list(graph.edge_list['field']['paper']['PF_in_L2'])\n",
    "gnn = GNN(in_dim = len(graph.node_feature['paper']['emb'][0]) + 401, n_hid = 256, num_types = len(types), \\\n",
    "          num_relations = len(graph.get_meta_graph()) + 1, n_heads = 8, n_layers = 4).to(device)\n",
    "gnn = torch.load('../pre-train/save/mt_model.pt').to(device)\n",
    "classifier = Classifier(256, len(cand_list)).to(device)\n",
    "model = nn.Sequential(gnn, classifier)\n",
    "optimizer = torch.optim.AdamW(model.parameters())\n",
    "scheduler = torch.optim.lr_scheduler.CosineAnnealingLR(optimizer, 1000, eta_min=1e-6)"
   ]
  },
  {
   "cell_type": "code",
   "execution_count": 8,
   "metadata": {},
   "outputs": [],
   "source": [
    "sel_train_papers = {}\n",
    "for _time in train_papers:\n",
    "    pid = train_papers[_time]\n",
    "    pid = pid[np.random.choice(np.arange(len(pid)), len(pid) // 10, replace=False)]\n",
    "    if len(pid) >= batch_size // 2:\n",
    "        sel_train_papers[_time] = pid"
   ]
  },
  {
   "cell_type": "code",
   "execution_count": 9,
   "metadata": {
    "scrolled": false
   },
   "outputs": [
    {
     "name": "stdout",
     "output_type": "stream",
     "text": [
      "Data Preparation: 96.0s\n"
     ]
    },
    {
     "name": "stderr",
     "output_type": "stream",
     "text": [
      "/home/ziniu/anaconda3/lib/python3.7/site-packages/torch/serialization.py:292: UserWarning: Couldn't retrieve source code for container of type Sequential. It won't be checked for correctness upon loading.\n",
      "  \"type \" + obj.__name__ + \". It won't be checked \"\n",
      "/home/ziniu/anaconda3/lib/python3.7/site-packages/torch/serialization.py:292: UserWarning: Couldn't retrieve source code for container of type GNN. It won't be checked for correctness upon loading.\n",
      "  \"type \" + obj.__name__ + \". It won't be checked \"\n",
      "/home/ziniu/anaconda3/lib/python3.7/site-packages/torch/serialization.py:292: UserWarning: Couldn't retrieve source code for container of type ModuleList. It won't be checked for correctness upon loading.\n",
      "  \"type \" + obj.__name__ + \". It won't be checked \"\n",
      "/home/ziniu/anaconda3/lib/python3.7/site-packages/torch/serialization.py:292: UserWarning: Couldn't retrieve source code for container of type RAGCNConv. It won't be checked for correctness upon loading.\n",
      "  \"type \" + obj.__name__ + \". It won't be checked \"\n",
      "/home/ziniu/anaconda3/lib/python3.7/site-packages/torch/serialization.py:292: UserWarning: Couldn't retrieve source code for container of type Linear. It won't be checked for correctness upon loading.\n",
      "  \"type \" + obj.__name__ + \". It won't be checked \"\n",
      "/home/ziniu/anaconda3/lib/python3.7/site-packages/torch/serialization.py:292: UserWarning: Couldn't retrieve source code for container of type BatchNorm. It won't be checked for correctness upon loading.\n",
      "  \"type \" + obj.__name__ + \". It won't be checked \"\n",
      "/home/ziniu/anaconda3/lib/python3.7/site-packages/torch/serialization.py:292: UserWarning: Couldn't retrieve source code for container of type Dropout. It won't be checked for correctness upon loading.\n",
      "  \"type \" + obj.__name__ + \". It won't be checked \"\n",
      "/home/ziniu/anaconda3/lib/python3.7/site-packages/torch/serialization.py:292: UserWarning: Couldn't retrieve source code for container of type RelTemporalEncoding. It won't be checked for correctness upon loading.\n",
      "  \"type \" + obj.__name__ + \". It won't be checked \"\n",
      "/home/ziniu/anaconda3/lib/python3.7/site-packages/torch/serialization.py:292: UserWarning: Couldn't retrieve source code for container of type Embedding. It won't be checked for correctness upon loading.\n",
      "  \"type \" + obj.__name__ + \". It won't be checked \"\n",
      "/home/ziniu/anaconda3/lib/python3.7/site-packages/torch/serialization.py:292: UserWarning: Couldn't retrieve source code for container of type Classifier. It won't be checked for correctness upon loading.\n",
      "  \"type \" + obj.__name__ + \". It won't be checked \"\n"
     ]
    },
    {
     "name": "stdout",
     "output_type": "stream",
     "text": [
      "Epoch: 1 (180.9s)  LR: 0.00060 Train Loss: 7.39  Valid Loss: 6.42  Valid NDCG: 0.2180\n",
      "Data Preparation: 2.5s\n",
      "Epoch: 2 (174.9s)  LR: 0.00069 Train Loss: 6.20  Valid Loss: 6.28  Valid NDCG: 0.2156\n",
      "Data Preparation: 2.8s\n",
      "Epoch: 3 (177.8s)  LR: 0.00078 Train Loss: 5.90  Valid Loss: 6.47  Valid NDCG: 0.2067\n",
      "Data Preparation: 2.5s\n"
     ]
    },
    {
     "name": "stderr",
     "output_type": "stream",
     "text": [
      "/home/ziniu/anaconda3/lib/python3.7/site-packages/torch/serialization.py:292: UserWarning: Couldn't retrieve source code for container of type Sequential. It won't be checked for correctness upon loading.\n",
      "  \"type \" + obj.__name__ + \". It won't be checked \"\n",
      "/home/ziniu/anaconda3/lib/python3.7/site-packages/torch/serialization.py:292: UserWarning: Couldn't retrieve source code for container of type GNN. It won't be checked for correctness upon loading.\n",
      "  \"type \" + obj.__name__ + \". It won't be checked \"\n",
      "/home/ziniu/anaconda3/lib/python3.7/site-packages/torch/serialization.py:292: UserWarning: Couldn't retrieve source code for container of type ModuleList. It won't be checked for correctness upon loading.\n",
      "  \"type \" + obj.__name__ + \". It won't be checked \"\n",
      "/home/ziniu/anaconda3/lib/python3.7/site-packages/torch/serialization.py:292: UserWarning: Couldn't retrieve source code for container of type RAGCNConv. It won't be checked for correctness upon loading.\n",
      "  \"type \" + obj.__name__ + \". It won't be checked \"\n",
      "/home/ziniu/anaconda3/lib/python3.7/site-packages/torch/serialization.py:292: UserWarning: Couldn't retrieve source code for container of type Linear. It won't be checked for correctness upon loading.\n",
      "  \"type \" + obj.__name__ + \". It won't be checked \"\n",
      "/home/ziniu/anaconda3/lib/python3.7/site-packages/torch/serialization.py:292: UserWarning: Couldn't retrieve source code for container of type BatchNorm. It won't be checked for correctness upon loading.\n",
      "  \"type \" + obj.__name__ + \". It won't be checked \"\n",
      "/home/ziniu/anaconda3/lib/python3.7/site-packages/torch/serialization.py:292: UserWarning: Couldn't retrieve source code for container of type Dropout. It won't be checked for correctness upon loading.\n",
      "  \"type \" + obj.__name__ + \". It won't be checked \"\n",
      "/home/ziniu/anaconda3/lib/python3.7/site-packages/torch/serialization.py:292: UserWarning: Couldn't retrieve source code for container of type RelTemporalEncoding. It won't be checked for correctness upon loading.\n",
      "  \"type \" + obj.__name__ + \". It won't be checked \"\n",
      "/home/ziniu/anaconda3/lib/python3.7/site-packages/torch/serialization.py:292: UserWarning: Couldn't retrieve source code for container of type Embedding. It won't be checked for correctness upon loading.\n",
      "  \"type \" + obj.__name__ + \". It won't be checked \"\n",
      "/home/ziniu/anaconda3/lib/python3.7/site-packages/torch/serialization.py:292: UserWarning: Couldn't retrieve source code for container of type Classifier. It won't be checked for correctness upon loading.\n",
      "  \"type \" + obj.__name__ + \". It won't be checked \"\n"
     ]
    },
    {
     "name": "stdout",
     "output_type": "stream",
     "text": [
      "Epoch: 4 (172.9s)  LR: 0.00085 Train Loss: 5.92  Valid Loss: 6.21  Valid NDCG: 0.2348\n",
      "Data Preparation: 2.5s\n"
     ]
    },
    {
     "name": "stderr",
     "output_type": "stream",
     "text": [
      "/home/ziniu/anaconda3/lib/python3.7/site-packages/torch/serialization.py:292: UserWarning: Couldn't retrieve source code for container of type Sequential. It won't be checked for correctness upon loading.\n",
      "  \"type \" + obj.__name__ + \". It won't be checked \"\n",
      "/home/ziniu/anaconda3/lib/python3.7/site-packages/torch/serialization.py:292: UserWarning: Couldn't retrieve source code for container of type GNN. It won't be checked for correctness upon loading.\n",
      "  \"type \" + obj.__name__ + \". It won't be checked \"\n",
      "/home/ziniu/anaconda3/lib/python3.7/site-packages/torch/serialization.py:292: UserWarning: Couldn't retrieve source code for container of type ModuleList. It won't be checked for correctness upon loading.\n",
      "  \"type \" + obj.__name__ + \". It won't be checked \"\n",
      "/home/ziniu/anaconda3/lib/python3.7/site-packages/torch/serialization.py:292: UserWarning: Couldn't retrieve source code for container of type RAGCNConv. It won't be checked for correctness upon loading.\n",
      "  \"type \" + obj.__name__ + \". It won't be checked \"\n",
      "/home/ziniu/anaconda3/lib/python3.7/site-packages/torch/serialization.py:292: UserWarning: Couldn't retrieve source code for container of type Linear. It won't be checked for correctness upon loading.\n",
      "  \"type \" + obj.__name__ + \". It won't be checked \"\n",
      "/home/ziniu/anaconda3/lib/python3.7/site-packages/torch/serialization.py:292: UserWarning: Couldn't retrieve source code for container of type BatchNorm. It won't be checked for correctness upon loading.\n",
      "  \"type \" + obj.__name__ + \". It won't be checked \"\n",
      "/home/ziniu/anaconda3/lib/python3.7/site-packages/torch/serialization.py:292: UserWarning: Couldn't retrieve source code for container of type Dropout. It won't be checked for correctness upon loading.\n",
      "  \"type \" + obj.__name__ + \". It won't be checked \"\n",
      "/home/ziniu/anaconda3/lib/python3.7/site-packages/torch/serialization.py:292: UserWarning: Couldn't retrieve source code for container of type RelTemporalEncoding. It won't be checked for correctness upon loading.\n",
      "  \"type \" + obj.__name__ + \". It won't be checked \"\n",
      "/home/ziniu/anaconda3/lib/python3.7/site-packages/torch/serialization.py:292: UserWarning: Couldn't retrieve source code for container of type Embedding. It won't be checked for correctness upon loading.\n",
      "  \"type \" + obj.__name__ + \". It won't be checked \"\n",
      "/home/ziniu/anaconda3/lib/python3.7/site-packages/torch/serialization.py:292: UserWarning: Couldn't retrieve source code for container of type Classifier. It won't be checked for correctness upon loading.\n",
      "  \"type \" + obj.__name__ + \". It won't be checked \"\n"
     ]
    },
    {
     "name": "stdout",
     "output_type": "stream",
     "text": [
      "Epoch: 5 (177.2s)  LR: 0.00091 Train Loss: 5.82  Valid Loss: 6.11  Valid NDCG: 0.2387\n",
      "0.22749527090132407\n",
      "Data Preparation: 8.7s\n",
      "Epoch: 6 (172.8s)  LR: 0.00096 Train Loss: 5.73  Valid Loss: 6.09  Valid NDCG: 0.2162\n",
      "Data Preparation: 2.6s\n",
      "Epoch: 7 (174.5s)  LR: 0.00099 Train Loss: 5.69  Valid Loss: 6.02  Valid NDCG: 0.2334\n",
      "Data Preparation: 2.7s\n",
      "Epoch: 8 (179.3s)  LR: 0.00100 Train Loss: 5.71  Valid Loss: 6.27  Valid NDCG: 0.2155\n",
      "Data Preparation: 2.8s\n"
     ]
    },
    {
     "name": "stderr",
     "output_type": "stream",
     "text": [
      "/home/ziniu/anaconda3/lib/python3.7/site-packages/torch/serialization.py:292: UserWarning: Couldn't retrieve source code for container of type Sequential. It won't be checked for correctness upon loading.\n",
      "  \"type \" + obj.__name__ + \". It won't be checked \"\n",
      "/home/ziniu/anaconda3/lib/python3.7/site-packages/torch/serialization.py:292: UserWarning: Couldn't retrieve source code for container of type GNN. It won't be checked for correctness upon loading.\n",
      "  \"type \" + obj.__name__ + \". It won't be checked \"\n",
      "/home/ziniu/anaconda3/lib/python3.7/site-packages/torch/serialization.py:292: UserWarning: Couldn't retrieve source code for container of type ModuleList. It won't be checked for correctness upon loading.\n",
      "  \"type \" + obj.__name__ + \". It won't be checked \"\n",
      "/home/ziniu/anaconda3/lib/python3.7/site-packages/torch/serialization.py:292: UserWarning: Couldn't retrieve source code for container of type RAGCNConv. It won't be checked for correctness upon loading.\n",
      "  \"type \" + obj.__name__ + \". It won't be checked \"\n",
      "/home/ziniu/anaconda3/lib/python3.7/site-packages/torch/serialization.py:292: UserWarning: Couldn't retrieve source code for container of type Linear. It won't be checked for correctness upon loading.\n",
      "  \"type \" + obj.__name__ + \". It won't be checked \"\n",
      "/home/ziniu/anaconda3/lib/python3.7/site-packages/torch/serialization.py:292: UserWarning: Couldn't retrieve source code for container of type BatchNorm. It won't be checked for correctness upon loading.\n",
      "  \"type \" + obj.__name__ + \". It won't be checked \"\n",
      "/home/ziniu/anaconda3/lib/python3.7/site-packages/torch/serialization.py:292: UserWarning: Couldn't retrieve source code for container of type Dropout. It won't be checked for correctness upon loading.\n",
      "  \"type \" + obj.__name__ + \". It won't be checked \"\n",
      "/home/ziniu/anaconda3/lib/python3.7/site-packages/torch/serialization.py:292: UserWarning: Couldn't retrieve source code for container of type RelTemporalEncoding. It won't be checked for correctness upon loading.\n",
      "  \"type \" + obj.__name__ + \". It won't be checked \"\n",
      "/home/ziniu/anaconda3/lib/python3.7/site-packages/torch/serialization.py:292: UserWarning: Couldn't retrieve source code for container of type Embedding. It won't be checked for correctness upon loading.\n",
      "  \"type \" + obj.__name__ + \". It won't be checked \"\n",
      "/home/ziniu/anaconda3/lib/python3.7/site-packages/torch/serialization.py:292: UserWarning: Couldn't retrieve source code for container of type Classifier. It won't be checked for correctness upon loading.\n",
      "  \"type \" + obj.__name__ + \". It won't be checked \"\n"
     ]
    },
    {
     "name": "stdout",
     "output_type": "stream",
     "text": [
      "Epoch: 9 (172.5s)  LR: 0.00099 Train Loss: 5.70  Valid Loss: 6.01  Valid NDCG: 0.2395\n",
      "Data Preparation: 2.6s\n"
     ]
    },
    {
     "name": "stderr",
     "output_type": "stream",
     "text": [
      "/home/ziniu/anaconda3/lib/python3.7/site-packages/torch/serialization.py:292: UserWarning: Couldn't retrieve source code for container of type Sequential. It won't be checked for correctness upon loading.\n",
      "  \"type \" + obj.__name__ + \". It won't be checked \"\n",
      "/home/ziniu/anaconda3/lib/python3.7/site-packages/torch/serialization.py:292: UserWarning: Couldn't retrieve source code for container of type GNN. It won't be checked for correctness upon loading.\n",
      "  \"type \" + obj.__name__ + \". It won't be checked \"\n",
      "/home/ziniu/anaconda3/lib/python3.7/site-packages/torch/serialization.py:292: UserWarning: Couldn't retrieve source code for container of type ModuleList. It won't be checked for correctness upon loading.\n",
      "  \"type \" + obj.__name__ + \". It won't be checked \"\n",
      "/home/ziniu/anaconda3/lib/python3.7/site-packages/torch/serialization.py:292: UserWarning: Couldn't retrieve source code for container of type RAGCNConv. It won't be checked for correctness upon loading.\n",
      "  \"type \" + obj.__name__ + \". It won't be checked \"\n",
      "/home/ziniu/anaconda3/lib/python3.7/site-packages/torch/serialization.py:292: UserWarning: Couldn't retrieve source code for container of type Linear. It won't be checked for correctness upon loading.\n",
      "  \"type \" + obj.__name__ + \". It won't be checked \"\n",
      "/home/ziniu/anaconda3/lib/python3.7/site-packages/torch/serialization.py:292: UserWarning: Couldn't retrieve source code for container of type BatchNorm. It won't be checked for correctness upon loading.\n",
      "  \"type \" + obj.__name__ + \". It won't be checked \"\n",
      "/home/ziniu/anaconda3/lib/python3.7/site-packages/torch/serialization.py:292: UserWarning: Couldn't retrieve source code for container of type Dropout. It won't be checked for correctness upon loading.\n",
      "  \"type \" + obj.__name__ + \". It won't be checked \"\n",
      "/home/ziniu/anaconda3/lib/python3.7/site-packages/torch/serialization.py:292: UserWarning: Couldn't retrieve source code for container of type RelTemporalEncoding. It won't be checked for correctness upon loading.\n",
      "  \"type \" + obj.__name__ + \". It won't be checked \"\n",
      "/home/ziniu/anaconda3/lib/python3.7/site-packages/torch/serialization.py:292: UserWarning: Couldn't retrieve source code for container of type Embedding. It won't be checked for correctness upon loading.\n",
      "  \"type \" + obj.__name__ + \". It won't be checked \"\n",
      "/home/ziniu/anaconda3/lib/python3.7/site-packages/torch/serialization.py:292: UserWarning: Couldn't retrieve source code for container of type Classifier. It won't be checked for correctness upon loading.\n",
      "  \"type \" + obj.__name__ + \". It won't be checked \"\n"
     ]
    },
    {
     "name": "stdout",
     "output_type": "stream",
     "text": [
      "Epoch: 10 (176.3s)  LR: 0.00096 Train Loss: 5.66  Valid Loss: 5.88  Valid NDCG: 0.2512\n",
      "0.23469957710246991\n",
      "Data Preparation: 8.2s\n"
     ]
    },
    {
     "name": "stderr",
     "output_type": "stream",
     "text": [
      "/home/ziniu/anaconda3/lib/python3.7/site-packages/torch/serialization.py:292: UserWarning: Couldn't retrieve source code for container of type Sequential. It won't be checked for correctness upon loading.\n",
      "  \"type \" + obj.__name__ + \". It won't be checked \"\n",
      "/home/ziniu/anaconda3/lib/python3.7/site-packages/torch/serialization.py:292: UserWarning: Couldn't retrieve source code for container of type GNN. It won't be checked for correctness upon loading.\n",
      "  \"type \" + obj.__name__ + \". It won't be checked \"\n",
      "/home/ziniu/anaconda3/lib/python3.7/site-packages/torch/serialization.py:292: UserWarning: Couldn't retrieve source code for container of type ModuleList. It won't be checked for correctness upon loading.\n",
      "  \"type \" + obj.__name__ + \". It won't be checked \"\n",
      "/home/ziniu/anaconda3/lib/python3.7/site-packages/torch/serialization.py:292: UserWarning: Couldn't retrieve source code for container of type RAGCNConv. It won't be checked for correctness upon loading.\n",
      "  \"type \" + obj.__name__ + \". It won't be checked \"\n",
      "/home/ziniu/anaconda3/lib/python3.7/site-packages/torch/serialization.py:292: UserWarning: Couldn't retrieve source code for container of type Linear. It won't be checked for correctness upon loading.\n",
      "  \"type \" + obj.__name__ + \". It won't be checked \"\n",
      "/home/ziniu/anaconda3/lib/python3.7/site-packages/torch/serialization.py:292: UserWarning: Couldn't retrieve source code for container of type BatchNorm. It won't be checked for correctness upon loading.\n",
      "  \"type \" + obj.__name__ + \". It won't be checked \"\n",
      "/home/ziniu/anaconda3/lib/python3.7/site-packages/torch/serialization.py:292: UserWarning: Couldn't retrieve source code for container of type Dropout. It won't be checked for correctness upon loading.\n",
      "  \"type \" + obj.__name__ + \". It won't be checked \"\n",
      "/home/ziniu/anaconda3/lib/python3.7/site-packages/torch/serialization.py:292: UserWarning: Couldn't retrieve source code for container of type RelTemporalEncoding. It won't be checked for correctness upon loading.\n",
      "  \"type \" + obj.__name__ + \". It won't be checked \"\n",
      "/home/ziniu/anaconda3/lib/python3.7/site-packages/torch/serialization.py:292: UserWarning: Couldn't retrieve source code for container of type Embedding. It won't be checked for correctness upon loading.\n",
      "  \"type \" + obj.__name__ + \". It won't be checked \"\n",
      "/home/ziniu/anaconda3/lib/python3.7/site-packages/torch/serialization.py:292: UserWarning: Couldn't retrieve source code for container of type Classifier. It won't be checked for correctness upon loading.\n",
      "  \"type \" + obj.__name__ + \". It won't be checked \"\n"
     ]
    },
    {
     "name": "stdout",
     "output_type": "stream",
     "text": [
      "Epoch: 11 (176.0s)  LR: 0.00092 Train Loss: 5.69  Valid Loss: 5.88  Valid NDCG: 0.2538\n",
      "Data Preparation: 2.6s\n",
      "Epoch: 12 (174.0s)  LR: 0.00086 Train Loss: 5.61  Valid Loss: 6.01  Valid NDCG: 0.2501\n",
      "Data Preparation: 2.8s\n",
      "Epoch: 13 (171.4s)  LR: 0.00079 Train Loss: 5.67  Valid Loss: 5.97  Valid NDCG: 0.2305\n",
      "Data Preparation: 2.5s\n",
      "Epoch: 14 (174.8s)  LR: 0.00070 Train Loss: 5.56  Valid Loss: 5.87  Valid NDCG: 0.2440\n",
      "Data Preparation: 2.4s\n",
      "Epoch: 15 (175.6s)  LR: 0.00061 Train Loss: 5.58  Valid Loss: 6.12  Valid NDCG: 0.2272\n",
      "0.2163968401313319\n",
      "Data Preparation: 12.2s\n",
      "Epoch: 16 (178.1s)  LR: 0.00051 Train Loss: 5.45  Valid Loss: 5.96  Valid NDCG: 0.2321\n",
      "Data Preparation: 2.4s\n",
      "Epoch: 17 (177.9s)  LR: 0.00042 Train Loss: 5.42  Valid Loss: 5.91  Valid NDCG: 0.2481\n",
      "Data Preparation: 2.5s\n",
      "Epoch: 18 (177.5s)  LR: 0.00032 Train Loss: 5.47  Valid Loss: 5.87  Valid NDCG: 0.2515\n",
      "Data Preparation: 2.5s\n",
      "Epoch: 19 (178.4s)  LR: 0.00024 Train Loss: 5.43  Valid Loss: 5.96  Valid NDCG: 0.2395\n",
      "Data Preparation: 2.6s\n",
      "Epoch: 20 (178.0s)  LR: 0.00016 Train Loss: 5.45  Valid Loss: 5.78  Valid NDCG: 0.2489\n",
      "0.22681023478898565\n",
      "Data Preparation: 7.9s\n",
      "Epoch: 21 (177.0s)  LR: 0.00009 Train Loss: 5.43  Valid Loss: 5.80  Valid NDCG: 0.2534\n",
      "Data Preparation: 2.5s\n",
      "Epoch: 22 (177.2s)  LR: 0.00005 Train Loss: 5.35  Valid Loss: 5.94  Valid NDCG: 0.2462\n",
      "Data Preparation: 2.6s\n",
      "Epoch: 23 (174.5s)  LR: 0.00001 Train Loss: 5.51  Valid Loss: 5.99  Valid NDCG: 0.2329\n",
      "Data Preparation: 2.5s\n",
      "Epoch: 24 (178.7s)  LR: 0.00000 Train Loss: 5.43  Valid Loss: 6.01  Valid NDCG: 0.2484\n",
      "Data Preparation: 2.5s\n",
      "Epoch: 25 (176.2s)  LR: 0.00001 Train Loss: 5.41  Valid Loss: 5.85  Valid NDCG: 0.2456\n",
      "0.2296341666489961\n",
      "Data Preparation: 12.2s\n",
      "Epoch: 26 (179.9s)  LR: 0.00003 Train Loss: 5.42  Valid Loss: 5.84  Valid NDCG: 0.2410\n",
      "Data Preparation: 2.4s\n",
      "Epoch: 27 (178.5s)  LR: 0.00007 Train Loss: 5.39  Valid Loss: 5.98  Valid NDCG: 0.2345\n",
      "Data Preparation: 2.5s\n",
      "Epoch: 28 (180.2s)  LR: 0.00013 Train Loss: 5.37  Valid Loss: 5.80  Valid NDCG: 0.2537\n",
      "Data Preparation: 2.5s\n",
      "Epoch: 29 (177.3s)  LR: 0.00020 Train Loss: 5.51  Valid Loss: 6.02  Valid NDCG: 0.2228\n",
      "Data Preparation: 2.5s\n",
      "Epoch: 30 (172.9s)  LR: 0.00029 Train Loss: 5.45  Valid Loss: 6.08  Valid NDCG: 0.2261\n",
      "0.24564638622474985\n",
      "Data Preparation: 8.5s\n",
      "Epoch: 31 (175.2s)  LR: 0.00038 Train Loss: 5.41  Valid Loss: 5.91  Valid NDCG: 0.2416\n",
      "Data Preparation: 3.1s\n",
      "Epoch: 32 (176.8s)  LR: 0.00048 Train Loss: 5.43  Valid Loss: 5.82  Valid NDCG: 0.2438\n",
      "Data Preparation: 2.8s\n",
      "Epoch: 33 (176.1s)  LR: 0.00057 Train Loss: 5.40  Valid Loss: 5.85  Valid NDCG: 0.2487\n",
      "Data Preparation: 2.7s\n",
      "Epoch: 34 (177.1s)  LR: 0.00067 Train Loss: 5.48  Valid Loss: 5.94  Valid NDCG: 0.2419\n",
      "Data Preparation: 2.8s\n",
      "Epoch: 35 (172.0s)  LR: 0.00075 Train Loss: 5.42  Valid Loss: 5.89  Valid NDCG: 0.2346\n",
      "0.21464965333949762\n",
      "Data Preparation: 7.7s\n",
      "Epoch: 36 (175.9s)  LR: 0.00083 Train Loss: 5.30  Valid Loss: 6.11  Valid NDCG: 0.2182\n",
      "Data Preparation: 2.7s\n",
      "Epoch: 37 (176.4s)  LR: 0.00090 Train Loss: 5.33  Valid Loss: 6.08  Valid NDCG: 0.2272\n",
      "Data Preparation: 2.6s\n",
      "Epoch: 38 (177.3s)  LR: 0.00095 Train Loss: 5.28  Valid Loss: 6.13  Valid NDCG: 0.2190\n",
      "Data Preparation: 2.9s\n",
      "Epoch: 39 (176.9s)  LR: 0.00098 Train Loss: 5.36  Valid Loss: 5.97  Valid NDCG: 0.2468\n",
      "Data Preparation: 2.5s\n",
      "Epoch: 40 (171.0s)  LR: 0.00100 Train Loss: 5.30  Valid Loss: 5.95  Valid NDCG: 0.2403\n",
      "0.24641733467344995\n",
      "Data Preparation: 12.8s\n",
      "Epoch: 41 (173.8s)  LR: 0.00100 Train Loss: 5.27  Valid Loss: 6.04  Valid NDCG: 0.2373\n",
      "Data Preparation: 2.5s\n"
     ]
    },
    {
     "name": "stderr",
     "output_type": "stream",
     "text": [
      "/home/ziniu/anaconda3/lib/python3.7/site-packages/torch/serialization.py:292: UserWarning: Couldn't retrieve source code for container of type Sequential. It won't be checked for correctness upon loading.\n",
      "  \"type \" + obj.__name__ + \". It won't be checked \"\n",
      "/home/ziniu/anaconda3/lib/python3.7/site-packages/torch/serialization.py:292: UserWarning: Couldn't retrieve source code for container of type GNN. It won't be checked for correctness upon loading.\n",
      "  \"type \" + obj.__name__ + \". It won't be checked \"\n",
      "/home/ziniu/anaconda3/lib/python3.7/site-packages/torch/serialization.py:292: UserWarning: Couldn't retrieve source code for container of type ModuleList. It won't be checked for correctness upon loading.\n",
      "  \"type \" + obj.__name__ + \". It won't be checked \"\n",
      "/home/ziniu/anaconda3/lib/python3.7/site-packages/torch/serialization.py:292: UserWarning: Couldn't retrieve source code for container of type RAGCNConv. It won't be checked for correctness upon loading.\n",
      "  \"type \" + obj.__name__ + \". It won't be checked \"\n",
      "/home/ziniu/anaconda3/lib/python3.7/site-packages/torch/serialization.py:292: UserWarning: Couldn't retrieve source code for container of type Linear. It won't be checked for correctness upon loading.\n",
      "  \"type \" + obj.__name__ + \". It won't be checked \"\n",
      "/home/ziniu/anaconda3/lib/python3.7/site-packages/torch/serialization.py:292: UserWarning: Couldn't retrieve source code for container of type BatchNorm. It won't be checked for correctness upon loading.\n",
      "  \"type \" + obj.__name__ + \". It won't be checked \"\n",
      "/home/ziniu/anaconda3/lib/python3.7/site-packages/torch/serialization.py:292: UserWarning: Couldn't retrieve source code for container of type Dropout. It won't be checked for correctness upon loading.\n",
      "  \"type \" + obj.__name__ + \". It won't be checked \"\n",
      "/home/ziniu/anaconda3/lib/python3.7/site-packages/torch/serialization.py:292: UserWarning: Couldn't retrieve source code for container of type RelTemporalEncoding. It won't be checked for correctness upon loading.\n",
      "  \"type \" + obj.__name__ + \". It won't be checked \"\n",
      "/home/ziniu/anaconda3/lib/python3.7/site-packages/torch/serialization.py:292: UserWarning: Couldn't retrieve source code for container of type Embedding. It won't be checked for correctness upon loading.\n",
      "  \"type \" + obj.__name__ + \". It won't be checked \"\n",
      "/home/ziniu/anaconda3/lib/python3.7/site-packages/torch/serialization.py:292: UserWarning: Couldn't retrieve source code for container of type Classifier. It won't be checked for correctness upon loading.\n",
      "  \"type \" + obj.__name__ + \". It won't be checked \"\n"
     ]
    },
    {
     "name": "stdout",
     "output_type": "stream",
     "text": [
      "Epoch: 42 (174.2s)  LR: 0.00097 Train Loss: 5.26  Valid Loss: 5.71  Valid NDCG: 0.2620\n",
      "Data Preparation: 2.6s\n",
      "Epoch: 43 (175.1s)  LR: 0.00093 Train Loss: 5.40  Valid Loss: 6.18  Valid NDCG: 0.2154\n",
      "Data Preparation: 2.8s\n",
      "Epoch: 44 (173.6s)  LR: 0.00088 Train Loss: 5.29  Valid Loss: 5.98  Valid NDCG: 0.2327\n",
      "Data Preparation: 2.8s\n",
      "Epoch: 45 (173.0s)  LR: 0.00081 Train Loss: 5.35  Valid Loss: 5.90  Valid NDCG: 0.2309\n",
      "0.2079149809095189\n",
      "Data Preparation: 8.4s\n",
      "Epoch: 46 (177.1s)  LR: 0.00072 Train Loss: 5.12  Valid Loss: 5.94  Valid NDCG: 0.2526\n",
      "Data Preparation: 2.8s\n",
      "Epoch: 47 (180.0s)  LR: 0.00063 Train Loss: 5.09  Valid Loss: 5.99  Valid NDCG: 0.2510\n",
      "Data Preparation: 2.8s\n",
      "Epoch: 48 (178.8s)  LR: 0.00054 Train Loss: 5.28  Valid Loss: 5.79  Valid NDCG: 0.2615\n",
      "Data Preparation: 3.0s\n",
      "Epoch: 49 (176.2s)  LR: 0.00044 Train Loss: 4.97  Valid Loss: 6.04  Valid NDCG: 0.2306\n",
      "Data Preparation: 2.7s\n",
      "Epoch: 50 (171.8s)  LR: 0.00035 Train Loss: 5.13  Valid Loss: 5.87  Valid NDCG: 0.2477\n",
      "0.22999303595537252\n",
      "Data Preparation: 8.2s\n",
      "Epoch: 51 (177.0s)  LR: 0.00026 Train Loss: 5.06  Valid Loss: 6.09  Valid NDCG: 0.2216\n",
      "Data Preparation: 3.2s\n",
      "Epoch: 52 (180.6s)  LR: 0.00018 Train Loss: 5.18  Valid Loss: 5.99  Valid NDCG: 0.2356\n",
      "Data Preparation: 2.8s\n",
      "Epoch: 53 (175.4s)  LR: 0.00011 Train Loss: 5.23  Valid Loss: 6.06  Valid NDCG: 0.2294\n",
      "Data Preparation: 2.8s\n",
      "Epoch: 54 (176.8s)  LR: 0.00006 Train Loss: 5.26  Valid Loss: 5.69  Valid NDCG: 0.2601\n",
      "Data Preparation: 2.5s\n",
      "Epoch: 55 (176.0s)  LR: 0.00002 Train Loss: 5.22  Valid Loss: 5.94  Valid NDCG: 0.2394\n",
      "0.2473311472604302\n",
      "Data Preparation: 13.6s\n",
      "Epoch: 56 (175.3s)  LR: 0.00000 Train Loss: 5.06  Valid Loss: 5.84  Valid NDCG: 0.2446\n",
      "Data Preparation: 2.4s\n",
      "Epoch: 57 (178.0s)  LR: 0.00000 Train Loss: 5.26  Valid Loss: 5.93  Valid NDCG: 0.2351\n",
      "Data Preparation: 2.7s\n",
      "Epoch: 58 (176.6s)  LR: 0.00002 Train Loss: 5.19  Valid Loss: 6.16  Valid NDCG: 0.2243\n",
      "Data Preparation: 2.5s\n",
      "Epoch: 59 (177.8s)  LR: 0.00006 Train Loss: 5.09  Valid Loss: 5.89  Valid NDCG: 0.2318\n",
      "Data Preparation: 2.6s\n",
      "Epoch: 60 (172.6s)  LR: 0.00012 Train Loss: 5.19  Valid Loss: 6.18  Valid NDCG: 0.2255\n",
      "0.2172481493838438\n",
      "Data Preparation: 8.1s\n",
      "Epoch: 61 (177.1s)  LR: 0.00018 Train Loss: 5.09  Valid Loss: 6.06  Valid NDCG: 0.2367\n",
      "Data Preparation: 2.6s\n",
      "Epoch: 62 (173.7s)  LR: 0.00027 Train Loss: 5.05  Valid Loss: 6.09  Valid NDCG: 0.2151\n",
      "Data Preparation: 2.7s\n",
      "Epoch: 63 (176.0s)  LR: 0.00036 Train Loss: 5.07  Valid Loss: 6.10  Valid NDCG: 0.2311\n",
      "Data Preparation: 2.6s\n",
      "Epoch: 64 (173.9s)  LR: 0.00045 Train Loss: 5.02  Valid Loss: 6.10  Valid NDCG: 0.2307\n",
      "Data Preparation: 2.5s\n",
      "Epoch: 65 (175.4s)  LR: 0.00055 Train Loss: 5.14  Valid Loss: 5.84  Valid NDCG: 0.2480\n",
      "0.20883903160039757\n",
      "Data Preparation: 13.8s\n",
      "Epoch: 66 (179.3s)  LR: 0.00064 Train Loss: 5.20  Valid Loss: 6.10  Valid NDCG: 0.2282\n",
      "Data Preparation: 2.5s\n",
      "Epoch: 67 (180.6s)  LR: 0.00073 Train Loss: 5.13  Valid Loss: 5.93  Valid NDCG: 0.2413\n",
      "Data Preparation: 3.1s\n",
      "Epoch: 68 (176.0s)  LR: 0.00081 Train Loss: 5.13  Valid Loss: 5.86  Valid NDCG: 0.2540\n",
      "Data Preparation: 2.5s\n",
      "Epoch: 69 (179.1s)  LR: 0.00088 Train Loss: 4.97  Valid Loss: 5.99  Valid NDCG: 0.2307\n",
      "Data Preparation: 3.0s\n",
      "Epoch: 70 (171.5s)  LR: 0.00094 Train Loss: 5.24  Valid Loss: 6.10  Valid NDCG: 0.2255\n",
      "0.21078593348107405\n",
      "Data Preparation: 8.2s\n",
      "Epoch: 71 (178.1s)  LR: 0.00098 Train Loss: 5.10  Valid Loss: 5.88  Valid NDCG: 0.2346\n",
      "Data Preparation: 2.6s\n",
      "Epoch: 72 (177.0s)  LR: 0.00100 Train Loss: 5.32  Valid Loss: 6.11  Valid NDCG: 0.2215\n",
      "Data Preparation: 3.0s\n",
      "Epoch: 73 (178.2s)  LR: 0.00100 Train Loss: 5.10  Valid Loss: 6.15  Valid NDCG: 0.2304\n",
      "Data Preparation: 2.7s\n",
      "Epoch: 74 (174.9s)  LR: 0.00098 Train Loss: 5.17  Valid Loss: 6.23  Valid NDCG: 0.2239\n",
      "Data Preparation: 2.5s\n",
      "Epoch: 75 (176.0s)  LR: 0.00095 Train Loss: 5.31  Valid Loss: 6.02  Valid NDCG: 0.2247\n",
      "0.22989101222165503\n",
      "Data Preparation: 8.2s\n",
      "Epoch: 76 (175.4s)  LR: 0.00089 Train Loss: 5.02  Valid Loss: 6.04  Valid NDCG: 0.2269\n",
      "Data Preparation: 2.9s\n",
      "Epoch: 77 (173.8s)  LR: 0.00083 Train Loss: 5.12  Valid Loss: 6.18  Valid NDCG: 0.2169\n",
      "Data Preparation: 2.7s\n",
      "Epoch: 78 (176.8s)  LR: 0.00075 Train Loss: 5.07  Valid Loss: 6.13  Valid NDCG: 0.2245\n",
      "Data Preparation: 3.0s\n",
      "Epoch: 79 (176.4s)  LR: 0.00066 Train Loss: 5.08  Valid Loss: 5.98  Valid NDCG: 0.2316\n",
      "Data Preparation: 2.5s\n",
      "Epoch: 80 (171.9s)  LR: 0.00056 Train Loss: 5.12  Valid Loss: 5.91  Valid NDCG: 0.2371\n",
      "0.24127656055397495\n",
      "Data Preparation: 12.7s\n",
      "Epoch: 81 (175.4s)  LR: 0.00047 Train Loss: 5.09  Valid Loss: 5.94  Valid NDCG: 0.2299\n",
      "Data Preparation: 2.5s\n",
      "Epoch: 82 (183.2s)  LR: 0.00037 Train Loss: 4.99  Valid Loss: 6.03  Valid NDCG: 0.2437\n",
      "Data Preparation: 2.6s\n",
      "Epoch: 83 (178.1s)  LR: 0.00028 Train Loss: 4.95  Valid Loss: 5.99  Valid NDCG: 0.2358\n",
      "Data Preparation: 2.6s\n",
      "Epoch: 84 (177.5s)  LR: 0.00020 Train Loss: 5.04  Valid Loss: 6.02  Valid NDCG: 0.2385\n",
      "Data Preparation: 2.6s\n",
      "Epoch: 85 (178.5s)  LR: 0.00013 Train Loss: 5.20  Valid Loss: 5.98  Valid NDCG: 0.2411\n",
      "0.21080327544128713\n",
      "Data Preparation: 8.6s\n",
      "Epoch: 86 (177.7s)  LR: 0.00007 Train Loss: 5.17  Valid Loss: 5.97  Valid NDCG: 0.2352\n",
      "Data Preparation: 2.6s\n",
      "Epoch: 87 (175.4s)  LR: 0.00003 Train Loss: 5.16  Valid Loss: 5.75  Valid NDCG: 0.2502\n",
      "Data Preparation: 2.9s\n",
      "Epoch: 88 (176.0s)  LR: 0.00001 Train Loss: 5.15  Valid Loss: 5.90  Valid NDCG: 0.2515\n",
      "Data Preparation: 2.7s\n",
      "Epoch: 89 (177.8s)  LR: 0.00000 Train Loss: 5.04  Valid Loss: 5.92  Valid NDCG: 0.2447\n",
      "Data Preparation: 2.9s\n",
      "Epoch: 90 (172.8s)  LR: 0.00002 Train Loss: 5.18  Valid Loss: 6.00  Valid NDCG: 0.2354\n",
      "0.20883639566391554\n",
      "Data Preparation: 12.9s\n",
      "Epoch: 91 (174.5s)  LR: 0.00005 Train Loss: 5.16  Valid Loss: 6.07  Valid NDCG: 0.2325\n",
      "Data Preparation: 2.9s\n",
      "Epoch: 92 (175.3s)  LR: 0.00010 Train Loss: 5.04  Valid Loss: 5.99  Valid NDCG: 0.2322\n",
      "Data Preparation: 2.6s\n",
      "Epoch: 93 (176.8s)  LR: 0.00017 Train Loss: 5.03  Valid Loss: 5.96  Valid NDCG: 0.2488\n",
      "Data Preparation: 2.6s\n",
      "Epoch: 94 (180.3s)  LR: 0.00024 Train Loss: 5.18  Valid Loss: 6.13  Valid NDCG: 0.2210\n",
      "Data Preparation: 2.8s\n",
      "Epoch: 95 (170.2s)  LR: 0.00033 Train Loss: 4.77  Valid Loss: 6.10  Valid NDCG: 0.2374\n",
      "0.22098614360250693\n",
      "Data Preparation: 8.8s\n",
      "Epoch: 96 (176.8s)  LR: 0.00043 Train Loss: 5.02  Valid Loss: 6.04  Valid NDCG: 0.2307\n",
      "Data Preparation: 2.9s\n",
      "Epoch: 97 (174.3s)  LR: 0.00052 Train Loss: 5.31  Valid Loss: 6.21  Valid NDCG: 0.2321\n",
      "Data Preparation: 3.1s\n",
      "Epoch: 98 (177.2s)  LR: 0.00062 Train Loss: 5.45  Valid Loss: 5.83  Valid NDCG: 0.2531\n",
      "Data Preparation: 2.9s\n",
      "Epoch: 99 (175.0s)  LR: 0.00071 Train Loss: 5.26  Valid Loss: 5.98  Valid NDCG: 0.2359\n",
      "Data Preparation: 2.6s\n",
      "Epoch: 100 (174.6s)  LR: 0.00079 Train Loss: 5.12  Valid Loss: 5.92  Valid NDCG: 0.2460\n",
      "0.22561662581413577\n",
      "Data Preparation: 9.0s\n",
      "Epoch: 101 (173.4s)  LR: 0.00087 Train Loss: 4.87  Valid Loss: 6.11  Valid NDCG: 0.2235\n",
      "Data Preparation: 2.5s\n",
      "Epoch: 102 (175.0s)  LR: 0.00093 Train Loss: 4.94  Valid Loss: 6.38  Valid NDCG: 0.2174\n",
      "Data Preparation: 2.6s\n",
      "Epoch: 103 (175.9s)  LR: 0.00097 Train Loss: 4.91  Valid Loss: 5.81  Valid NDCG: 0.2586\n",
      "Data Preparation: 3.0s\n",
      "Epoch: 104 (177.4s)  LR: 0.00099 Train Loss: 4.94  Valid Loss: 6.17  Valid NDCG: 0.2183\n",
      "Data Preparation: 2.7s\n",
      "Epoch: 105 (170.4s)  LR: 0.00100 Train Loss: 4.99  Valid Loss: 5.71  Valid NDCG: 0.2600\n",
      "0.21296073415179126\n",
      "Data Preparation: 13.2s\n",
      "Epoch: 106 (177.2s)  LR: 0.00099 Train Loss: 5.11  Valid Loss: 6.08  Valid NDCG: 0.2409\n",
      "Data Preparation: 3.0s\n",
      "Epoch: 107 (176.4s)  LR: 0.00096 Train Loss: 5.20  Valid Loss: 6.05  Valid NDCG: 0.2427\n",
      "Data Preparation: 3.0s\n",
      "Epoch: 108 (181.8s)  LR: 0.00091 Train Loss: 5.15  Valid Loss: 6.10  Valid NDCG: 0.2304\n",
      "Data Preparation: 2.9s\n",
      "Epoch: 109 (174.9s)  LR: 0.00084 Train Loss: 4.94  Valid Loss: 6.22  Valid NDCG: 0.2241\n",
      "Data Preparation: 2.7s\n",
      "Epoch: 110 (171.5s)  LR: 0.00077 Train Loss: 5.01  Valid Loss: 6.47  Valid NDCG: 0.2076\n",
      "0.2422025404749058\n",
      "Data Preparation: 9.2s\n",
      "Epoch: 111 (173.7s)  LR: 0.00068 Train Loss: 5.00  Valid Loss: 6.05  Valid NDCG: 0.2360\n",
      "Data Preparation: 2.5s\n",
      "Epoch: 112 (172.3s)  LR: 0.00059 Train Loss: 5.02  Valid Loss: 6.22  Valid NDCG: 0.2193\n",
      "Data Preparation: 2.7s\n",
      "Epoch: 113 (175.9s)  LR: 0.00049 Train Loss: 4.86  Valid Loss: 6.23  Valid NDCG: 0.2176\n",
      "Data Preparation: 2.5s\n"
     ]
    },
    {
     "name": "stdout",
     "output_type": "stream",
     "text": [
      "Epoch: 114 (177.0s)  LR: 0.00039 Train Loss: 4.99  Valid Loss: 6.27  Valid NDCG: 0.2210\n",
      "Data Preparation: 2.5s\n",
      "Epoch: 115 (171.9s)  LR: 0.00030 Train Loss: 4.93  Valid Loss: 6.00  Valid NDCG: 0.2240\n",
      "0.22833038925568463\n",
      "Data Preparation: 12.5s\n",
      "Epoch: 116 (174.0s)  LR: 0.00022 Train Loss: 5.00  Valid Loss: 6.40  Valid NDCG: 0.2172\n",
      "Data Preparation: 2.6s\n",
      "Epoch: 117 (174.5s)  LR: 0.00014 Train Loss: 5.14  Valid Loss: 6.03  Valid NDCG: 0.2294\n",
      "Data Preparation: 3.1s\n",
      "Epoch: 118 (177.1s)  LR: 0.00008 Train Loss: 4.74  Valid Loss: 6.05  Valid NDCG: 0.2212\n",
      "Data Preparation: 2.6s\n",
      "Epoch: 119 (173.7s)  LR: 0.00004 Train Loss: 5.02  Valid Loss: 5.96  Valid NDCG: 0.2345\n",
      "Data Preparation: 2.5s\n",
      "Epoch: 120 (169.9s)  LR: 0.00001 Train Loss: 5.03  Valid Loss: 5.89  Valid NDCG: 0.2352\n",
      "0.2525720273865802\n",
      "Data Preparation: 8.0s\n",
      "Epoch: 121 (173.2s)  LR: 0.00000 Train Loss: 4.80  Valid Loss: 6.08  Valid NDCG: 0.2305\n",
      "Data Preparation: 2.6s\n",
      "Epoch: 122 (173.4s)  LR: 0.00001 Train Loss: 4.95  Valid Loss: 6.24  Valid NDCG: 0.2257\n",
      "Data Preparation: 2.7s\n",
      "Epoch: 123 (176.6s)  LR: 0.00004 Train Loss: 4.92  Valid Loss: 6.24  Valid NDCG: 0.2186\n",
      "Data Preparation: 2.7s\n",
      "Epoch: 124 (174.6s)  LR: 0.00009 Train Loss: 4.84  Valid Loss: 6.08  Valid NDCG: 0.2277\n",
      "Data Preparation: 2.6s\n",
      "Epoch: 125 (170.7s)  LR: 0.00015 Train Loss: 4.88  Valid Loss: 6.12  Valid NDCG: 0.2208\n",
      "0.2395555155702908\n",
      "Data Preparation: 7.8s\n",
      "Epoch: 126 (176.0s)  LR: 0.00022 Train Loss: 4.91  Valid Loss: 6.21  Valid NDCG: 0.2392\n",
      "Data Preparation: 2.7s\n",
      "Epoch: 127 (175.7s)  LR: 0.00031 Train Loss: 4.76  Valid Loss: 5.91  Valid NDCG: 0.2363\n",
      "Data Preparation: 2.9s\n",
      "Epoch: 128 (174.9s)  LR: 0.00040 Train Loss: 4.83  Valid Loss: 6.47  Valid NDCG: 0.2151\n",
      "Data Preparation: 2.8s\n",
      "Epoch: 129 (175.1s)  LR: 0.00050 Train Loss: 5.05  Valid Loss: 6.10  Valid NDCG: 0.2211\n",
      "Data Preparation: 2.7s\n",
      "Epoch: 130 (175.6s)  LR: 0.00059 Train Loss: 4.99  Valid Loss: 6.08  Valid NDCG: 0.2344\n",
      "0.23064308663507782\n",
      "Data Preparation: 13.2s\n",
      "Epoch: 131 (176.7s)  LR: 0.00069 Train Loss: 4.94  Valid Loss: 5.99  Valid NDCG: 0.2427\n",
      "Data Preparation: 2.5s\n",
      "Epoch: 132 (176.1s)  LR: 0.00077 Train Loss: 5.01  Valid Loss: 6.30  Valid NDCG: 0.2189\n",
      "Data Preparation: 3.2s\n",
      "Epoch: 133 (174.8s)  LR: 0.00085 Train Loss: 5.03  Valid Loss: 6.07  Valid NDCG: 0.2287\n",
      "Data Preparation: 2.7s\n",
      "Epoch: 134 (175.3s)  LR: 0.00091 Train Loss: 4.58  Valid Loss: 6.14  Valid NDCG: 0.2128\n",
      "Data Preparation: 2.6s\n",
      "Epoch: 135 (128.0s)  LR: 0.00096 Train Loss: 4.98  Valid Loss: 6.19  Valid NDCG: 0.2295\n",
      "0.24086084708893818\n",
      "Data Preparation: 8.6s\n",
      "Epoch: 136 (111.5s)  LR: 0.00099 Train Loss: 4.81  Valid Loss: 6.15  Valid NDCG: 0.2280\n",
      "Data Preparation: 3.2s\n",
      "Epoch: 137 (110.9s)  LR: 0.00100 Train Loss: 4.68  Valid Loss: 6.13  Valid NDCG: 0.2371\n",
      "Data Preparation: 2.6s\n",
      "Epoch: 138 (112.6s)  LR: 0.00099 Train Loss: 4.93  Valid Loss: 5.90  Valid NDCG: 0.2473\n",
      "Data Preparation: 2.9s\n",
      "Epoch: 139 (112.4s)  LR: 0.00097 Train Loss: 4.99  Valid Loss: 6.00  Valid NDCG: 0.2447\n",
      "Data Preparation: 2.5s\n",
      "Epoch: 140 (112.2s)  LR: 0.00092 Train Loss: 4.87  Valid Loss: 6.02  Valid NDCG: 0.2395\n",
      "0.2411388270715904\n",
      "Data Preparation: 8.2s\n",
      "Epoch: 141 (110.0s)  LR: 0.00086 Train Loss: 5.05  Valid Loss: 6.33  Valid NDCG: 0.2115\n",
      "Data Preparation: 3.3s\n",
      "Epoch: 142 (110.8s)  LR: 0.00079 Train Loss: 4.85  Valid Loss: 6.22  Valid NDCG: 0.2311\n",
      "Data Preparation: 3.1s\n",
      "Epoch: 143 (109.9s)  LR: 0.00070 Train Loss: 4.76  Valid Loss: 6.47  Valid NDCG: 0.2193\n",
      "Data Preparation: 3.2s\n",
      "Epoch: 144 (109.9s)  LR: 0.00061 Train Loss: 4.89  Valid Loss: 6.04  Valid NDCG: 0.2374\n",
      "Data Preparation: 2.9s\n",
      "Epoch: 145 (111.5s)  LR: 0.00052 Train Loss: 4.93  Valid Loss: 6.28  Valid NDCG: 0.2262\n",
      "0.22966686640658285\n",
      "Data Preparation: 12.9s\n",
      "Epoch: 146 (112.8s)  LR: 0.00042 Train Loss: 4.81  Valid Loss: 6.00  Valid NDCG: 0.2420\n",
      "Data Preparation: 2.9s\n",
      "Epoch: 147 (111.6s)  LR: 0.00033 Train Loss: 5.01  Valid Loss: 6.05  Valid NDCG: 0.2228\n",
      "Data Preparation: 3.0s\n",
      "Epoch: 148 (111.0s)  LR: 0.00024 Train Loss: 4.83  Valid Loss: 6.04  Valid NDCG: 0.2345\n",
      "Data Preparation: 2.9s\n",
      "Epoch: 149 (113.1s)  LR: 0.00016 Train Loss: 4.97  Valid Loss: 6.39  Valid NDCG: 0.2150\n",
      "Data Preparation: 3.0s\n",
      "Epoch: 150 (110.7s)  LR: 0.00010 Train Loss: 4.89  Valid Loss: 5.99  Valid NDCG: 0.2287\n",
      "0.22725044735048677\n",
      "Data Preparation: 7.9s\n",
      "Epoch: 151 (110.3s)  LR: 0.00005 Train Loss: 4.93  Valid Loss: 6.36  Valid NDCG: 0.2185\n",
      "Data Preparation: 2.8s\n",
      "Epoch: 152 (111.7s)  LR: 0.00002 Train Loss: 4.72  Valid Loss: 5.85  Valid NDCG: 0.2492\n",
      "Data Preparation: 2.6s\n",
      "Epoch: 153 (111.8s)  LR: 0.00000 Train Loss: 4.68  Valid Loss: 6.19  Valid NDCG: 0.2170\n",
      "Data Preparation: 3.0s\n",
      "Epoch: 154 (110.5s)  LR: 0.00001 Train Loss: 4.87  Valid Loss: 5.83  Valid NDCG: 0.2537\n",
      "Data Preparation: 3.0s\n",
      "Epoch: 155 (111.0s)  LR: 0.00003 Train Loss: 4.81  Valid Loss: 6.04  Valid NDCG: 0.2448\n",
      "0.209699422700948\n",
      "Data Preparation: 12.7s\n",
      "Epoch: 156 (110.3s)  LR: 0.00007 Train Loss: 4.86  Valid Loss: 6.00  Valid NDCG: 0.2417\n",
      "Data Preparation: 2.9s\n",
      "Epoch: 157 (112.0s)  LR: 0.00013 Train Loss: 4.76  Valid Loss: 6.56  Valid NDCG: 0.2092\n",
      "Data Preparation: 2.9s\n",
      "Epoch: 158 (113.1s)  LR: 0.00020 Train Loss: 4.94  Valid Loss: 6.27  Valid NDCG: 0.2197\n",
      "Data Preparation: 3.0s\n",
      "Epoch: 159 (111.8s)  LR: 0.00028 Train Loss: 4.82  Valid Loss: 6.11  Valid NDCG: 0.2286\n",
      "Data Preparation: 3.0s\n",
      "Epoch: 160 (111.6s)  LR: 0.00038 Train Loss: 4.63  Valid Loss: 5.86  Valid NDCG: 0.2569\n",
      "0.2298370937359022\n",
      "Data Preparation: 8.2s\n",
      "Epoch: 161 (111.5s)  LR: 0.00047 Train Loss: 4.55  Valid Loss: 6.11  Valid NDCG: 0.2190\n",
      "Data Preparation: 3.3s\n",
      "Epoch: 162 (109.5s)  LR: 0.00057 Train Loss: 4.81  Valid Loss: 6.43  Valid NDCG: 0.2275\n",
      "Data Preparation: 2.9s\n",
      "Epoch: 163 (110.1s)  LR: 0.00066 Train Loss: 4.70  Valid Loss: 6.70  Valid NDCG: 0.2050\n",
      "Data Preparation: 2.6s\n",
      "Epoch: 164 (111.5s)  LR: 0.00075 Train Loss: 4.58  Valid Loss: 6.76  Valid NDCG: 0.2114\n",
      "Data Preparation: 3.0s\n",
      "Epoch: 165 (110.0s)  LR: 0.00083 Train Loss: 4.68  Valid Loss: 6.58  Valid NDCG: 0.2198\n",
      "0.21917361904466018\n",
      "Data Preparation: 8.2s\n",
      "Epoch: 166 (112.7s)  LR: 0.00090 Train Loss: 4.87  Valid Loss: 6.23  Valid NDCG: 0.2228\n",
      "Data Preparation: 3.0s\n",
      "Epoch: 167 (109.4s)  LR: 0.00095 Train Loss: 4.59  Valid Loss: 5.96  Valid NDCG: 0.2511\n",
      "Data Preparation: 3.2s\n",
      "Epoch: 168 (109.7s)  LR: 0.00098 Train Loss: 4.71  Valid Loss: 6.02  Valid NDCG: 0.2364\n",
      "Data Preparation: 3.1s\n",
      "Epoch: 169 (111.1s)  LR: 0.00100 Train Loss: 4.68  Valid Loss: 6.20  Valid NDCG: 0.2289\n",
      "Data Preparation: 3.1s\n",
      "Epoch: 170 (111.7s)  LR: 0.00100 Train Loss: 4.81  Valid Loss: 6.21  Valid NDCG: 0.2279\n",
      "0.22726775407185906\n",
      "Data Preparation: 13.8s\n",
      "Epoch: 171 (110.6s)  LR: 0.00097 Train Loss: 4.93  Valid Loss: 6.22  Valid NDCG: 0.2328\n",
      "Data Preparation: 2.7s\n",
      "Epoch: 172 (111.2s)  LR: 0.00094 Train Loss: 4.68  Valid Loss: 6.11  Valid NDCG: 0.2280\n",
      "Data Preparation: 2.9s\n",
      "Epoch: 173 (109.9s)  LR: 0.00088 Train Loss: 4.89  Valid Loss: 6.41  Valid NDCG: 0.2187\n",
      "Data Preparation: 3.2s\n",
      "Epoch: 174 (109.9s)  LR: 0.00081 Train Loss: 4.89  Valid Loss: 6.38  Valid NDCG: 0.2139\n",
      "Data Preparation: 2.9s\n",
      "Epoch: 175 (110.2s)  LR: 0.00073 Train Loss: 4.98  Valid Loss: 6.00  Valid NDCG: 0.2430\n",
      "0.21830571720765743\n",
      "Data Preparation: 8.0s\n",
      "Epoch: 176 (111.5s)  LR: 0.00064 Train Loss: 4.70  Valid Loss: 6.43  Valid NDCG: 0.2131\n",
      "Data Preparation: 2.9s\n",
      "Epoch: 177 (111.5s)  LR: 0.00054 Train Loss: 5.05  Valid Loss: 6.18  Valid NDCG: 0.2412\n",
      "Data Preparation: 3.2s\n",
      "Epoch: 178 (111.3s)  LR: 0.00044 Train Loss: 4.84  Valid Loss: 6.33  Valid NDCG: 0.2171\n",
      "Data Preparation: 3.2s\n",
      "Epoch: 179 (111.2s)  LR: 0.00035 Train Loss: 4.88  Valid Loss: 6.11  Valid NDCG: 0.2335\n",
      "Data Preparation: 2.6s\n",
      "Epoch: 180 (112.2s)  LR: 0.00026 Train Loss: 4.98  Valid Loss: 6.28  Valid NDCG: 0.2179\n",
      "0.20992552294589067\n",
      "Data Preparation: 12.4s\n",
      "Epoch: 181 (113.5s)  LR: 0.00018 Train Loss: 4.83  Valid Loss: 6.53  Valid NDCG: 0.2084\n",
      "Data Preparation: 3.1s\n",
      "Epoch: 182 (111.2s)  LR: 0.00011 Train Loss: 4.90  Valid Loss: 6.23  Valid NDCG: 0.2314\n",
      "Data Preparation: 2.9s\n",
      "Epoch: 183 (109.7s)  LR: 0.00006 Train Loss: 4.81  Valid Loss: 6.56  Valid NDCG: 0.2098\n",
      "Data Preparation: 3.0s\n",
      "Epoch: 184 (109.7s)  LR: 0.00002 Train Loss: 4.81  Valid Loss: 6.39  Valid NDCG: 0.2082\n",
      "Data Preparation: 2.6s\n",
      "Epoch: 185 (113.5s)  LR: 0.00000 Train Loss: 4.78  Valid Loss: 6.21  Valid NDCG: 0.2299\n"
     ]
    },
    {
     "name": "stdout",
     "output_type": "stream",
     "text": [
      "0.22156268425938283\n",
      "Data Preparation: 8.1s\n",
      "Epoch: 186 (112.2s)  LR: 0.00000 Train Loss: 4.83  Valid Loss: 6.18  Valid NDCG: 0.2276\n",
      "Data Preparation: 3.3s\n",
      "Epoch: 187 (110.8s)  LR: 0.00002 Train Loss: 4.69  Valid Loss: 6.34  Valid NDCG: 0.2117\n",
      "Data Preparation: 2.6s\n",
      "Epoch: 188 (111.2s)  LR: 0.00006 Train Loss: 4.75  Valid Loss: 6.51  Valid NDCG: 0.2099\n",
      "Data Preparation: 3.0s\n",
      "Epoch: 189 (110.6s)  LR: 0.00011 Train Loss: 4.94  Valid Loss: 6.29  Valid NDCG: 0.2201\n",
      "Data Preparation: 2.6s\n",
      "Epoch: 190 (112.8s)  LR: 0.00018 Train Loss: 4.72  Valid Loss: 6.35  Valid NDCG: 0.2120\n",
      "0.20261825900795805\n",
      "Data Preparation: 8.6s\n",
      "Epoch: 191 (112.0s)  LR: 0.00026 Train Loss: 4.83  Valid Loss: 6.26  Valid NDCG: 0.2136\n",
      "Data Preparation: 2.9s\n",
      "Epoch: 192 (111.0s)  LR: 0.00035 Train Loss: 4.80  Valid Loss: 6.25  Valid NDCG: 0.2283\n",
      "Data Preparation: 2.9s\n",
      "Epoch: 193 (112.5s)  LR: 0.00045 Train Loss: 4.87  Valid Loss: 6.29  Valid NDCG: 0.2202\n",
      "Data Preparation: 3.1s\n",
      "Epoch: 194 (111.9s)  LR: 0.00054 Train Loss: 4.77  Valid Loss: 6.39  Valid NDCG: 0.2045\n",
      "Data Preparation: 2.9s\n",
      "Epoch: 195 (110.0s)  LR: 0.00064 Train Loss: 4.77  Valid Loss: 6.22  Valid NDCG: 0.2302\n",
      "0.21979882746217877\n",
      "Data Preparation: 12.8s\n",
      "Epoch: 196 (110.9s)  LR: 0.00073 Train Loss: 4.74  Valid Loss: 6.34  Valid NDCG: 0.2090\n",
      "Data Preparation: 3.0s\n",
      "Epoch: 197 (111.1s)  LR: 0.00081 Train Loss: 4.52  Valid Loss: 6.52  Valid NDCG: 0.2035\n",
      "Data Preparation: 3.0s\n",
      "Epoch: 198 (111.6s)  LR: 0.00088 Train Loss: 4.77  Valid Loss: 6.26  Valid NDCG: 0.2289\n",
      "Data Preparation: 3.0s\n",
      "Epoch: 199 (113.0s)  LR: 0.00094 Train Loss: 4.84  Valid Loss: 6.28  Valid NDCG: 0.2131\n",
      "Data Preparation: 3.0s\n",
      "Epoch: 200 (111.1s)  LR: 0.00098 Train Loss: 4.99  Valid Loss: 6.32  Valid NDCG: 0.2181\n",
      "0.2216124107772215\n"
     ]
    }
   ],
   "source": [
    "stats = []\n",
    "res = []\n",
    "best_val   = 0\n",
    "\n",
    "pool = mp.Pool(4)\n",
    "process_ids = np.arange(batch_num // 4)\n",
    "st = time.time()\n",
    "jobs = prepare_data(pool, process_ids, sel_train_papers, valid_papers)\n",
    "train_step = 1500\n",
    "\n",
    "\n",
    "criterion = nn.KLDivLoss(reduction='batchmean')\n",
    "for epoch in np.arange(200)+1:\n",
    "    '''\n",
    "        Prepare Training and Validation Data\n",
    "    '''\n",
    "    train_data = [job.get() for job in jobs[:-1]]\n",
    "    valid_data = jobs[-1].get()\n",
    "    pool.close()\n",
    "    pool.join()\n",
    "    pool = mp.Pool(4)\n",
    "    jobs = prepare_data(pool, process_ids, sel_train_papers, valid_papers)\n",
    "    et = time.time()\n",
    "    print('Data Preparation: %.1fs' % (et - st))\n",
    "    \n",
    "    model.train()\n",
    "    train_losses = []\n",
    "    torch.cuda.empty_cache()\n",
    "    for batch in np.arange(2):\n",
    "        for node_feature, node_type, edge_time, edge_index, edge_type, field_ids, paper_ids, ylabel in train_data:\n",
    "            node_rep = gnn.forward(node_feature.to(device), node_type.to(device), \\\n",
    "                                   edge_time.to(device), edge_index.to(device), edge_type.to(device))\n",
    "            res  = classifier.forward(node_rep[paper_ids])\n",
    "            loss = criterion(res, ylabel.to(device))\n",
    "            optimizer.zero_grad() \n",
    "            torch.cuda.empty_cache()\n",
    "            loss.backward()\n",
    "            \n",
    "            torch.nn.utils.clip_grad_norm_(model.parameters(), 0.2)\n",
    "            optimizer.step()\n",
    "            train_losses += [loss.cpu().detach().tolist()]\n",
    "            train_step += 1\n",
    "            scheduler.step(train_step)\n",
    "            del res, loss\n",
    "    '''\n",
    "        Valid\n",
    "    '''\n",
    "    model.eval()\n",
    "    with torch.no_grad():\n",
    "        node_feature, node_type, edge_time, edge_index, edge_type, field_ids, paper_ids, ylabel = valid_data\n",
    "        node_rep = gnn.forward(node_feature.to(device), node_type.to(device), \\\n",
    "                                   edge_time.to(device), edge_index.to(device), edge_type.to(device))\n",
    "        res  = classifier.forward(node_rep[paper_ids])\n",
    "        loss = criterion(res, ylabel.to(device))\n",
    "        valid_res = []\n",
    "\n",
    "        for ai, bi in zip(ylabel, res.argsort(descending = True)):\n",
    "            valid_res += [ai[bi].tolist()]\n",
    "        valid_ndcg = np.average([ndcg_at_k(resi, len(resi)) for resi in valid_res])\n",
    "        if valid_ndcg > best_val:\n",
    "            best_val = valid_ndcg\n",
    "            torch.save(model, './save/rgt_2.pt')\n",
    "        st = time.time()\n",
    "        print((\"Epoch: %d (%.1fs)  LR: %.5f Train Loss: %.2f  Valid Loss: %.2f  Valid NDCG: %.4f\") % \\\n",
    "              (epoch, (st-et), optimizer.param_groups[0]['lr'], np.average(train_losses), loss.cpu().detach().tolist(),\\\n",
    "              valid_ndcg))\n",
    "        stats += [[np.average(train_losses), loss.cpu().detach().tolist()]]\n",
    "        del res, loss\n",
    "        if epoch % 5 == 0:\n",
    "            '''\n",
    "                Test\n",
    "            '''\n",
    "            _time = np.random.choice(list(test_papers.keys()))\n",
    "            node_feature, node_type, edge_time, edge_index, edge_type, field_ids, paper_ids, ylabel = pf_sample(np.random.randint(2 ** 32 - 1), test_papers, \\\n",
    "                                                           test_pairs, test_range, batch_size, test=True)\n",
    "            paper_rep = gnn.forward(node_feature.to(device), node_type.to(device), \\\n",
    "                      edge_time.to(device), edge_index.to(device), edge_type.to(device))[paper_ids]\n",
    "            res  = classifier.forward(paper_rep)\n",
    "            test_res = []\n",
    "            for ai, bi in zip(ylabel, res.argsort(descending = True)):\n",
    "                test_res += [ai[bi].tolist()]\n",
    "            test_ndcg = np.average([ndcg_at_k(resi, len(resi)) for resi in test_res])\n",
    "            print(test_ndcg)\n",
    "            del res\n",
    "    del train_data, valid_data"
   ]
  },
  {
   "cell_type": "code",
   "execution_count": 10,
   "metadata": {},
   "outputs": [
    {
     "name": "stdout",
     "output_type": "stream",
     "text": [
      "1\n"
     ]
    }
   ],
   "source": [
    "print(1)"
   ]
  },
  {
   "cell_type": "code",
   "execution_count": 11,
   "metadata": {},
   "outputs": [
    {
     "data": {
      "image/png": "[encoded data removed]",
      "text/plain": [
       "<Figure size 432x288 with 1 Axes>"
      ]
     },
     "metadata": {
      "needs_background": "light"
     },
     "output_type": "display_data"
    }
   ],
   "source": [
    "stats = np.array(stats)\n",
    "plt.plot(stats[:,0])\n",
    "plt.plot(stats[:,1])\n",
    "plt.show()"
   ]
  },
  {
   "cell_type": "code",
   "execution_count": 12,
   "metadata": {
    "scrolled": true
   },
   "outputs": [
    {
     "name": "stdout",
     "output_type": "stream",
     "text": [
      "0.22045195339068963 0.011593240643793822\n",
      "0.12456766218936549 0.05375850098311576\n"
     ]
    }
   ],
   "source": [
    "model.eval()\n",
    "gnn, classifier = model\n",
    "with torch.no_grad():\n",
    "    test_res = []\n",
    "    for _ in range(10):\n",
    "        _time = np.random.choice(list(test_papers.keys()))\n",
    "        node_feature, node_type, edge_time, edge_index, edge_type, field_ids, paper_ids, ylabel = pf_sample(np.random.randint(2 ** 32 - 1), test_papers, \\\n",
    "                                                       test_pairs, test_range, batch_size, test=True)\n",
    "        paper_rep = gnn.forward(node_feature.to(device), node_type.to(device), \\\n",
    "                      edge_time.to(device), edge_index.to(device), edge_type.to(device))[paper_ids]\n",
    "        res = classifier.forward(paper_rep)\n",
    "        for ai, bi in zip(ylabel, res.argsort(descending = True)):\n",
    "            test_res += [ai[bi].tolist()]\n",
    "    test_ndcg = [ndcg_at_k(resi, len(resi)) for resi in test_res]\n",
    "    print(np.average(test_ndcg), np.var(test_ndcg))\n",
    "    test_mrr = mean_reciprocal_rank(test_res)\n",
    "    print(np.average(test_mrr), np.var(test_mrr))"
   ]
  },
  {
   "cell_type": "code",
   "execution_count": 13,
   "metadata": {},
   "outputs": [],
   "source": [
    "best_model = torch.load('./save/rgt_3.pt')"
   ]
  },
  {
   "cell_type": "code",
   "execution_count": 14,
   "metadata": {},
   "outputs": [
    {
     "name": "stdout",
     "output_type": "stream",
     "text": [
      "0.236616592641577 0.013070808861716451\n",
      "0.1574382906714827 0.06872145473002399\n"
     ]
    }
   ],
   "source": [
    "best_model.eval()\n",
    "gnn, classifier = best_model\n",
    "with torch.no_grad():\n",
    "    test_res = []\n",
    "    for _ in range(10):\n",
    "        _time = np.random.choice(list(test_papers.keys()))\n",
    "        node_feature, node_type, edge_time, edge_index, edge_type, field_ids, paper_ids, ylabel = pf_sample(np.random.randint(2 ** 32 - 1), test_papers, \\\n",
    "                                                       test_pairs, test_range, batch_size, test=True)\n",
    "        paper_rep = gnn.forward(node_feature.to(device), node_type.to(device), \\\n",
    "                      edge_time.to(device), edge_index.to(device), edge_type.to(device))[paper_ids]\n",
    "        res = classifier.forward(paper_rep)\n",
    "        for ai, bi in zip(ylabel, res.argsort(descending = True)):\n",
    "            test_res += [ai[bi].tolist()]\n",
    "    test_ndcg = [ndcg_at_k(resi, len(resi)) for resi in test_res]\n",
    "    print(np.average(test_ndcg), np.var(test_ndcg))\n",
    "    test_mrr = mean_reciprocal_rank(test_res)\n",
    "    print(np.average(test_mrr), np.var(test_mrr))"
   ]
  },
  {
   "cell_type": "code",
   "execution_count": null,
   "metadata": {},
   "outputs": [],
   "source": []
  },
  {
   "cell_type": "code",
   "execution_count": null,
   "metadata": {},
   "outputs": [],
   "source": []
  },
  {
   "cell_type": "code",
   "execution_count": null,
   "metadata": {},
   "outputs": [],
   "source": []
  },
  {
   "cell_type": "code",
   "execution_count": 15,
   "metadata": {},
   "outputs": [],
   "source": [
    "# without pre-train"
   ]
  },
  {
   "cell_type": "code",
   "execution_count": 16,
   "metadata": {},
   "outputs": [
    {
     "data": {
      "image/png": "[encoded data removed]",
      "text/plain": [
       "<Figure size 432x288 with 1 Axes>"
      ]
     },
     "metadata": {
      "needs_background": "light"
     },
     "output_type": "display_data"
    }
   ],
   "source": [
    "stats = np.array(stats)\n",
    "plt.plot(stats[:,0])\n",
    "plt.plot(stats[:,1])\n",
    "plt.show()"
   ]
  },
  {
   "cell_type": "code",
   "execution_count": 17,
   "metadata": {},
   "outputs": [
    {
     "name": "stdout",
     "output_type": "stream",
     "text": [
      "0.210535960603455 0.009495918391629833\n",
      "0.1073049305922487 0.04343959429308031\n"
     ]
    },
    {
     "ename": "RuntimeError",
     "evalue": "arguments are located on different GPUs at /opt/conda/conda-bld/pytorch_1570910687650/work/aten/src/THC/generic/THCTensorMathBlas.cu:277",
     "output_type": "error",
     "traceback": [
      "\u001b[0;31m---------------------------------------------------------------------------\u001b[0m",
      "\u001b[0;31mRuntimeError\u001b[0m                              Traceback (most recent call last)",
      "\u001b[0;32m<ipython-input-17-01694f3f97ba>\u001b[0m in \u001b[0;36m<module>\u001b[0;34m\u001b[0m\n\u001b[1;32m     28\u001b[0m                                                        test_pairs, test_range, batch_size, test=True)\n\u001b[1;32m     29\u001b[0m         paper_rep = gnn.forward(node_feature.to(device), node_type.to(device), \\\n\u001b[0;32m---> 30\u001b[0;31m                       edge_time.to(device), edge_index.to(device), edge_type.to(device))[paper_ids]\n\u001b[0m\u001b[1;32m     31\u001b[0m         \u001b[0mres\u001b[0m \u001b[0;34m=\u001b[0m \u001b[0mclassifier\u001b[0m\u001b[0;34m.\u001b[0m\u001b[0mforward\u001b[0m\u001b[0;34m(\u001b[0m\u001b[0mpaper_rep\u001b[0m\u001b[0;34m)\u001b[0m\u001b[0;34m\u001b[0m\u001b[0;34m\u001b[0m\u001b[0m\n\u001b[1;32m     32\u001b[0m         \u001b[0;32mfor\u001b[0m \u001b[0mai\u001b[0m\u001b[0;34m,\u001b[0m \u001b[0mbi\u001b[0m \u001b[0;32min\u001b[0m \u001b[0mzip\u001b[0m\u001b[0;34m(\u001b[0m\u001b[0mylabel\u001b[0m\u001b[0;34m,\u001b[0m \u001b[0mres\u001b[0m\u001b[0;34m.\u001b[0m\u001b[0margsort\u001b[0m\u001b[0;34m(\u001b[0m\u001b[0mdescending\u001b[0m \u001b[0;34m=\u001b[0m \u001b[0;32mTrue\u001b[0m\u001b[0;34m)\u001b[0m\u001b[0;34m)\u001b[0m\u001b[0;34m:\u001b[0m\u001b[0;34m\u001b[0m\u001b[0;34m\u001b[0m\u001b[0m\n",
      "\u001b[0;32m<ipython-input-5-d33d05f851f9>\u001b[0m in \u001b[0;36mforward\u001b[0;34m(self, node_feature, node_type, edge_time, edge_index, edge_type)\u001b[0m\n\u001b[1;32m     23\u001b[0m             \u001b[0;32mif\u001b[0m \u001b[0midx\u001b[0m\u001b[0;34m.\u001b[0m\u001b[0msum\u001b[0m\u001b[0;34m(\u001b[0m\u001b[0;34m)\u001b[0m \u001b[0;34m==\u001b[0m \u001b[0;36m0\u001b[0m\u001b[0;34m:\u001b[0m\u001b[0;34m\u001b[0m\u001b[0;34m\u001b[0m\u001b[0m\n\u001b[1;32m     24\u001b[0m                 \u001b[0;32mcontinue\u001b[0m\u001b[0;34m\u001b[0m\u001b[0;34m\u001b[0m\u001b[0m\n\u001b[0;32m---> 25\u001b[0;31m             \u001b[0mres\u001b[0m\u001b[0;34m[\u001b[0m\u001b[0midx\u001b[0m\u001b[0;34m]\u001b[0m \u001b[0;34m=\u001b[0m \u001b[0mtorch\u001b[0m\u001b[0;34m.\u001b[0m\u001b[0mtanh\u001b[0m\u001b[0;34m(\u001b[0m\u001b[0maggregat_w\u001b[0m\u001b[0;34m(\u001b[0m\u001b[0mnode_feature\u001b[0m\u001b[0;34m[\u001b[0m\u001b[0midx\u001b[0m\u001b[0;34m]\u001b[0m\u001b[0;34m)\u001b[0m\u001b[0;34m)\u001b[0m\u001b[0;34m\u001b[0m\u001b[0;34m\u001b[0m\u001b[0m\n\u001b[0m\u001b[1;32m     26\u001b[0m         \u001b[0mmeta_xs\u001b[0m \u001b[0;34m=\u001b[0m \u001b[0mself\u001b[0m\u001b[0;34m.\u001b[0m\u001b[0mdrop\u001b[0m\u001b[0;34m(\u001b[0m\u001b[0mres\u001b[0m\u001b[0;34m)\u001b[0m\u001b[0;34m\u001b[0m\u001b[0;34m\u001b[0m\u001b[0m\n\u001b[1;32m     27\u001b[0m         \u001b[0;32mdel\u001b[0m \u001b[0mres\u001b[0m\u001b[0;34m\u001b[0m\u001b[0;34m\u001b[0m\u001b[0m\n",
      "\u001b[0;32m~/anaconda3/lib/python3.7/site-packages/torch/nn/modules/module.py\u001b[0m in \u001b[0;36m__call__\u001b[0;34m(self, *input, **kwargs)\u001b[0m\n\u001b[1;32m    539\u001b[0m             \u001b[0mresult\u001b[0m \u001b[0;34m=\u001b[0m \u001b[0mself\u001b[0m\u001b[0;34m.\u001b[0m\u001b[0m_slow_forward\u001b[0m\u001b[0;34m(\u001b[0m\u001b[0;34m*\u001b[0m\u001b[0minput\u001b[0m\u001b[0;34m,\u001b[0m \u001b[0;34m**\u001b[0m\u001b[0mkwargs\u001b[0m\u001b[0;34m)\u001b[0m\u001b[0;34m\u001b[0m\u001b[0;34m\u001b[0m\u001b[0m\n\u001b[1;32m    540\u001b[0m         \u001b[0;32melse\u001b[0m\u001b[0;34m:\u001b[0m\u001b[0;34m\u001b[0m\u001b[0;34m\u001b[0m\u001b[0m\n\u001b[0;32m--> 541\u001b[0;31m             \u001b[0mresult\u001b[0m \u001b[0;34m=\u001b[0m \u001b[0mself\u001b[0m\u001b[0;34m.\u001b[0m\u001b[0mforward\u001b[0m\u001b[0;34m(\u001b[0m\u001b[0;34m*\u001b[0m\u001b[0minput\u001b[0m\u001b[0;34m,\u001b[0m \u001b[0;34m**\u001b[0m\u001b[0mkwargs\u001b[0m\u001b[0;34m)\u001b[0m\u001b[0;34m\u001b[0m\u001b[0;34m\u001b[0m\u001b[0m\n\u001b[0m\u001b[1;32m    542\u001b[0m         \u001b[0;32mfor\u001b[0m \u001b[0mhook\u001b[0m \u001b[0;32min\u001b[0m \u001b[0mself\u001b[0m\u001b[0;34m.\u001b[0m\u001b[0m_forward_hooks\u001b[0m\u001b[0;34m.\u001b[0m\u001b[0mvalues\u001b[0m\u001b[0;34m(\u001b[0m\u001b[0;34m)\u001b[0m\u001b[0;34m:\u001b[0m\u001b[0;34m\u001b[0m\u001b[0;34m\u001b[0m\u001b[0m\n\u001b[1;32m    543\u001b[0m             \u001b[0mhook_result\u001b[0m \u001b[0;34m=\u001b[0m \u001b[0mhook\u001b[0m\u001b[0;34m(\u001b[0m\u001b[0mself\u001b[0m\u001b[0;34m,\u001b[0m \u001b[0minput\u001b[0m\u001b[0;34m,\u001b[0m \u001b[0mresult\u001b[0m\u001b[0;34m)\u001b[0m\u001b[0;34m\u001b[0m\u001b[0;34m\u001b[0m\u001b[0m\n",
      "\u001b[0;32m~/anaconda3/lib/python3.7/site-packages/torch/nn/modules/linear.py\u001b[0m in \u001b[0;36mforward\u001b[0;34m(self, input)\u001b[0m\n\u001b[1;32m     85\u001b[0m \u001b[0;34m\u001b[0m\u001b[0m\n\u001b[1;32m     86\u001b[0m     \u001b[0;32mdef\u001b[0m \u001b[0mforward\u001b[0m\u001b[0;34m(\u001b[0m\u001b[0mself\u001b[0m\u001b[0;34m,\u001b[0m \u001b[0minput\u001b[0m\u001b[0;34m)\u001b[0m\u001b[0;34m:\u001b[0m\u001b[0;34m\u001b[0m\u001b[0;34m\u001b[0m\u001b[0m\n\u001b[0;32m---> 87\u001b[0;31m         \u001b[0;32mreturn\u001b[0m \u001b[0mF\u001b[0m\u001b[0;34m.\u001b[0m\u001b[0mlinear\u001b[0m\u001b[0;34m(\u001b[0m\u001b[0minput\u001b[0m\u001b[0;34m,\u001b[0m \u001b[0mself\u001b[0m\u001b[0;34m.\u001b[0m\u001b[0mweight\u001b[0m\u001b[0;34m,\u001b[0m \u001b[0mself\u001b[0m\u001b[0;34m.\u001b[0m\u001b[0mbias\u001b[0m\u001b[0;34m)\u001b[0m\u001b[0;34m\u001b[0m\u001b[0;34m\u001b[0m\u001b[0m\n\u001b[0m\u001b[1;32m     88\u001b[0m \u001b[0;34m\u001b[0m\u001b[0m\n\u001b[1;32m     89\u001b[0m     \u001b[0;32mdef\u001b[0m \u001b[0mextra_repr\u001b[0m\u001b[0;34m(\u001b[0m\u001b[0mself\u001b[0m\u001b[0;34m)\u001b[0m\u001b[0;34m:\u001b[0m\u001b[0;34m\u001b[0m\u001b[0;34m\u001b[0m\u001b[0m\n",
      "\u001b[0;32m~/anaconda3/lib/python3.7/site-packages/torch/nn/functional.py\u001b[0m in \u001b[0;36mlinear\u001b[0;34m(input, weight, bias)\u001b[0m\n\u001b[1;32m   1368\u001b[0m     \u001b[0;32mif\u001b[0m \u001b[0minput\u001b[0m\u001b[0;34m.\u001b[0m\u001b[0mdim\u001b[0m\u001b[0;34m(\u001b[0m\u001b[0;34m)\u001b[0m \u001b[0;34m==\u001b[0m \u001b[0;36m2\u001b[0m \u001b[0;32mand\u001b[0m \u001b[0mbias\u001b[0m \u001b[0;32mis\u001b[0m \u001b[0;32mnot\u001b[0m \u001b[0;32mNone\u001b[0m\u001b[0;34m:\u001b[0m\u001b[0;34m\u001b[0m\u001b[0;34m\u001b[0m\u001b[0m\n\u001b[1;32m   1369\u001b[0m         \u001b[0;31m# fused op is marginally faster\u001b[0m\u001b[0;34m\u001b[0m\u001b[0;34m\u001b[0m\u001b[0;34m\u001b[0m\u001b[0m\n\u001b[0;32m-> 1370\u001b[0;31m         \u001b[0mret\u001b[0m \u001b[0;34m=\u001b[0m \u001b[0mtorch\u001b[0m\u001b[0;34m.\u001b[0m\u001b[0maddmm\u001b[0m\u001b[0;34m(\u001b[0m\u001b[0mbias\u001b[0m\u001b[0;34m,\u001b[0m \u001b[0minput\u001b[0m\u001b[0;34m,\u001b[0m \u001b[0mweight\u001b[0m\u001b[0;34m.\u001b[0m\u001b[0mt\u001b[0m\u001b[0;34m(\u001b[0m\u001b[0;34m)\u001b[0m\u001b[0;34m)\u001b[0m\u001b[0;34m\u001b[0m\u001b[0;34m\u001b[0m\u001b[0m\n\u001b[0m\u001b[1;32m   1371\u001b[0m     \u001b[0;32melse\u001b[0m\u001b[0;34m:\u001b[0m\u001b[0;34m\u001b[0m\u001b[0;34m\u001b[0m\u001b[0m\n\u001b[1;32m   1372\u001b[0m         \u001b[0moutput\u001b[0m \u001b[0;34m=\u001b[0m \u001b[0minput\u001b[0m\u001b[0;34m.\u001b[0m\u001b[0mmatmul\u001b[0m\u001b[0;34m(\u001b[0m\u001b[0mweight\u001b[0m\u001b[0;34m.\u001b[0m\u001b[0mt\u001b[0m\u001b[0;34m(\u001b[0m\u001b[0;34m)\u001b[0m\u001b[0;34m)\u001b[0m\u001b[0;34m\u001b[0m\u001b[0;34m\u001b[0m\u001b[0m\n",
      "\u001b[0;31mRuntimeError\u001b[0m: arguments are located on different GPUs at /opt/conda/conda-bld/pytorch_1570910687650/work/aten/src/THC/generic/THCTensorMathBlas.cu:277"
     ]
    }
   ],
   "source": [
    "model.eval()\n",
    "gnn, classifier = model\n",
    "with torch.no_grad():\n",
    "    test_res = []\n",
    "    for _ in range(10):\n",
    "        _time = np.random.choice(list(test_papers.keys()))\n",
    "        node_feature, node_type, edge_time, edge_index, edge_type, field_ids, paper_ids, ylabel = pf_sample(np.random.randint(2 ** 32 - 1), test_papers, \\\n",
    "                                                       test_pairs, test_range, batch_size, test=True)\n",
    "        paper_rep = gnn.forward(node_feature.to(device), node_type.to(device), \\\n",
    "                      edge_time.to(device), edge_index.to(device), edge_type.to(device))[paper_ids]\n",
    "        res = classifier.forward(paper_rep)\n",
    "        for ai, bi in zip(ylabel, res.argsort(descending = True)):\n",
    "            test_res += [ai[bi].tolist()]\n",
    "    test_ndcg = [ndcg_at_k(resi, len(resi)) for resi in test_res]\n",
    "    print(np.average(test_ndcg), np.var(test_ndcg))\n",
    "    test_mrr = mean_reciprocal_rank(test_res)\n",
    "    print(np.average(test_mrr), np.var(test_mrr))\n",
    "    \n",
    "best_model = torch.load('./save/rgt_1.pt')\n",
    "\n",
    "best_model.eval()\n",
    "gnn, classifier = best_model\n",
    "with torch.no_grad():\n",
    "    test_res = []\n",
    "    for _ in range(10):\n",
    "        _time = np.random.choice(list(test_papers.keys()))\n",
    "        node_feature, node_type, edge_time, edge_index, edge_type, field_ids, paper_ids, ylabel = pf_sample(np.random.randint(2 ** 32 - 1), test_papers, \\\n",
    "                                                       test_pairs, test_range, batch_size, test=True)\n",
    "        paper_rep = gnn.forward(node_feature.to(device), node_type.to(device), \\\n",
    "                      edge_time.to(device), edge_index.to(device), edge_type.to(device))[paper_ids]\n",
    "        res = classifier.forward(paper_rep)\n",
    "        for ai, bi in zip(ylabel, res.argsort(descending = True)):\n",
    "            test_res += [ai[bi].tolist()]\n",
    "    test_ndcg = [ndcg_at_k(resi, len(resi)) for resi in test_res]\n",
    "    print(np.average(test_ndcg), np.var(test_ndcg))\n",
    "    test_mrr = mean_reciprocal_rank(test_res)\n",
    "    print(np.average(test_mrr), np.var(test_mrr))"
   ]
  },
  {
   "cell_type": "code",
   "execution_count": null,
   "metadata": {},
   "outputs": [],
   "source": []
  },
  {
   "cell_type": "code",
   "execution_count": null,
   "metadata": {},
   "outputs": [],
   "source": []
  },
  {
   "cell_type": "code",
   "execution_count": null,
   "metadata": {},
   "outputs": [],
   "source": []
  },
  {
   "cell_type": "code",
   "execution_count": null,
   "metadata": {},
   "outputs": [],
   "source": []
  },
  {
   "cell_type": "code",
   "execution_count": null,
   "metadata": {},
   "outputs": [],
   "source": []
  },
  {
   "cell_type": "code",
   "execution_count": null,
   "metadata": {},
   "outputs": [],
   "source": []
  },
  {
   "cell_type": "code",
   "execution_count": null,
   "metadata": {},
   "outputs": [],
   "source": []
  },
  {
   "cell_type": "code",
   "execution_count": null,
   "metadata": {},
   "outputs": [],
   "source": []
  },
  {
   "cell_type": "code",
   "execution_count": null,
   "metadata": {},
   "outputs": [],
   "source": []
  },
  {
   "cell_type": "code",
   "execution_count": null,
   "metadata": {},
   "outputs": [],
   "source": []
  },
  {
   "cell_type": "code",
   "execution_count": null,
   "metadata": {},
   "outputs": [],
   "source": []
  },
  {
   "cell_type": "code",
   "execution_count": null,
   "metadata": {},
   "outputs": [],
   "source": []
  },
  {
   "cell_type": "code",
   "execution_count": null,
   "metadata": {},
   "outputs": [],
   "source": []
  },
  {
   "cell_type": "code",
   "execution_count": null,
   "metadata": {},
   "outputs": [],
   "source": []
  },
  {
   "cell_type": "code",
   "execution_count": null,
   "metadata": {},
   "outputs": [],
   "source": []
  },
  {
   "cell_type": "code",
   "execution_count": null,
   "metadata": {},
   "outputs": [],
   "source": []
  },
  {
   "cell_type": "code",
   "execution_count": null,
   "metadata": {},
   "outputs": [],
   "source": []
  },
  {
   "cell_type": "code",
   "execution_count": null,
   "metadata": {},
   "outputs": [],
   "source": []
  },
  {
   "cell_type": "code",
   "execution_count": null,
   "metadata": {},
   "outputs": [],
   "source": []
  },
  {
   "cell_type": "code",
   "execution_count": null,
   "metadata": {},
   "outputs": [],
   "source": []
  },
  {
   "cell_type": "code",
   "execution_count": null,
   "metadata": {},
   "outputs": [],
   "source": []
  },
  {
   "cell_type": "code",
   "execution_count": null,
   "metadata": {},
   "outputs": [],
   "source": []
  },
  {
   "cell_type": "code",
   "execution_count": null,
   "metadata": {},
   "outputs": [],
   "source": []
  },
  {
   "cell_type": "code",
   "execution_count": null,
   "metadata": {},
   "outputs": [],
   "source": []
  },
  {
   "cell_type": "code",
   "execution_count": null,
   "metadata": {},
   "outputs": [],
   "source": []
  },
  {
   "cell_type": "code",
   "execution_count": null,
   "metadata": {},
   "outputs": [],
   "source": []
  },
  {
   "cell_type": "code",
   "execution_count": null,
   "metadata": {},
   "outputs": [],
   "source": [
    "l2_fields = graph.node_feature['field'][graph.node_feature['field']['attr'] == 'L2'].index.values"
   ]
  },
  {
   "cell_type": "code",
   "execution_count": null,
   "metadata": {},
   "outputs": [],
   "source": [
    "graph.node_feature['field'].iloc[[l2_fields[424]]]"
   ]
  },
  {
   "cell_type": "code",
   "execution_count": null,
   "metadata": {},
   "outputs": [],
   "source": [
    "graph.node_feature['field'].iloc[[l2_fields[637]]]"
   ]
  },
  {
   "cell_type": "code",
   "execution_count": null,
   "metadata": {},
   "outputs": [],
   "source": [
    "l2_fields[424], l2_fields[637]"
   ]
  },
  {
   "cell_type": "code",
   "execution_count": null,
   "metadata": {},
   "outputs": [],
   "source": [
    "papers = []\n",
    "mxn = 0\n",
    "for f in l2_fields:\n",
    "    p = graph.edge_list['field']['paper']['PF_in_L2'][f]\n",
    "    if len(p) > 100 and len(p) < 10000:\n",
    "        papers += [p]\n",
    "len(papers)"
   ]
  },
  {
   "cell_type": "code",
   "execution_count": null,
   "metadata": {},
   "outputs": [],
   "source": [
    "citation_matrix = np.zeros([len(papers), len(papers)])"
   ]
  },
  {
   "cell_type": "code",
   "execution_count": null,
   "metadata": {
    "scrolled": true
   },
   "outputs": [],
   "source": [
    "for i1, j1 in enumerate(papers):\n",
    "    if i1 % 10 == 0:\n",
    "        print('%d / %d' % (i1, len(papers)))\n",
    "    for i2, j2 in enumerate(papers):\n",
    "        if i2 > i1: \n",
    "            continue\n",
    "        cnt = 0\n",
    "        for p1 in j1:\n",
    "            for p2 in graph.edge_list['paper']['paper']['PP_cite'][p1]:\n",
    "                if p2 in j2:\n",
    "                    cnt += 1\n",
    "        citation_matrix[i1][i2] = cnt / len(j1) / len(j2)"
   ]
  },
  {
   "cell_type": "code",
   "execution_count": null,
   "metadata": {
    "scrolled": true
   },
   "outputs": [],
   "source": [
    "possible_ls = []\n",
    "th = 0.002\n",
    "for i in range(len(citation_matrix)):\n",
    "    for j in range(len(citation_matrix)):\n",
    "        if i >= j:\n",
    "            inter = citation_matrix[i][j]\n",
    "            left  = citation_matrix[i][i]\n",
    "            right = citation_matrix[j][j]\n",
    "#             if inter>th and left >= inter and right >= 0.7 * left and right <= left and right>=inter:\n",
    "            if inter>th and left >= inter and right>=inter:\n",
    "                if len(list(papers[i].keys()))>=2.5*len(list(papers[j].keys())):\n",
    "                    print(i,j, len(list(papers[i].keys())), len(list(papers[j].keys())))\n",
    "                    possible_ls.append([i,j])"
   ]
  },
  {
   "cell_type": "code",
   "execution_count": null,
   "metadata": {},
   "outputs": [],
   "source": [
    "paper_list_0 = list(papers[637].keys())\n",
    "paper_list_1 = list(papers[424].keys())\n",
    "print(len(paper_list_0), len(paper_list_1))\n",
    "_papers = paper_list_0 + paper_list_1\n",
    "paper_id = {j:i for i, j in enumerate(_papers)}\n",
    "paper_labels = {}\n",
    "for p in paper_list_0:\n",
    "    paper_labels[p] = 0\n",
    "for p in paper_list_1:\n",
    "    paper_labels[p] = 1"
   ]
  },
  {
   "cell_type": "code",
   "execution_count": null,
   "metadata": {},
   "outputs": [],
   "source": [
    "_papers = paper_list_0 + paper_list_1\n",
    "paper_id = {j:i for i, j in enumerate(_papers)}\n",
    "paper_labels = {}\n",
    "for p in paper_list_0:\n",
    "    paper_labels[p] = 0\n",
    "for p in paper_list_1:\n",
    "    paper_labels[p] = 1"
   ]
  },
  {
   "cell_type": "code",
   "execution_count": null,
   "metadata": {},
   "outputs": [],
   "source": [
    "edges = []\n",
    "degrees = defaultdict(lambda: 0)\n",
    "for pi in _papers:\n",
    "    for pj in  graph.edge_list['paper']['paper']['PP_cite'][pi]:\n",
    "        if pj in paper_id:\n",
    "            edges += [paper_id[pi], paper_id[pj]]\n",
    "            edges += [paper_id[pj], paper_id[pi]]\n",
    "            degrees[pi] += 1\n",
    "            degrees[pj] += 1"
   ]
  },
  {
   "cell_type": "code",
   "execution_count": null,
   "metadata": {},
   "outputs": [],
   "source": [
    "removes = {}\n",
    "for p in paper_list_0:\n",
    "    if degrees[p] <= 5 or degrees[p] > 60:\n",
    "        removes[p] = True\n",
    "for p in paper_list_1:\n",
    "    if degrees[p] <= 20 or degrees[p] > 60:\n",
    "        removes[p] = True\n",
    "_papers = [p for p in _papers if p not in removes]\n",
    "paper_id = {j:i for i, j in enumerate(_papers)}"
   ]
  },
  {
   "cell_type": "code",
   "execution_count": null,
   "metadata": {},
   "outputs": [],
   "source": [
    "edges = []\n",
    "degrees = defaultdict(lambda: 0)\n",
    "rec = {}\n",
    "for pi in _papers:\n",
    "    for pj in graph.edge_list['paper']['paper']['PP_cite'][pi]:\n",
    "        if pj in paper_id:\n",
    "            if pi != pj:\n",
    "                e = [[paper_id[pi], paper_id[pj]]]\n",
    "                if \"%d_%d\" % (paper_id[pi], paper_id[pj]) not in rec:\n",
    "                    edges += [[paper_id[pi], paper_id[pj]]]\n",
    "                    edges += [[paper_id[pj], paper_id[pi]]]\n",
    "                    rec[\"%d_%d\" % (paper_id[pi], paper_id[pj])] = True\n",
    "                    rec[\"%d_%d\" % (paper_id[pj], paper_id[pi])] = True\n",
    "                    degrees[pi] += 1\n",
    "                    degrees[pj] += 1"
   ]
  },
  {
   "cell_type": "code",
   "execution_count": null,
   "metadata": {},
   "outputs": [],
   "source": [
    "features = np.array(list(graph.node_feature['paper'].loc[_papers, 'emb']))"
   ]
  },
  {
   "cell_type": "code",
   "execution_count": null,
   "metadata": {},
   "outputs": [],
   "source": [
    "labels = []\n",
    "paper_list_0 = []\n",
    "paper_list_1 = []\n",
    "for p in _papers:\n",
    "    labels.append(paper_labels[p])\n",
    "    if paper_labels[p] == 0:\n",
    "        paper_list_0 += [p]\n",
    "    if paper_labels[p] == 1:\n",
    "        paper_list_1 += [p]\n",
    "print(len(paper_list_0), len(paper_list_1))"
   ]
  },
  {
   "cell_type": "code",
   "execution_count": null,
   "metadata": {},
   "outputs": [],
   "source": [
    "cnt = defaultdict(lambda: 0)\n",
    "for l in labels:\n",
    "    cnt[l] += 1\n",
    "cnt"
   ]
  },
  {
   "cell_type": "code",
   "execution_count": null,
   "metadata": {},
   "outputs": [],
   "source": [
    "dill.dump((edges, features, labels), open('./data.pk', 'wb'))"
   ]
  },
  {
   "cell_type": "code",
   "execution_count": null,
   "metadata": {},
   "outputs": [],
   "source": [
    "[len(paper_list_0), len(paper_list_1)]"
   ]
  },
  {
   "cell_type": "code",
   "execution_count": null,
   "metadata": {},
   "outputs": [],
   "source": [
    "tr = defaultdict(lambda: defaultdict(lambda: 0))\n",
    "for e in np.array(edges).reshape(-1, 2):\n",
    "    tr[labels[e[0]]][labels[e[1]]] += 1"
   ]
  },
  {
   "cell_type": "code",
   "execution_count": null,
   "metadata": {},
   "outputs": [],
   "source": [
    "tr[0][0] / len(paper_list_0) / len(paper_list_0)"
   ]
  },
  {
   "cell_type": "code",
   "execution_count": null,
   "metadata": {},
   "outputs": [],
   "source": [
    "tr[0][1] / len(paper_list_0) / len(paper_list_1)"
   ]
  },
  {
   "cell_type": "code",
   "execution_count": null,
   "metadata": {},
   "outputs": [],
   "source": [
    "tr[1][1] / len(paper_list_1) / len(paper_list_1)"
   ]
  },
  {
   "cell_type": "code",
   "execution_count": null,
   "metadata": {},
   "outputs": [],
   "source": [
    "tr[1][1]"
   ]
  },
  {
   "cell_type": "code",
   "execution_count": null,
   "metadata": {},
   "outputs": [],
   "source": [
    "len(paper_list_1) * len(paper_list_1)"
   ]
  }
 ],
 "metadata": {
  "kernelspec": {
   "display_name": "Python 3",
   "language": "python",
   "name": "python3"
  },
  "language_info": {
   "codemirror_mode": {
    "name": "ipython",
    "version": 3
   },
   "file_extension": ".py",
   "mimetype": "text/x-python",
   "name": "python",
   "nbconvert_exporter": "python",
   "pygments_lexer": "ipython3",
   "version": "3.7.3"
  }
 },
 "nbformat": 4,
 "nbformat_minor": 2
}
