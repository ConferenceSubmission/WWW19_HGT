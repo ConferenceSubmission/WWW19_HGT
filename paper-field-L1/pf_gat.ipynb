{
 "cells": [
  {
   "cell_type": "code",
   "execution_count": 1,
   "metadata": {},
   "outputs": [],
   "source": [
    "import sys\n",
    "sys.path.append('../')\n",
    "from utils import *\n",
    "from model import *"
   ]
  },
  {
   "cell_type": "code",
   "execution_count": 2,
   "metadata": {},
   "outputs": [],
   "source": [
    "data_dir = '/datadrive/data_bert/'\n",
    "batch_size = 256\n",
    "batch_num  = 128\n",
    "epoch_num  = 200\n",
    "samp_num   = 7\n",
    "\n",
    "device = torch.device(\"cuda:3\")\n",
    "graph = dill.load(open(data_dir + 'graph.pk', 'rb'))"
   ]
  },
  {
   "cell_type": "code",
   "execution_count": 3,
   "metadata": {},
   "outputs": [],
   "source": [
    "train_range = {t: True for t in graph.times if t != None and t <= 2015}\n",
    "valid_range = {t: True for t in graph.times if t != None and (t > 2015) & (t < 2018)}\n",
    "test_range  = {t: True for t in graph.times if t != None and t >= 2018}"
   ]
  },
  {
   "cell_type": "code",
   "execution_count": 4,
   "metadata": {},
   "outputs": [],
   "source": [
    "def pf_sample(seed, papers, pairs, t_range, batch_size, test = False):\n",
    "    np.random.seed(seed)\n",
    "    _time = np.random.choice(list(papers.keys()))\n",
    "    pids = np.array(papers[_time])[np.random.choice(len(papers[_time]), batch_size, replace = False)]\n",
    "    fids = []\n",
    "    edge = defaultdict(lambda: {})\n",
    "    for x_id, p_id in enumerate(pids):\n",
    "        f_ids = pairs[p_id]\n",
    "        for f_id in f_ids:\n",
    "            if f_id not in fids:\n",
    "                fids += [f_id]\n",
    "            edge[x_id][fids.index(f_id)] = True\n",
    "    pids = np.stack([pids, np.repeat([_time], batch_size)]).T\n",
    "    fids = np.stack([fids, np.repeat([_time], len(fids))]).T\n",
    " \n",
    "    feature, times, edge_list = sample_subgraph(graph, t_range, \\\n",
    "                inp = {'paper': pids, 'field': fids}, sampled_depth = 4, sampled_number = 128)\n",
    "\n",
    "    el = []\n",
    "    for i in edge_list['paper']['field']['rev_PF_in']:\n",
    "        if i[0] in edge and i[1] in edge[i[0]]:\n",
    "            continue\n",
    "        el += [i]\n",
    "    edge_list['paper']['field']['rev_PF_in'] = el\n",
    "\n",
    "    el = []\n",
    "    for i in edge_list['field']['paper']['PF_in']:\n",
    "        if i[1] in edge and i[0] in edge[i[1]]:\n",
    "            continue\n",
    "        el += [i]\n",
    "    edge_list['field']['paper']['PF_in'] = el\n",
    "    \n",
    "    \n",
    "    node_feature, node_type, edge_time, edge_index, edge_type, node_dict, edge_dict = \\\n",
    "            to_torch(feature, times, edge_list)\n",
    "    '''\n",
    "        Trace the paper_id and field_id by its own index plus the type start index\n",
    "    '''\n",
    "    paper_ids = np.arange(len(pids)) + node_dict['paper'][0]\n",
    "    field_ids = np.arange(len(fids)) + node_dict['field'][0]\n",
    "    ylabel = torch.zeros(batch_size, len(ids))\n",
    "    for x_id, p_id in enumerate(pids[:,0]):\n",
    "        for f_id in pairs[p_id]:\n",
    "            ylabel[x_id][list(ids).index(f_id)] = 1\n",
    "    ylabel /= ylabel.sum(axis=1).view(-1, 1)\n",
    "    return node_feature, node_type, edge_time, edge_index, edge_type, field_ids, paper_ids, ylabel\n",
    "    \n",
    "def prepare_data(pool, process_ids):\n",
    "    jobs = []\n",
    "    for process_id in process_ids[:-1]:\n",
    "        p = pool.apply_async(pf_sample, args=(np.random.randint(2**32 - 1), train_papers, \\\n",
    "                                               train_pairs, train_range, batch_size))\n",
    "        jobs.append(p)\n",
    "    p = pool.apply_async(pf_sample, args=(np.random.randint(2**32 - 1), valid_papers, \\\n",
    "                                           valid_pairs, valid_range, batch_size))\n",
    "    jobs.append(p)\n",
    "    return jobs"
   ]
  },
  {
   "cell_type": "code",
   "execution_count": 5,
   "metadata": {},
   "outputs": [],
   "source": [
    "from torch_geometric.nn import GATConv\n",
    "\n",
    "class GNN(nn.Module):\n",
    "    def __init__(self, in_dim, n_hid, n_layers, dropout = 0.5):\n",
    "        super(GNN, self).__init__()\n",
    "        self.gcs = nn.ModuleList()\n",
    "        self.adapt = nn.Linear(in_dim, n_hid)\n",
    "        self.drop  = nn.Dropout(dropout)\n",
    "        self.in_dim = in_dim\n",
    "        self.n_hid = n_hid\n",
    "        for l in range(n_layers):\n",
    "            self.gcs.append(GATConv(n_hid, n_hid // 4, heads=4))\n",
    "    def forward(self, node_feature, edge_index):\n",
    "        meta_xs = self.drop(F.relu(self.adapt(node_feature)))\n",
    "        for gc in self.gcs:\n",
    "            meta_xs = self.drop(F.relu(gc(meta_xs, edge_index)))\n",
    "        return meta_xs\n",
    "    def __repr__(self):\n",
    "        return '{}(n_hid={}, n_layers={})'.format(\n",
    "            self.__class__.__name__, self.n_hid, len(self.gcs))"
   ]
  },
  {
   "cell_type": "code",
   "execution_count": 6,
   "metadata": {},
   "outputs": [],
   "source": [
    "'''\n",
    "Paper-Field\n",
    "'''\n",
    "field_dict = dill.load(open(data_dir + 'field_dict.pk', 'rb'))\n",
    "ids = np.array([graph.node_forward['field'][k] for k in field_dict if field_dict[k][0] == 'L1'])\n",
    "\n",
    "paper_ser = {}\n",
    "\n",
    "train_pairs = {}\n",
    "valid_pairs = {}\n",
    "test_pairs  = {}\n",
    "\n",
    "train_papers = {_time: {} for _time in train_range}\n",
    "valid_papers = {_time: {} for _time in valid_range}\n",
    "test_papers  = {_time: {} for _time in test_range}\n",
    "\n",
    "for f_id in ids:\n",
    "    for p_id in graph.edge_list['field']['paper']['PF_in'][f_id]:\n",
    "        _time = graph.edge_list['field']['paper']['PF_in'][f_id][p_id]\n",
    "        if _time in train_range:\n",
    "            if p_id not in train_pairs:\n",
    "                train_pairs[p_id] = []\n",
    "            train_pairs[p_id] += [f_id]\n",
    "            train_papers[_time][p_id] = True\n",
    "        elif _time in valid_range:\n",
    "            if p_id not in valid_pairs:\n",
    "                valid_pairs[p_id] = []\n",
    "            valid_pairs[p_id] += [f_id]\n",
    "            valid_papers[_time][p_id] = True\n",
    "        else:\n",
    "            if p_id not in test_pairs:\n",
    "                test_pairs[p_id] = []\n",
    "            test_pairs[p_id] += [f_id]\n",
    "            test_papers[_time][p_id] = True\n",
    "for _time in list(train_papers.keys()):\n",
    "    if len(train_papers[_time]) < batch_size:\n",
    "        train_papers.pop(_time)\n",
    "    else:\n",
    "        train_papers[_time] = np.array(list(train_papers[_time].keys()))\n",
    "for _time in list(valid_papers.keys()):\n",
    "    if len(valid_papers[_time]) < batch_size:\n",
    "        valid_papers.pop(_time)\n",
    "    else:\n",
    "        valid_papers[_time] = np.array(list(valid_papers[_time].keys()))\n",
    "for _time in list(test_papers.keys()):\n",
    "    if len(test_papers[_time]) < batch_size:\n",
    "        test_papers.pop(_time)\n",
    "    else:\n",
    "        test_papers[_time] = np.array(list(test_papers[_time].keys()))"
   ]
  },
  {
   "cell_type": "code",
   "execution_count": 7,
   "metadata": {},
   "outputs": [],
   "source": [
    "gnn = GNN(in_dim = len(graph.node_feature['paper']['emb'][0]), n_hid = 400, n_layers = 4).to(device)\n",
    "classifier = Classifier(400, len(ids)).to(device)\n",
    "model = nn.Sequential(gnn, classifier)\n",
    "optimizer = torch.optim.AdamW(model.parameters())\n",
    "scheduler = torch.optim.lr_scheduler.CosineAnnealingLR(optimizer, 2000, eta_min=1e-6)"
   ]
  },
  {
   "cell_type": "code",
   "execution_count": 8,
   "metadata": {
    "scrolled": false
   },
   "outputs": [
    {
     "name": "stdout",
     "output_type": "stream",
     "text": [
      "Data Preparation: 145.5s\n"
     ]
    },
    {
     "name": "stderr",
     "output_type": "stream",
     "text": [
      "/home/ziniu/anaconda3/lib/python3.7/site-packages/torch/serialization.py:256: UserWarning: Couldn't retrieve source code for container of type GNN. It won't be checked for correctness upon loading.\n",
      "  \"type \" + obj.__name__ + \". It won't be checked \"\n"
     ]
    },
    {
     "name": "stdout",
     "output_type": "stream",
     "text": [
      "Epoch: 1 (19.7s)  LR: 0.00060 Train Loss: 3.69  Valid Loss: 2.87  Valid NDCG: 0.4090\n",
      "Data Preparation: 130.3s\n"
     ]
    },
    {
     "name": "stderr",
     "output_type": "stream",
     "text": [
      "/home/ziniu/anaconda3/lib/python3.7/site-packages/torch/serialization.py:256: UserWarning: Couldn't retrieve source code for container of type GNN. It won't be checked for correctness upon loading.\n",
      "  \"type \" + obj.__name__ + \". It won't be checked \"\n"
     ]
    },
    {
     "name": "stdout",
     "output_type": "stream",
     "text": [
      "Epoch: 2 (19.2s)  LR: 0.00069 Train Loss: 3.09  Valid Loss: 2.64  Valid NDCG: 0.5220\n",
      "Data Preparation: 127.9s\n",
      "Epoch: 3 (19.4s)  LR: 0.00078 Train Loss: 2.99  Valid Loss: 2.81  Valid NDCG: 0.4839\n",
      "Data Preparation: 125.3s\n",
      "Epoch: 4 (18.9s)  LR: 0.00085 Train Loss: 2.95  Valid Loss: 2.60  Valid NDCG: 0.5195\n",
      "Data Preparation: 127.8s\n",
      "Epoch: 5 (18.5s)  LR: 0.00091 Train Loss: 2.89  Valid Loss: 2.68  Valid NDCG: 0.4934\n",
      "Test NDCG: 0.473149168644164\n",
      "Data Preparation: 127.3s\n",
      "Epoch: 6 (19.5s)  LR: 0.00096 Train Loss: 2.90  Valid Loss: 2.85  Valid NDCG: 0.4940\n",
      "Data Preparation: 126.5s\n"
     ]
    },
    {
     "name": "stderr",
     "output_type": "stream",
     "text": [
      "/home/ziniu/anaconda3/lib/python3.7/site-packages/torch/serialization.py:256: UserWarning: Couldn't retrieve source code for container of type GNN. It won't be checked for correctness upon loading.\n",
      "  \"type \" + obj.__name__ + \". It won't be checked \"\n"
     ]
    },
    {
     "name": "stdout",
     "output_type": "stream",
     "text": [
      "Epoch: 7 (19.1s)  LR: 0.00099 Train Loss: 2.89  Valid Loss: 2.69  Valid NDCG: 0.5399\n",
      "Data Preparation: 126.0s\n"
     ]
    },
    {
     "name": "stderr",
     "output_type": "stream",
     "text": [
      "/home/ziniu/anaconda3/lib/python3.7/site-packages/torch/serialization.py:256: UserWarning: Couldn't retrieve source code for container of type GNN. It won't be checked for correctness upon loading.\n",
      "  \"type \" + obj.__name__ + \". It won't be checked \"\n"
     ]
    },
    {
     "name": "stdout",
     "output_type": "stream",
     "text": [
      "Epoch: 8 (19.5s)  LR: 0.00100 Train Loss: 2.84  Valid Loss: 2.53  Valid NDCG: 0.5890\n",
      "Data Preparation: 127.3s\n"
     ]
    },
    {
     "name": "stderr",
     "output_type": "stream",
     "text": [
      "/home/ziniu/anaconda3/lib/python3.7/site-packages/torch/serialization.py:256: UserWarning: Couldn't retrieve source code for container of type GNN. It won't be checked for correctness upon loading.\n",
      "  \"type \" + obj.__name__ + \". It won't be checked \"\n"
     ]
    },
    {
     "name": "stdout",
     "output_type": "stream",
     "text": [
      "Epoch: 9 (19.7s)  LR: 0.00099 Train Loss: 2.83  Valid Loss: 2.30  Valid NDCG: 0.6494\n",
      "Data Preparation: 129.4s\n",
      "Epoch: 10 (19.1s)  LR: 0.00096 Train Loss: 2.80  Valid Loss: 2.48  Valid NDCG: 0.6039\n",
      "Test NDCG: 0.5963929572987076\n",
      "Data Preparation: 126.1s\n"
     ]
    },
    {
     "name": "stderr",
     "output_type": "stream",
     "text": [
      "/home/ziniu/anaconda3/lib/python3.7/site-packages/torch/serialization.py:256: UserWarning: Couldn't retrieve source code for container of type GNN. It won't be checked for correctness upon loading.\n",
      "  \"type \" + obj.__name__ + \". It won't be checked \"\n"
     ]
    },
    {
     "name": "stdout",
     "output_type": "stream",
     "text": [
      "Epoch: 11 (18.4s)  LR: 0.00092 Train Loss: 2.56  Valid Loss: 2.12  Valid NDCG: 0.6539\n",
      "Data Preparation: 128.2s\n"
     ]
    },
    {
     "name": "stderr",
     "output_type": "stream",
     "text": [
      "/home/ziniu/anaconda3/lib/python3.7/site-packages/torch/serialization.py:256: UserWarning: Couldn't retrieve source code for container of type GNN. It won't be checked for correctness upon loading.\n",
      "  \"type \" + obj.__name__ + \". It won't be checked \"\n"
     ]
    },
    {
     "name": "stdout",
     "output_type": "stream",
     "text": [
      "Epoch: 12 (19.7s)  LR: 0.00086 Train Loss: 2.44  Valid Loss: 2.20  Valid NDCG: 0.6559\n",
      "Data Preparation: 126.4s\n"
     ]
    },
    {
     "name": "stderr",
     "output_type": "stream",
     "text": [
      "/home/ziniu/anaconda3/lib/python3.7/site-packages/torch/serialization.py:256: UserWarning: Couldn't retrieve source code for container of type GNN. It won't be checked for correctness upon loading.\n",
      "  \"type \" + obj.__name__ + \". It won't be checked \"\n"
     ]
    },
    {
     "name": "stdout",
     "output_type": "stream",
     "text": [
      "Epoch: 13 (18.6s)  LR: 0.00079 Train Loss: 2.31  Valid Loss: 1.97  Valid NDCG: 0.6896\n",
      "Data Preparation: 131.1s\n",
      "Epoch: 14 (19.3s)  LR: 0.00070 Train Loss: 2.21  Valid Loss: 2.04  Valid NDCG: 0.6622\n",
      "Data Preparation: 131.5s\n",
      "Epoch: 15 (19.4s)  LR: 0.00061 Train Loss: 2.14  Valid Loss: 2.04  Valid NDCG: 0.6838\n",
      "Test NDCG: 0.5934243774415573\n",
      "Data Preparation: 132.3s\n",
      "Epoch: 16 (19.1s)  LR: 0.00051 Train Loss: 2.08  Valid Loss: 2.13  Valid NDCG: 0.6671\n",
      "Data Preparation: 125.8s\n"
     ]
    },
    {
     "name": "stderr",
     "output_type": "stream",
     "text": [
      "/home/ziniu/anaconda3/lib/python3.7/site-packages/torch/serialization.py:256: UserWarning: Couldn't retrieve source code for container of type GNN. It won't be checked for correctness upon loading.\n",
      "  \"type \" + obj.__name__ + \". It won't be checked \"\n"
     ]
    },
    {
     "name": "stdout",
     "output_type": "stream",
     "text": [
      "Epoch: 17 (19.6s)  LR: 0.00042 Train Loss: 2.02  Valid Loss: 1.77  Valid NDCG: 0.7245\n",
      "Data Preparation: 128.2s\n"
     ]
    },
    {
     "name": "stderr",
     "output_type": "stream",
     "text": [
      "/home/ziniu/anaconda3/lib/python3.7/site-packages/torch/serialization.py:256: UserWarning: Couldn't retrieve source code for container of type GNN. It won't be checked for correctness upon loading.\n",
      "  \"type \" + obj.__name__ + \". It won't be checked \"\n"
     ]
    },
    {
     "name": "stdout",
     "output_type": "stream",
     "text": [
      "Epoch: 18 (18.9s)  LR: 0.00032 Train Loss: 1.86  Valid Loss: 1.83  Valid NDCG: 0.7259\n",
      "Data Preparation: 125.5s\n"
     ]
    },
    {
     "name": "stderr",
     "output_type": "stream",
     "text": [
      "/home/ziniu/anaconda3/lib/python3.7/site-packages/torch/serialization.py:256: UserWarning: Couldn't retrieve source code for container of type GNN. It won't be checked for correctness upon loading.\n",
      "  \"type \" + obj.__name__ + \". It won't be checked \"\n"
     ]
    },
    {
     "name": "stdout",
     "output_type": "stream",
     "text": [
      "Epoch: 19 (19.7s)  LR: 0.00024 Train Loss: 1.81  Valid Loss: 1.61  Valid NDCG: 0.7687\n",
      "Data Preparation: 130.8s\n",
      "Epoch: 20 (19.2s)  LR: 0.00016 Train Loss: 1.76  Valid Loss: 1.80  Valid NDCG: 0.7310\n",
      "Test NDCG: 0.6963492185646014\n",
      "Data Preparation: 129.4s\n",
      "Epoch: 21 (18.2s)  LR: 0.00009 Train Loss: 1.71  Valid Loss: 1.87  Valid NDCG: 0.7016\n",
      "Data Preparation: 123.8s\n",
      "Epoch: 22 (19.1s)  LR: 0.00005 Train Loss: 1.67  Valid Loss: 1.77  Valid NDCG: 0.7337\n",
      "Data Preparation: 126.3s\n",
      "Epoch: 23 (19.5s)  LR: 0.00001 Train Loss: 1.70  Valid Loss: 1.74  Valid NDCG: 0.7345\n",
      "Data Preparation: 126.4s\n",
      "Epoch: 24 (18.2s)  LR: 0.00000 Train Loss: 1.67  Valid Loss: 1.82  Valid NDCG: 0.7315\n",
      "Data Preparation: 130.2s\n",
      "Epoch: 25 (19.1s)  LR: 0.00001 Train Loss: 1.67  Valid Loss: 1.73  Valid NDCG: 0.7324\n",
      "Test NDCG: 0.7225532285320537\n",
      "Data Preparation: 127.4s\n",
      "Epoch: 26 (18.9s)  LR: 0.00003 Train Loss: 1.63  Valid Loss: 1.74  Valid NDCG: 0.7472\n",
      "Data Preparation: 131.7s\n",
      "Epoch: 27 (18.8s)  LR: 0.00007 Train Loss: 1.62  Valid Loss: 1.73  Valid NDCG: 0.7455\n",
      "Data Preparation: 130.1s\n",
      "Epoch: 28 (18.7s)  LR: 0.00013 Train Loss: 1.63  Valid Loss: 1.73  Valid NDCG: 0.7404\n",
      "Data Preparation: 129.1s\n",
      "Epoch: 29 (19.8s)  LR: 0.00020 Train Loss: 1.73  Valid Loss: 1.92  Valid NDCG: 0.6963\n",
      "Data Preparation: 127.7s\n",
      "Epoch: 30 (18.9s)  LR: 0.00029 Train Loss: 1.64  Valid Loss: 1.86  Valid NDCG: 0.6996\n",
      "Test NDCG: 0.6305474429580719\n",
      "Data Preparation: 128.4s\n",
      "Epoch: 31 (19.4s)  LR: 0.00038 Train Loss: 1.71  Valid Loss: 1.88  Valid NDCG: 0.6847\n",
      "Data Preparation: 126.9s\n",
      "Epoch: 32 (19.0s)  LR: 0.00048 Train Loss: 1.66  Valid Loss: 1.76  Valid NDCG: 0.7442\n",
      "Data Preparation: 124.6s\n",
      "Epoch: 33 (19.1s)  LR: 0.00057 Train Loss: 1.68  Valid Loss: 1.68  Valid NDCG: 0.7447\n",
      "Data Preparation: 126.4s\n",
      "Epoch: 34 (19.2s)  LR: 0.00067 Train Loss: 1.67  Valid Loss: 2.07  Valid NDCG: 0.6655\n",
      "Data Preparation: 127.0s\n",
      "Epoch: 35 (19.1s)  LR: 0.00075 Train Loss: 1.62  Valid Loss: 1.87  Valid NDCG: 0.7352\n",
      "Test NDCG: 0.7175033032981822\n",
      "Data Preparation: 130.0s\n",
      "Epoch: 36 (20.4s)  LR: 0.00083 Train Loss: 1.62  Valid Loss: 1.86  Valid NDCG: 0.7353\n",
      "Data Preparation: 126.2s\n"
     ]
    },
    {
     "name": "stderr",
     "output_type": "stream",
     "text": [
      "/home/ziniu/anaconda3/lib/python3.7/site-packages/torch/serialization.py:256: UserWarning: Couldn't retrieve source code for container of type GNN. It won't be checked for correctness upon loading.\n",
      "  \"type \" + obj.__name__ + \". It won't be checked \"\n"
     ]
    },
    {
     "name": "stdout",
     "output_type": "stream",
     "text": [
      "Epoch: 37 (19.0s)  LR: 0.00090 Train Loss: 1.59  Valid Loss: 1.55  Valid NDCG: 0.7741\n",
      "Data Preparation: 126.5s\n"
     ]
    },
    {
     "name": "stderr",
     "output_type": "stream",
     "text": [
      "/home/ziniu/anaconda3/lib/python3.7/site-packages/torch/serialization.py:256: UserWarning: Couldn't retrieve source code for container of type GNN. It won't be checked for correctness upon loading.\n",
      "  \"type \" + obj.__name__ + \". It won't be checked \"\n"
     ]
    },
    {
     "name": "stdout",
     "output_type": "stream",
     "text": [
      "Epoch: 38 (19.3s)  LR: 0.00095 Train Loss: 1.54  Valid Loss: 1.61  Valid NDCG: 0.7799\n",
      "Data Preparation: 128.9s\n",
      "Epoch: 39 (19.8s)  LR: 0.00098 Train Loss: 1.51  Valid Loss: 1.62  Valid NDCG: 0.7674\n",
      "Data Preparation: 128.0s\n",
      "Epoch: 40 (19.6s)  LR: 0.00100 Train Loss: 1.53  Valid Loss: 1.71  Valid NDCG: 0.7514\n",
      "Test NDCG: 0.7046854019846831\n",
      "Data Preparation: 127.5s\n",
      "Epoch: 41 (19.4s)  LR: 0.00100 Train Loss: 1.46  Valid Loss: 1.97  Valid NDCG: 0.6721\n",
      "Data Preparation: 137.8s\n",
      "Epoch: 42 (19.9s)  LR: 0.00097 Train Loss: 1.53  Valid Loss: 1.73  Valid NDCG: 0.7735\n",
      "Data Preparation: 140.0s\n",
      "Epoch: 43 (19.2s)  LR: 0.00093 Train Loss: 1.41  Valid Loss: 1.60  Valid NDCG: 0.7488\n",
      "Data Preparation: 155.6s\n"
     ]
    },
    {
     "name": "stderr",
     "output_type": "stream",
     "text": [
      "/home/ziniu/anaconda3/lib/python3.7/site-packages/torch/serialization.py:256: UserWarning: Couldn't retrieve source code for container of type GNN. It won't be checked for correctness upon loading.\n",
      "  \"type \" + obj.__name__ + \". It won't be checked \"\n"
     ]
    },
    {
     "name": "stdout",
     "output_type": "stream",
     "text": [
      "Epoch: 44 (20.6s)  LR: 0.00088 Train Loss: 1.35  Valid Loss: 1.51  Valid NDCG: 0.7999\n",
      "Data Preparation: 147.3s\n",
      "Epoch: 45 (21.0s)  LR: 0.00081 Train Loss: 1.37  Valid Loss: 1.65  Valid NDCG: 0.7886\n",
      "Test NDCG: 0.6769632719229253\n",
      "Data Preparation: 148.4s\n",
      "Epoch: 46 (19.1s)  LR: 0.00072 Train Loss: 1.33  Valid Loss: 1.53  Valid NDCG: 0.7986\n",
      "Data Preparation: 143.5s\n"
     ]
    },
    {
     "name": "stderr",
     "output_type": "stream",
     "text": [
      "/home/ziniu/anaconda3/lib/python3.7/site-packages/torch/serialization.py:256: UserWarning: Couldn't retrieve source code for container of type GNN. It won't be checked for correctness upon loading.\n",
      "  \"type \" + obj.__name__ + \". It won't be checked \"\n"
     ]
    },
    {
     "name": "stdout",
     "output_type": "stream",
     "text": [
      "Epoch: 47 (20.6s)  LR: 0.00063 Train Loss: 1.33  Valid Loss: 1.42  Valid NDCG: 0.8105\n",
      "Data Preparation: 140.4s\n",
      "Epoch: 48 (20.6s)  LR: 0.00054 Train Loss: 1.32  Valid Loss: 1.51  Valid NDCG: 0.7884\n",
      "Data Preparation: 144.6s\n",
      "Epoch: 49 (21.0s)  LR: 0.00044 Train Loss: 1.79  Valid Loss: 1.53  Valid NDCG: 0.7781\n",
      "Data Preparation: 150.3s\n",
      "Epoch: 50 (20.7s)  LR: 0.00035 Train Loss: 1.36  Valid Loss: 1.52  Valid NDCG: 0.8053\n",
      "Test NDCG: 0.7676916890550638\n",
      "Data Preparation: 145.1s\n",
      "Epoch: 51 (18.9s)  LR: 0.00026 Train Loss: 1.28  Valid Loss: 1.58  Valid NDCG: 0.7740\n",
      "Data Preparation: 146.6s\n",
      "Epoch: 52 (19.9s)  LR: 0.00018 Train Loss: 1.25  Valid Loss: 1.50  Valid NDCG: 0.7983\n",
      "Data Preparation: 147.3s\n"
     ]
    },
    {
     "name": "stderr",
     "output_type": "stream",
     "text": [
      "/home/ziniu/anaconda3/lib/python3.7/site-packages/torch/serialization.py:256: UserWarning: Couldn't retrieve source code for container of type GNN. It won't be checked for correctness upon loading.\n",
      "  \"type \" + obj.__name__ + \". It won't be checked \"\n"
     ]
    },
    {
     "name": "stdout",
     "output_type": "stream",
     "text": [
      "Epoch: 53 (18.9s)  LR: 0.00011 Train Loss: 1.25  Valid Loss: 1.41  Valid NDCG: 0.8180\n",
      "Data Preparation: 148.5s\n",
      "Epoch: 54 (20.3s)  LR: 0.00006 Train Loss: 1.23  Valid Loss: 1.67  Valid NDCG: 0.7594\n",
      "Data Preparation: 147.0s\n",
      "Epoch: 55 (20.6s)  LR: 0.00002 Train Loss: 1.21  Valid Loss: 1.49  Valid NDCG: 0.7947\n",
      "Test NDCG: 0.7100988265196065\n",
      "Data Preparation: 146.5s\n",
      "Epoch: 56 (21.3s)  LR: 0.00000 Train Loss: 1.25  Valid Loss: 1.73  Valid NDCG: 0.7431\n",
      "Data Preparation: 138.1s\n",
      "Epoch: 57 (21.1s)  LR: 0.00000 Train Loss: 1.24  Valid Loss: 1.43  Valid NDCG: 0.8038\n",
      "Data Preparation: 152.5s\n",
      "Epoch: 58 (18.8s)  LR: 0.00002 Train Loss: 1.21  Valid Loss: 1.46  Valid NDCG: 0.8113\n",
      "Data Preparation: 150.8s\n",
      "Epoch: 59 (21.4s)  LR: 0.00006 Train Loss: 1.24  Valid Loss: 1.56  Valid NDCG: 0.7884\n",
      "Data Preparation: 149.2s\n",
      "Epoch: 60 (19.6s)  LR: 0.00012 Train Loss: 1.23  Valid Loss: 1.68  Valid NDCG: 0.7698\n",
      "Test NDCG: 0.7408625393910572\n",
      "Data Preparation: 141.4s\n",
      "Epoch: 61 (20.3s)  LR: 0.00018 Train Loss: 1.22  Valid Loss: 1.51  Valid NDCG: 0.7876\n",
      "Data Preparation: 142.3s\n",
      "Epoch: 62 (20.3s)  LR: 0.00027 Train Loss: 1.23  Valid Loss: 1.45  Valid NDCG: 0.8074\n",
      "Data Preparation: 143.1s\n",
      "Epoch: 63 (18.5s)  LR: 0.00036 Train Loss: 1.23  Valid Loss: 1.72  Valid NDCG: 0.7421\n",
      "Data Preparation: 149.8s\n",
      "Epoch: 64 (19.8s)  LR: 0.00045 Train Loss: 1.24  Valid Loss: 1.36  Valid NDCG: 0.8156\n",
      "Data Preparation: 156.4s\n",
      "Epoch: 65 (19.9s)  LR: 0.00055 Train Loss: 1.23  Valid Loss: 1.65  Valid NDCG: 0.7582\n",
      "Test NDCG: 0.6766501988128052\n",
      "Data Preparation: 156.0s\n",
      "Epoch: 66 (20.5s)  LR: 0.00064 Train Loss: 1.29  Valid Loss: 1.67  Valid NDCG: 0.7546\n",
      "Data Preparation: 141.6s\n",
      "Epoch: 67 (18.5s)  LR: 0.00073 Train Loss: 1.27  Valid Loss: 1.62  Valid NDCG: 0.7873\n",
      "Data Preparation: 137.4s\n",
      "Epoch: 68 (20.0s)  LR: 0.00081 Train Loss: 1.27  Valid Loss: 1.94  Valid NDCG: 0.7002\n",
      "Data Preparation: 134.2s\n",
      "Epoch: 69 (18.7s)  LR: 0.00088 Train Loss: 1.28  Valid Loss: 1.72  Valid NDCG: 0.7384\n",
      "Data Preparation: 140.4s\n",
      "Epoch: 70 (20.5s)  LR: 0.00094 Train Loss: 1.37  Valid Loss: 1.96  Valid NDCG: 0.6668\n",
      "Test NDCG: 0.6274870082480064\n",
      "Data Preparation: 142.1s\n",
      "Epoch: 71 (19.5s)  LR: 0.00098 Train Loss: 1.33  Valid Loss: 1.54  Valid NDCG: 0.7750\n",
      "Data Preparation: 153.7s\n",
      "Epoch: 72 (21.3s)  LR: 0.00100 Train Loss: 1.30  Valid Loss: 1.46  Valid NDCG: 0.7829\n",
      "Data Preparation: 144.8s\n",
      "Epoch: 73 (20.0s)  LR: 0.00100 Train Loss: 1.30  Valid Loss: 1.50  Valid NDCG: 0.7920\n",
      "Data Preparation: 141.5s\n",
      "Epoch: 74 (20.9s)  LR: 0.00098 Train Loss: 1.29  Valid Loss: 1.63  Valid NDCG: 0.7519\n",
      "Data Preparation: 145.0s\n",
      "Epoch: 75 (18.9s)  LR: 0.00095 Train Loss: 1.38  Valid Loss: 1.85  Valid NDCG: 0.6970\n",
      "Test NDCG: 0.6912632857541159\n",
      "Data Preparation: 157.5s\n",
      "Epoch: 76 (19.7s)  LR: 0.00089 Train Loss: 1.34  Valid Loss: 1.68  Valid NDCG: 0.7515\n",
      "Data Preparation: 156.0s\n",
      "Epoch: 77 (21.8s)  LR: 0.00083 Train Loss: 1.43  Valid Loss: 1.85  Valid NDCG: 0.7208\n",
      "Data Preparation: 144.9s\n",
      "Epoch: 78 (20.1s)  LR: 0.00075 Train Loss: 1.24  Valid Loss: 1.73  Valid NDCG: 0.7616\n",
      "Data Preparation: 149.2s\n"
     ]
    },
    {
     "name": "stderr",
     "output_type": "stream",
     "text": [
      "/home/ziniu/anaconda3/lib/python3.7/site-packages/torch/serialization.py:256: UserWarning: Couldn't retrieve source code for container of type GNN. It won't be checked for correctness upon loading.\n",
      "  \"type \" + obj.__name__ + \". It won't be checked \"\n"
     ]
    },
    {
     "name": "stdout",
     "output_type": "stream",
     "text": [
      "Epoch: 79 (19.4s)  LR: 0.00066 Train Loss: 1.20  Valid Loss: 1.38  Valid NDCG: 0.8241\n",
      "Data Preparation: 153.6s\n",
      "Epoch: 80 (20.4s)  LR: 0.00056 Train Loss: 1.18  Valid Loss: 1.62  Valid NDCG: 0.7514\n",
      "Test NDCG: 0.6446258649732912\n",
      "Data Preparation: 151.0s\n",
      "Epoch: 81 (22.1s)  LR: 0.00047 Train Loss: 1.25  Valid Loss: 1.72  Valid NDCG: 0.7131\n",
      "Data Preparation: 147.5s\n",
      "Epoch: 82 (19.2s)  LR: 0.00037 Train Loss: 1.20  Valid Loss: 1.38  Valid NDCG: 0.8213\n",
      "Data Preparation: 149.4s\n",
      "Epoch: 83 (20.3s)  LR: 0.00028 Train Loss: 1.12  Valid Loss: 1.45  Valid NDCG: 0.7818\n",
      "Data Preparation: 152.3s\n",
      "Epoch: 84 (20.7s)  LR: 0.00020 Train Loss: 1.14  Valid Loss: 1.56  Valid NDCG: 0.7560\n",
      "Data Preparation: 150.8s\n",
      "Epoch: 85 (20.2s)  LR: 0.00013 Train Loss: 1.12  Valid Loss: 1.75  Valid NDCG: 0.7166\n",
      "Test NDCG: 0.7054293534519833\n",
      "Data Preparation: 153.9s\n",
      "Epoch: 86 (18.6s)  LR: 0.00007 Train Loss: 1.08  Valid Loss: 1.62  Valid NDCG: 0.7596\n",
      "Data Preparation: 157.4s\n",
      "Epoch: 87 (19.4s)  LR: 0.00003 Train Loss: 1.09  Valid Loss: 1.55  Valid NDCG: 0.7451\n",
      "Data Preparation: 146.4s\n",
      "Epoch: 88 (18.8s)  LR: 0.00001 Train Loss: 1.08  Valid Loss: 1.71  Valid NDCG: 0.7457\n",
      "Data Preparation: 156.4s\n",
      "Epoch: 89 (18.9s)  LR: 0.00000 Train Loss: 1.14  Valid Loss: 1.49  Valid NDCG: 0.7783\n",
      "Data Preparation: 153.4s\n",
      "Epoch: 90 (18.5s)  LR: 0.00002 Train Loss: 1.08  Valid Loss: 1.72  Valid NDCG: 0.7511\n",
      "Test NDCG: 0.726610544935884\n",
      "Data Preparation: 147.2s\n",
      "Epoch: 91 (19.4s)  LR: 0.00005 Train Loss: 1.10  Valid Loss: 1.80  Valid NDCG: 0.7225\n",
      "Data Preparation: 153.0s\n",
      "Epoch: 92 (18.2s)  LR: 0.00010 Train Loss: 1.08  Valid Loss: 1.58  Valid NDCG: 0.7611\n",
      "Data Preparation: 157.5s\n",
      "Epoch: 93 (18.7s)  LR: 0.00017 Train Loss: 1.11  Valid Loss: 1.60  Valid NDCG: 0.7692\n",
      "Data Preparation: 157.4s\n",
      "Epoch: 94 (19.3s)  LR: 0.00024 Train Loss: 1.13  Valid Loss: 1.67  Valid NDCG: 0.7510\n",
      "Data Preparation: 157.0s\n",
      "Epoch: 95 (18.9s)  LR: 0.00033 Train Loss: 1.11  Valid Loss: 1.75  Valid NDCG: 0.7188\n",
      "Test NDCG: 0.7271349153261899\n",
      "Data Preparation: 152.3s\n",
      "Epoch: 96 (18.5s)  LR: 0.00043 Train Loss: 1.06  Valid Loss: 1.83  Valid NDCG: 0.7345\n",
      "Data Preparation: 148.5s\n",
      "Epoch: 97 (18.2s)  LR: 0.00052 Train Loss: 1.09  Valid Loss: 1.65  Valid NDCG: 0.7539\n",
      "Data Preparation: 160.5s\n",
      "Epoch: 98 (18.8s)  LR: 0.00062 Train Loss: 1.12  Valid Loss: 1.47  Valid NDCG: 0.7820\n",
      "Data Preparation: 153.6s\n",
      "Epoch: 99 (19.1s)  LR: 0.00071 Train Loss: 1.14  Valid Loss: 1.98  Valid NDCG: 0.6775\n",
      "Data Preparation: 151.9s\n",
      "Epoch: 100 (18.4s)  LR: 0.00079 Train Loss: 1.13  Valid Loss: 1.68  Valid NDCG: 0.7801\n",
      "Test NDCG: 0.7383651186329132\n",
      "Data Preparation: 158.2s\n"
     ]
    },
    {
     "name": "stderr",
     "output_type": "stream",
     "text": [
      "/home/ziniu/anaconda3/lib/python3.7/site-packages/torch/serialization.py:256: UserWarning: Couldn't retrieve source code for container of type GNN. It won't be checked for correctness upon loading.\n",
      "  \"type \" + obj.__name__ + \". It won't be checked \"\n"
     ]
    },
    {
     "name": "stdout",
     "output_type": "stream",
     "text": [
      "Epoch: 101 (19.3s)  LR: 0.00087 Train Loss: 1.20  Valid Loss: 1.30  Valid NDCG: 0.8392\n",
      "Data Preparation: 157.2s\n",
      "Epoch: 102 (19.1s)  LR: 0.00093 Train Loss: 1.23  Valid Loss: 1.56  Valid NDCG: 0.7822\n",
      "Data Preparation: 154.1s\n",
      "Epoch: 103 (18.2s)  LR: 0.00097 Train Loss: 1.32  Valid Loss: 1.54  Valid NDCG: 0.7944\n",
      "Data Preparation: 156.0s\n",
      "Epoch: 104 (18.2s)  LR: 0.00099 Train Loss: 1.24  Valid Loss: 1.61  Valid NDCG: 0.7586\n",
      "Data Preparation: 149.5s\n",
      "Epoch: 105 (18.9s)  LR: 0.00100 Train Loss: 1.21  Valid Loss: 1.59  Valid NDCG: 0.7705\n",
      "Test NDCG: 0.6383168725601743\n",
      "Data Preparation: 157.1s\n",
      "Epoch: 106 (18.9s)  LR: 0.00099 Train Loss: 1.19  Valid Loss: 1.82  Valid NDCG: 0.7154\n",
      "Data Preparation: 167.2s\n",
      "Epoch: 107 (18.5s)  LR: 0.00096 Train Loss: 1.27  Valid Loss: 1.83  Valid NDCG: 0.7233\n",
      "Data Preparation: 175.7s\n",
      "Epoch: 108 (20.9s)  LR: 0.00091 Train Loss: 1.23  Valid Loss: 1.93  Valid NDCG: 0.7109\n",
      "Data Preparation: 166.3s\n",
      "Epoch: 109 (19.0s)  LR: 0.00084 Train Loss: 1.20  Valid Loss: 1.64  Valid NDCG: 0.7669\n",
      "Data Preparation: 164.9s\n",
      "Epoch: 110 (19.5s)  LR: 0.00077 Train Loss: 1.10  Valid Loss: 1.42  Valid NDCG: 0.8273\n",
      "Test NDCG: 0.7148204611988465\n",
      "Data Preparation: 163.3s\n",
      "Epoch: 111 (19.9s)  LR: 0.00068 Train Loss: 1.10  Valid Loss: 1.49  Valid NDCG: 0.7962\n",
      "Data Preparation: 168.4s\n",
      "Epoch: 112 (19.8s)  LR: 0.00059 Train Loss: 1.09  Valid Loss: 1.74  Valid NDCG: 0.7318\n",
      "Data Preparation: 165.7s\n",
      "Epoch: 113 (20.5s)  LR: 0.00049 Train Loss: 1.10  Valid Loss: 1.50  Valid NDCG: 0.7869\n",
      "Data Preparation: 168.8s\n",
      "Epoch: 114 (19.4s)  LR: 0.00039 Train Loss: 1.11  Valid Loss: 1.55  Valid NDCG: 0.7848\n",
      "Data Preparation: 171.4s\n",
      "Epoch: 115 (19.3s)  LR: 0.00030 Train Loss: 1.08  Valid Loss: 1.30  Valid NDCG: 0.8172\n",
      "Test NDCG: 0.6897348037295268\n",
      "Data Preparation: 163.7s\n",
      "Epoch: 116 (18.3s)  LR: 0.00022 Train Loss: 1.07  Valid Loss: 1.38  Valid NDCG: 0.8001\n",
      "Data Preparation: 163.8s\n",
      "Epoch: 117 (19.3s)  LR: 0.00014 Train Loss: 1.60  Valid Loss: 1.35  Valid NDCG: 0.8072\n",
      "Data Preparation: 158.4s\n",
      "Epoch: 118 (19.0s)  LR: 0.00008 Train Loss: 1.02  Valid Loss: 1.65  Valid NDCG: 0.7466\n",
      "Data Preparation: 154.5s\n",
      "Epoch: 119 (18.1s)  LR: 0.00004 Train Loss: 1.01  Valid Loss: 1.56  Valid NDCG: 0.7678\n",
      "Data Preparation: 161.0s\n",
      "Epoch: 120 (19.3s)  LR: 0.00001 Train Loss: 1.02  Valid Loss: 1.59  Valid NDCG: 0.7925\n",
      "Test NDCG: 0.6878272331505008\n",
      "Data Preparation: 156.1s\n",
      "Epoch: 121 (19.6s)  LR: 0.00000 Train Loss: 1.04  Valid Loss: 1.48  Valid NDCG: 0.7744\n",
      "Data Preparation: 155.2s\n",
      "Epoch: 122 (19.4s)  LR: 0.00001 Train Loss: 1.02  Valid Loss: 1.48  Valid NDCG: 0.7885\n",
      "Data Preparation: 148.0s\n",
      "Epoch: 123 (18.3s)  LR: 0.00004 Train Loss: 1.05  Valid Loss: 1.31  Valid NDCG: 0.8254\n",
      "Data Preparation: 156.6s\n",
      "Epoch: 124 (19.3s)  LR: 0.00009 Train Loss: 1.04  Valid Loss: 1.35  Valid NDCG: 0.8083\n",
      "Data Preparation: 161.5s\n",
      "Epoch: 125 (18.2s)  LR: 0.00015 Train Loss: 1.02  Valid Loss: 1.72  Valid NDCG: 0.7514\n",
      "Test NDCG: 0.7183740285860454\n",
      "Data Preparation: 143.1s\n",
      "Epoch: 126 (18.3s)  LR: 0.00022 Train Loss: 1.05  Valid Loss: 1.44  Valid NDCG: 0.8103\n",
      "Data Preparation: 136.8s\n",
      "Epoch: 127 (17.6s)  LR: 0.00031 Train Loss: 1.01  Valid Loss: 1.38  Valid NDCG: 0.8119\n",
      "Data Preparation: 135.9s\n",
      "Epoch: 128 (18.0s)  LR: 0.00040 Train Loss: 1.05  Valid Loss: 1.67  Valid NDCG: 0.7648\n",
      "Data Preparation: 138.4s\n",
      "Epoch: 129 (18.4s)  LR: 0.00050 Train Loss: 1.02  Valid Loss: 1.48  Valid NDCG: 0.7979\n",
      "Data Preparation: 139.7s\n",
      "Epoch: 130 (18.1s)  LR: 0.00059 Train Loss: 1.05  Valid Loss: 1.59  Valid NDCG: 0.7814\n",
      "Test NDCG: 0.6842158257964386\n",
      "Data Preparation: 138.0s\n",
      "Epoch: 131 (17.7s)  LR: 0.00069 Train Loss: 1.08  Valid Loss: 1.53  Valid NDCG: 0.8104\n",
      "Data Preparation: 138.0s\n",
      "Epoch: 132 (19.1s)  LR: 0.00077 Train Loss: 1.12  Valid Loss: 1.64  Valid NDCG: 0.7778\n",
      "Data Preparation: 148.4s\n",
      "Epoch: 133 (19.8s)  LR: 0.00085 Train Loss: 1.18  Valid Loss: 1.75  Valid NDCG: 0.7499\n",
      "Data Preparation: 155.3s\n",
      "Epoch: 134 (19.3s)  LR: 0.00091 Train Loss: 1.13  Valid Loss: 1.87  Valid NDCG: 0.7277\n",
      "Data Preparation: 161.4s\n",
      "Epoch: 135 (20.8s)  LR: 0.00096 Train Loss: 1.22  Valid Loss: 1.69  Valid NDCG: 0.7546\n",
      "Test NDCG: 0.7518014223110684\n",
      "Data Preparation: 155.2s\n",
      "Epoch: 136 (18.7s)  LR: 0.00099 Train Loss: 1.25  Valid Loss: 1.53  Valid NDCG: 0.7953\n",
      "Data Preparation: 152.9s\n",
      "Epoch: 137 (19.4s)  LR: 0.00100 Train Loss: 1.25  Valid Loss: 1.56  Valid NDCG: 0.7662\n",
      "Data Preparation: 153.0s\n",
      "Epoch: 138 (19.8s)  LR: 0.00099 Train Loss: 1.22  Valid Loss: 1.67  Valid NDCG: 0.7662\n",
      "Data Preparation: 145.6s\n",
      "Epoch: 139 (18.8s)  LR: 0.00097 Train Loss: 1.21  Valid Loss: 1.73  Valid NDCG: 0.7699\n",
      "Data Preparation: 148.9s\n",
      "Epoch: 140 (19.1s)  LR: 0.00092 Train Loss: 1.16  Valid Loss: 1.81  Valid NDCG: 0.7307\n",
      "Test NDCG: 0.6986307131020923\n",
      "Data Preparation: 148.9s\n",
      "Epoch: 141 (19.3s)  LR: 0.00086 Train Loss: 1.13  Valid Loss: 1.58  Valid NDCG: 0.7737\n",
      "Data Preparation: 159.8s\n",
      "Epoch: 142 (18.8s)  LR: 0.00079 Train Loss: 1.27  Valid Loss: 1.70  Valid NDCG: 0.7411\n",
      "Data Preparation: 151.3s\n",
      "Epoch: 143 (19.8s)  LR: 0.00070 Train Loss: 1.11  Valid Loss: 2.22  Valid NDCG: 0.6617\n",
      "Data Preparation: 146.9s\n",
      "Epoch: 144 (19.1s)  LR: 0.00061 Train Loss: 1.15  Valid Loss: 1.58  Valid NDCG: 0.7776\n",
      "Data Preparation: 150.2s\n",
      "Epoch: 145 (20.0s)  LR: 0.00052 Train Loss: 1.09  Valid Loss: 1.66  Valid NDCG: 0.7547\n",
      "Test NDCG: 0.659742337223063\n",
      "Data Preparation: 150.2s\n",
      "Epoch: 146 (19.1s)  LR: 0.00042 Train Loss: 1.06  Valid Loss: 1.46  Valid NDCG: 0.8061\n",
      "Data Preparation: 153.3s\n",
      "Epoch: 147 (19.7s)  LR: 0.00033 Train Loss: 1.07  Valid Loss: 1.79  Valid NDCG: 0.7520\n",
      "Data Preparation: 160.1s\n",
      "Epoch: 148 (19.9s)  LR: 0.00024 Train Loss: 1.03  Valid Loss: 1.70  Valid NDCG: 0.7514\n",
      "Data Preparation: 149.4s\n",
      "Epoch: 149 (19.2s)  LR: 0.00016 Train Loss: 1.01  Valid Loss: 1.56  Valid NDCG: 0.7947\n",
      "Data Preparation: 145.1s\n",
      "Epoch: 150 (17.6s)  LR: 0.00010 Train Loss: 1.01  Valid Loss: 1.65  Valid NDCG: 0.7579\n",
      "Test NDCG: 0.7426316054156227\n",
      "Data Preparation: 147.0s\n",
      "Epoch: 151 (19.4s)  LR: 0.00005 Train Loss: 1.02  Valid Loss: 1.72  Valid NDCG: 0.7698\n",
      "Data Preparation: 132.9s\n",
      "Epoch: 152 (18.7s)  LR: 0.00002 Train Loss: 0.97  Valid Loss: 1.43  Valid NDCG: 0.7958\n",
      "Data Preparation: 137.8s\n",
      "Epoch: 153 (20.4s)  LR: 0.00000 Train Loss: 1.03  Valid Loss: 1.72  Valid NDCG: 0.7414\n",
      "Data Preparation: 143.7s\n",
      "Epoch: 154 (17.6s)  LR: 0.00001 Train Loss: 0.98  Valid Loss: 1.69  Valid NDCG: 0.7623\n",
      "Data Preparation: 140.6s\n",
      "Epoch: 155 (19.7s)  LR: 0.00003 Train Loss: 1.01  Valid Loss: 1.75  Valid NDCG: 0.7329\n",
      "Test NDCG: 0.6794127929023102\n",
      "Data Preparation: 144.1s\n",
      "Epoch: 156 (19.1s)  LR: 0.00007 Train Loss: 1.03  Valid Loss: 1.69  Valid NDCG: 0.7583\n",
      "Data Preparation: 130.5s\n",
      "Epoch: 157 (18.6s)  LR: 0.00013 Train Loss: 1.02  Valid Loss: 1.59  Valid NDCG: 0.7879\n",
      "Data Preparation: 136.2s\n",
      "Epoch: 158 (21.1s)  LR: 0.00020 Train Loss: 1.04  Valid Loss: 1.88  Valid NDCG: 0.7212\n",
      "Data Preparation: 140.1s\n",
      "Epoch: 159 (20.1s)  LR: 0.00028 Train Loss: 1.04  Valid Loss: 1.71  Valid NDCG: 0.7440\n",
      "Data Preparation: 135.7s\n",
      "Epoch: 160 (20.3s)  LR: 0.00038 Train Loss: 1.00  Valid Loss: 1.73  Valid NDCG: 0.7690\n",
      "Test NDCG: 0.7402076868647554\n",
      "Data Preparation: 140.3s\n",
      "Epoch: 161 (19.3s)  LR: 0.00047 Train Loss: 1.03  Valid Loss: 2.00  Valid NDCG: 0.7005\n",
      "Data Preparation: 135.1s\n",
      "Epoch: 162 (19.2s)  LR: 0.00057 Train Loss: 1.00  Valid Loss: 1.61  Valid NDCG: 0.7667\n",
      "Data Preparation: 138.4s\n",
      "Epoch: 163 (20.1s)  LR: 0.00066 Train Loss: 1.04  Valid Loss: 1.81  Valid NDCG: 0.7356\n",
      "Data Preparation: 132.9s\n",
      "Epoch: 164 (18.4s)  LR: 0.00075 Train Loss: 1.08  Valid Loss: 1.76  Valid NDCG: 0.7322\n",
      "Data Preparation: 133.4s\n",
      "Epoch: 165 (19.9s)  LR: 0.00083 Train Loss: 1.13  Valid Loss: 2.12  Valid NDCG: 0.6773\n",
      "Test NDCG: 0.6286269726167437\n",
      "Data Preparation: 142.6s\n",
      "Epoch: 166 (19.7s)  LR: 0.00090 Train Loss: 1.22  Valid Loss: 1.96  Valid NDCG: 0.7074\n",
      "Data Preparation: 132.7s\n",
      "Epoch: 167 (19.8s)  LR: 0.00095 Train Loss: 1.09  Valid Loss: 2.11  Valid NDCG: 0.6598\n",
      "Data Preparation: 136.3s\n",
      "Epoch: 168 (19.6s)  LR: 0.00098 Train Loss: 1.11  Valid Loss: 2.06  Valid NDCG: 0.6919\n",
      "Data Preparation: 138.8s\n",
      "Epoch: 169 (19.3s)  LR: 0.00100 Train Loss: 1.13  Valid Loss: 1.77  Valid NDCG: 0.7271\n",
      "Data Preparation: 134.1s\n",
      "Epoch: 170 (19.4s)  LR: 0.00100 Train Loss: 1.10  Valid Loss: 1.96  Valid NDCG: 0.7150\n"
     ]
    },
    {
     "name": "stdout",
     "output_type": "stream",
     "text": [
      "Test NDCG: 0.7700378135475453\n",
      "Data Preparation: 139.4s\n",
      "Epoch: 171 (21.1s)  LR: 0.00097 Train Loss: 1.32  Valid Loss: 1.77  Valid NDCG: 0.7227\n",
      "Data Preparation: 130.8s\n",
      "Epoch: 172 (20.0s)  LR: 0.00094 Train Loss: 1.21  Valid Loss: 1.80  Valid NDCG: 0.7311\n",
      "Data Preparation: 137.9s\n",
      "Epoch: 173 (20.1s)  LR: 0.00088 Train Loss: 1.36  Valid Loss: 2.43  Valid NDCG: 0.5987\n",
      "Data Preparation: 131.6s\n",
      "Epoch: 174 (19.3s)  LR: 0.00081 Train Loss: 1.36  Valid Loss: 2.04  Valid NDCG: 0.7024\n",
      "Data Preparation: 136.9s\n",
      "Epoch: 175 (19.8s)  LR: 0.00073 Train Loss: 1.12  Valid Loss: 1.80  Valid NDCG: 0.7411\n",
      "Test NDCG: 0.7203141298499607\n",
      "Data Preparation: 130.3s\n",
      "Epoch: 176 (19.7s)  LR: 0.00064 Train Loss: 1.15  Valid Loss: 1.68  Valid NDCG: 0.7506\n",
      "Data Preparation: 128.9s\n",
      "Epoch: 177 (18.7s)  LR: 0.00054 Train Loss: 1.07  Valid Loss: 2.03  Valid NDCG: 0.6924\n",
      "Data Preparation: 127.9s\n",
      "Epoch: 178 (19.1s)  LR: 0.00044 Train Loss: 1.09  Valid Loss: 1.71  Valid NDCG: 0.7637\n",
      "Data Preparation: 125.3s\n",
      "Epoch: 179 (18.8s)  LR: 0.00035 Train Loss: 1.06  Valid Loss: 1.91  Valid NDCG: 0.7294\n",
      "Data Preparation: 127.0s\n",
      "Epoch: 180 (19.5s)  LR: 0.00026 Train Loss: 1.06  Valid Loss: 1.77  Valid NDCG: 0.7336\n",
      "Test NDCG: 0.6979017756906574\n",
      "Data Preparation: 127.7s\n",
      "Epoch: 181 (19.3s)  LR: 0.00018 Train Loss: 1.07  Valid Loss: 1.49  Valid NDCG: 0.8069\n",
      "Data Preparation: 133.9s\n",
      "Epoch: 182 (18.8s)  LR: 0.00011 Train Loss: 1.04  Valid Loss: 1.71  Valid NDCG: 0.7410\n",
      "Data Preparation: 126.0s\n",
      "Epoch: 183 (20.0s)  LR: 0.00006 Train Loss: 1.10  Valid Loss: 1.58  Valid NDCG: 0.7850\n",
      "Data Preparation: 127.4s\n",
      "Epoch: 184 (19.9s)  LR: 0.00002 Train Loss: 1.07  Valid Loss: 1.57  Valid NDCG: 0.7691\n",
      "Data Preparation: 133.8s\n",
      "Epoch: 185 (20.0s)  LR: 0.00000 Train Loss: 1.03  Valid Loss: 1.61  Valid NDCG: 0.7633\n",
      "Test NDCG: 0.7521152989400333\n",
      "Data Preparation: 131.2s\n",
      "Epoch: 186 (19.2s)  LR: 0.00000 Train Loss: 1.00  Valid Loss: 1.64  Valid NDCG: 0.7678\n",
      "Data Preparation: 130.5s\n",
      "Epoch: 187 (19.9s)  LR: 0.00002 Train Loss: 1.01  Valid Loss: 1.49  Valid NDCG: 0.7850\n",
      "Data Preparation: 132.0s\n",
      "Epoch: 188 (18.8s)  LR: 0.00006 Train Loss: 1.00  Valid Loss: 1.79  Valid NDCG: 0.7350\n",
      "Data Preparation: 133.9s\n",
      "Epoch: 189 (20.1s)  LR: 0.00011 Train Loss: 1.00  Valid Loss: 1.98  Valid NDCG: 0.7003\n",
      "Data Preparation: 133.3s\n",
      "Epoch: 190 (19.8s)  LR: 0.00018 Train Loss: 1.06  Valid Loss: 1.68  Valid NDCG: 0.7533\n",
      "Test NDCG: 0.7165042604163399\n",
      "Data Preparation: 132.1s\n",
      "Epoch: 191 (19.4s)  LR: 0.00026 Train Loss: 1.01  Valid Loss: 1.61  Valid NDCG: 0.7741\n",
      "Data Preparation: 129.1s\n",
      "Epoch: 192 (19.3s)  LR: 0.00035 Train Loss: 1.05  Valid Loss: 1.62  Valid NDCG: 0.7673\n",
      "Data Preparation: 134.1s\n",
      "Epoch: 193 (19.6s)  LR: 0.00045 Train Loss: 0.99  Valid Loss: 1.79  Valid NDCG: 0.7342\n",
      "Data Preparation: 135.8s\n",
      "Epoch: 194 (20.3s)  LR: 0.00054 Train Loss: 1.00  Valid Loss: 1.77  Valid NDCG: 0.7427\n",
      "Data Preparation: 140.0s\n",
      "Epoch: 195 (20.1s)  LR: 0.00064 Train Loss: 1.06  Valid Loss: 1.65  Valid NDCG: 0.7807\n",
      "Test NDCG: 0.7493518093546634\n",
      "Data Preparation: 134.7s\n",
      "Epoch: 196 (19.9s)  LR: 0.00073 Train Loss: 1.06  Valid Loss: 2.11  Valid NDCG: 0.6665\n",
      "Data Preparation: 136.0s\n",
      "Epoch: 197 (19.0s)  LR: 0.00081 Train Loss: 1.09  Valid Loss: 1.99  Valid NDCG: 0.6704\n",
      "Data Preparation: 134.3s\n",
      "Epoch: 198 (19.5s)  LR: 0.00088 Train Loss: 2.05  Valid Loss: 2.23  Valid NDCG: 0.5911\n",
      "Data Preparation: 138.0s\n",
      "Epoch: 199 (20.2s)  LR: 0.00094 Train Loss: 1.29  Valid Loss: 2.20  Valid NDCG: 0.6397\n",
      "Data Preparation: 138.0s\n",
      "Epoch: 200 (19.3s)  LR: 0.00098 Train Loss: 1.20  Valid Loss: 2.19  Valid NDCG: 0.6068\n",
      "Test NDCG: 0.4996959980043174\n"
     ]
    }
   ],
   "source": [
    "stats = []\n",
    "pool = mp.Pool(4)\n",
    "process_ids = np.arange(batch_num // 4)\n",
    "st = time.time()\n",
    "jobs = prepare_data(pool, process_ids)\n",
    "train_step = 3000\n",
    "best_val   = 0\n",
    "res = []\n",
    "criterion = nn.KLDivLoss(reduction='batchmean')\n",
    "for epoch in np.arange(epoch_num)+1:\n",
    "    '''\n",
    "        Prepare Training and Validation Data\n",
    "    '''\n",
    "    train_data = [job.get() for job in jobs[:-1]]\n",
    "    valid_data = jobs[-1].get()\n",
    "    pool.close()\n",
    "    pool.join()\n",
    "    pool = mp.Pool(4)\n",
    "    jobs = prepare_data(pool, process_ids)\n",
    "    et = time.time()\n",
    "    print('Data Preparation: %.1fs' % (et - st))\n",
    "    \n",
    "    \n",
    "    model.train()\n",
    "    train_losses = []\n",
    "    for batch in np.arange(2):\n",
    "        for node_feature, node_type, edge_time, edge_index, edge_type, field_ids, paper_ids, ylabel in train_data:\n",
    "            node_rep = gnn.forward(node_feature.to(device), edge_index.to(device))\n",
    "            res  = classifier.forward(node_rep[paper_ids])\n",
    "            loss = criterion(res, ylabel.to(device))\n",
    "            optimizer.zero_grad() \n",
    "            loss.backward()\n",
    "            optimizer.step()\n",
    "            train_losses += [loss.cpu().detach().tolist()]\n",
    "            train_step += 1\n",
    "            scheduler.step(train_step)\n",
    "    '''\n",
    "        Valid\n",
    "    '''\n",
    "    model.eval()\n",
    "    with torch.no_grad():\n",
    "        node_feature, node_type, edge_time, edge_index, edge_type, field_ids, paper_ids, ylabel = valid_data\n",
    "        node_rep = gnn.forward(node_feature.to(device), edge_index.to(device))\n",
    "        res  = classifier.forward(node_rep[paper_ids])\n",
    "        loss = criterion(res, ylabel.to(device))\n",
    "        valid_res = []\n",
    "\n",
    "        for ai, bi in zip(ylabel, res.argsort(descending = True)):\n",
    "            valid_res += [ai[bi].tolist()]\n",
    "        valid_ndcg = np.average([ndcg_at_k(resi, len(resi)) for resi in valid_res])\n",
    "        if valid_ndcg > best_val:\n",
    "            best_val = valid_ndcg\n",
    "            torch.save(model, './save/gat.pt')\n",
    "        st = time.time()\n",
    "        print((\"Epoch: %d (%.1fs)  LR: %.5f Train Loss: %.2f  Valid Loss: %.2f  Valid NDCG: %.4f\") % \\\n",
    "              (epoch, (st-et), optimizer.param_groups[0]['lr'], np.average(train_losses), loss.cpu().detach().tolist(),\\\n",
    "              valid_ndcg))\n",
    "        stats += [[np.average(train_losses), loss.cpu().detach().tolist()]]\n",
    "        if epoch % 5 == 0:\n",
    "            '''\n",
    "                Test\n",
    "            '''\n",
    "            _time = np.random.choice(list(test_papers.keys()))\n",
    "            node_feature, node_type, edge_time, edge_index, edge_type, field_ids, paper_ids, ylabel = pf_sample(np.random.randint(2 ** 32 - 1), test_papers, \\\n",
    "                                                           test_pairs, test_range, batch_size, test=True)\n",
    "            paper_rep = gnn.forward(node_feature.to(device), edge_index.to(device))[paper_ids]\n",
    "            res = classifier.forward(paper_rep)\n",
    "            test_res = []\n",
    "            for ai, bi in zip(ylabel, res.argsort(descending = True)):\n",
    "                test_res += [ai[bi].tolist()]\n",
    "            test_ndcg = np.average([ndcg_at_k(resi, len(resi)) for resi in test_res])\n",
    "            print(\"Test NDCG: \" + str(test_ndcg))\n",
    "    del train_data, valid_data"
   ]
  },
  {
   "cell_type": "code",
   "execution_count": 9,
   "metadata": {},
   "outputs": [
    {
     "data": {
      "image/png": "[encoded data removed]",
      "text/plain": [
       "<Figure size 432x288 with 1 Axes>"
      ]
     },
     "metadata": {
      "needs_background": "light"
     },
     "output_type": "display_data"
    }
   ],
   "source": [
    "stats = np.array(stats)\n",
    "plt.plot(stats[:,0])\n",
    "plt.plot(stats[:,1])\n",
    "plt.show()"
   ]
  },
  {
   "cell_type": "code",
   "execution_count": 10,
   "metadata": {},
   "outputs": [
    {
     "name": "stdout",
     "output_type": "stream",
     "text": [
      "0.5499076208170945 0.05888196896956725\n",
      "0.4344073654740088 0.11355718708779072\n"
     ]
    }
   ],
   "source": [
    "model.eval()\n",
    "gnn, classifier = model\n",
    "with torch.no_grad():\n",
    "    test_res = []\n",
    "    for _ in range(100):\n",
    "        _time = np.random.choice(list(test_papers.keys()))\n",
    "        node_feature, node_type, edge_time, edge_index, edge_type, field_ids, paper_ids, ylabel = pf_sample(np.random.randint(2 ** 32 - 1), test_papers, \\\n",
    "                                                       test_pairs, test_range, batch_size, test=True)\n",
    "        paper_rep = gnn.forward(node_feature.to(device), edge_index.to(device))[paper_ids]\n",
    "        res = classifier.forward(paper_rep)\n",
    "        for ai, bi in zip(ylabel, res.argsort(descending = True)):\n",
    "            test_res += [ai[bi].tolist()]\n",
    "    test_ndcg = [ndcg_at_k(resi, len(resi)) for resi in test_res]\n",
    "    print(np.average(test_ndcg), np.var(test_ndcg))\n",
    "    test_mrr = mean_reciprocal_rank(test_res)\n",
    "    print(np.average(test_mrr), np.var(test_mrr))"
   ]
  },
  {
   "cell_type": "code",
   "execution_count": 11,
   "metadata": {},
   "outputs": [],
   "source": [
    "model = torch.load('./save/gat.pt')"
   ]
  },
  {
   "cell_type": "code",
   "execution_count": 12,
   "metadata": {},
   "outputs": [
    {
     "name": "stdout",
     "output_type": "stream",
     "text": [
      "0.7588846660502406 0.05919264573443884\n",
      "0.7511702776761893 0.11989918615309002\n"
     ]
    }
   ],
   "source": [
    "model.eval()\n",
    "gnn, classifier = model\n",
    "with torch.no_grad():\n",
    "    test_res = []\n",
    "    for _ in range(100):\n",
    "        _time = np.random.choice(list(test_papers.keys()))\n",
    "        node_feature, node_type, edge_time, edge_index, edge_type, field_ids, paper_ids, ylabel = pf_sample(np.random.randint(2 ** 32 - 1), test_papers, \\\n",
    "                                                       test_pairs, test_range, batch_size, test=True)\n",
    "        paper_rep = gnn.forward(node_feature.to(device), edge_index.to(device))[paper_ids]\n",
    "        res = classifier.forward(paper_rep)\n",
    "        for ai, bi in zip(ylabel, res.argsort(descending = True)):\n",
    "            test_res += [ai[bi].tolist()]\n",
    "    test_ndcg = [ndcg_at_k(resi, len(resi)) for resi in test_res]\n",
    "    print(np.average(test_ndcg), np.var(test_ndcg))\n",
    "    test_mrr = mean_reciprocal_rank(test_res)\n",
    "    print(np.average(test_mrr), np.var(test_mrr))"
   ]
  }
 ],
 "metadata": {
  "kernelspec": {
   "display_name": "Python 3",
   "language": "python",
   "name": "python3"
  },
  "language_info": {
   "codemirror_mode": {
    "name": "ipython",
    "version": 3
   },
   "file_extension": ".py",
   "mimetype": "text/x-python",
   "name": "python",
   "nbconvert_exporter": "python",
   "pygments_lexer": "ipython3",
   "version": "3.7.3"
  }
 },
 "nbformat": 4,
 "nbformat_minor": 2
}
