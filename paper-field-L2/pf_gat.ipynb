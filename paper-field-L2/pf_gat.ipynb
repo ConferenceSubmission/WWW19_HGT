{
 "cells": [
  {
   "cell_type": "code",
   "execution_count": 1,
   "metadata": {},
   "outputs": [],
   "source": [
    "import sys\n",
    "sys.path.append('../')\n",
    "from utils import *\n",
    "from model import *"
   ]
  },
  {
   "cell_type": "code",
   "execution_count": 2,
   "metadata": {},
   "outputs": [],
   "source": [
    "data_dir = '/datadrive/data_cs/'\n",
    "batch_size = 256\n",
    "batch_num  = 128\n",
    "epoch_num  = 200\n",
    "samp_num   = 7\n",
    "\n",
    "device = torch.device(\"cuda:0\")\n",
    "graph = dill.load(open(data_dir + 'graph.pk', 'rb'))"
   ]
  },
  {
   "cell_type": "code",
   "execution_count": 3,
   "metadata": {},
   "outputs": [],
   "source": [
    "train_range = {t: True for t in graph.times if t != None and t < 2015}\n",
    "valid_range = {t: True for t in graph.times if t != None and t >= 2015  and t <= 2016}\n",
    "test_range  = {t: True for t in graph.times if t != None and t > 2016}"
   ]
  },
  {
   "cell_type": "code",
   "execution_count": 9,
   "metadata": {},
   "outputs": [],
   "source": [
    "def pf_sample(seed, papers, pairs, t_range, batch_size, test = False):\n",
    "    np.random.seed(seed)\n",
    "    _time = np.random.choice(list(papers.keys()))\n",
    "    sampn = min(len(papers[_time]), batch_size)\n",
    "    pids = np.array(papers[_time])[np.random.choice(len(papers[_time]), sampn, replace = False)]\n",
    "    fids = []\n",
    "    edge = defaultdict(lambda: {})\n",
    "    for x_id, p_id in enumerate(pids):\n",
    "        f_ids = pairs[p_id]\n",
    "        for f_id in f_ids:\n",
    "            if f_id not in fids:\n",
    "                fids += [f_id]\n",
    "            edge[x_id][fids.index(f_id)] = True\n",
    "    pids = np.stack([pids, np.repeat([_time], sampn)]).T\n",
    "    fids = np.stack([fids, np.repeat([_time], len(fids))]).T\n",
    " \n",
    "    feature, times, edge_list, _ = sample_subgraph(graph, t_range, \\\n",
    "                inp = {'paper': pids, 'field': fids}, sampled_depth = 3, sampled_number = 100)\n",
    "\n",
    "    el = []\n",
    "    for i in edge_list['paper']['field']['rev_PF_in_L2']:\n",
    "        if i[0] in edge and i[1] in edge[i[0]]:\n",
    "            continue\n",
    "        el += [i]\n",
    "    edge_list['paper']['field']['rev_PF_in_L2'] = el\n",
    "\n",
    "    el = []\n",
    "    for i in edge_list['field']['paper']['PF_in_L2']:\n",
    "        if i[1] in edge and i[0] in edge[i[1]]:\n",
    "            continue\n",
    "        el += [i]\n",
    "    edge_list['field']['paper']['PF_in_L2'] = el\n",
    "    \n",
    "    \n",
    "    node_feature, node_type, edge_time, edge_index, edge_type, node_dict, edge_dict = \\\n",
    "            to_torch(feature, times, edge_list, graph)\n",
    "    '''\n",
    "        Trace the paper_id and field_id by its own index plus the type start index\n",
    "    '''\n",
    "    paper_ids = np.arange(len(pids)) + node_dict['paper'][0]\n",
    "    field_ids = np.arange(len(fids)) + node_dict['field'][0]\n",
    "    ylabel = torch.zeros(sampn, len(cand_list))\n",
    "    for x_id, p_id in enumerate(pids[:,0]):\n",
    "        for f_id in pairs[p_id]:\n",
    "            ylabel[x_id][cand_list.index(f_id)] = 1\n",
    "    ylabel /= ylabel.sum(axis=1).view(-1, 1)\n",
    "    return node_feature, node_type, edge_time, edge_index, edge_type, field_ids, paper_ids, ylabel\n",
    "    \n",
    "def prepare_data(pool, process_ids):\n",
    "    jobs = []\n",
    "    for process_id in process_ids[:-1]:\n",
    "        p = pool.apply_async(pf_sample, args=(np.random.randint(2**32 - 1), train_papers, \\\n",
    "                                               train_pairs, train_range, batch_size))\n",
    "        jobs.append(p)\n",
    "    p = pool.apply_async(pf_sample, args=(np.random.randint(2**32 - 1), valid_papers, \\\n",
    "                                           valid_pairs, valid_range, batch_size))\n",
    "    jobs.append(p)\n",
    "    return jobs"
   ]
  },
  {
   "cell_type": "code",
   "execution_count": 5,
   "metadata": {},
   "outputs": [],
   "source": [
    "from torch_geometric.nn import GATConv\n",
    "class GNN(nn.Module):\n",
    "    def __init__(self, in_dim, n_hid, num_types, n_layers, dropout = 0.3):\n",
    "        super(GNN, self).__init__()\n",
    "        self.gcs = nn.ModuleList()\n",
    "        self.num_types = num_types\n",
    "        self.in_dim    = in_dim\n",
    "        self.n_hid     = n_hid\n",
    "        self.aggregat_ws   = nn.ModuleList()\n",
    "        self.drop          = nn.Dropout(dropout)\n",
    "        for t in range(num_types):\n",
    "            self.aggregat_ws.append(nn.Linear(in_dim, n_hid))\n",
    "        for l in range(n_layers):\n",
    "            self.gcs.append(GATConv(n_hid, n_hid // 8, heads=8))\n",
    "    def forward(self, node_feature, node_type, edge_index):\n",
    "        res = torch.zeros(node_feature.size(0), self.n_hid).to(node_feature.device)\n",
    "        for t_id in range(self.num_types):\n",
    "            aggregat_w = self.aggregat_ws[t_id]\n",
    "            idx = (node_type == t_id)\n",
    "            if idx.sum() == 0:\n",
    "                continue\n",
    "            res[idx] = torch.tanh(aggregat_w(node_feature[idx]))\n",
    "        meta_xs = self.drop(res)\n",
    "        del res\n",
    "        for gc in self.gcs:\n",
    "            meta_xs = self.drop(F.relu(gc(meta_xs, edge_index)))\n",
    "        return meta_xs"
   ]
  },
  {
   "cell_type": "code",
   "execution_count": 6,
   "metadata": {},
   "outputs": [],
   "source": [
    "'''\n",
    "Paper-Field\n",
    "'''\n",
    "paper_ser = {}\n",
    "\n",
    "train_pairs = {}\n",
    "valid_pairs = {}\n",
    "test_pairs  = {}\n",
    "\n",
    "train_papers = {_time: {} for _time in train_range}\n",
    "valid_papers = {_time: {} for _time in valid_range}\n",
    "test_papers  = {_time: {} for _time in test_range}\n",
    "\n",
    "for f_id in graph.edge_list['field']['paper']['PF_in_L2']:\n",
    "    for p_id in graph.edge_list['field']['paper']['PF_in_L2'][f_id]:\n",
    "        _time = graph.edge_list['field']['paper']['PF_in_L2'][f_id][p_id]\n",
    "        if _time in train_range:\n",
    "            if p_id not in train_pairs:\n",
    "                train_pairs[p_id] = []\n",
    "            train_pairs[p_id] += [f_id]\n",
    "            train_papers[_time][p_id] = True\n",
    "        elif _time in valid_range:\n",
    "            if p_id not in valid_pairs:\n",
    "                valid_pairs[p_id] = []\n",
    "            valid_pairs[p_id] += [f_id]\n",
    "            valid_papers[_time][p_id] = True\n",
    "        else:\n",
    "            if p_id not in test_pairs:\n",
    "                test_pairs[p_id] = []\n",
    "            test_pairs[p_id] += [f_id]\n",
    "            test_papers[_time][p_id] = True\n",
    "for _time in list(train_papers.keys()):\n",
    "    if len(train_papers[_time]) < batch_size // 2:\n",
    "        train_papers.pop(_time)\n",
    "    else:\n",
    "        train_papers[_time] = np.array(list(train_papers[_time].keys()))\n",
    "for _time in list(valid_papers.keys()):\n",
    "    if len(valid_papers[_time]) < batch_size // 2:\n",
    "        valid_papers.pop(_time)\n",
    "    else:\n",
    "        valid_papers[_time] = np.array(list(valid_papers[_time].keys()))\n",
    "for _time in list(test_papers.keys()):\n",
    "    if len(test_papers[_time]) < batch_size // 2:\n",
    "        test_papers.pop(_time)\n",
    "    else:\n",
    "        test_papers[_time] = np.array(list(test_papers[_time].keys()))"
   ]
  },
  {
   "cell_type": "code",
   "execution_count": 7,
   "metadata": {},
   "outputs": [],
   "source": [
    "types = graph.get_types()\n",
    "cand_list = list(graph.edge_list['field']['paper']['PF_in_L2'])\n",
    "gnn = GNN(in_dim = len(graph.node_feature['paper']['emb'][0]) + 401, n_hid = 256, n_layers = 3, num_types = len(types)).to(device)\n",
    "classifier = Classifier(256, len(cand_list)).to(device)\n",
    "model = nn.Sequential(gnn, classifier)\n",
    "optimizer = torch.optim.AdamW(model.parameters())\n",
    "scheduler = torch.optim.lr_scheduler.CosineAnnealingLR(optimizer, 1000, eta_min=1e-6)"
   ]
  },
  {
   "cell_type": "code",
   "execution_count": 10,
   "metadata": {
    "scrolled": false
   },
   "outputs": [
    {
     "name": "stdout",
     "output_type": "stream",
     "text": [
      "Data Preparation: 304.1s\n"
     ]
    },
    {
     "name": "stderr",
     "output_type": "stream",
     "text": [
      "/home/ziniu/anaconda3/lib/python3.7/site-packages/torch/serialization.py:256: UserWarning: Couldn't retrieve source code for container of type GNN. It won't be checked for correctness upon loading.\n",
      "  \"type \" + obj.__name__ + \". It won't be checked \"\n"
     ]
    },
    {
     "name": "stdout",
     "output_type": "stream",
     "text": [
      "Epoch: 1 (62.2s)  LR: 0.00073 Train Loss: 6.22  Valid Loss: 6.39  Valid NDCG: 0.2066\n",
      "Data Preparation: 262.2s\n"
     ]
    },
    {
     "name": "stderr",
     "output_type": "stream",
     "text": [
      "/home/ziniu/anaconda3/lib/python3.7/site-packages/torch/serialization.py:256: UserWarning: Couldn't retrieve source code for container of type GNN. It won't be checked for correctness upon loading.\n",
      "  \"type \" + obj.__name__ + \". It won't be checked \"\n"
     ]
    },
    {
     "name": "stdout",
     "output_type": "stream",
     "text": [
      "Epoch: 2 (71.3s)  LR: 0.00091 Train Loss: 6.12  Valid Loss: 6.53  Valid NDCG: 0.2138\n",
      "Data Preparation: 261.2s\n"
     ]
    },
    {
     "name": "stderr",
     "output_type": "stream",
     "text": [
      "/home/ziniu/anaconda3/lib/python3.7/site-packages/torch/serialization.py:256: UserWarning: Couldn't retrieve source code for container of type GNN. It won't be checked for correctness upon loading.\n",
      "  \"type \" + obj.__name__ + \". It won't be checked \"\n"
     ]
    },
    {
     "name": "stdout",
     "output_type": "stream",
     "text": [
      "Epoch: 3 (60.4s)  LR: 0.00100 Train Loss: 6.07  Valid Loss: 6.12  Valid NDCG: 0.2273\n",
      "Data Preparation: 259.7s\n",
      "Epoch: 4 (59.8s)  LR: 0.00096 Train Loss: 5.91  Valid Loss: 6.27  Valid NDCG: 0.2193\n",
      "Data Preparation: 252.6s\n"
     ]
    },
    {
     "name": "stderr",
     "output_type": "stream",
     "text": [
      "/home/ziniu/anaconda3/lib/python3.7/site-packages/torch/serialization.py:256: UserWarning: Couldn't retrieve source code for container of type GNN. It won't be checked for correctness upon loading.\n",
      "  \"type \" + obj.__name__ + \". It won't be checked \"\n"
     ]
    },
    {
     "name": "stdout",
     "output_type": "stream",
     "text": [
      "Epoch: 5 (68.5s)  LR: 0.00082 Train Loss: 5.82  Valid Loss: 6.23  Valid NDCG: 0.2362\n",
      "Test NDCG: 0.22828370243728097\n",
      "Data Preparation: 262.3s\n"
     ]
    },
    {
     "name": "stderr",
     "output_type": "stream",
     "text": [
      "/home/ziniu/anaconda3/lib/python3.7/site-packages/torch/serialization.py:256: UserWarning: Couldn't retrieve source code for container of type GNN. It won't be checked for correctness upon loading.\n",
      "  \"type \" + obj.__name__ + \". It won't be checked \"\n"
     ]
    },
    {
     "name": "stdout",
     "output_type": "stream",
     "text": [
      "Epoch: 6 (68.8s)  LR: 0.00061 Train Loss: 5.70  Valid Loss: 6.08  Valid NDCG: 0.2395\n",
      "Data Preparation: 265.2s\n",
      "Epoch: 7 (66.9s)  LR: 0.00037 Train Loss: 5.66  Valid Loss: 6.25  Valid NDCG: 0.2367\n",
      "Data Preparation: 260.6s\n"
     ]
    },
    {
     "name": "stderr",
     "output_type": "stream",
     "text": [
      "/home/ziniu/anaconda3/lib/python3.7/site-packages/torch/serialization.py:256: UserWarning: Couldn't retrieve source code for container of type GNN. It won't be checked for correctness upon loading.\n",
      "  \"type \" + obj.__name__ + \". It won't be checked \"\n"
     ]
    },
    {
     "name": "stdout",
     "output_type": "stream",
     "text": [
      "Epoch: 8 (67.4s)  LR: 0.00016 Train Loss: 5.67  Valid Loss: 5.92  Valid NDCG: 0.2400\n",
      "Data Preparation: 271.9s\n",
      "Epoch: 9 (70.4s)  LR: 0.00003 Train Loss: 5.59  Valid Loss: 6.06  Valid NDCG: 0.2395\n",
      "Data Preparation: 267.7s\n"
     ]
    },
    {
     "name": "stderr",
     "output_type": "stream",
     "text": [
      "/home/ziniu/anaconda3/lib/python3.7/site-packages/torch/serialization.py:256: UserWarning: Couldn't retrieve source code for container of type GNN. It won't be checked for correctness upon loading.\n",
      "  \"type \" + obj.__name__ + \". It won't be checked \"\n"
     ]
    },
    {
     "name": "stdout",
     "output_type": "stream",
     "text": [
      "Epoch: 10 (69.9s)  LR: 0.00001 Train Loss: 5.62  Valid Loss: 5.89  Valid NDCG: 0.2558\n",
      "Test NDCG: 0.23731540526042394\n",
      "Data Preparation: 270.7s\n"
     ]
    },
    {
     "name": "stderr",
     "output_type": "stream",
     "text": [
      "/home/ziniu/anaconda3/lib/python3.7/site-packages/torch/serialization.py:256: UserWarning: Couldn't retrieve source code for container of type GNN. It won't be checked for correctness upon loading.\n",
      "  \"type \" + obj.__name__ + \". It won't be checked \"\n"
     ]
    },
    {
     "name": "stdout",
     "output_type": "stream",
     "text": [
      "Epoch: 11 (69.3s)  LR: 0.00010 Train Loss: 5.73  Valid Loss: 5.89  Valid NDCG: 0.2616\n",
      "Data Preparation: 263.2s\n",
      "Epoch: 12 (69.9s)  LR: 0.00029 Train Loss: 5.59  Valid Loss: 6.23  Valid NDCG: 0.2397\n",
      "Data Preparation: 269.2s\n",
      "Epoch: 13 (68.8s)  LR: 0.00052 Train Loss: 5.54  Valid Loss: 6.03  Valid NDCG: 0.2603\n",
      "Data Preparation: 270.8s\n",
      "Epoch: 14 (71.6s)  LR: 0.00075 Train Loss: 5.47  Valid Loss: 6.29  Valid NDCG: 0.2418\n",
      "Data Preparation: 275.7s\n",
      "Epoch: 15 (73.3s)  LR: 0.00093 Train Loss: 5.42  Valid Loss: 6.08  Valid NDCG: 0.2564\n",
      "Test NDCG: 0.2497621349868073\n",
      "Data Preparation: 269.6s\n"
     ]
    },
    {
     "name": "stderr",
     "output_type": "stream",
     "text": [
      "/home/ziniu/anaconda3/lib/python3.7/site-packages/torch/serialization.py:256: UserWarning: Couldn't retrieve source code for container of type GNN. It won't be checked for correctness upon loading.\n",
      "  \"type \" + obj.__name__ + \". It won't be checked \"\n"
     ]
    },
    {
     "name": "stdout",
     "output_type": "stream",
     "text": [
      "Epoch: 16 (72.0s)  LR: 0.00100 Train Loss: 5.33  Valid Loss: 5.93  Valid NDCG: 0.2724\n",
      "Data Preparation: 275.9s\n",
      "Epoch: 17 (71.1s)  LR: 0.00096 Train Loss: 5.38  Valid Loss: 5.65  Valid NDCG: 0.2670\n",
      "Data Preparation: 280.0s\n",
      "Epoch: 18 (74.3s)  LR: 0.00081 Train Loss: 5.17  Valid Loss: 5.85  Valid NDCG: 0.2555\n",
      "Data Preparation: 274.1s\n"
     ]
    },
    {
     "name": "stderr",
     "output_type": "stream",
     "text": [
      "/home/ziniu/anaconda3/lib/python3.7/site-packages/torch/serialization.py:256: UserWarning: Couldn't retrieve source code for container of type GNN. It won't be checked for correctness upon loading.\n",
      "  \"type \" + obj.__name__ + \". It won't be checked \"\n"
     ]
    },
    {
     "name": "stdout",
     "output_type": "stream",
     "text": [
      "Epoch: 19 (70.3s)  LR: 0.00059 Train Loss: 5.15  Valid Loss: 5.72  Valid NDCG: 0.2759\n",
      "Data Preparation: 289.2s\n",
      "Epoch: 20 (71.1s)  LR: 0.00035 Train Loss: 5.17  Valid Loss: 5.74  Valid NDCG: 0.2644\n",
      "Test NDCG: 0.2549665340645544\n",
      "Data Preparation: 283.3s\n",
      "Epoch: 21 (69.0s)  LR: 0.00014 Train Loss: 5.18  Valid Loss: 5.58  Valid NDCG: 0.2758\n",
      "Data Preparation: 274.6s\n"
     ]
    },
    {
     "name": "stderr",
     "output_type": "stream",
     "text": [
      "/home/ziniu/anaconda3/lib/python3.7/site-packages/torch/serialization.py:256: UserWarning: Couldn't retrieve source code for container of type GNN. It won't be checked for correctness upon loading.\n",
      "  \"type \" + obj.__name__ + \". It won't be checked \"\n"
     ]
    },
    {
     "name": "stdout",
     "output_type": "stream",
     "text": [
      "Epoch: 22 (70.3s)  LR: 0.00002 Train Loss: 5.19  Valid Loss: 5.61  Valid NDCG: 0.2762\n",
      "Data Preparation: 284.8s\n",
      "Epoch: 23 (72.3s)  LR: 0.00001 Train Loss: 5.16  Valid Loss: 5.84  Valid NDCG: 0.2641\n",
      "Data Preparation: 274.5s\n"
     ]
    },
    {
     "name": "stderr",
     "output_type": "stream",
     "text": [
      "/home/ziniu/anaconda3/lib/python3.7/site-packages/torch/serialization.py:256: UserWarning: Couldn't retrieve source code for container of type GNN. It won't be checked for correctness upon loading.\n",
      "  \"type \" + obj.__name__ + \". It won't be checked \"\n"
     ]
    },
    {
     "name": "stdout",
     "output_type": "stream",
     "text": [
      "Epoch: 24 (72.2s)  LR: 0.00012 Train Loss: 5.28  Valid Loss: 5.79  Valid NDCG: 0.2792\n",
      "Data Preparation: 284.8s\n",
      "Epoch: 25 (71.7s)  LR: 0.00031 Train Loss: 5.13  Valid Loss: 5.75  Valid NDCG: 0.2722\n",
      "Test NDCG: 0.23243814111344543\n",
      "Data Preparation: 290.5s\n",
      "Epoch: 26 (73.8s)  LR: 0.00055 Train Loss: 5.04  Valid Loss: 5.72  Valid NDCG: 0.2672\n",
      "Data Preparation: 287.6s\n",
      "Epoch: 27 (72.7s)  LR: 0.00077 Train Loss: 5.12  Valid Loss: 5.77  Valid NDCG: 0.2725\n",
      "Data Preparation: 285.4s\n",
      "Epoch: 28 (69.9s)  LR: 0.00094 Train Loss: 5.05  Valid Loss: 5.77  Valid NDCG: 0.2692\n",
      "Data Preparation: 272.3s\n",
      "Epoch: 29 (70.2s)  LR: 0.00100 Train Loss: 4.87  Valid Loss: 5.70  Valid NDCG: 0.2769\n",
      "Data Preparation: 280.2s\n"
     ]
    },
    {
     "name": "stderr",
     "output_type": "stream",
     "text": [
      "/home/ziniu/anaconda3/lib/python3.7/site-packages/torch/serialization.py:256: UserWarning: Couldn't retrieve source code for container of type GNN. It won't be checked for correctness upon loading.\n",
      "  \"type \" + obj.__name__ + \". It won't be checked \"\n"
     ]
    },
    {
     "name": "stdout",
     "output_type": "stream",
     "text": [
      "Epoch: 30 (72.8s)  LR: 0.00095 Train Loss: 5.00  Valid Loss: 5.58  Valid NDCG: 0.2892\n",
      "Test NDCG: 0.2518439633857126\n",
      "Data Preparation: 278.4s\n",
      "Epoch: 31 (72.3s)  LR: 0.00079 Train Loss: 4.82  Valid Loss: 5.77  Valid NDCG: 0.2640\n",
      "Data Preparation: 273.6s\n",
      "Epoch: 32 (70.3s)  LR: 0.00056 Train Loss: 5.01  Valid Loss: 5.61  Valid NDCG: 0.2840\n",
      "Data Preparation: 272.7s\n",
      "Epoch: 33 (74.1s)  LR: 0.00032 Train Loss: 4.74  Valid Loss: 5.74  Valid NDCG: 0.2650\n",
      "Data Preparation: 278.2s\n",
      "Epoch: 34 (74.9s)  LR: 0.00013 Train Loss: 4.84  Valid Loss: 5.56  Valid NDCG: 0.2759\n",
      "Data Preparation: 278.4s\n",
      "Epoch: 35 (68.5s)  LR: 0.00001 Train Loss: 5.05  Valid Loss: 5.58  Valid NDCG: 0.2736\n",
      "Test NDCG: 0.2916938528500356\n",
      "Data Preparation: 284.8s\n",
      "Epoch: 36 (72.9s)  LR: 0.00002 Train Loss: 4.98  Valid Loss: 5.65  Valid NDCG: 0.2723\n",
      "Data Preparation: 280.2s\n",
      "Epoch: 37 (71.7s)  LR: 0.00013 Train Loss: 5.02  Valid Loss: 5.64  Valid NDCG: 0.2848\n",
      "Data Preparation: 281.2s\n",
      "Epoch: 38 (74.2s)  LR: 0.00033 Train Loss: 4.99  Valid Loss: 5.47  Valid NDCG: 0.2796\n",
      "Data Preparation: 278.4s\n",
      "Epoch: 39 (71.0s)  LR: 0.00057 Train Loss: 4.88  Valid Loss: 5.81  Valid NDCG: 0.2622\n",
      "Data Preparation: 280.9s\n",
      "Epoch: 40 (71.8s)  LR: 0.00079 Train Loss: 4.91  Valid Loss: 5.54  Valid NDCG: 0.2846\n",
      "Test NDCG: 0.28267062011572847\n",
      "Data Preparation: 280.8s\n",
      "Epoch: 41 (71.9s)  LR: 0.00095 Train Loss: 4.76  Valid Loss: 5.83  Valid NDCG: 0.2538\n",
      "Data Preparation: 289.6s\n",
      "Epoch: 42 (70.3s)  LR: 0.00100 Train Loss: 4.97  Valid Loss: 5.61  Valid NDCG: 0.2766\n",
      "Data Preparation: 290.5s\n",
      "Epoch: 43 (68.8s)  LR: 0.00093 Train Loss: 4.94  Valid Loss: 5.60  Valid NDCG: 0.2886\n",
      "Data Preparation: 271.0s\n",
      "Epoch: 44 (72.5s)  LR: 0.00077 Train Loss: 4.65  Valid Loss: 5.54  Valid NDCG: 0.2779\n",
      "Data Preparation: 275.3s\n",
      "Epoch: 45 (70.8s)  LR: 0.00054 Train Loss: 4.75  Valid Loss: 5.63  Valid NDCG: 0.2681\n",
      "Test NDCG: 0.27058661607861767\n",
      "Data Preparation: 274.3s\n"
     ]
    },
    {
     "name": "stderr",
     "output_type": "stream",
     "text": [
      "/home/ziniu/anaconda3/lib/python3.7/site-packages/torch/serialization.py:256: UserWarning: Couldn't retrieve source code for container of type GNN. It won't be checked for correctness upon loading.\n",
      "  \"type \" + obj.__name__ + \". It won't be checked \"\n"
     ]
    },
    {
     "name": "stdout",
     "output_type": "stream",
     "text": [
      "Epoch: 46 (73.4s)  LR: 0.00030 Train Loss: 4.57  Valid Loss: 5.68  Valid NDCG: 0.2912\n",
      "Data Preparation: 277.7s\n"
     ]
    },
    {
     "name": "stderr",
     "output_type": "stream",
     "text": [
      "/home/ziniu/anaconda3/lib/python3.7/site-packages/torch/serialization.py:256: UserWarning: Couldn't retrieve source code for container of type GNN. It won't be checked for correctness upon loading.\n",
      "  \"type \" + obj.__name__ + \". It won't be checked \"\n"
     ]
    },
    {
     "name": "stdout",
     "output_type": "stream",
     "text": [
      "Epoch: 47 (69.8s)  LR: 0.00011 Train Loss: 4.76  Valid Loss: 5.52  Valid NDCG: 0.2946\n",
      "Data Preparation: 289.2s\n",
      "Epoch: 48 (72.0s)  LR: 0.00001 Train Loss: 4.72  Valid Loss: 5.65  Valid NDCG: 0.2614\n",
      "Data Preparation: 278.3s\n"
     ]
    },
    {
     "name": "stderr",
     "output_type": "stream",
     "text": [
      "/home/ziniu/anaconda3/lib/python3.7/site-packages/torch/serialization.py:256: UserWarning: Couldn't retrieve source code for container of type GNN. It won't be checked for correctness upon loading.\n",
      "  \"type \" + obj.__name__ + \". It won't be checked \"\n"
     ]
    },
    {
     "name": "stdout",
     "output_type": "stream",
     "text": [
      "Epoch: 49 (72.7s)  LR: 0.00002 Train Loss: 4.72  Valid Loss: 5.36  Valid NDCG: 0.3079\n",
      "Data Preparation: 275.9s\n",
      "Epoch: 50 (68.8s)  LR: 0.00015 Train Loss: 4.73  Valid Loss: 5.73  Valid NDCG: 0.2779\n",
      "Test NDCG: 0.3100323482720163\n",
      "Data Preparation: 274.4s\n",
      "Epoch: 51 (75.1s)  LR: 0.00035 Train Loss: 4.69  Valid Loss: 5.40  Valid NDCG: 0.2998\n",
      "Data Preparation: 279.4s\n",
      "Epoch: 52 (69.6s)  LR: 0.00059 Train Loss: 4.66  Valid Loss: 5.77  Valid NDCG: 0.2734\n",
      "Data Preparation: 280.0s\n",
      "Epoch: 53 (72.4s)  LR: 0.00081 Train Loss: 4.74  Valid Loss: 5.44  Valid NDCG: 0.2846\n",
      "Data Preparation: 274.5s\n",
      "Epoch: 54 (68.1s)  LR: 0.00096 Train Loss: 4.49  Valid Loss: 5.96  Valid NDCG: 0.2532\n",
      "Data Preparation: 263.6s\n",
      "Epoch: 55 (67.0s)  LR: 0.00100 Train Loss: 4.65  Valid Loss: 5.45  Valid NDCG: 0.3048\n",
      "Test NDCG: 0.2713985896465387\n",
      "Data Preparation: 263.0s\n",
      "Epoch: 56 (69.0s)  LR: 0.00092 Train Loss: 4.62  Valid Loss: 5.40  Valid NDCG: 0.2926\n",
      "Data Preparation: 264.2s\n",
      "Epoch: 57 (71.6s)  LR: 0.00075 Train Loss: 4.62  Valid Loss: 5.57  Valid NDCG: 0.2728\n",
      "Data Preparation: 282.0s\n",
      "Epoch: 58 (73.4s)  LR: 0.00052 Train Loss: 4.65  Valid Loss: 5.56  Valid NDCG: 0.2706\n",
      "Data Preparation: 275.5s\n"
     ]
    },
    {
     "name": "stderr",
     "output_type": "stream",
     "text": [
      "/home/ziniu/anaconda3/lib/python3.7/site-packages/torch/serialization.py:256: UserWarning: Couldn't retrieve source code for container of type GNN. It won't be checked for correctness upon loading.\n",
      "  \"type \" + obj.__name__ + \". It won't be checked \"\n"
     ]
    },
    {
     "name": "stdout",
     "output_type": "stream",
     "text": [
      "Epoch: 59 (69.9s)  LR: 0.00028 Train Loss: 4.78  Valid Loss: 5.25  Valid NDCG: 0.3201\n",
      "Data Preparation: 278.9s\n",
      "Epoch: 60 (72.6s)  LR: 0.00010 Train Loss: 4.44  Valid Loss: 5.51  Valid NDCG: 0.2821\n",
      "Test NDCG: 0.2922110297437839\n",
      "Data Preparation: 273.6s\n",
      "Epoch: 61 (69.8s)  LR: 0.00001 Train Loss: 4.69  Valid Loss: 5.57  Valid NDCG: 0.2861\n",
      "Data Preparation: 275.0s\n",
      "Epoch: 62 (69.8s)  LR: 0.00003 Train Loss: 4.77  Valid Loss: 5.73  Valid NDCG: 0.2731\n",
      "Data Preparation: 284.6s\n",
      "Epoch: 63 (70.1s)  LR: 0.00016 Train Loss: 4.79  Valid Loss: 5.63  Valid NDCG: 0.2782\n",
      "Data Preparation: 277.5s\n",
      "Epoch: 64 (69.3s)  LR: 0.00038 Train Loss: 4.49  Valid Loss: 5.50  Valid NDCG: 0.2862\n",
      "Data Preparation: 276.1s\n",
      "Epoch: 65 (72.0s)  LR: 0.00062 Train Loss: 4.72  Valid Loss: 6.05  Valid NDCG: 0.2588\n",
      "Test NDCG: 0.26699706373674964\n",
      "Data Preparation: 280.6s\n",
      "Epoch: 66 (72.9s)  LR: 0.00083 Train Loss: 4.50  Valid Loss: 6.05  Valid NDCG: 0.2557\n",
      "Data Preparation: 276.6s\n",
      "Epoch: 67 (69.9s)  LR: 0.00097 Train Loss: 4.62  Valid Loss: 5.47  Valid NDCG: 0.3003\n",
      "Data Preparation: 279.1s\n",
      "Epoch: 68 (74.2s)  LR: 0.00100 Train Loss: 4.67  Valid Loss: 5.63  Valid NDCG: 0.2737\n",
      "Data Preparation: 272.2s\n",
      "Epoch: 69 (70.1s)  LR: 0.00091 Train Loss: 4.58  Valid Loss: 5.65  Valid NDCG: 0.2756\n",
      "Data Preparation: 266.4s\n",
      "Epoch: 70 (67.4s)  LR: 0.00073 Train Loss: 4.46  Valid Loss: 5.64  Valid NDCG: 0.2894\n",
      "Test NDCG: 0.30056104258989613\n",
      "Data Preparation: 287.8s\n",
      "Epoch: 71 (66.1s)  LR: 0.00049 Train Loss: 4.64  Valid Loss: 5.69  Valid NDCG: 0.2890\n",
      "Data Preparation: 284.6s\n",
      "Epoch: 72 (71.0s)  LR: 0.00026 Train Loss: 4.46  Valid Loss: 5.82  Valid NDCG: 0.2766\n",
      "Data Preparation: 278.7s\n",
      "Epoch: 73 (71.2s)  LR: 0.00008 Train Loss: 4.34  Valid Loss: 5.68  Valid NDCG: 0.2695\n",
      "Data Preparation: 276.1s\n",
      "Epoch: 74 (72.0s)  LR: 0.00000 Train Loss: 4.34  Valid Loss: 5.81  Valid NDCG: 0.2695\n",
      "Data Preparation: 282.5s\n",
      "Epoch: 75 (71.2s)  LR: 0.00004 Train Loss: 4.72  Valid Loss: 5.61  Valid NDCG: 0.2616\n",
      "Test NDCG: 0.30453473279550847\n",
      "Data Preparation: 268.7s\n",
      "Epoch: 76 (70.4s)  LR: 0.00018 Train Loss: 4.38  Valid Loss: 5.67  Valid NDCG: 0.2759\n",
      "Data Preparation: 273.9s\n",
      "Epoch: 77 (71.6s)  LR: 0.00040 Train Loss: 4.53  Valid Loss: 5.68  Valid NDCG: 0.2714\n",
      "Data Preparation: 279.2s\n",
      "Epoch: 78 (65.7s)  LR: 0.00064 Train Loss: 4.44  Valid Loss: 5.99  Valid NDCG: 0.2707\n",
      "Data Preparation: 286.4s\n",
      "Epoch: 79 (67.6s)  LR: 0.00085 Train Loss: 4.68  Valid Loss: 5.77  Valid NDCG: 0.2757\n",
      "Data Preparation: 294.8s\n",
      "Epoch: 80 (69.9s)  LR: 0.00098 Train Loss: 4.48  Valid Loss: 5.68  Valid NDCG: 0.2888\n",
      "Test NDCG: 0.26543484713894067\n",
      "Data Preparation: 266.6s\n",
      "Epoch: 81 (70.9s)  LR: 0.00099 Train Loss: 4.31  Valid Loss: 5.60  Valid NDCG: 0.2958\n",
      "Data Preparation: 273.0s\n",
      "Epoch: 82 (71.6s)  LR: 0.00090 Train Loss: 4.58  Valid Loss: 5.57  Valid NDCG: 0.3053\n",
      "Data Preparation: 275.7s\n",
      "Epoch: 83 (73.4s)  LR: 0.00071 Train Loss: 4.50  Valid Loss: 5.91  Valid NDCG: 0.2670\n",
      "Data Preparation: 282.0s\n",
      "Epoch: 84 (70.1s)  LR: 0.00047 Train Loss: 4.47  Valid Loss: 5.42  Valid NDCG: 0.3056\n",
      "Data Preparation: 286.0s\n",
      "Epoch: 85 (70.8s)  LR: 0.00024 Train Loss: 4.40  Valid Loss: 5.82  Valid NDCG: 0.2757\n",
      "Test NDCG: 0.30299563413021724\n",
      "Data Preparation: 285.0s\n",
      "Epoch: 86 (70.5s)  LR: 0.00007 Train Loss: 4.44  Valid Loss: 5.75  Valid NDCG: 0.2774\n",
      "Data Preparation: 269.0s\n",
      "Epoch: 87 (73.6s)  LR: 0.00000 Train Loss: 4.40  Valid Loss: 5.36  Valid NDCG: 0.2978\n",
      "Data Preparation: 271.4s\n",
      "Epoch: 88 (72.1s)  LR: 0.00005 Train Loss: 4.57  Valid Loss: 5.57  Valid NDCG: 0.2862\n",
      "Data Preparation: 281.7s\n",
      "Epoch: 89 (70.1s)  LR: 0.00020 Train Loss: 4.47  Valid Loss: 5.80  Valid NDCG: 0.2858\n",
      "Data Preparation: 272.6s\n",
      "Epoch: 90 (74.2s)  LR: 0.00042 Train Loss: 4.17  Valid Loss: 5.23  Valid NDCG: 0.3059\n",
      "Test NDCG: 0.29161433101652656\n",
      "Data Preparation: 269.0s\n",
      "Epoch: 91 (71.7s)  LR: 0.00066 Train Loss: 4.30  Valid Loss: 5.84  Valid NDCG: 0.2753\n",
      "Data Preparation: 279.9s\n",
      "Epoch: 92 (68.3s)  LR: 0.00086 Train Loss: 4.38  Valid Loss: 5.86  Valid NDCG: 0.2683\n",
      "Data Preparation: 281.9s\n",
      "Epoch: 93 (73.0s)  LR: 0.00098 Train Loss: 4.45  Valid Loss: 5.52  Valid NDCG: 0.2917\n",
      "Data Preparation: 275.8s\n",
      "Epoch: 94 (73.1s)  LR: 0.00099 Train Loss: 4.35  Valid Loss: 5.70  Valid NDCG: 0.2942\n",
      "Data Preparation: 272.6s\n",
      "Epoch: 95 (70.6s)  LR: 0.00088 Train Loss: 4.44  Valid Loss: 5.63  Valid NDCG: 0.2834\n",
      "Test NDCG: 0.31147198364326023\n",
      "Data Preparation: 276.5s\n",
      "Epoch: 96 (72.9s)  LR: 0.00068 Train Loss: 4.27  Valid Loss: 5.79  Valid NDCG: 0.2896\n",
      "Data Preparation: 278.5s\n",
      "Epoch: 97 (70.7s)  LR: 0.00045 Train Loss: 4.55  Valid Loss: 5.51  Valid NDCG: 0.2928\n",
      "Data Preparation: 278.5s\n",
      "Epoch: 98 (71.9s)  LR: 0.00022 Train Loss: 4.30  Valid Loss: 5.56  Valid NDCG: 0.2949\n",
      "Data Preparation: 277.3s\n",
      "Epoch: 99 (72.1s)  LR: 0.00006 Train Loss: 4.34  Valid Loss: 5.59  Valid NDCG: 0.2794\n",
      "Data Preparation: 275.1s\n",
      "Epoch: 100 (69.4s)  LR: 0.00000 Train Loss: 4.45  Valid Loss: 5.52  Valid NDCG: 0.2881\n",
      "Test NDCG: 0.271238262290474\n",
      "Data Preparation: 278.7s\n",
      "Epoch: 101 (74.3s)  LR: 0.00006 Train Loss: 4.41  Valid Loss: 5.56  Valid NDCG: 0.2848\n",
      "Data Preparation: 271.3s\n",
      "Epoch: 102 (71.8s)  LR: 0.00022 Train Loss: 4.51  Valid Loss: 5.73  Valid NDCG: 0.2951\n",
      "Data Preparation: 283.1s\n",
      "Epoch: 103 (74.2s)  LR: 0.00045 Train Loss: 4.64  Valid Loss: 5.60  Valid NDCG: 0.2869\n",
      "Data Preparation: 278.1s\n",
      "Epoch: 104 (71.8s)  LR: 0.00068 Train Loss: 4.52  Valid Loss: 5.43  Valid NDCG: 0.2985\n",
      "Data Preparation: 285.2s\n",
      "Epoch: 105 (74.1s)  LR: 0.00088 Train Loss: 4.45  Valid Loss: 5.98  Valid NDCG: 0.2737\n",
      "Test NDCG: 0.30530664088666104\n",
      "Data Preparation: 279.5s\n",
      "Epoch: 106 (71.1s)  LR: 0.00099 Train Loss: 4.49  Valid Loss: 5.50  Valid NDCG: 0.2982\n",
      "Data Preparation: 286.0s\n",
      "Epoch: 107 (70.5s)  LR: 0.00098 Train Loss: 4.45  Valid Loss: 5.45  Valid NDCG: 0.3108\n",
      "Data Preparation: 281.8s\n",
      "Epoch: 108 (70.6s)  LR: 0.00086 Train Loss: 4.33  Valid Loss: 5.94  Valid NDCG: 0.2869\n",
      "Data Preparation: 271.4s\n",
      "Epoch: 109 (66.8s)  LR: 0.00066 Train Loss: 4.36  Valid Loss: 5.51  Valid NDCG: 0.3052\n",
      "Data Preparation: 279.6s\n",
      "Epoch: 110 (68.8s)  LR: 0.00042 Train Loss: 4.53  Valid Loss: 5.72  Valid NDCG: 0.3020\n",
      "Test NDCG: 0.2823837863665538\n",
      "Data Preparation: 282.5s\n",
      "Epoch: 111 (71.9s)  LR: 0.00020 Train Loss: 4.36  Valid Loss: 5.55  Valid NDCG: 0.3019\n",
      "Data Preparation: 281.8s\n",
      "Epoch: 112 (70.6s)  LR: 0.00005 Train Loss: 4.33  Valid Loss: 5.76  Valid NDCG: 0.2973\n",
      "Data Preparation: 275.5s\n",
      "Epoch: 113 (75.0s)  LR: 0.00000 Train Loss: 4.26  Valid Loss: 5.95  Valid NDCG: 0.2849\n",
      "Data Preparation: 275.9s\n",
      "Epoch: 114 (69.9s)  LR: 0.00007 Train Loss: 4.40  Valid Loss: 5.58  Valid NDCG: 0.3069\n",
      "Data Preparation: 275.6s\n",
      "Epoch: 115 (69.6s)  LR: 0.00024 Train Loss: 4.41  Valid Loss: 5.87  Valid NDCG: 0.3018\n",
      "Test NDCG: 0.2999721964333705\n",
      "Data Preparation: 279.7s\n",
      "Epoch: 116 (70.5s)  LR: 0.00047 Train Loss: 4.18  Valid Loss: 5.93  Valid NDCG: 0.2938\n",
      "Data Preparation: 278.0s\n",
      "Epoch: 117 (72.9s)  LR: 0.00071 Train Loss: 4.23  Valid Loss: 5.80  Valid NDCG: 0.2995\n",
      "Data Preparation: 281.3s\n",
      "Epoch: 118 (70.4s)  LR: 0.00090 Train Loss: 4.14  Valid Loss: 5.48  Valid NDCG: 0.3158\n",
      "Data Preparation: 280.9s\n",
      "Epoch: 119 (67.2s)  LR: 0.00099 Train Loss: 4.06  Valid Loss: 5.75  Valid NDCG: 0.2990\n",
      "Data Preparation: 273.7s\n",
      "Epoch: 120 (71.7s)  LR: 0.00098 Train Loss: 4.21  Valid Loss: 5.68  Valid NDCG: 0.2987\n",
      "Test NDCG: 0.3216842446479635\n",
      "Data Preparation: 282.8s\n",
      "Epoch: 121 (72.9s)  LR: 0.00085 Train Loss: 4.27  Valid Loss: 5.72  Valid NDCG: 0.3099\n",
      "Data Preparation: 272.9s\n",
      "Epoch: 122 (70.8s)  LR: 0.00064 Train Loss: 4.23  Valid Loss: 5.70  Valid NDCG: 0.2957\n",
      "Data Preparation: 284.7s\n",
      "Epoch: 123 (71.4s)  LR: 0.00040 Train Loss: 4.25  Valid Loss: 5.80  Valid NDCG: 0.3079\n",
      "Data Preparation: 276.3s\n",
      "Epoch: 124 (71.6s)  LR: 0.00018 Train Loss: 4.21  Valid Loss: 6.05  Valid NDCG: 0.2775\n",
      "Data Preparation: 282.9s\n",
      "Epoch: 125 (71.9s)  LR: 0.00004 Train Loss: 4.41  Valid Loss: 5.86  Valid NDCG: 0.2904\n",
      "Test NDCG: 0.27685624748350934\n",
      "Data Preparation: 280.0s\n",
      "Epoch: 126 (72.6s)  LR: 0.00000 Train Loss: 4.36  Valid Loss: 6.05  Valid NDCG: 0.2805\n",
      "Data Preparation: 280.8s\n",
      "Epoch: 127 (69.9s)  LR: 0.00008 Train Loss: 4.28  Valid Loss: 5.70  Valid NDCG: 0.2873\n",
      "Data Preparation: 282.3s\n",
      "Epoch: 128 (70.9s)  LR: 0.00026 Train Loss: 4.26  Valid Loss: 5.79  Valid NDCG: 0.2961\n"
     ]
    },
    {
     "name": "stdout",
     "output_type": "stream",
     "text": [
      "Data Preparation: 278.7s\n",
      "Epoch: 129 (67.8s)  LR: 0.00049 Train Loss: 4.24  Valid Loss: 5.93  Valid NDCG: 0.2936\n",
      "Data Preparation: 275.8s\n",
      "Epoch: 130 (70.9s)  LR: 0.00073 Train Loss: 4.07  Valid Loss: 6.49  Valid NDCG: 0.2658\n",
      "Test NDCG: 0.2753943776982684\n",
      "Data Preparation: 282.5s\n",
      "Epoch: 131 (72.2s)  LR: 0.00091 Train Loss: 4.41  Valid Loss: 5.51  Valid NDCG: 0.3133\n",
      "Data Preparation: 304.9s\n",
      "Epoch: 132 (71.8s)  LR: 0.00100 Train Loss: 4.47  Valid Loss: 5.75  Valid NDCG: 0.2844\n",
      "Data Preparation: 290.6s\n",
      "Epoch: 133 (72.1s)  LR: 0.00097 Train Loss: 4.03  Valid Loss: 5.80  Valid NDCG: 0.2940\n",
      "Data Preparation: 277.6s\n",
      "Epoch: 134 (72.2s)  LR: 0.00083 Train Loss: 4.28  Valid Loss: 5.74  Valid NDCG: 0.2918\n",
      "Data Preparation: 285.9s\n",
      "Epoch: 135 (70.5s)  LR: 0.00062 Train Loss: 4.29  Valid Loss: 6.07  Valid NDCG: 0.3004\n",
      "Test NDCG: 0.29610983281988135\n",
      "Data Preparation: 290.1s\n",
      "Epoch: 136 (73.7s)  LR: 0.00038 Train Loss: 3.95  Valid Loss: 6.21  Valid NDCG: 0.2954\n",
      "Data Preparation: 294.9s\n",
      "Epoch: 137 (72.5s)  LR: 0.00016 Train Loss: 4.26  Valid Loss: 5.95  Valid NDCG: 0.2885\n",
      "Data Preparation: 287.3s\n",
      "Epoch: 138 (70.5s)  LR: 0.00003 Train Loss: 4.22  Valid Loss: 5.94  Valid NDCG: 0.2894\n",
      "Data Preparation: 291.1s\n",
      "Epoch: 139 (69.5s)  LR: 0.00001 Train Loss: 4.37  Valid Loss: 5.75  Valid NDCG: 0.3036\n",
      "Data Preparation: 295.3s\n",
      "Epoch: 140 (69.0s)  LR: 0.00010 Train Loss: 4.32  Valid Loss: 5.91  Valid NDCG: 0.2936\n",
      "Test NDCG: 0.3003978803112678\n",
      "Data Preparation: 281.2s\n",
      "Epoch: 141 (69.7s)  LR: 0.00028 Train Loss: 4.54  Valid Loss: 5.62  Valid NDCG: 0.3077\n",
      "Data Preparation: 291.0s\n",
      "Epoch: 142 (69.6s)  LR: 0.00052 Train Loss: 4.40  Valid Loss: 5.57  Valid NDCG: 0.3089\n",
      "Data Preparation: 299.8s\n",
      "Epoch: 143 (68.0s)  LR: 0.00075 Train Loss: 4.28  Valid Loss: 5.65  Valid NDCG: 0.3069\n",
      "Data Preparation: 292.2s\n",
      "Epoch: 144 (68.8s)  LR: 0.00092 Train Loss: 4.26  Valid Loss: 5.83  Valid NDCG: 0.2953\n",
      "Data Preparation: 291.1s\n",
      "Epoch: 145 (71.8s)  LR: 0.00100 Train Loss: 4.06  Valid Loss: 5.81  Valid NDCG: 0.3192\n",
      "Test NDCG: 0.2908661341154756\n",
      "Data Preparation: 302.8s\n",
      "Epoch: 146 (75.0s)  LR: 0.00096 Train Loss: 4.37  Valid Loss: 5.89  Valid NDCG: 0.2901\n",
      "Data Preparation: 295.1s\n",
      "Epoch: 147 (70.9s)  LR: 0.00081 Train Loss: 4.04  Valid Loss: 5.59  Valid NDCG: 0.3140\n",
      "Data Preparation: 295.0s\n",
      "Epoch: 148 (71.6s)  LR: 0.00059 Train Loss: 3.92  Valid Loss: 5.87  Valid NDCG: 0.2984\n",
      "Data Preparation: 298.5s\n",
      "Epoch: 149 (72.0s)  LR: 0.00035 Train Loss: 4.12  Valid Loss: 5.57  Valid NDCG: 0.3104\n",
      "Data Preparation: 297.9s\n",
      "Epoch: 150 (70.4s)  LR: 0.00015 Train Loss: 4.21  Valid Loss: 5.71  Valid NDCG: 0.3012\n",
      "Test NDCG: 0.2979826026099326\n",
      "Data Preparation: 303.7s\n",
      "Epoch: 151 (73.1s)  LR: 0.00002 Train Loss: 4.29  Valid Loss: 5.56  Valid NDCG: 0.3086\n",
      "Data Preparation: 308.0s\n",
      "Epoch: 152 (72.8s)  LR: 0.00001 Train Loss: 4.31  Valid Loss: 5.82  Valid NDCG: 0.2983\n",
      "Data Preparation: 300.7s\n",
      "Epoch: 153 (71.7s)  LR: 0.00011 Train Loss: 4.37  Valid Loss: 5.67  Valid NDCG: 0.2979\n",
      "Data Preparation: 302.0s\n",
      "Epoch: 154 (71.7s)  LR: 0.00030 Train Loss: 4.39  Valid Loss: 5.89  Valid NDCG: 0.3083\n",
      "Data Preparation: 295.5s\n",
      "Epoch: 155 (73.1s)  LR: 0.00054 Train Loss: 4.26  Valid Loss: 5.79  Valid NDCG: 0.3041\n",
      "Test NDCG: 0.2767906232118748\n",
      "Data Preparation: 298.9s\n",
      "Epoch: 156 (70.9s)  LR: 0.00077 Train Loss: 4.16  Valid Loss: 5.85  Valid NDCG: 0.3003\n",
      "Data Preparation: 309.4s\n",
      "Epoch: 157 (71.9s)  LR: 0.00093 Train Loss: 4.24  Valid Loss: 6.08  Valid NDCG: 0.2887\n",
      "Data Preparation: 297.7s\n",
      "Epoch: 158 (72.0s)  LR: 0.00100 Train Loss: 4.15  Valid Loss: 5.89  Valid NDCG: 0.2982\n",
      "Data Preparation: 300.9s\n",
      "Epoch: 159 (71.7s)  LR: 0.00095 Train Loss: 4.13  Valid Loss: 5.56  Valid NDCG: 0.3104\n",
      "Data Preparation: 304.4s\n",
      "Epoch: 160 (67.4s)  LR: 0.00079 Train Loss: 4.04  Valid Loss: 6.03  Valid NDCG: 0.2892\n",
      "Test NDCG: 0.31658816207490037\n",
      "Data Preparation: 310.2s\n",
      "Epoch: 161 (70.9s)  LR: 0.00057 Train Loss: 4.30  Valid Loss: 6.48  Valid NDCG: 0.2869\n",
      "Data Preparation: 288.4s\n",
      "Epoch: 162 (73.4s)  LR: 0.00033 Train Loss: 3.96  Valid Loss: 5.78  Valid NDCG: 0.3032\n",
      "Data Preparation: 299.1s\n",
      "Epoch: 163 (71.1s)  LR: 0.00013 Train Loss: 4.09  Valid Loss: 5.85  Valid NDCG: 0.2981\n",
      "Data Preparation: 299.8s\n",
      "Epoch: 164 (73.3s)  LR: 0.00002 Train Loss: 4.15  Valid Loss: 6.03  Valid NDCG: 0.2897\n",
      "Data Preparation: 299.4s\n",
      "Epoch: 165 (68.8s)  LR: 0.00001 Train Loss: 4.44  Valid Loss: 5.64  Valid NDCG: 0.3110\n",
      "Test NDCG: 0.32276480978353705\n",
      "Data Preparation: 305.9s\n",
      "Epoch: 166 (71.3s)  LR: 0.00013 Train Loss: 4.25  Valid Loss: 5.85  Valid NDCG: 0.3075\n",
      "Data Preparation: 278.5s\n",
      "Epoch: 167 (65.1s)  LR: 0.00032 Train Loss: 4.25  Valid Loss: 5.86  Valid NDCG: 0.2984\n",
      "Data Preparation: 280.5s\n",
      "Epoch: 168 (60.3s)  LR: 0.00056 Train Loss: 4.31  Valid Loss: 5.71  Valid NDCG: 0.3164\n",
      "Data Preparation: 313.3s\n",
      "Epoch: 169 (58.5s)  LR: 0.00079 Train Loss: 4.39  Valid Loss: 5.68  Valid NDCG: 0.3045\n",
      "Data Preparation: 267.9s\n",
      "Epoch: 170 (58.6s)  LR: 0.00095 Train Loss: 4.20  Valid Loss: 5.75  Valid NDCG: 0.3107\n",
      "Test NDCG: 0.3211054722297719\n",
      "Data Preparation: 271.0s\n",
      "Epoch: 171 (62.8s)  LR: 0.00100 Train Loss: 4.35  Valid Loss: 5.60  Valid NDCG: 0.3090\n",
      "Data Preparation: 264.5s\n",
      "Epoch: 172 (63.7s)  LR: 0.00094 Train Loss: 4.11  Valid Loss: 5.91  Valid NDCG: 0.3021\n",
      "Data Preparation: 273.2s\n",
      "Epoch: 173 (61.2s)  LR: 0.00077 Train Loss: 4.20  Valid Loss: 6.32  Valid NDCG: 0.2913\n",
      "Data Preparation: 274.1s\n",
      "Epoch: 174 (62.1s)  LR: 0.00055 Train Loss: 4.22  Valid Loss: 6.02  Valid NDCG: 0.2926\n",
      "Data Preparation: 271.8s\n",
      "Epoch: 175 (61.0s)  LR: 0.00031 Train Loss: 4.30  Valid Loss: 6.01  Valid NDCG: 0.2999\n",
      "Test NDCG: 0.2883782610783171\n",
      "Data Preparation: 274.4s\n",
      "Epoch: 176 (62.0s)  LR: 0.00012 Train Loss: 4.00  Valid Loss: 5.84  Valid NDCG: 0.3118\n",
      "Data Preparation: 264.8s\n",
      "Epoch: 177 (60.6s)  LR: 0.00001 Train Loss: 4.25  Valid Loss: 6.15  Valid NDCG: 0.2859\n",
      "Data Preparation: 271.7s\n"
     ]
    },
    {
     "name": "stderr",
     "output_type": "stream",
     "text": [
      "/home/ziniu/anaconda3/lib/python3.7/site-packages/torch/serialization.py:256: UserWarning: Couldn't retrieve source code for container of type GNN. It won't be checked for correctness upon loading.\n",
      "  \"type \" + obj.__name__ + \". It won't be checked \"\n"
     ]
    },
    {
     "name": "stdout",
     "output_type": "stream",
     "text": [
      "Epoch: 178 (59.1s)  LR: 0.00002 Train Loss: 4.37  Valid Loss: 5.73  Valid NDCG: 0.3242\n",
      "Data Preparation: 267.2s\n",
      "Epoch: 179 (63.8s)  LR: 0.00014 Train Loss: 4.20  Valid Loss: 6.10  Valid NDCG: 0.3109\n",
      "Data Preparation: 270.9s\n",
      "Epoch: 180 (60.8s)  LR: 0.00035 Train Loss: 4.22  Valid Loss: 5.87  Valid NDCG: 0.3002\n",
      "Test NDCG: 0.2891014165003342\n",
      "Data Preparation: 268.9s\n",
      "Epoch: 181 (62.7s)  LR: 0.00059 Train Loss: 3.85  Valid Loss: 5.93  Valid NDCG: 0.3061\n",
      "Data Preparation: 267.5s\n",
      "Epoch: 182 (61.8s)  LR: 0.00081 Train Loss: 4.12  Valid Loss: 5.78  Valid NDCG: 0.3207\n",
      "Data Preparation: 274.5s\n",
      "Epoch: 183 (60.4s)  LR: 0.00096 Train Loss: 4.32  Valid Loss: 5.84  Valid NDCG: 0.3078\n",
      "Data Preparation: 274.1s\n",
      "Epoch: 184 (61.7s)  LR: 0.00100 Train Loss: 4.26  Valid Loss: 5.94  Valid NDCG: 0.2952\n",
      "Data Preparation: 271.9s\n",
      "Epoch: 185 (60.0s)  LR: 0.00093 Train Loss: 4.20  Valid Loss: 5.80  Valid NDCG: 0.3060\n",
      "Test NDCG: 0.31848549245868735\n",
      "Data Preparation: 266.0s\n",
      "Epoch: 186 (58.5s)  LR: 0.00075 Train Loss: 4.09  Valid Loss: 5.72  Valid NDCG: 0.3116\n",
      "Data Preparation: 274.4s\n",
      "Epoch: 187 (61.0s)  LR: 0.00052 Train Loss: 4.17  Valid Loss: 6.07  Valid NDCG: 0.3020\n",
      "Data Preparation: 266.8s\n",
      "Epoch: 188 (59.6s)  LR: 0.00029 Train Loss: 4.01  Valid Loss: 5.84  Valid NDCG: 0.3160\n",
      "Data Preparation: 267.9s\n"
     ]
    },
    {
     "name": "stderr",
     "output_type": "stream",
     "text": [
      "/home/ziniu/anaconda3/lib/python3.7/site-packages/torch/serialization.py:256: UserWarning: Couldn't retrieve source code for container of type GNN. It won't be checked for correctness upon loading.\n",
      "  \"type \" + obj.__name__ + \". It won't be checked \"\n"
     ]
    },
    {
     "name": "stdout",
     "output_type": "stream",
     "text": [
      "Epoch: 189 (61.2s)  LR: 0.00010 Train Loss: 4.15  Valid Loss: 5.77  Valid NDCG: 0.3277\n",
      "Data Preparation: 269.6s\n",
      "Epoch: 190 (63.0s)  LR: 0.00001 Train Loss: 3.92  Valid Loss: 6.36  Valid NDCG: 0.2778\n",
      "Test NDCG: 0.30174551636831803\n",
      "Data Preparation: 272.9s\n",
      "Epoch: 191 (62.4s)  LR: 0.00003 Train Loss: 4.16  Valid Loss: 5.95  Valid NDCG: 0.2932\n",
      "Data Preparation: 269.2s\n",
      "Epoch: 192 (59.6s)  LR: 0.00016 Train Loss: 4.00  Valid Loss: 6.09  Valid NDCG: 0.3008\n",
      "Data Preparation: 275.7s\n",
      "Epoch: 193 (61.3s)  LR: 0.00037 Train Loss: 4.10  Valid Loss: 6.37  Valid NDCG: 0.2962\n",
      "Data Preparation: 258.3s\n",
      "Epoch: 194 (61.2s)  LR: 0.00061 Train Loss: 3.62  Valid Loss: 6.39  Valid NDCG: 0.2896\n",
      "Data Preparation: 266.6s\n",
      "Epoch: 195 (61.2s)  LR: 0.00082 Train Loss: 3.92  Valid Loss: 6.21  Valid NDCG: 0.2876\n",
      "Test NDCG: 0.32247962116864987\n",
      "Data Preparation: 272.3s\n",
      "Epoch: 196 (62.0s)  LR: 0.00096 Train Loss: 3.95  Valid Loss: 6.31  Valid NDCG: 0.2882\n",
      "Data Preparation: 269.6s\n",
      "Epoch: 197 (62.4s)  LR: 0.00100 Train Loss: 4.14  Valid Loss: 5.84  Valid NDCG: 0.3071\n",
      "Data Preparation: 266.3s\n",
      "Epoch: 198 (61.6s)  LR: 0.00091 Train Loss: 4.05  Valid Loss: 5.78  Valid NDCG: 0.3050\n",
      "Data Preparation: 270.5s\n",
      "Epoch: 199 (60.6s)  LR: 0.00073 Train Loss: 4.22  Valid Loss: 5.65  Valid NDCG: 0.3267\n",
      "Data Preparation: 268.6s\n",
      "Epoch: 200 (59.9s)  LR: 0.00050 Train Loss: 4.12  Valid Loss: 6.07  Valid NDCG: 0.3017\n",
      "Test NDCG: 0.289884460389375\n"
     ]
    }
   ],
   "source": [
    "stats = []\n",
    "pool = mp.Pool(4)\n",
    "process_ids = np.arange(batch_num // 4)\n",
    "st = time.time()\n",
    "jobs = prepare_data(pool, process_ids)\n",
    "train_step = 1500\n",
    "best_val   = 0\n",
    "res = []\n",
    "criterion = nn.KLDivLoss(reduction='batchmean')\n",
    "for epoch in np.arange(epoch_num)+1:\n",
    "    '''\n",
    "        Prepare Training and Validation Data\n",
    "    '''\n",
    "    train_data = [job.get() for job in jobs[:-1]]\n",
    "    valid_data = jobs[-1].get()\n",
    "    pool.close()\n",
    "    pool.join()\n",
    "    pool = mp.Pool(4)\n",
    "    jobs = prepare_data(pool, process_ids)\n",
    "    et = time.time()\n",
    "    print('Data Preparation: %.1fs' % (et - st))\n",
    "    \n",
    "    \n",
    "    model.train()\n",
    "    train_losses = []\n",
    "    for batch in np.arange(5):\n",
    "        for node_feature, node_type, edge_time, edge_index, edge_type, field_ids, paper_ids, ylabel in train_data:\n",
    "            node_rep = gnn.forward(node_feature.to(device), node_type.to(device), edge_index.to(device))\n",
    "            res  = classifier.forward(node_rep[paper_ids])\n",
    "            loss = criterion(res, ylabel.to(device))\n",
    "            optimizer.zero_grad() \n",
    "            loss.backward()\n",
    "            optimizer.step()\n",
    "            train_losses += [loss.cpu().detach().tolist()]\n",
    "            train_step += 1\n",
    "            scheduler.step(train_step)\n",
    "    '''\n",
    "        Valid\n",
    "    '''\n",
    "    model.eval()\n",
    "    with torch.no_grad():\n",
    "        node_feature, node_type, edge_time, edge_index, edge_type, field_ids, paper_ids, ylabel = valid_data\n",
    "        node_rep = gnn.forward(node_feature.to(device), node_type.to(device), edge_index.to(device))\n",
    "        res  = classifier.forward(node_rep[paper_ids])\n",
    "        loss = criterion(res, ylabel.to(device))\n",
    "        valid_res = []\n",
    "\n",
    "        for ai, bi in zip(ylabel, res.argsort(descending = True)):\n",
    "            valid_res += [ai[bi].tolist()]\n",
    "        valid_ndcg = np.average([ndcg_at_k(resi, len(resi)) for resi in valid_res])\n",
    "        if valid_ndcg > best_val:\n",
    "            best_val = valid_ndcg\n",
    "            torch.save(model, './save/gat.pt')\n",
    "        st = time.time()\n",
    "        print((\"Epoch: %d (%.1fs)  LR: %.5f Train Loss: %.2f  Valid Loss: %.2f  Valid NDCG: %.4f\") % \\\n",
    "              (epoch, (st-et), optimizer.param_groups[0]['lr'], np.average(train_losses), loss.cpu().detach().tolist(),\\\n",
    "              valid_ndcg))\n",
    "        stats += [[np.average(train_losses), loss.cpu().detach().tolist()]]\n",
    "        if epoch % 5 == 0:\n",
    "            '''\n",
    "                Test\n",
    "            '''\n",
    "            _time = np.random.choice(list(test_papers.keys()))\n",
    "            node_feature, node_type, edge_time, edge_index, edge_type, field_ids, paper_ids, ylabel = pf_sample(np.random.randint(2 ** 32 - 1), test_papers, \\\n",
    "                                                           test_pairs, test_range, batch_size, test=True)\n",
    "            paper_rep = gnn.forward(node_feature.to(device), node_type.to(device), edge_index.to(device))[paper_ids]\n",
    "            res = classifier.forward(paper_rep)\n",
    "            test_res = []\n",
    "            for ai, bi in zip(ylabel, res.argsort(descending = True)):\n",
    "                test_res += [ai[bi].tolist()]\n",
    "            test_ndcg = np.average([ndcg_at_k(resi, len(resi)) for resi in test_res])\n",
    "            print(\"Test NDCG: \" + str(test_ndcg))\n",
    "    del train_data, valid_data"
   ]
  },
  {
   "cell_type": "code",
   "execution_count": 11,
   "metadata": {},
   "outputs": [
    {
     "data": {
      "image/png": "[encoded data removed]",
      "text/plain": [
       "<Figure size 432x288 with 1 Axes>"
      ]
     },
     "metadata": {
      "needs_background": "light"
     },
     "output_type": "display_data"
    }
   ],
   "source": [
    "stats = np.array(stats)\n",
    "plt.plot(stats[:,0])\n",
    "plt.plot(stats[:,1])\n",
    "plt.show()"
   ]
  },
  {
   "cell_type": "code",
   "execution_count": 12,
   "metadata": {},
   "outputs": [
    {
     "name": "stdout",
     "output_type": "stream",
     "text": [
      "0.3033617751869837 0.023710559741321295\n",
      "0.27481465989533627 0.11675060589725392\n"
     ]
    }
   ],
   "source": [
    "model.eval()\n",
    "gnn, classifier = model\n",
    "with torch.no_grad():\n",
    "    test_res = []\n",
    "    for _ in range(10):\n",
    "        _time = np.random.choice(list(test_papers.keys()))\n",
    "        node_feature, node_type, edge_time, edge_index, edge_type, field_ids, paper_ids, ylabel = pf_sample(np.random.randint(2 ** 32 - 1), test_papers, \\\n",
    "                                                       test_pairs, test_range, batch_size, test=True)\n",
    "        paper_rep = gnn.forward(node_feature.to(device), node_type.to(device), edge_index.to(device))[paper_ids]\n",
    "        res = classifier.forward(paper_rep)\n",
    "        for ai, bi in zip(ylabel, res.argsort(descending = True)):\n",
    "            test_res += [ai[bi].tolist()]\n",
    "    test_ndcg = [ndcg_at_k(resi, len(resi)) for resi in test_res]\n",
    "    print(np.average(test_ndcg), np.var(test_ndcg))\n",
    "    test_mrr = mean_reciprocal_rank(test_res)\n",
    "    print(np.average(test_mrr), np.var(test_mrr))"
   ]
  },
  {
   "cell_type": "code",
   "execution_count": 13,
   "metadata": {},
   "outputs": [],
   "source": [
    "model = torch.load('./save/gat.pt')"
   ]
  },
  {
   "cell_type": "code",
   "execution_count": 15,
   "metadata": {},
   "outputs": [
    {
     "name": "stdout",
     "output_type": "stream",
     "text": [
      "0.3048935531114347 0.023582004529036752\n",
      "0.2863674528983614 0.12391703636809256\n"
     ]
    }
   ],
   "source": [
    "model.eval()\n",
    "gnn, classifier = model\n",
    "with torch.no_grad():\n",
    "    test_res = []\n",
    "    for _ in range(10):\n",
    "        _time = np.random.choice(list(test_papers.keys()))\n",
    "        node_feature, node_type, edge_time, edge_index, edge_type, field_ids, paper_ids, ylabel = pf_sample(np.random.randint(2 ** 32 - 1), test_papers, \\\n",
    "                                                       test_pairs, test_range, batch_size, test=True)\n",
    "        paper_rep = gnn.forward(node_feature.to(device), node_type.to(device), edge_index.to(device))[paper_ids]\n",
    "        res = classifier.forward(paper_rep)\n",
    "        for ai, bi in zip(ylabel, res.argsort(descending = True)):\n",
    "            test_res += [ai[bi].tolist()]\n",
    "    test_ndcg = [ndcg_at_k(resi, len(resi)) for resi in test_res]\n",
    "    print(np.average(test_ndcg), np.var(test_ndcg))\n",
    "    test_mrr = mean_reciprocal_rank(test_res)\n",
    "    print(np.average(test_mrr), np.var(test_mrr))"
   ]
  }
 ],
 "metadata": {
  "kernelspec": {
   "display_name": "Python 3",
   "language": "python",
   "name": "python3"
  },
  "language_info": {
   "codemirror_mode": {
    "name": "ipython",
    "version": 3
   },
   "file_extension": ".py",
   "mimetype": "text/x-python",
   "name": "python",
   "nbconvert_exporter": "python",
   "pygments_lexer": "ipython3",
   "version": "3.7.3"
  }
 },
 "nbformat": 4,
 "nbformat_minor": 2
}
