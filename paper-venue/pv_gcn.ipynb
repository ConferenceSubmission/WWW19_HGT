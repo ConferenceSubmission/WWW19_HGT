{
 "cells": [
  {
   "cell_type": "code",
   "execution_count": 1,
   "metadata": {},
   "outputs": [],
   "source": [
    "import sys\n",
    "sys.path.append('../')\n",
    "from utils import *\n",
    "from model import *"
   ]
  },
  {
   "cell_type": "code",
   "execution_count": 2,
   "metadata": {},
   "outputs": [],
   "source": [
    "data_dir = '/datadrive/data_med/'\n",
    "batch_size = 256\n",
    "batch_num  = 128\n",
    "epoch_num  = 200\n",
    "samp_num   = 7\n",
    "\n",
    "device = torch.device(\"cuda:3\")\n",
    "graph = dill.load(open(data_dir + 'graph.pk', 'rb'))"
   ]
  },
  {
   "cell_type": "code",
   "execution_count": 3,
   "metadata": {},
   "outputs": [],
   "source": [
    "train_range = {t: True for t in graph.times if t != None and t < 2015}\n",
    "valid_range = {t: True for t in graph.times if t != None and t >= 2015  and t <= 2016}\n",
    "test_range  = {t: True for t in graph.times if t != None and t > 2016}"
   ]
  },
  {
   "cell_type": "code",
   "execution_count": 4,
   "metadata": {},
   "outputs": [],
   "source": [
    "def pf_sample(seed, papers, pairs, t_range, batch_size, test = False):\n",
    "    np.random.seed(seed)\n",
    "    _time = np.random.choice(list(papers.keys()))\n",
    "    sampn = min(len(papers[_time]), batch_size)\n",
    "    pids = np.array(papers[_time])[np.random.choice(len(papers[_time]), sampn, replace = False)]\n",
    "    fids = []\n",
    "    edge = defaultdict(lambda: {})\n",
    "    for x_id, p_id in enumerate(pids):\n",
    "        f_ids = pairs[p_id]\n",
    "        for f_id in f_ids:\n",
    "            if f_id not in fids:\n",
    "                fids += [f_id]\n",
    "            edge[x_id][fids.index(f_id)] = True\n",
    "    pids = np.stack([pids, np.repeat([_time], sampn)]).T\n",
    "    fids = np.stack([fids, np.repeat([_time], len(fids))]).T\n",
    " \n",
    "    feature, times, edge_list, _ = sample_subgraph(graph, t_range, \\\n",
    "                inp = {'paper': pids, 'venue': fids}, sampled_depth = 3, sampled_number = 100)\n",
    "\n",
    "    el = []\n",
    "    for i in edge_list['paper']['venue']['rev_PV_Journal']:\n",
    "        if i[0] in edge and i[1] in edge[i[0]]:\n",
    "            continue\n",
    "        el += [i]\n",
    "    edge_list['paper']['venue']['rev_PV_Journal'] = el\n",
    "\n",
    "    el = []\n",
    "    for i in edge_list['venue']['paper']['PV_Journal']:\n",
    "        if i[1] in edge and i[0] in edge[i[1]]:\n",
    "            continue\n",
    "        el += [i]\n",
    "    edge_list['venue']['paper']['PV_Journal'] = el\n",
    "    \n",
    "    \n",
    "    node_feature, node_type, edge_time, edge_index, edge_type, node_dict, edge_dict = \\\n",
    "            to_torch(feature, times, edge_list, graph)\n",
    "    '''\n",
    "        Trace the paper_id and venue_id by its own index plus the type start index\n",
    "    '''\n",
    "    paper_ids = np.arange(len(pids)) + node_dict['paper'][0]\n",
    "    venue_ids = np.arange(len(fids)) + node_dict['venue'][0]\n",
    "    ylabel = torch.zeros(sampn, len(cand_list))\n",
    "    for x_id, p_id in enumerate(pids[:,0]):\n",
    "        for f_id in pairs[p_id]:\n",
    "            ylabel[x_id][cand_list.index(f_id)] = 1\n",
    "    ylabel /= ylabel.sum(axis=1).view(-1, 1)\n",
    "    return node_feature, node_type, edge_time, edge_index, edge_type, venue_ids, paper_ids, ylabel\n",
    "    \n",
    "def prepare_data(pool, process_ids):\n",
    "    jobs = []\n",
    "    for process_id in process_ids[:-1]:\n",
    "        p = pool.apply_async(pf_sample, args=(np.random.randint(2**32 - 1), train_papers, \\\n",
    "                                               train_pairs, train_range, batch_size))\n",
    "        jobs.append(p)\n",
    "    p = pool.apply_async(pf_sample, args=(np.random.randint(2**32 - 1), valid_papers, \\\n",
    "                                           valid_pairs, valid_range, batch_size))\n",
    "    jobs.append(p)\n",
    "    return jobs"
   ]
  },
  {
   "cell_type": "code",
   "execution_count": 5,
   "metadata": {},
   "outputs": [],
   "source": [
    "from torch_geometric.nn import GATConv\n",
    "class GNN(nn.Module):\n",
    "    def __init__(self, in_dim, n_hid, num_types, n_layers, dropout = 0.3):\n",
    "        super(GNN, self).__init__()\n",
    "        self.gcs = nn.ModuleList()\n",
    "        self.num_types = num_types\n",
    "        self.in_dim    = in_dim\n",
    "        self.n_hid     = n_hid\n",
    "        self.aggregat_ws   = nn.ModuleList()\n",
    "        self.drop          = nn.Dropout(dropout)\n",
    "        for t in range(num_types):\n",
    "            self.aggregat_ws.append(nn.Linear(in_dim, n_hid))\n",
    "        for l in range(n_layers):\n",
    "            self.gcs.append(GATConv(n_hid, n_hid // 4, heads=4))\n",
    "    def forward(self, node_feature, node_type, edge_index):\n",
    "        res = torch.zeros(node_feature.size(0), self.n_hid).to(node_feature.device)\n",
    "        for t_id in range(self.num_types):\n",
    "            aggregat_w = self.aggregat_ws[t_id]\n",
    "            idx = (node_type == t_id)\n",
    "            if idx.sum() == 0:\n",
    "                continue\n",
    "            res[idx] = torch.tanh(aggregat_w(node_feature[idx]))\n",
    "        meta_xs = self.drop(res)\n",
    "        del res\n",
    "        for gc in self.gcs:\n",
    "            meta_xs = self.drop(F.relu(gc(meta_xs, edge_index)))\n",
    "        return meta_xs"
   ]
  },
  {
   "cell_type": "code",
   "execution_count": 6,
   "metadata": {},
   "outputs": [
    {
     "name": "stdout",
     "output_type": "stream",
     "text": [
      "633550\n"
     ]
    }
   ],
   "source": [
    "'''\n",
    "Paper-Venue\n",
    "'''\n",
    "paper_ser = {}\n",
    "\n",
    "train_pairs = {}\n",
    "valid_pairs = {}\n",
    "test_pairs  = {}\n",
    "\n",
    "train_papers = {_time: {} for _time in train_range}\n",
    "valid_papers = {_time: {} for _time in valid_range}\n",
    "test_papers  = {_time: {} for _time in test_range}\n",
    "\n",
    "for f_id in graph.edge_list['venue']['paper']['PV_Journal']:\n",
    "    for p_id in graph.edge_list['venue']['paper']['PV_Journal'][f_id]:\n",
    "        _time = graph.edge_list['venue']['paper']['PV_Journal'][f_id][p_id]\n",
    "        if _time in train_range:\n",
    "            if p_id not in train_pairs:\n",
    "                train_pairs[p_id] = []\n",
    "            train_pairs[p_id] += [f_id]\n",
    "            train_papers[_time][p_id] = True\n",
    "        elif _time in valid_range:\n",
    "            if p_id not in valid_pairs:\n",
    "                valid_pairs[p_id] = []\n",
    "            valid_pairs[p_id] += [f_id]\n",
    "            valid_papers[_time][p_id] = True\n",
    "        else:\n",
    "            if p_id not in test_pairs:\n",
    "                test_pairs[p_id] = []\n",
    "            test_pairs[p_id] += [f_id]\n",
    "            test_papers[_time][p_id] = True\n",
    "for _time in list(train_papers.keys()):\n",
    "    if len(train_papers[_time]) < batch_size // 2:\n",
    "        train_papers.pop(_time)\n",
    "    else:\n",
    "        train_papers[_time] = np.array(list(train_papers[_time].keys()))\n",
    "for _time in list(valid_papers.keys()):\n",
    "    if len(valid_papers[_time]) < batch_size // 2:\n",
    "        valid_papers.pop(_time)\n",
    "    else:\n",
    "        valid_papers[_time] = np.array(list(valid_papers[_time].keys()))\n",
    "for _time in list(test_papers.keys()):\n",
    "    if len(test_papers[_time]) < batch_size // 2:\n",
    "        test_papers.pop(_time)\n",
    "    else:\n",
    "        test_papers[_time] = np.array(list(test_papers[_time].keys()))\n",
    "print(len(train_pairs))"
   ]
  },
  {
   "cell_type": "code",
   "execution_count": 7,
   "metadata": {},
   "outputs": [],
   "source": [
    "types = graph.get_types()\n",
    "cand_list = list(graph.edge_list['venue']['paper']['PV_Journal'])\n",
    "gnn = GNN(in_dim = len(graph.node_feature['paper']['emb'][0]) + 401, n_hid = 256, n_layers = 3, num_types = len(types)).to(device)\n",
    "classifier = Classifier(256, len(cand_list)).to(device)\n",
    "model = nn.Sequential(gnn, classifier)\n",
    "optimizer = torch.optim.AdamW(model.parameters())\n",
    "scheduler = torch.optim.lr_scheduler.CosineAnnealingLR(optimizer, 1000, eta_min=1e-6)"
   ]
  },
  {
   "cell_type": "code",
   "execution_count": null,
   "metadata": {
    "scrolled": true
   },
   "outputs": [
    {
     "name": "stdout",
     "output_type": "stream",
     "text": [
      "Data Preparation: 293.1s\n"
     ]
    },
    {
     "name": "stderr",
     "output_type": "stream",
     "text": [
      "/home/ziniu/anaconda3/lib/python3.7/site-packages/torch/serialization.py:256: UserWarning: Couldn't retrieve source code for container of type GNN. It won't be checked for correctness upon loading.\n",
      "  \"type \" + obj.__name__ + \". It won't be checked \"\n"
     ]
    },
    {
     "name": "stdout",
     "output_type": "stream",
     "text": [
      "Epoch: 1 (47.8s)  LR: 0.00073 Train Loss: 6.29  Valid Loss: 8.18  Valid NDCG: 0.1367\n",
      "Data Preparation: 245.3s\n"
     ]
    },
    {
     "name": "stderr",
     "output_type": "stream",
     "text": [
      "/home/ziniu/anaconda3/lib/python3.7/site-packages/torch/serialization.py:256: UserWarning: Couldn't retrieve source code for container of type GNN. It won't be checked for correctness upon loading.\n",
      "  \"type \" + obj.__name__ + \". It won't be checked \"\n"
     ]
    },
    {
     "name": "stdout",
     "output_type": "stream",
     "text": [
      "Epoch: 2 (48.9s)  LR: 0.00091 Train Loss: 4.95  Valid Loss: 8.48  Valid NDCG: 0.1409\n",
      "Data Preparation: 236.7s\n"
     ]
    },
    {
     "name": "stderr",
     "output_type": "stream",
     "text": [
      "/home/ziniu/anaconda3/lib/python3.7/site-packages/torch/serialization.py:256: UserWarning: Couldn't retrieve source code for container of type GNN. It won't be checked for correctness upon loading.\n",
      "  \"type \" + obj.__name__ + \". It won't be checked \"\n"
     ]
    },
    {
     "name": "stdout",
     "output_type": "stream",
     "text": [
      "Epoch: 3 (48.9s)  LR: 0.00100 Train Loss: 4.23  Valid Loss: 7.58  Valid NDCG: 0.1723\n",
      "Data Preparation: 241.3s\n",
      "Epoch: 4 (48.8s)  LR: 0.00096 Train Loss: 3.31  Valid Loss: 7.67  Valid NDCG: 0.1534\n",
      "Data Preparation: 233.8s\n"
     ]
    },
    {
     "name": "stderr",
     "output_type": "stream",
     "text": [
      "/home/ziniu/anaconda3/lib/python3.7/site-packages/torch/serialization.py:256: UserWarning: Couldn't retrieve source code for container of type GNN. It won't be checked for correctness upon loading.\n",
      "  \"type \" + obj.__name__ + \". It won't be checked \"\n"
     ]
    },
    {
     "name": "stdout",
     "output_type": "stream",
     "text": [
      "Epoch: 5 (48.6s)  LR: 0.00082 Train Loss: 3.58  Valid Loss: 7.21  Valid NDCG: 0.2127\n",
      "Test NDCG: 0.24013482955613502\n",
      "Data Preparation: 244.9s\n"
     ]
    },
    {
     "name": "stderr",
     "output_type": "stream",
     "text": [
      "/home/ziniu/anaconda3/lib/python3.7/site-packages/torch/serialization.py:256: UserWarning: Couldn't retrieve source code for container of type GNN. It won't be checked for correctness upon loading.\n",
      "  \"type \" + obj.__name__ + \". It won't be checked \"\n"
     ]
    },
    {
     "name": "stdout",
     "output_type": "stream",
     "text": [
      "Epoch: 6 (46.8s)  LR: 0.00061 Train Loss: 3.48  Valid Loss: 6.90  Valid NDCG: 0.2611\n",
      "Data Preparation: 240.7s\n",
      "Epoch: 7 (48.3s)  LR: 0.00037 Train Loss: 2.97  Valid Loss: 6.97  Valid NDCG: 0.2169\n",
      "Data Preparation: 236.4s\n",
      "Epoch: 8 (48.6s)  LR: 0.00016 Train Loss: 2.75  Valid Loss: 6.75  Valid NDCG: 0.2578\n",
      "Data Preparation: 236.7s\n",
      "Epoch: 9 (51.3s)  LR: 0.00003 Train Loss: 2.51  Valid Loss: 6.97  Valid NDCG: 0.2061\n",
      "Data Preparation: 238.6s\n"
     ]
    },
    {
     "name": "stderr",
     "output_type": "stream",
     "text": [
      "/home/ziniu/anaconda3/lib/python3.7/site-packages/torch/serialization.py:256: UserWarning: Couldn't retrieve source code for container of type GNN. It won't be checked for correctness upon loading.\n",
      "  \"type \" + obj.__name__ + \". It won't be checked \"\n"
     ]
    },
    {
     "name": "stdout",
     "output_type": "stream",
     "text": [
      "Epoch: 10 (49.7s)  LR: 0.00001 Train Loss: 3.22  Valid Loss: 6.49  Valid NDCG: 0.2699\n",
      "Test NDCG: 0.2935338019677492\n",
      "Data Preparation: 241.4s\n",
      "Epoch: 11 (48.7s)  LR: 0.00010 Train Loss: 3.22  Valid Loss: 7.08  Valid NDCG: 0.2507\n",
      "Data Preparation: 236.4s\n",
      "Epoch: 12 (45.9s)  LR: 0.00029 Train Loss: 3.70  Valid Loss: 6.94  Valid NDCG: 0.2179\n",
      "Data Preparation: 237.9s\n",
      "Epoch: 13 (48.3s)  LR: 0.00052 Train Loss: 2.54  Valid Loss: 7.06  Valid NDCG: 0.2662\n",
      "Data Preparation: 242.1s\n",
      "Epoch: 14 (48.5s)  LR: 0.00075 Train Loss: 2.96  Valid Loss: 6.92  Valid NDCG: 0.2158\n",
      "Data Preparation: 237.1s\n",
      "Epoch: 15 (48.1s)  LR: 0.00093 Train Loss: 3.16  Valid Loss: 6.88  Valid NDCG: 0.2685\n",
      "Test NDCG: 0.2626754554110518\n",
      "Data Preparation: 240.0s\n",
      "Epoch: 16 (48.1s)  LR: 0.00100 Train Loss: 2.80  Valid Loss: 7.03  Valid NDCG: 0.2650\n",
      "Data Preparation: 236.1s\n"
     ]
    },
    {
     "name": "stderr",
     "output_type": "stream",
     "text": [
      "/home/ziniu/anaconda3/lib/python3.7/site-packages/torch/serialization.py:256: UserWarning: Couldn't retrieve source code for container of type GNN. It won't be checked for correctness upon loading.\n",
      "  \"type \" + obj.__name__ + \". It won't be checked \"\n"
     ]
    },
    {
     "name": "stdout",
     "output_type": "stream",
     "text": [
      "Epoch: 17 (50.1s)  LR: 0.00096 Train Loss: 2.45  Valid Loss: 6.46  Valid NDCG: 0.2759\n",
      "Data Preparation: 236.6s\n",
      "Epoch: 18 (51.2s)  LR: 0.00081 Train Loss: 1.81  Valid Loss: 6.84  Valid NDCG: 0.2681\n",
      "Data Preparation: 237.9s\n"
     ]
    },
    {
     "name": "stderr",
     "output_type": "stream",
     "text": [
      "/home/ziniu/anaconda3/lib/python3.7/site-packages/torch/serialization.py:256: UserWarning: Couldn't retrieve source code for container of type GNN. It won't be checked for correctness upon loading.\n",
      "  \"type \" + obj.__name__ + \". It won't be checked \"\n"
     ]
    },
    {
     "name": "stdout",
     "output_type": "stream",
     "text": [
      "Epoch: 19 (46.6s)  LR: 0.00059 Train Loss: 2.86  Valid Loss: 6.31  Valid NDCG: 0.2852\n",
      "Data Preparation: 237.0s\n"
     ]
    },
    {
     "name": "stderr",
     "output_type": "stream",
     "text": [
      "/home/ziniu/anaconda3/lib/python3.7/site-packages/torch/serialization.py:256: UserWarning: Couldn't retrieve source code for container of type GNN. It won't be checked for correctness upon loading.\n",
      "  \"type \" + obj.__name__ + \". It won't be checked \"\n"
     ]
    },
    {
     "name": "stdout",
     "output_type": "stream",
     "text": [
      "Epoch: 20 (45.4s)  LR: 0.00035 Train Loss: 2.34  Valid Loss: 5.33  Valid NDCG: 0.3913\n",
      "Test NDCG: 0.3547294713229439\n",
      "Data Preparation: 231.2s\n",
      "Epoch: 21 (47.2s)  LR: 0.00014 Train Loss: 2.64  Valid Loss: 5.99  Valid NDCG: 0.3460\n",
      "Data Preparation: 235.5s\n",
      "Epoch: 22 (49.4s)  LR: 0.00002 Train Loss: 2.68  Valid Loss: 6.29  Valid NDCG: 0.3095\n",
      "Data Preparation: 242.3s\n",
      "Epoch: 23 (50.0s)  LR: 0.00001 Train Loss: 1.94  Valid Loss: 6.69  Valid NDCG: 0.2677\n",
      "Data Preparation: 235.1s\n",
      "Epoch: 24 (48.9s)  LR: 0.00012 Train Loss: 2.25  Valid Loss: 6.56  Valid NDCG: 0.2986\n",
      "Data Preparation: 233.7s\n",
      "Epoch: 25 (48.8s)  LR: 0.00031 Train Loss: 2.48  Valid Loss: 5.90  Valid NDCG: 0.3516\n",
      "Test NDCG: 0.34918897982411756\n",
      "Data Preparation: 231.8s\n",
      "Epoch: 26 (48.9s)  LR: 0.00055 Train Loss: 2.49  Valid Loss: 5.94  Valid NDCG: 0.3269\n",
      "Data Preparation: 241.5s\n",
      "Epoch: 27 (48.4s)  LR: 0.00077 Train Loss: 2.49  Valid Loss: 6.13  Valid NDCG: 0.3197\n",
      "Data Preparation: 233.1s\n",
      "Epoch: 28 (48.5s)  LR: 0.00094 Train Loss: 2.12  Valid Loss: 6.07  Valid NDCG: 0.3388\n",
      "Data Preparation: 234.2s\n",
      "Epoch: 29 (46.0s)  LR: 0.00100 Train Loss: 2.32  Valid Loss: 5.99  Valid NDCG: 0.3232\n",
      "Data Preparation: 235.8s\n",
      "Epoch: 30 (49.1s)  LR: 0.00095 Train Loss: 2.52  Valid Loss: 6.35  Valid NDCG: 0.3045\n",
      "Test NDCG: 0.33489746527179165\n",
      "Data Preparation: 240.7s\n",
      "Epoch: 31 (47.9s)  LR: 0.00079 Train Loss: 2.24  Valid Loss: 6.41  Valid NDCG: 0.3284\n",
      "Data Preparation: 244.7s\n",
      "Epoch: 32 (48.5s)  LR: 0.00056 Train Loss: 1.93  Valid Loss: 6.09  Valid NDCG: 0.3061\n",
      "Data Preparation: 238.4s\n",
      "Epoch: 33 (47.7s)  LR: 0.00032 Train Loss: 2.01  Valid Loss: 6.04  Valid NDCG: 0.3480\n",
      "Data Preparation: 237.9s\n",
      "Epoch: 34 (47.1s)  LR: 0.00013 Train Loss: 2.21  Valid Loss: 6.57  Valid NDCG: 0.3165\n",
      "Data Preparation: 235.1s\n",
      "Epoch: 35 (47.3s)  LR: 0.00001 Train Loss: 2.21  Valid Loss: 6.09  Valid NDCG: 0.3385\n",
      "Test NDCG: 0.4207287567844243\n",
      "Data Preparation: 239.9s\n",
      "Epoch: 36 (46.4s)  LR: 0.00002 Train Loss: 2.17  Valid Loss: 6.31  Valid NDCG: 0.3210\n",
      "Data Preparation: 239.8s\n",
      "Epoch: 37 (47.9s)  LR: 0.00013 Train Loss: 2.10  Valid Loss: 5.93  Valid NDCG: 0.3546\n",
      "Data Preparation: 241.9s\n",
      "Epoch: 38 (47.8s)  LR: 0.00033 Train Loss: 2.12  Valid Loss: 5.99  Valid NDCG: 0.3370\n",
      "Data Preparation: 240.5s\n",
      "Epoch: 39 (47.8s)  LR: 0.00057 Train Loss: 2.39  Valid Loss: 5.72  Valid NDCG: 0.3825\n",
      "Data Preparation: 240.7s\n",
      "Epoch: 40 (44.5s)  LR: 0.00079 Train Loss: 2.26  Valid Loss: 5.50  Valid NDCG: 0.3691\n",
      "Test NDCG: 0.41728400456290826\n",
      "Data Preparation: 236.5s\n",
      "Epoch: 41 (46.1s)  LR: 0.00095 Train Loss: 2.00  Valid Loss: 6.08  Valid NDCG: 0.3500\n",
      "Data Preparation: 235.9s\n",
      "Epoch: 42 (46.0s)  LR: 0.00100 Train Loss: 2.27  Valid Loss: 6.31  Valid NDCG: 0.3121\n",
      "Data Preparation: 253.5s\n"
     ]
    },
    {
     "name": "stderr",
     "output_type": "stream",
     "text": [
      "/home/ziniu/anaconda3/lib/python3.7/site-packages/torch/serialization.py:256: UserWarning: Couldn't retrieve source code for container of type GNN. It won't be checked for correctness upon loading.\n",
      "  \"type \" + obj.__name__ + \". It won't be checked \"\n"
     ]
    },
    {
     "name": "stdout",
     "output_type": "stream",
     "text": [
      "Epoch: 43 (49.4s)  LR: 0.00093 Train Loss: 1.87  Valid Loss: 5.25  Valid NDCG: 0.4246\n",
      "Data Preparation: 241.4s\n",
      "Epoch: 44 (47.9s)  LR: 0.00077 Train Loss: 2.07  Valid Loss: 6.38  Valid NDCG: 0.3086\n",
      "Data Preparation: 233.7s\n",
      "Epoch: 45 (48.0s)  LR: 0.00054 Train Loss: 1.91  Valid Loss: 5.94  Valid NDCG: 0.3422\n",
      "Test NDCG: 0.413524518867897\n",
      "Data Preparation: 233.3s\n",
      "Epoch: 46 (46.5s)  LR: 0.00030 Train Loss: 2.21  Valid Loss: 6.17  Valid NDCG: 0.3408\n",
      "Data Preparation: 244.1s\n",
      "Epoch: 47 (46.3s)  LR: 0.00011 Train Loss: 2.02  Valid Loss: 5.86  Valid NDCG: 0.3662\n",
      "Data Preparation: 238.0s\n",
      "Epoch: 48 (47.0s)  LR: 0.00001 Train Loss: 1.83  Valid Loss: 6.22  Valid NDCG: 0.3105\n",
      "Data Preparation: 247.3s\n",
      "Epoch: 49 (48.4s)  LR: 0.00002 Train Loss: 1.84  Valid Loss: 5.45  Valid NDCG: 0.4199\n",
      "Data Preparation: 242.5s\n",
      "Epoch: 50 (46.8s)  LR: 0.00015 Train Loss: 2.28  Valid Loss: 6.01  Valid NDCG: 0.3578\n",
      "Test NDCG: 0.460522856846999\n",
      "Data Preparation: 249.3s\n",
      "Epoch: 51 (47.9s)  LR: 0.00035 Train Loss: 1.76  Valid Loss: 5.65  Valid NDCG: 0.4022\n",
      "Data Preparation: 245.5s\n"
     ]
    },
    {
     "name": "stderr",
     "output_type": "stream",
     "text": [
      "/home/ziniu/anaconda3/lib/python3.7/site-packages/torch/serialization.py:256: UserWarning: Couldn't retrieve source code for container of type GNN. It won't be checked for correctness upon loading.\n",
      "  \"type \" + obj.__name__ + \". It won't be checked \"\n"
     ]
    },
    {
     "name": "stdout",
     "output_type": "stream",
     "text": [
      "Epoch: 52 (44.2s)  LR: 0.00059 Train Loss: 2.46  Valid Loss: 5.17  Valid NDCG: 0.4291\n",
      "Data Preparation: 233.7s\n",
      "Epoch: 53 (46.7s)  LR: 0.00081 Train Loss: 2.28  Valid Loss: 5.87  Valid NDCG: 0.3711\n",
      "Data Preparation: 242.7s\n",
      "Epoch: 54 (48.8s)  LR: 0.00096 Train Loss: 1.60  Valid Loss: 5.86  Valid NDCG: 0.3477\n",
      "Data Preparation: 237.2s\n",
      "Epoch: 55 (47.0s)  LR: 0.00100 Train Loss: 2.13  Valid Loss: 5.97  Valid NDCG: 0.3169\n",
      "Test NDCG: 0.46898346454759227\n",
      "Data Preparation: 239.3s\n",
      "Epoch: 56 (47.5s)  LR: 0.00092 Train Loss: 1.81  Valid Loss: 6.00  Valid NDCG: 0.3775\n",
      "Data Preparation: 237.2s\n",
      "Epoch: 57 (47.5s)  LR: 0.00075 Train Loss: 1.80  Valid Loss: 5.60  Valid NDCG: 0.3531\n",
      "Data Preparation: 246.2s\n",
      "Epoch: 58 (47.7s)  LR: 0.00052 Train Loss: 1.74  Valid Loss: 6.35  Valid NDCG: 0.3160\n",
      "Data Preparation: 238.9s\n",
      "Epoch: 59 (46.2s)  LR: 0.00028 Train Loss: 1.90  Valid Loss: 5.84  Valid NDCG: 0.3529\n",
      "Data Preparation: 237.8s\n",
      "Epoch: 60 (46.7s)  LR: 0.00010 Train Loss: 2.25  Valid Loss: 5.06  Valid NDCG: 0.4224\n",
      "Test NDCG: 0.43972348286329227\n",
      "Data Preparation: 244.0s\n",
      "Epoch: 61 (48.9s)  LR: 0.00001 Train Loss: 1.87  Valid Loss: 5.97  Valid NDCG: 0.3624\n",
      "Data Preparation: 239.4s\n",
      "Epoch: 62 (48.0s)  LR: 0.00003 Train Loss: 1.99  Valid Loss: 5.68  Valid NDCG: 0.3686\n",
      "Data Preparation: 239.7s\n",
      "Epoch: 63 (47.4s)  LR: 0.00016 Train Loss: 1.81  Valid Loss: 5.58  Valid NDCG: 0.3855\n",
      "Data Preparation: 231.5s\n",
      "Epoch: 64 (45.8s)  LR: 0.00038 Train Loss: 2.19  Valid Loss: 6.06  Valid NDCG: 0.3344\n",
      "Data Preparation: 239.0s\n",
      "Epoch: 65 (45.9s)  LR: 0.00062 Train Loss: 1.74  Valid Loss: 5.43  Valid NDCG: 0.3913\n",
      "Test NDCG: 0.4045572640248014\n",
      "Data Preparation: 238.4s\n",
      "Epoch: 66 (49.6s)  LR: 0.00083 Train Loss: 1.81  Valid Loss: 5.79  Valid NDCG: 0.3661\n",
      "Data Preparation: 214.9s\n",
      "Epoch: 67 (49.1s)  LR: 0.00097 Train Loss: 1.73  Valid Loss: 6.03  Valid NDCG: 0.3390\n",
      "Data Preparation: 207.4s\n",
      "Epoch: 68 (48.6s)  LR: 0.00100 Train Loss: 1.88  Valid Loss: 6.14  Valid NDCG: 0.3535\n",
      "Data Preparation: 208.4s\n",
      "Epoch: 69 (49.5s)  LR: 0.00091 Train Loss: 1.35  Valid Loss: 6.09  Valid NDCG: 0.3637\n",
      "Data Preparation: 207.1s\n",
      "Epoch: 70 (49.0s)  LR: 0.00073 Train Loss: 1.85  Valid Loss: 5.49  Valid NDCG: 0.4056\n",
      "Test NDCG: 0.40762086162615596\n",
      "Data Preparation: 202.1s\n",
      "Epoch: 71 (48.1s)  LR: 0.00049 Train Loss: 2.43  Valid Loss: 5.26  Valid NDCG: 0.4203\n",
      "Data Preparation: 216.1s\n",
      "Epoch: 72 (49.6s)  LR: 0.00026 Train Loss: 1.75  Valid Loss: 5.87  Valid NDCG: 0.3495\n",
      "Data Preparation: 208.2s\n",
      "Epoch: 73 (47.6s)  LR: 0.00008 Train Loss: 2.01  Valid Loss: 5.41  Valid NDCG: 0.3843\n",
      "Data Preparation: 210.9s\n",
      "Epoch: 74 (49.6s)  LR: 0.00000 Train Loss: 1.76  Valid Loss: 5.15  Valid NDCG: 0.4244\n",
      "Data Preparation: 213.5s\n",
      "Epoch: 75 (50.9s)  LR: 0.00004 Train Loss: 1.57  Valid Loss: 5.69  Valid NDCG: 0.3698\n",
      "Test NDCG: 0.49777779424059015\n"
     ]
    }
   ],
   "source": [
    "stats = []\n",
    "pool = mp.Pool(4)\n",
    "process_ids = np.arange(batch_num // 4)\n",
    "st = time.time()\n",
    "jobs = prepare_data(pool, process_ids)\n",
    "train_step = 1500\n",
    "best_val   = 0\n",
    "res = []\n",
    "criterion = nn.KLDivLoss(reduction='batchmean')\n",
    "for epoch in np.arange(epoch_num)+1:\n",
    "    '''\n",
    "        Prepare Training and Validation Data\n",
    "    '''\n",
    "    train_data = [job.get() for job in jobs[:-1]]\n",
    "    valid_data = jobs[-1].get()\n",
    "    pool.close()\n",
    "    pool.join()\n",
    "    pool = mp.Pool(4)\n",
    "    jobs = prepare_data(pool, process_ids)\n",
    "    et = time.time()\n",
    "    print('Data Preparation: %.1fs' % (et - st))\n",
    "    \n",
    "    \n",
    "    model.train()\n",
    "    train_losses = []\n",
    "    for batch in np.arange(5):\n",
    "        for node_feature, node_type, edge_time, edge_index, edge_type, venue_ids, paper_ids, ylabel in train_data:\n",
    "            node_rep = gnn.forward(node_feature.to(device), node_type.to(device), edge_index.to(device))\n",
    "            res  = classifier.forward(node_rep[paper_ids])\n",
    "            loss = criterion(res, ylabel.to(device))\n",
    "            optimizer.zero_grad() \n",
    "            loss.backward()\n",
    "            optimizer.step()\n",
    "            train_losses += [loss.cpu().detach().tolist()]\n",
    "            train_step += 1\n",
    "            scheduler.step(train_step)\n",
    "    '''\n",
    "        Valid\n",
    "    '''\n",
    "    model.eval()\n",
    "    with torch.no_grad():\n",
    "        node_feature, node_type, edge_time, edge_index, edge_type, venue_ids, paper_ids, ylabel = valid_data\n",
    "        node_rep = gnn.forward(node_feature.to(device), node_type.to(device), edge_index.to(device))\n",
    "        res  = classifier.forward(node_rep[paper_ids])\n",
    "        loss = criterion(res, ylabel.to(device))\n",
    "        valid_res = []\n",
    "\n",
    "        for ai, bi in zip(ylabel, res.argsort(descending = True)):\n",
    "            valid_res += [ai[bi].tolist()]\n",
    "        valid_ndcg = np.average([ndcg_at_k(resi, len(resi)) for resi in valid_res])\n",
    "        if valid_ndcg > best_val:\n",
    "            best_val = valid_ndcg\n",
    "            torch.save(model, './save/gat.pt')\n",
    "        st = time.time()\n",
    "        print((\"Epoch: %d (%.1fs)  LR: %.5f Train Loss: %.2f  Valid Loss: %.2f  Valid NDCG: %.4f\") % \\\n",
    "              (epoch, (st-et), optimizer.param_groups[0]['lr'], np.average(train_losses), loss.cpu().detach().tolist(),\\\n",
    "              valid_ndcg))\n",
    "        stats += [[np.average(train_losses), loss.cpu().detach().tolist()]]\n",
    "        if epoch % 5 == 0:\n",
    "            '''\n",
    "                Test\n",
    "            '''\n",
    "            _time = np.random.choice(list(test_papers.keys()))\n",
    "            node_feature, node_type, edge_time, edge_index, edge_type, venue_ids, paper_ids, ylabel = pf_sample(np.random.randint(2 ** 32 - 1), test_papers, \\\n",
    "                                                           test_pairs, test_range, batch_size, test=True)\n",
    "            paper_rep = gnn.forward(node_feature.to(device), node_type.to(device), edge_index.to(device))[paper_ids]\n",
    "            res = classifier.forward(paper_rep)\n",
    "            test_res = []\n",
    "            for ai, bi in zip(ylabel, res.argsort(descending = True)):\n",
    "                test_res += [ai[bi].tolist()]\n",
    "            test_ndcg = np.average([ndcg_at_k(resi, len(resi)) for resi in test_res])\n",
    "            print(\"Test NDCG: \" + str(test_ndcg))\n",
    "    del train_data, valid_data"
   ]
  },
  {
   "cell_type": "code",
   "execution_count": null,
   "metadata": {},
   "outputs": [],
   "source": []
  },
  {
   "cell_type": "code",
   "execution_count": 13,
   "metadata": {},
   "outputs": [
    {
     "data": {
      "image/png": "[encoded data removed]",
      "text/plain": [
       "<Figure size 432x288 with 1 Axes>"
      ]
     },
     "metadata": {
      "needs_background": "light"
     },
     "output_type": "display_data"
    }
   ],
   "source": [
    "stats = np.array(stats)\n",
    "plt.plot(stats[:,0])\n",
    "plt.plot(stats[:,1])\n",
    "plt.show()"
   ]
  },
  {
   "cell_type": "code",
   "execution_count": 14,
   "metadata": {},
   "outputs": [
    {
     "name": "stdout",
     "output_type": "stream",
     "text": [
      "0.5426824121419349 0.16754782310202931\n",
      "0.43640684543455743 0.21315936975486233\n"
     ]
    }
   ],
   "source": [
    "model.eval()\n",
    "gnn, classifier = model\n",
    "with torch.no_grad():\n",
    "    test_res = []\n",
    "    for _ in range(10):\n",
    "        _time = np.random.choice(list(test_papers.keys()))\n",
    "        node_feature, node_type, edge_time, edge_index, edge_type, venue_ids, paper_ids, ylabel = pf_sample(np.random.randint(2 ** 32 - 1), test_papers, \\\n",
    "                                                       test_pairs, test_range, batch_size, test=True)\n",
    "        paper_rep = gnn.forward(node_feature.to(device), node_type.to(device), edge_index.to(device))[paper_ids]\n",
    "        res = classifier.forward(paper_rep)\n",
    "        for ai, bi in zip(ylabel, res.argsort(descending = True)):\n",
    "            test_res += [ai[bi].tolist()]\n",
    "    test_ndcg = [ndcg_at_k(resi, len(resi)) for resi in test_res]\n",
    "    print(np.average(test_ndcg), np.var(test_ndcg))\n",
    "    test_mrr = mean_reciprocal_rank(test_res)\n",
    "    print(np.average(test_mrr), np.var(test_mrr))"
   ]
  },
  {
   "cell_type": "code",
   "execution_count": 15,
   "metadata": {},
   "outputs": [],
   "source": [
    "best_model = torch.load('./save/gat.pt')"
   ]
  },
  {
   "cell_type": "code",
   "execution_count": 16,
   "metadata": {},
   "outputs": [
    {
     "name": "stdout",
     "output_type": "stream",
     "text": [
      "0.5202430761941716 0.16528712842957732\n",
      "0.41505480926543986 0.21173632759707592\n"
     ]
    }
   ],
   "source": [
    "best_model.eval()\n",
    "gnn, classifier = best_model\n",
    "with torch.no_grad():\n",
    "    test_res = []\n",
    "    for _ in range(10):\n",
    "        _time = np.random.choice(list(test_papers.keys()))\n",
    "        node_feature, node_type, edge_time, edge_index, edge_type, venue_ids, paper_ids, ylabel = pf_sample(np.random.randint(2 ** 32 - 1), test_papers, \\\n",
    "                                                       test_pairs, test_range, batch_size, test=True)\n",
    "        paper_rep = gnn.forward(node_feature.to(device), node_type.to(device), edge_index.to(device))[paper_ids]\n",
    "        res = classifier.forward(paper_rep)\n",
    "        for ai, bi in zip(ylabel, res.argsort(descending = True)):\n",
    "            test_res += [ai[bi].tolist()]\n",
    "    test_ndcg = [ndcg_at_k(resi, len(resi)) for resi in test_res]\n",
    "    print(np.average(test_ndcg), np.var(test_ndcg))\n",
    "    test_mrr = mean_reciprocal_rank(test_res)\n",
    "    print(np.average(test_mrr), np.var(test_mrr))"
   ]
  }
 ],
 "metadata": {
  "kernelspec": {
   "display_name": "Python 3",
   "language": "python",
   "name": "python3"
  },
  "language_info": {
   "codemirror_mode": {
    "name": "ipython",
    "version": 3
   },
   "file_extension": ".py",
   "mimetype": "text/x-python",
   "name": "python",
   "nbconvert_exporter": "python",
   "pygments_lexer": "ipython3",
   "version": "3.7.3"
  }
 },
 "nbformat": 4,
 "nbformat_minor": 2
}
