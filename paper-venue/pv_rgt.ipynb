{
 "cells": [
  {
   "cell_type": "code",
   "execution_count": 1,
   "metadata": {},
   "outputs": [],
   "source": [
    "import sys\n",
    "sys.path.append('../')\n",
    "from utils import *\n",
    "from model import *"
   ]
  },
  {
   "cell_type": "code",
   "execution_count": 2,
   "metadata": {},
   "outputs": [],
   "source": [
    "data_dir = '/datadrive/data_med/'\n",
    "batch_size = 256\n",
    "batch_num  = 128\n",
    "epoch_num  = 200\n",
    "samp_num   = 7\n",
    "\n",
    "device = torch.device(\"cuda:1\")\n",
    "graph = dill.load(open(data_dir + 'graph.pk', 'rb'))"
   ]
  },
  {
   "cell_type": "code",
   "execution_count": 3,
   "metadata": {},
   "outputs": [],
   "source": [
    "train_range = {t: True for t in graph.times if t != None and t < 2015}\n",
    "valid_range = {t: True for t in graph.times if t != None and t >= 2015  and t <= 2016}\n",
    "test_range  = {t: True for t in graph.times if t != None and t > 2016}"
   ]
  },
  {
   "cell_type": "code",
   "execution_count": 4,
   "metadata": {},
   "outputs": [],
   "source": [
    "def pf_sample(seed, papers, pairs, t_range, batch_size, test = False):\n",
    "    np.random.seed(seed)\n",
    "    _time = np.random.choice(list(papers.keys()))\n",
    "    sampn = min(len(papers[_time]), batch_size)\n",
    "    pids = np.array(papers[_time])[np.random.choice(len(papers[_time]), sampn, replace = False)]\n",
    "    fids = []\n",
    "    edge = defaultdict(lambda: {})\n",
    "    for x_id, p_id in enumerate(pids):\n",
    "        f_ids = pairs[p_id]\n",
    "        for f_id in f_ids:\n",
    "            if f_id not in fids:\n",
    "                fids += [f_id]\n",
    "            edge[x_id][fids.index(f_id)] = True\n",
    "    pids = np.stack([pids, np.repeat([_time], sampn)]).T\n",
    "    fids = np.stack([fids, np.repeat([_time], len(fids))]).T\n",
    " \n",
    "    feature, times, edge_list, _ = sample_subgraph(graph, t_range, \\\n",
    "                inp = {'paper': pids, 'venue': fids}, sampled_depth = 3, sampled_number = 100)\n",
    "\n",
    "    el = []\n",
    "    for i in edge_list['paper']['venue']['rev_PV_Journal']:\n",
    "        if i[0] in edge and i[1] in edge[i[0]]:\n",
    "            continue\n",
    "        el += [i]\n",
    "    edge_list['paper']['venue']['rev_PV_Journal'] = el\n",
    "\n",
    "    el = []\n",
    "    for i in edge_list['venue']['paper']['PV_Journal']:\n",
    "        if i[1] in edge and i[0] in edge[i[1]]:\n",
    "            continue\n",
    "        el += [i]\n",
    "    edge_list['venue']['paper']['PV_Journal'] = el\n",
    "    \n",
    "    \n",
    "    node_feature, node_type, edge_time, edge_index, edge_type, node_dict, edge_dict = \\\n",
    "            to_torch(feature, times, edge_list, graph)\n",
    "    '''\n",
    "        Trace the paper_id and venue_id by its own index plus the type start index\n",
    "    '''\n",
    "    paper_ids = np.arange(len(pids)) + node_dict['paper'][0]\n",
    "    venue_ids = np.arange(len(fids)) + node_dict['venue'][0]\n",
    "    ylabel = torch.zeros(sampn, len(cand_list))\n",
    "    for x_id, p_id in enumerate(pids[:,0]):\n",
    "        for f_id in pairs[p_id]:\n",
    "            ylabel[x_id][cand_list.index(f_id)] = 1\n",
    "    ylabel /= ylabel.sum(axis=1).view(-1, 1)\n",
    "    return node_feature, node_type, edge_time, edge_index, edge_type, venue_ids, paper_ids, ylabel\n",
    "    \n",
    "def prepare_data(pool, process_ids):\n",
    "    jobs = []\n",
    "    for process_id in process_ids[:-1]:\n",
    "        p = pool.apply_async(pf_sample, args=(np.random.randint(2**32 - 1), train_papers, \\\n",
    "                                               train_pairs, train_range, batch_size))\n",
    "        jobs.append(p)\n",
    "    p = pool.apply_async(pf_sample, args=(np.random.randint(2**32 - 1), valid_papers, \\\n",
    "                                           valid_pairs, valid_range, batch_size))\n",
    "    jobs.append(p)\n",
    "    return jobs"
   ]
  },
  {
   "cell_type": "code",
   "execution_count": null,
   "metadata": {},
   "outputs": [],
   "source": []
  },
  {
   "cell_type": "code",
   "execution_count": null,
   "metadata": {},
   "outputs": [],
   "source": []
  },
  {
   "cell_type": "code",
   "execution_count": 5,
   "metadata": {},
   "outputs": [],
   "source": [
    "class RAGCNConv(MessagePassing):\n",
    "    def __init__(self, in_dim, out_dim, num_types, num_relations, n_heads, dropout = 0.3, **kwargs):\n",
    "        super(RAGCNConv, self).__init__(aggr='add', **kwargs)\n",
    "\n",
    "        self.in_dim        = in_dim\n",
    "        self.out_dim       = out_dim\n",
    "        self.num_types     = num_types\n",
    "        self.num_relations = num_relations\n",
    "        self.total_rel     = num_types * num_relations * num_types\n",
    "        self.n_heads       = n_heads\n",
    "        self.d_k           = out_dim // n_heads\n",
    "        self.sqrt_dk       = math.sqrt(self.d_k)\n",
    "        self.att           = None\n",
    "        \n",
    "        self.interact_sws   = nn.ModuleList()\n",
    "        self.interact_tws   = nn.ModuleList()\n",
    "        self.transfer_sws   = nn.ModuleList()\n",
    "        \n",
    "        self.relation_ws   = nn.ModuleList()\n",
    "        self.aggregat_ws   = nn.ModuleList()\n",
    "        self.norms         = nn.ModuleList()\n",
    "        \n",
    "        for t in range(num_types):\n",
    "            self.interact_sws.append(nn.Linear(in_dim,   out_dim))\n",
    "            self.interact_tws.append(nn.Linear(in_dim,   out_dim))\n",
    "            self.transfer_sws.append(nn.Linear(in_dim,   out_dim))\n",
    "            self.aggregat_ws.append(nn.Linear(out_dim,  out_dim))\n",
    "            self.norms.append(BatchNorm(out_dim))\n",
    "            \n",
    "        self.relation_ws   = nn.Parameter(torch.ones(num_types, num_relations, num_types, self.n_heads))\n",
    "        self.interact_rw   = nn.Parameter(torch.Tensor(num_relations, n_heads, self.d_k, self.d_k))\n",
    "        self.transfer_rw   = nn.Parameter(torch.Tensor(num_relations, n_heads, self.d_k, self.d_k))\n",
    "        \n",
    "        self.drop          = nn.Dropout(dropout)\n",
    "        self.emb           = RelTemporalEncoding(in_dim)\n",
    "        \n",
    "        glorot(self.interact_rw)\n",
    "        glorot(self.transfer_rw)\n",
    "        \n",
    "    def forward(self, node_inp, node_type, edge_index, edge_type, edge_time):\n",
    "        return self.propagate(edge_index, node_inp=node_inp, node_type=node_type, \\\n",
    "                              edge_type=edge_type, edge_time = edge_time)\n",
    "\n",
    "    def message(self, edge_index_i, node_inp_i, node_inp_j, node_type_i, node_type_j, edge_type, edge_time, num_nodes):\n",
    "        '''\n",
    "            i: target; j: source\n",
    "        '''\n",
    "        data_size = edge_index_i.size(0)\n",
    "        atts, vals = [], []\n",
    "        res_att     = torch.zeros(data_size, self.n_heads).to(node_inp_i.device)\n",
    "        res_val     = torch.zeros(data_size, self.n_heads, self.d_k).to(node_inp_i.device)\n",
    "        \n",
    "        for source_id in range(self.num_types):\n",
    "            sb = node_type_j == source_id\n",
    "            interact_sw = self.interact_sws[source_id]\n",
    "            transfer_sw = self.transfer_sws[source_id]\n",
    "            for target_id in range(self.num_types):\n",
    "                tb = (node_type_i == target_id) & sb\n",
    "                interact_tw = self.interact_tws[target_id]\n",
    "                for relation_id in range(self.num_relations):\n",
    "                    idx = tb & (edge_type == relation_id)\n",
    "                    if idx.sum() == 0:\n",
    "                        continue\n",
    "                    _node_inp_i = node_inp_i[idx]\n",
    "                    _node_inp_j = node_inp_j[idx]\n",
    "#                     _node_inp_j = self.emb(node_inp_j[idx], edge_time[idx])\n",
    "                    \n",
    "                    _int_i = interact_tw(_node_inp_i).view(-1, self.n_heads, self.d_k)\n",
    "                    _int_j = interact_sw(_node_inp_j).view(-1, self.n_heads, self.d_k)\n",
    "                    \n",
    "                    _int_s = torch.bmm(_int_j.transpose(1,0), self.interact_rw[relation_id]).transpose(1,0)\n",
    "                    res_att[idx] = (_int_s * _int_i).sum(dim=-1) * self.relation_ws[target_id][relation_id][source_id] / self.sqrt_dk\n",
    "                    \n",
    "                    _tra_j = transfer_sw(_node_inp_j).view(-1, self.n_heads, self.d_k)\n",
    "                    res_val[idx] = torch.bmm(_tra_j.transpose(1,0), self.transfer_rw[relation_id]).transpose(1,0)\n",
    "                    \n",
    "        self.att = softmax(res_att, edge_index_i, data_size)\n",
    "        res = res_val * self.att.view(-1, self.n_heads, 1)\n",
    "        del res_att, res_val\n",
    "        return res.view(-1, self.out_dim)\n",
    "\n",
    "\n",
    "    def update(self, aggr_out, node_inp, node_type):\n",
    "        '''\n",
    "           x = BN[node_type](W[node_type] * GNN(x) + x)\n",
    "        '''\n",
    "        res = torch.zeros(aggr_out.size(0), self.out_dim).to(node_inp.device)\n",
    "        for t_id in range(self.num_types):\n",
    "            aggregat_w = self.aggregat_ws[t_id]\n",
    "            norm = self.norms[t_id]\n",
    "            idx = (node_type == t_id)\n",
    "            if idx.sum() == 0:\n",
    "                continue\n",
    "            res[idx] = norm(F.relu(aggregat_w(aggr_out[idx])) + node_inp[idx])\n",
    "        out = self.drop(res)\n",
    "        del res\n",
    "        return out\n",
    "\n",
    "    def __repr__(self):\n",
    "        return '{}(in_dim={}, out_dim={}, num_types={}, num_types={})'.format(\n",
    "            self.__class__.__name__, self.in_dim, self.out_dim,\n",
    "            self.num_types, self.num_relations)"
   ]
  },
  {
   "cell_type": "code",
   "execution_count": 6,
   "metadata": {},
   "outputs": [],
   "source": [
    "class GNN(nn.Module):\n",
    "    def __init__(self, in_dim, n_hid, num_types, num_relations, n_heads, n_layers, dropout = 0.3):\n",
    "        super(GNN, self).__init__()\n",
    "        self.gcs = nn.ModuleList()\n",
    "        self.num_types = num_types\n",
    "        self.in_dim    = in_dim\n",
    "        self.n_hid     = n_hid\n",
    "        self.aggregat_ws   = nn.ModuleList()\n",
    "        self.drop          = nn.Dropout(dropout)\n",
    "        for t in range(num_types):\n",
    "            self.aggregat_ws.append(nn.Linear(in_dim, n_hid))\n",
    "        for l in range(n_layers):\n",
    "            self.gcs.append(RAGCNConv(n_hid, n_hid, num_types, num_relations, n_heads, dropout))\n",
    "    def set_device(self, device):\n",
    "        self.device = device\n",
    "        for gc in self.gcs:\n",
    "            gc.device = device\n",
    "    def forward(self, node_feature, node_type, edge_time, edge_index, edge_type):\n",
    "        res = torch.zeros(node_feature.size(0), self.n_hid).to(node_feature.device)\n",
    "        for t_id in range(self.num_types):\n",
    "            aggregat_w = self.aggregat_ws[t_id]\n",
    "            idx = (node_type == t_id)\n",
    "            if idx.sum() == 0:\n",
    "                continue\n",
    "            res[idx] = torch.tanh(aggregat_w(node_feature[idx]))\n",
    "        meta_xs = self.drop(res)\n",
    "        del res\n",
    "        for gc in self.gcs:\n",
    "            meta_xs = gc(meta_xs, node_type, edge_index, edge_type, edge_time)\n",
    "        return meta_xs"
   ]
  },
  {
   "cell_type": "code",
   "execution_count": 7,
   "metadata": {},
   "outputs": [],
   "source": [
    "'''\n",
    "Paper-Venue\n",
    "'''\n",
    "paper_ser = {}\n",
    "\n",
    "train_pairs = {}\n",
    "valid_pairs = {}\n",
    "test_pairs  = {}\n",
    "\n",
    "train_papers = {_time: {} for _time in train_range}\n",
    "valid_papers = {_time: {} for _time in valid_range}\n",
    "test_papers  = {_time: {} for _time in test_range}\n",
    "\n",
    "for f_id in graph.edge_list['venue']['paper']['PV_Journal']:\n",
    "    for p_id in graph.edge_list['venue']['paper']['PV_Journal'][f_id]:\n",
    "        _time = graph.edge_list['venue']['paper']['PV_Journal'][f_id][p_id]\n",
    "        if _time in train_range:\n",
    "            if p_id not in train_pairs:\n",
    "                train_pairs[p_id] = []\n",
    "            train_pairs[p_id] += [f_id]\n",
    "            train_papers[_time][p_id] = True\n",
    "        elif _time in valid_range:\n",
    "            if p_id not in valid_pairs:\n",
    "                valid_pairs[p_id] = []\n",
    "            valid_pairs[p_id] += [f_id]\n",
    "            valid_papers[_time][p_id] = True\n",
    "        else:\n",
    "            if p_id not in test_pairs:\n",
    "                test_pairs[p_id] = []\n",
    "            test_pairs[p_id] += [f_id]\n",
    "            test_papers[_time][p_id] = True\n",
    "for _time in list(train_papers.keys()):\n",
    "    if len(train_papers[_time]) < batch_size // 2:\n",
    "        train_papers.pop(_time)\n",
    "    else:\n",
    "        train_papers[_time] = np.array(list(train_papers[_time].keys()))\n",
    "for _time in list(valid_papers.keys()):\n",
    "    if len(valid_papers[_time]) < batch_size // 2:\n",
    "        valid_papers.pop(_time)\n",
    "    else:\n",
    "        valid_papers[_time] = np.array(list(valid_papers[_time].keys()))\n",
    "for _time in list(test_papers.keys()):\n",
    "    if len(test_papers[_time]) < batch_size // 2:\n",
    "        test_papers.pop(_time)\n",
    "    else:\n",
    "        test_papers[_time] = np.array(list(test_papers[_time].keys()))"
   ]
  },
  {
   "cell_type": "code",
   "execution_count": 8,
   "metadata": {},
   "outputs": [],
   "source": [
    "types = graph.get_types()\n",
    "cand_list = list(graph.edge_list['venue']['paper']['PV_Journal'])\n",
    "gnn = GNN(in_dim = len(graph.node_feature['paper']['emb'][0]) + 401, n_hid = 256, num_types = len(types), \\\n",
    "          num_relations = len(graph.get_meta_graph()) + 1, n_heads = 8, n_layers = 3).to(device)\n",
    "# gnn = torch.load('../pre-train/save/cpc_model.pt').to(device)\n",
    "classifier = Classifier(256, len(cand_list)).to(device)\n",
    "model = nn.Sequential(gnn, classifier)\n",
    "optimizer = torch.optim.AdamW(model.parameters())\n",
    "scheduler = torch.optim.lr_scheduler.CosineAnnealingLR(optimizer, 1000, eta_min=1e-6)"
   ]
  },
  {
   "cell_type": "code",
   "execution_count": 9,
   "metadata": {
    "scrolled": false
   },
   "outputs": [
    {
     "name": "stdout",
     "output_type": "stream",
     "text": [
      "Data Preparation: 272.9s\n"
     ]
    },
    {
     "name": "stderr",
     "output_type": "stream",
     "text": [
      "/home/ziniu/anaconda3/lib/python3.7/site-packages/torch/serialization.py:256: UserWarning: Couldn't retrieve source code for container of type GNN. It won't be checked for correctness upon loading.\n",
      "  \"type \" + obj.__name__ + \". It won't be checked \"\n",
      "/home/ziniu/anaconda3/lib/python3.7/site-packages/torch/serialization.py:256: UserWarning: Couldn't retrieve source code for container of type RAGCNConv. It won't be checked for correctness upon loading.\n",
      "  \"type \" + obj.__name__ + \". It won't be checked \"\n"
     ]
    },
    {
     "name": "stdout",
     "output_type": "stream",
     "text": [
      "Epoch: 1 (217.1s)  LR: 0.00060 Train Loss: 7.73  Valid Loss: 8.50  Valid NDCG: 0.1189\n",
      "Data Preparation: 57.3s\n"
     ]
    },
    {
     "name": "stderr",
     "output_type": "stream",
     "text": [
      "/home/ziniu/anaconda3/lib/python3.7/site-packages/torch/serialization.py:256: UserWarning: Couldn't retrieve source code for container of type GNN. It won't be checked for correctness upon loading.\n",
      "  \"type \" + obj.__name__ + \". It won't be checked \"\n",
      "/home/ziniu/anaconda3/lib/python3.7/site-packages/torch/serialization.py:256: UserWarning: Couldn't retrieve source code for container of type RAGCNConv. It won't be checked for correctness upon loading.\n",
      "  \"type \" + obj.__name__ + \". It won't be checked \"\n"
     ]
    },
    {
     "name": "stdout",
     "output_type": "stream",
     "text": [
      "Epoch: 2 (210.0s)  LR: 0.00069 Train Loss: 5.72  Valid Loss: 8.13  Valid NDCG: 0.1506\n",
      "Data Preparation: 65.2s\n"
     ]
    },
    {
     "name": "stderr",
     "output_type": "stream",
     "text": [
      "/home/ziniu/anaconda3/lib/python3.7/site-packages/torch/serialization.py:256: UserWarning: Couldn't retrieve source code for container of type GNN. It won't be checked for correctness upon loading.\n",
      "  \"type \" + obj.__name__ + \". It won't be checked \"\n",
      "/home/ziniu/anaconda3/lib/python3.7/site-packages/torch/serialization.py:256: UserWarning: Couldn't retrieve source code for container of type RAGCNConv. It won't be checked for correctness upon loading.\n",
      "  \"type \" + obj.__name__ + \". It won't be checked \"\n"
     ]
    },
    {
     "name": "stdout",
     "output_type": "stream",
     "text": [
      "Epoch: 3 (215.1s)  LR: 0.00078 Train Loss: 4.44  Valid Loss: 7.48  Valid NDCG: 0.1779\n",
      "Data Preparation: 51.7s\n",
      "Epoch: 4 (206.8s)  LR: 0.00085 Train Loss: 4.52  Valid Loss: 7.72  Valid NDCG: 0.1662\n",
      "Data Preparation: 71.1s\n",
      "Epoch: 5 (219.9s)  LR: 0.00091 Train Loss: 3.11  Valid Loss: 7.68  Valid NDCG: 0.1625\n",
      "0.1790160990170712\n",
      "Data Preparation: 61.7s\n"
     ]
    },
    {
     "name": "stderr",
     "output_type": "stream",
     "text": [
      "/home/ziniu/anaconda3/lib/python3.7/site-packages/torch/serialization.py:256: UserWarning: Couldn't retrieve source code for container of type GNN. It won't be checked for correctness upon loading.\n",
      "  \"type \" + obj.__name__ + \". It won't be checked \"\n",
      "/home/ziniu/anaconda3/lib/python3.7/site-packages/torch/serialization.py:256: UserWarning: Couldn't retrieve source code for container of type RAGCNConv. It won't be checked for correctness upon loading.\n",
      "  \"type \" + obj.__name__ + \". It won't be checked \"\n"
     ]
    },
    {
     "name": "stdout",
     "output_type": "stream",
     "text": [
      "Epoch: 6 (217.7s)  LR: 0.00096 Train Loss: 3.29  Valid Loss: 7.01  Valid NDCG: 0.2257\n",
      "Data Preparation: 58.4s\n",
      "Epoch: 7 (224.7s)  LR: 0.00099 Train Loss: 3.02  Valid Loss: 7.25  Valid NDCG: 0.2025\n",
      "Data Preparation: 47.8s\n"
     ]
    },
    {
     "name": "stderr",
     "output_type": "stream",
     "text": [
      "/home/ziniu/anaconda3/lib/python3.7/site-packages/torch/serialization.py:256: UserWarning: Couldn't retrieve source code for container of type GNN. It won't be checked for correctness upon loading.\n",
      "  \"type \" + obj.__name__ + \". It won't be checked \"\n",
      "/home/ziniu/anaconda3/lib/python3.7/site-packages/torch/serialization.py:256: UserWarning: Couldn't retrieve source code for container of type RAGCNConv. It won't be checked for correctness upon loading.\n",
      "  \"type \" + obj.__name__ + \". It won't be checked \"\n"
     ]
    },
    {
     "name": "stdout",
     "output_type": "stream",
     "text": [
      "Epoch: 8 (256.1s)  LR: 0.00100 Train Loss: 3.07  Valid Loss: 6.48  Valid NDCG: 0.2446\n",
      "Data Preparation: 20.6s\n",
      "Epoch: 9 (255.3s)  LR: 0.00099 Train Loss: 3.22  Valid Loss: 6.72  Valid NDCG: 0.2393\n",
      "Data Preparation: 23.3s\n",
      "Epoch: 10 (252.9s)  LR: 0.00096 Train Loss: 2.71  Valid Loss: 7.18  Valid NDCG: 0.2061\n",
      "0.2616166306915295\n",
      "Data Preparation: 32.0s\n"
     ]
    },
    {
     "name": "stderr",
     "output_type": "stream",
     "text": [
      "/home/ziniu/anaconda3/lib/python3.7/site-packages/torch/serialization.py:256: UserWarning: Couldn't retrieve source code for container of type GNN. It won't be checked for correctness upon loading.\n",
      "  \"type \" + obj.__name__ + \". It won't be checked \"\n",
      "/home/ziniu/anaconda3/lib/python3.7/site-packages/torch/serialization.py:256: UserWarning: Couldn't retrieve source code for container of type RAGCNConv. It won't be checked for correctness upon loading.\n",
      "  \"type \" + obj.__name__ + \". It won't be checked \"\n"
     ]
    },
    {
     "name": "stdout",
     "output_type": "stream",
     "text": [
      "Epoch: 11 (261.8s)  LR: 0.00092 Train Loss: 2.28  Valid Loss: 6.49  Valid NDCG: 0.2601\n",
      "Data Preparation: 23.1s\n",
      "Epoch: 12 (258.7s)  LR: 0.00086 Train Loss: 2.48  Valid Loss: 6.86  Valid NDCG: 0.2527\n",
      "Data Preparation: 24.0s\n",
      "Epoch: 13 (251.3s)  LR: 0.00079 Train Loss: 3.06  Valid Loss: 6.75  Valid NDCG: 0.2458\n",
      "Data Preparation: 30.1s\n"
     ]
    },
    {
     "name": "stderr",
     "output_type": "stream",
     "text": [
      "/home/ziniu/anaconda3/lib/python3.7/site-packages/torch/serialization.py:256: UserWarning: Couldn't retrieve source code for container of type GNN. It won't be checked for correctness upon loading.\n",
      "  \"type \" + obj.__name__ + \". It won't be checked \"\n",
      "/home/ziniu/anaconda3/lib/python3.7/site-packages/torch/serialization.py:256: UserWarning: Couldn't retrieve source code for container of type RAGCNConv. It won't be checked for correctness upon loading.\n",
      "  \"type \" + obj.__name__ + \". It won't be checked \"\n"
     ]
    },
    {
     "name": "stdout",
     "output_type": "stream",
     "text": [
      "Epoch: 14 (259.1s)  LR: 0.00070 Train Loss: 1.89  Valid Loss: 6.53  Valid NDCG: 0.2834\n",
      "Data Preparation: 24.8s\n"
     ]
    },
    {
     "name": "stderr",
     "output_type": "stream",
     "text": [
      "/home/ziniu/anaconda3/lib/python3.7/site-packages/torch/serialization.py:256: UserWarning: Couldn't retrieve source code for container of type GNN. It won't be checked for correctness upon loading.\n",
      "  \"type \" + obj.__name__ + \". It won't be checked \"\n",
      "/home/ziniu/anaconda3/lib/python3.7/site-packages/torch/serialization.py:256: UserWarning: Couldn't retrieve source code for container of type RAGCNConv. It won't be checked for correctness upon loading.\n",
      "  \"type \" + obj.__name__ + \". It won't be checked \"\n"
     ]
    },
    {
     "name": "stdout",
     "output_type": "stream",
     "text": [
      "Epoch: 15 (259.5s)  LR: 0.00061 Train Loss: 2.35  Valid Loss: 5.88  Valid NDCG: 0.3356\n",
      "0.2896940202871213\n",
      "Data Preparation: 29.5s\n",
      "Epoch: 16 (254.0s)  LR: 0.00051 Train Loss: 2.08  Valid Loss: 6.31  Valid NDCG: 0.2975\n",
      "Data Preparation: 24.1s\n",
      "Epoch: 17 (251.4s)  LR: 0.00042 Train Loss: 2.74  Valid Loss: 6.67  Valid NDCG: 0.2726\n",
      "Data Preparation: 32.3s\n",
      "Epoch: 18 (262.0s)  LR: 0.00032 Train Loss: 1.75  Valid Loss: 6.62  Valid NDCG: 0.2806\n",
      "Data Preparation: 23.3s\n",
      "Epoch: 19 (260.4s)  LR: 0.00024 Train Loss: 2.03  Valid Loss: 6.56  Valid NDCG: 0.2717\n",
      "Data Preparation: 23.1s\n",
      "Epoch: 20 (250.3s)  LR: 0.00016 Train Loss: 2.54  Valid Loss: 6.78  Valid NDCG: 0.2518\n",
      "0.3111282140164797\n",
      "Data Preparation: 34.0s\n",
      "Epoch: 21 (257.4s)  LR: 0.00009 Train Loss: 1.99  Valid Loss: 6.23  Valid NDCG: 0.3274\n",
      "Data Preparation: 25.8s\n",
      "Epoch: 22 (256.8s)  LR: 0.00005 Train Loss: 1.90  Valid Loss: 6.36  Valid NDCG: 0.3054\n",
      "Data Preparation: 24.0s\n"
     ]
    },
    {
     "name": "stderr",
     "output_type": "stream",
     "text": [
      "/home/ziniu/anaconda3/lib/python3.7/site-packages/torch/serialization.py:256: UserWarning: Couldn't retrieve source code for container of type GNN. It won't be checked for correctness upon loading.\n",
      "  \"type \" + obj.__name__ + \". It won't be checked \"\n",
      "/home/ziniu/anaconda3/lib/python3.7/site-packages/torch/serialization.py:256: UserWarning: Couldn't retrieve source code for container of type RAGCNConv. It won't be checked for correctness upon loading.\n",
      "  \"type \" + obj.__name__ + \". It won't be checked \"\n"
     ]
    },
    {
     "name": "stdout",
     "output_type": "stream",
     "text": [
      "Epoch: 23 (254.7s)  LR: 0.00001 Train Loss: 1.96  Valid Loss: 5.85  Valid NDCG: 0.3458\n",
      "Data Preparation: 29.5s\n",
      "Epoch: 24 (249.7s)  LR: 0.00000 Train Loss: 2.42  Valid Loss: 6.20  Valid NDCG: 0.3028\n",
      "Data Preparation: 39.2s\n",
      "Epoch: 25 (256.3s)  LR: 0.00001 Train Loss: 2.04  Valid Loss: 6.03  Valid NDCG: 0.3277\n",
      "0.3270140384436338\n",
      "Data Preparation: 28.3s\n",
      "Epoch: 26 (251.4s)  LR: 0.00003 Train Loss: 2.45  Valid Loss: 6.29  Valid NDCG: 0.3038\n",
      "Data Preparation: 31.2s\n",
      "Epoch: 27 (248.7s)  LR: 0.00007 Train Loss: 2.61  Valid Loss: 6.39  Valid NDCG: 0.2845\n",
      "Data Preparation: 34.9s\n",
      "Epoch: 28 (249.3s)  LR: 0.00013 Train Loss: 2.44  Valid Loss: 6.27  Valid NDCG: 0.2834\n",
      "Data Preparation: 33.0s\n",
      "Epoch: 29 (250.2s)  LR: 0.00020 Train Loss: 2.24  Valid Loss: 6.65  Valid NDCG: 0.2689\n",
      "Data Preparation: 30.3s\n",
      "Epoch: 30 (254.1s)  LR: 0.00029 Train Loss: 2.16  Valid Loss: 5.92  Valid NDCG: 0.3260\n",
      "0.34650422572458\n",
      "Data Preparation: 29.9s\n",
      "Epoch: 31 (251.6s)  LR: 0.00038 Train Loss: 2.38  Valid Loss: 6.14  Valid NDCG: 0.3250\n",
      "Data Preparation: 30.0s\n"
     ]
    },
    {
     "name": "stderr",
     "output_type": "stream",
     "text": [
      "/home/ziniu/anaconda3/lib/python3.7/site-packages/torch/serialization.py:256: UserWarning: Couldn't retrieve source code for container of type GNN. It won't be checked for correctness upon loading.\n",
      "  \"type \" + obj.__name__ + \". It won't be checked \"\n",
      "/home/ziniu/anaconda3/lib/python3.7/site-packages/torch/serialization.py:256: UserWarning: Couldn't retrieve source code for container of type RAGCNConv. It won't be checked for correctness upon loading.\n",
      "  \"type \" + obj.__name__ + \". It won't be checked \"\n"
     ]
    },
    {
     "name": "stdout",
     "output_type": "stream",
     "text": [
      "Epoch: 32 (254.4s)  LR: 0.00048 Train Loss: 2.14  Valid Loss: 5.86  Valid NDCG: 0.3474\n",
      "Data Preparation: 22.4s\n",
      "Epoch: 33 (245.5s)  LR: 0.00057 Train Loss: 2.46  Valid Loss: 6.35  Valid NDCG: 0.3046\n",
      "Data Preparation: 35.7s\n",
      "Epoch: 34 (253.3s)  LR: 0.00067 Train Loss: 2.12  Valid Loss: 5.86  Valid NDCG: 0.3123\n",
      "Data Preparation: 28.8s\n"
     ]
    },
    {
     "name": "stderr",
     "output_type": "stream",
     "text": [
      "/home/ziniu/anaconda3/lib/python3.7/site-packages/torch/serialization.py:256: UserWarning: Couldn't retrieve source code for container of type GNN. It won't be checked for correctness upon loading.\n",
      "  \"type \" + obj.__name__ + \". It won't be checked \"\n",
      "/home/ziniu/anaconda3/lib/python3.7/site-packages/torch/serialization.py:256: UserWarning: Couldn't retrieve source code for container of type RAGCNConv. It won't be checked for correctness upon loading.\n",
      "  \"type \" + obj.__name__ + \". It won't be checked \"\n"
     ]
    },
    {
     "name": "stdout",
     "output_type": "stream",
     "text": [
      "Epoch: 35 (254.9s)  LR: 0.00075 Train Loss: 2.17  Valid Loss: 5.96  Valid NDCG: 0.3526\n",
      "0.35980236260291687\n",
      "Data Preparation: 28.1s\n",
      "Epoch: 36 (249.6s)  LR: 0.00083 Train Loss: 2.52  Valid Loss: 6.23  Valid NDCG: 0.2812\n",
      "Data Preparation: 27.4s\n",
      "Epoch: 37 (247.2s)  LR: 0.00090 Train Loss: 2.36  Valid Loss: 6.55  Valid NDCG: 0.2745\n",
      "Data Preparation: 37.7s\n",
      "Epoch: 38 (249.4s)  LR: 0.00095 Train Loss: 2.07  Valid Loss: 6.07  Valid NDCG: 0.3111\n",
      "Data Preparation: 31.0s\n",
      "Epoch: 39 (265.7s)  LR: 0.00098 Train Loss: 1.80  Valid Loss: 5.76  Valid NDCG: 0.3172\n",
      "Data Preparation: 19.3s\n"
     ]
    },
    {
     "name": "stderr",
     "output_type": "stream",
     "text": [
      "/home/ziniu/anaconda3/lib/python3.7/site-packages/torch/serialization.py:256: UserWarning: Couldn't retrieve source code for container of type GNN. It won't be checked for correctness upon loading.\n",
      "  \"type \" + obj.__name__ + \". It won't be checked \"\n",
      "/home/ziniu/anaconda3/lib/python3.7/site-packages/torch/serialization.py:256: UserWarning: Couldn't retrieve source code for container of type RAGCNConv. It won't be checked for correctness upon loading.\n",
      "  \"type \" + obj.__name__ + \". It won't be checked \"\n"
     ]
    },
    {
     "name": "stdout",
     "output_type": "stream",
     "text": [
      "Epoch: 40 (255.8s)  LR: 0.00100 Train Loss: 2.05  Valid Loss: 5.37  Valid NDCG: 0.3873\n",
      "0.3910149291127679\n",
      "Data Preparation: 28.3s\n",
      "Epoch: 41 (251.2s)  LR: 0.00100 Train Loss: 2.12  Valid Loss: 6.32  Valid NDCG: 0.3036\n",
      "Data Preparation: 31.2s\n",
      "Epoch: 42 (256.5s)  LR: 0.00097 Train Loss: 1.58  Valid Loss: 5.66  Valid NDCG: 0.3381\n",
      "Data Preparation: 33.5s\n",
      "Epoch: 43 (249.5s)  LR: 0.00093 Train Loss: 1.94  Valid Loss: 5.59  Valid NDCG: 0.3684\n",
      "Data Preparation: 42.6s\n",
      "Epoch: 44 (257.4s)  LR: 0.00088 Train Loss: 1.58  Valid Loss: 5.72  Valid NDCG: 0.3579\n",
      "Data Preparation: 24.6s\n",
      "Epoch: 45 (250.7s)  LR: 0.00081 Train Loss: 1.87  Valid Loss: 5.50  Valid NDCG: 0.3661\n",
      "0.38636883715887405\n",
      "Data Preparation: 35.8s\n",
      "Epoch: 46 (254.5s)  LR: 0.00072 Train Loss: 1.73  Valid Loss: 5.96  Valid NDCG: 0.3721\n",
      "Data Preparation: 33.2s\n",
      "Epoch: 47 (251.3s)  LR: 0.00063 Train Loss: 2.06  Valid Loss: 5.73  Valid NDCG: 0.3780\n",
      "Data Preparation: 33.8s\n",
      "Epoch: 48 (252.2s)  LR: 0.00054 Train Loss: 1.81  Valid Loss: 6.01  Valid NDCG: 0.3332\n",
      "Data Preparation: 25.4s\n",
      "Epoch: 49 (243.1s)  LR: 0.00044 Train Loss: 2.38  Valid Loss: 5.57  Valid NDCG: 0.3503\n",
      "Data Preparation: 37.6s\n",
      "Epoch: 50 (248.5s)  LR: 0.00035 Train Loss: 2.03  Valid Loss: 5.90  Valid NDCG: 0.3486\n",
      "0.45746927986112373\n",
      "Data Preparation: 37.7s\n",
      "Epoch: 51 (252.3s)  LR: 0.00026 Train Loss: 1.71  Valid Loss: 5.65  Valid NDCG: 0.3722\n",
      "Data Preparation: 28.4s\n",
      "Epoch: 52 (244.4s)  LR: 0.00018 Train Loss: 2.25  Valid Loss: 5.91  Valid NDCG: 0.3518\n",
      "Data Preparation: 40.0s\n",
      "Epoch: 53 (245.8s)  LR: 0.00011 Train Loss: 1.96  Valid Loss: 5.86  Valid NDCG: 0.3300\n",
      "Data Preparation: 34.2s\n",
      "Epoch: 54 (246.6s)  LR: 0.00006 Train Loss: 2.21  Valid Loss: 5.89  Valid NDCG: 0.3609\n",
      "Data Preparation: 34.6s\n",
      "Epoch: 55 (252.0s)  LR: 0.00002 Train Loss: 1.86  Valid Loss: 5.94  Valid NDCG: 0.3311\n",
      "0.40599177620904486\n",
      "Data Preparation: 31.0s\n",
      "Epoch: 56 (248.8s)  LR: 0.00000 Train Loss: 1.59  Valid Loss: 6.01  Valid NDCG: 0.3442\n",
      "Data Preparation: 38.0s\n",
      "Epoch: 57 (255.7s)  LR: 0.00000 Train Loss: 1.62  Valid Loss: 5.91  Valid NDCG: 0.3582\n",
      "Data Preparation: 30.3s\n"
     ]
    },
    {
     "name": "stderr",
     "output_type": "stream",
     "text": [
      "/home/ziniu/anaconda3/lib/python3.7/site-packages/torch/serialization.py:256: UserWarning: Couldn't retrieve source code for container of type GNN. It won't be checked for correctness upon loading.\n",
      "  \"type \" + obj.__name__ + \". It won't be checked \"\n",
      "/home/ziniu/anaconda3/lib/python3.7/site-packages/torch/serialization.py:256: UserWarning: Couldn't retrieve source code for container of type RAGCNConv. It won't be checked for correctness upon loading.\n",
      "  \"type \" + obj.__name__ + \". It won't be checked \"\n"
     ]
    },
    {
     "name": "stdout",
     "output_type": "stream",
     "text": [
      "Epoch: 58 (249.7s)  LR: 0.00002 Train Loss: 1.56  Valid Loss: 5.40  Valid NDCG: 0.4065\n",
      "Data Preparation: 33.2s\n",
      "Epoch: 59 (253.1s)  LR: 0.00006 Train Loss: 1.76  Valid Loss: 5.59  Valid NDCG: 0.3747\n",
      "Data Preparation: 28.3s\n",
      "Epoch: 60 (256.2s)  LR: 0.00012 Train Loss: 1.87  Valid Loss: 5.26  Valid NDCG: 0.4036\n",
      "0.42164025953088435\n",
      "Data Preparation: 50.6s\n",
      "Epoch: 61 (250.1s)  LR: 0.00018 Train Loss: 1.69  Valid Loss: 5.71  Valid NDCG: 0.3565\n",
      "Data Preparation: 5.6s\n"
     ]
    },
    {
     "name": "stderr",
     "output_type": "stream",
     "text": [
      "/home/ziniu/anaconda3/lib/python3.7/site-packages/torch/serialization.py:256: UserWarning: Couldn't retrieve source code for container of type GNN. It won't be checked for correctness upon loading.\n",
      "  \"type \" + obj.__name__ + \". It won't be checked \"\n",
      "/home/ziniu/anaconda3/lib/python3.7/site-packages/torch/serialization.py:256: UserWarning: Couldn't retrieve source code for container of type RAGCNConv. It won't be checked for correctness upon loading.\n",
      "  \"type \" + obj.__name__ + \". It won't be checked \"\n"
     ]
    },
    {
     "name": "stdout",
     "output_type": "stream",
     "text": [
      "Epoch: 62 (254.3s)  LR: 0.00027 Train Loss: 1.45  Valid Loss: 5.54  Valid NDCG: 0.4265\n",
      "Data Preparation: 5.5s\n",
      "Epoch: 63 (256.4s)  LR: 0.00036 Train Loss: 1.59  Valid Loss: 5.81  Valid NDCG: 0.3809\n",
      "Data Preparation: 6.0s\n",
      "Epoch: 64 (258.4s)  LR: 0.00045 Train Loss: 1.28  Valid Loss: 5.52  Valid NDCG: 0.3715\n",
      "Data Preparation: 5.5s\n",
      "Epoch: 65 (249.7s)  LR: 0.00055 Train Loss: 1.75  Valid Loss: 6.00  Valid NDCG: 0.3425\n",
      "0.46944043155095605\n",
      "Data Preparation: 28.2s\n",
      "Epoch: 66 (254.4s)  LR: 0.00064 Train Loss: 1.68  Valid Loss: 5.39  Valid NDCG: 0.3895\n",
      "Data Preparation: 5.6s\n",
      "Epoch: 67 (254.9s)  LR: 0.00073 Train Loss: 1.43  Valid Loss: 5.24  Valid NDCG: 0.4022\n",
      "Data Preparation: 5.6s\n",
      "Epoch: 68 (248.6s)  LR: 0.00081 Train Loss: 1.72  Valid Loss: 5.66  Valid NDCG: 0.3914\n",
      "Data Preparation: 12.2s\n",
      "Epoch: 69 (241.4s)  LR: 0.00088 Train Loss: 2.08  Valid Loss: 6.38  Valid NDCG: 0.3545\n",
      "Data Preparation: 16.4s\n",
      "Epoch: 70 (253.4s)  LR: 0.00094 Train Loss: 1.52  Valid Loss: 5.62  Valid NDCG: 0.3682\n",
      "0.4105158103289364\n",
      "Data Preparation: 28.3s\n",
      "Epoch: 71 (258.9s)  LR: 0.00098 Train Loss: 1.51  Valid Loss: 5.95  Valid NDCG: 0.3514\n",
      "Data Preparation: 5.4s\n"
     ]
    },
    {
     "name": "stderr",
     "output_type": "stream",
     "text": [
      "/home/ziniu/anaconda3/lib/python3.7/site-packages/torch/serialization.py:256: UserWarning: Couldn't retrieve source code for container of type GNN. It won't be checked for correctness upon loading.\n",
      "  \"type \" + obj.__name__ + \". It won't be checked \"\n",
      "/home/ziniu/anaconda3/lib/python3.7/site-packages/torch/serialization.py:256: UserWarning: Couldn't retrieve source code for container of type RAGCNConv. It won't be checked for correctness upon loading.\n",
      "  \"type \" + obj.__name__ + \". It won't be checked \"\n"
     ]
    },
    {
     "name": "stdout",
     "output_type": "stream",
     "text": [
      "Epoch: 72 (248.2s)  LR: 0.00100 Train Loss: 1.85  Valid Loss: 4.84  Valid NDCG: 0.4407\n",
      "Data Preparation: 13.4s\n",
      "Epoch: 73 (253.0s)  LR: 0.00100 Train Loss: 1.57  Valid Loss: 5.82  Valid NDCG: 0.3627\n",
      "Data Preparation: 8.2s\n",
      "Epoch: 74 (255.3s)  LR: 0.00098 Train Loss: 1.76  Valid Loss: 5.45  Valid NDCG: 0.3837\n",
      "Data Preparation: 6.1s\n",
      "Epoch: 75 (243.6s)  LR: 0.00095 Train Loss: 1.96  Valid Loss: 5.34  Valid NDCG: 0.4065\n",
      "0.4083554697660359\n",
      "Data Preparation: 28.8s\n",
      "Epoch: 76 (253.1s)  LR: 0.00089 Train Loss: 1.46  Valid Loss: 6.74  Valid NDCG: 0.3099\n",
      "Data Preparation: 5.3s\n",
      "Epoch: 77 (248.1s)  LR: 0.00083 Train Loss: 1.57  Valid Loss: 5.25  Valid NDCG: 0.4117\n",
      "Data Preparation: 14.0s\n",
      "Epoch: 78 (249.5s)  LR: 0.00075 Train Loss: 1.71  Valid Loss: 6.12  Valid NDCG: 0.3284\n",
      "Data Preparation: 9.9s\n",
      "Epoch: 79 (245.1s)  LR: 0.00066 Train Loss: 1.85  Valid Loss: 5.52  Valid NDCG: 0.3772\n",
      "Data Preparation: 13.2s\n",
      "Epoch: 80 (255.4s)  LR: 0.00056 Train Loss: 1.30  Valid Loss: 5.55  Valid NDCG: 0.3537\n",
      "0.4717302355221923\n",
      "Data Preparation: 27.7s\n",
      "Epoch: 81 (251.3s)  LR: 0.00047 Train Loss: 1.44  Valid Loss: 5.31  Valid NDCG: 0.3989\n",
      "Data Preparation: 5.6s\n",
      "Epoch: 82 (251.6s)  LR: 0.00037 Train Loss: 1.52  Valid Loss: 5.81  Valid NDCG: 0.3482\n",
      "Data Preparation: 6.4s\n",
      "Epoch: 83 (250.1s)  LR: 0.00028 Train Loss: 1.73  Valid Loss: 5.49  Valid NDCG: 0.3900\n",
      "Data Preparation: 9.1s\n",
      "Epoch: 84 (248.5s)  LR: 0.00020 Train Loss: 1.72  Valid Loss: 5.96  Valid NDCG: 0.3536\n",
      "Data Preparation: 8.2s\n",
      "Epoch: 85 (248.9s)  LR: 0.00013 Train Loss: 1.50  Valid Loss: 5.14  Valid NDCG: 0.4037\n",
      "0.41811870657176003\n",
      "Data Preparation: 28.1s\n",
      "Epoch: 86 (240.6s)  LR: 0.00007 Train Loss: 1.80  Valid Loss: 5.94  Valid NDCG: 0.3584\n",
      "Data Preparation: 18.0s\n",
      "Epoch: 87 (250.0s)  LR: 0.00003 Train Loss: 1.68  Valid Loss: 5.25  Valid NDCG: 0.4147\n",
      "Data Preparation: 8.2s\n",
      "Epoch: 88 (255.7s)  LR: 0.00001 Train Loss: 1.22  Valid Loss: 5.68  Valid NDCG: 0.3829\n",
      "Data Preparation: 5.3s\n",
      "Epoch: 89 (241.2s)  LR: 0.00000 Train Loss: 2.01  Valid Loss: 5.36  Valid NDCG: 0.4012\n",
      "Data Preparation: 15.0s\n",
      "Epoch: 90 (243.6s)  LR: 0.00002 Train Loss: 1.90  Valid Loss: 5.85  Valid NDCG: 0.3595\n",
      "0.45007747926764685\n",
      "Data Preparation: 27.9s\n",
      "Epoch: 91 (239.4s)  LR: 0.00005 Train Loss: 1.77  Valid Loss: 5.84  Valid NDCG: 0.3635\n",
      "Data Preparation: 9.8s\n",
      "Epoch: 92 (247.6s)  LR: 0.00010 Train Loss: 1.70  Valid Loss: 5.80  Valid NDCG: 0.3670\n",
      "Data Preparation: 9.2s\n",
      "Epoch: 93 (248.7s)  LR: 0.00017 Train Loss: 1.42  Valid Loss: 5.36  Valid NDCG: 0.4035\n",
      "Data Preparation: 9.4s\n",
      "Epoch: 94 (247.0s)  LR: 0.00024 Train Loss: 1.65  Valid Loss: 5.28  Valid NDCG: 0.4246\n",
      "Data Preparation: 8.9s\n",
      "Epoch: 95 (250.2s)  LR: 0.00033 Train Loss: 1.59  Valid Loss: 5.64  Valid NDCG: 0.4016\n",
      "0.4506293416833447\n",
      "Data Preparation: 28.8s\n",
      "Epoch: 96 (250.9s)  LR: 0.00043 Train Loss: 1.40  Valid Loss: 5.78  Valid NDCG: 0.3904\n",
      "Data Preparation: 6.5s\n",
      "Epoch: 97 (240.4s)  LR: 0.00052 Train Loss: 1.77  Valid Loss: 5.75  Valid NDCG: 0.3706\n",
      "Data Preparation: 16.7s\n",
      "Epoch: 98 (251.4s)  LR: 0.00062 Train Loss: 1.14  Valid Loss: 5.41  Valid NDCG: 0.3894\n",
      "Data Preparation: 7.6s\n"
     ]
    },
    {
     "name": "stderr",
     "output_type": "stream",
     "text": [
      "/home/ziniu/anaconda3/lib/python3.7/site-packages/torch/serialization.py:256: UserWarning: Couldn't retrieve source code for container of type GNN. It won't be checked for correctness upon loading.\n",
      "  \"type \" + obj.__name__ + \". It won't be checked \"\n",
      "/home/ziniu/anaconda3/lib/python3.7/site-packages/torch/serialization.py:256: UserWarning: Couldn't retrieve source code for container of type RAGCNConv. It won't be checked for correctness upon loading.\n",
      "  \"type \" + obj.__name__ + \". It won't be checked \"\n"
     ]
    },
    {
     "name": "stdout",
     "output_type": "stream",
     "text": [
      "Epoch: 99 (243.8s)  LR: 0.00071 Train Loss: 2.02  Valid Loss: 5.07  Valid NDCG: 0.4448\n",
      "Data Preparation: 21.3s\n",
      "Epoch: 100 (251.7s)  LR: 0.00079 Train Loss: 1.29  Valid Loss: 5.23  Valid NDCG: 0.4084\n",
      "0.42114973842093517\n",
      "Data Preparation: 28.6s\n",
      "Epoch: 101 (249.3s)  LR: 0.00087 Train Loss: 1.46  Valid Loss: 5.47  Valid NDCG: 0.4283\n",
      "Data Preparation: 7.6s\n",
      "Epoch: 102 (246.8s)  LR: 0.00093 Train Loss: 1.53  Valid Loss: 5.26  Valid NDCG: 0.4059\n",
      "Data Preparation: 6.1s\n",
      "Epoch: 103 (249.9s)  LR: 0.00097 Train Loss: 1.57  Valid Loss: 5.73  Valid NDCG: 0.3723\n",
      "Data Preparation: 8.7s\n",
      "Epoch: 104 (247.0s)  LR: 0.00099 Train Loss: 1.61  Valid Loss: 5.35  Valid NDCG: 0.3901\n",
      "Data Preparation: 7.9s\n",
      "Epoch: 105 (244.3s)  LR: 0.00100 Train Loss: 1.94  Valid Loss: 5.09  Valid NDCG: 0.4199\n",
      "0.45456766131660564\n",
      "Data Preparation: 28.2s\n",
      "Epoch: 106 (246.0s)  LR: 0.00099 Train Loss: 1.75  Valid Loss: 5.03  Valid NDCG: 0.4383\n",
      "Data Preparation: 36.3s\n",
      "Epoch: 107 (255.5s)  LR: 0.00096 Train Loss: 1.28  Valid Loss: 5.27  Valid NDCG: 0.4262\n",
      "Data Preparation: 16.8s\n",
      "Epoch: 108 (250.9s)  LR: 0.00091 Train Loss: 1.67  Valid Loss: 5.36  Valid NDCG: 0.4010\n",
      "Data Preparation: 5.3s\n"
     ]
    },
    {
     "name": "stderr",
     "output_type": "stream",
     "text": [
      "/home/ziniu/anaconda3/lib/python3.7/site-packages/torch/serialization.py:256: UserWarning: Couldn't retrieve source code for container of type GNN. It won't be checked for correctness upon loading.\n",
      "  \"type \" + obj.__name__ + \". It won't be checked \"\n",
      "/home/ziniu/anaconda3/lib/python3.7/site-packages/torch/serialization.py:256: UserWarning: Couldn't retrieve source code for container of type RAGCNConv. It won't be checked for correctness upon loading.\n",
      "  \"type \" + obj.__name__ + \". It won't be checked \"\n"
     ]
    },
    {
     "name": "stdout",
     "output_type": "stream",
     "text": [
      "Epoch: 109 (243.0s)  LR: 0.00084 Train Loss: 1.89  Valid Loss: 4.89  Valid NDCG: 0.4603\n",
      "Data Preparation: 32.5s\n",
      "Epoch: 110 (250.3s)  LR: 0.00077 Train Loss: 1.52  Valid Loss: 5.30  Valid NDCG: 0.4160\n",
      "0.5454703460395554\n",
      "Data Preparation: 28.4s\n",
      "Epoch: 111 (247.1s)  LR: 0.00068 Train Loss: 1.34  Valid Loss: 6.19  Valid NDCG: 0.3999\n",
      "Data Preparation: 27.2s\n",
      "Epoch: 112 (240.5s)  LR: 0.00059 Train Loss: 1.78  Valid Loss: 5.08  Valid NDCG: 0.3992\n",
      "Data Preparation: 38.5s\n",
      "Epoch: 113 (245.4s)  LR: 0.00049 Train Loss: 1.50  Valid Loss: 5.10  Valid NDCG: 0.4130\n",
      "Data Preparation: 35.3s\n",
      "Epoch: 114 (248.5s)  LR: 0.00039 Train Loss: 1.14  Valid Loss: 5.33  Valid NDCG: 0.4135\n",
      "Data Preparation: 9.0s\n",
      "Epoch: 115 (236.8s)  LR: 0.00030 Train Loss: 1.67  Valid Loss: 5.33  Valid NDCG: 0.4317\n",
      "0.5378890844693132\n",
      "Data Preparation: 34.5s\n",
      "Epoch: 116 (245.6s)  LR: 0.00022 Train Loss: 1.42  Valid Loss: 4.91  Valid NDCG: 0.4317\n",
      "Data Preparation: 37.4s\n",
      "Epoch: 117 (251.9s)  LR: 0.00014 Train Loss: 1.33  Valid Loss: 4.87  Valid NDCG: 0.4419\n",
      "Data Preparation: 26.6s\n",
      "Epoch: 118 (241.2s)  LR: 0.00008 Train Loss: 1.47  Valid Loss: 5.09  Valid NDCG: 0.4461\n",
      "Data Preparation: 41.0s\n"
     ]
    },
    {
     "name": "stderr",
     "output_type": "stream",
     "text": [
      "/home/ziniu/anaconda3/lib/python3.7/site-packages/torch/serialization.py:256: UserWarning: Couldn't retrieve source code for container of type GNN. It won't be checked for correctness upon loading.\n",
      "  \"type \" + obj.__name__ + \". It won't be checked \"\n",
      "/home/ziniu/anaconda3/lib/python3.7/site-packages/torch/serialization.py:256: UserWarning: Couldn't retrieve source code for container of type RAGCNConv. It won't be checked for correctness upon loading.\n",
      "  \"type \" + obj.__name__ + \". It won't be checked \"\n"
     ]
    },
    {
     "name": "stdout",
     "output_type": "stream",
     "text": [
      "Epoch: 119 (243.2s)  LR: 0.00004 Train Loss: 1.51  Valid Loss: 4.69  Valid NDCG: 0.4752\n",
      "Data Preparation: 42.5s\n"
     ]
    },
    {
     "name": "stderr",
     "output_type": "stream",
     "text": [
      "/home/ziniu/anaconda3/lib/python3.7/site-packages/torch/serialization.py:256: UserWarning: Couldn't retrieve source code for container of type GNN. It won't be checked for correctness upon loading.\n",
      "  \"type \" + obj.__name__ + \". It won't be checked \"\n",
      "/home/ziniu/anaconda3/lib/python3.7/site-packages/torch/serialization.py:256: UserWarning: Couldn't retrieve source code for container of type RAGCNConv. It won't be checked for correctness upon loading.\n",
      "  \"type \" + obj.__name__ + \". It won't be checked \"\n"
     ]
    },
    {
     "name": "stdout",
     "output_type": "stream",
     "text": [
      "Epoch: 120 (246.5s)  LR: 0.00001 Train Loss: 1.26  Valid Loss: 4.44  Valid NDCG: 0.5194\n",
      "0.5524685477422646\n",
      "Data Preparation: 33.0s\n",
      "Epoch: 121 (242.6s)  LR: 0.00000 Train Loss: 1.56  Valid Loss: 4.97  Valid NDCG: 0.4472\n",
      "Data Preparation: 31.4s\n",
      "Epoch: 122 (244.5s)  LR: 0.00001 Train Loss: 1.57  Valid Loss: 4.85  Valid NDCG: 0.4323\n",
      "Data Preparation: 32.5s\n",
      "Epoch: 123 (243.0s)  LR: 0.00004 Train Loss: 1.44  Valid Loss: 4.89  Valid NDCG: 0.4551\n",
      "Data Preparation: 37.9s\n",
      "Epoch: 124 (248.8s)  LR: 0.00009 Train Loss: 1.40  Valid Loss: 4.85  Valid NDCG: 0.4345\n",
      "Data Preparation: 28.2s\n",
      "Epoch: 125 (248.9s)  LR: 0.00015 Train Loss: 1.48  Valid Loss: 4.61  Valid NDCG: 0.4791\n",
      "0.5082422572041556\n",
      "Data Preparation: 29.1s\n",
      "Epoch: 126 (245.8s)  LR: 0.00022 Train Loss: 1.57  Valid Loss: 4.36  Valid NDCG: 0.5159\n",
      "Data Preparation: 34.3s\n",
      "Epoch: 127 (248.6s)  LR: 0.00031 Train Loss: 1.43  Valid Loss: 4.67  Valid NDCG: 0.4592\n",
      "Data Preparation: 32.3s\n",
      "Epoch: 128 (245.4s)  LR: 0.00040 Train Loss: 1.55  Valid Loss: 4.89  Valid NDCG: 0.4221\n",
      "Data Preparation: 33.6s\n",
      "Epoch: 129 (249.8s)  LR: 0.00050 Train Loss: 1.29  Valid Loss: 5.15  Valid NDCG: 0.4268\n",
      "Data Preparation: 27.8s\n",
      "Epoch: 130 (241.1s)  LR: 0.00059 Train Loss: 1.65  Valid Loss: 4.86  Valid NDCG: 0.4650\n",
      "0.4954612922548883\n",
      "Data Preparation: 38.2s\n",
      "Epoch: 131 (245.0s)  LR: 0.00069 Train Loss: 1.28  Valid Loss: 5.23  Valid NDCG: 0.4508\n",
      "Data Preparation: 34.8s\n",
      "Epoch: 132 (246.7s)  LR: 0.00077 Train Loss: 1.57  Valid Loss: 4.66  Valid NDCG: 0.4771\n",
      "Data Preparation: 30.1s\n",
      "Epoch: 133 (243.9s)  LR: 0.00085 Train Loss: 1.46  Valid Loss: 5.10  Valid NDCG: 0.4177\n",
      "Data Preparation: 36.2s\n",
      "Epoch: 134 (248.7s)  LR: 0.00091 Train Loss: 1.58  Valid Loss: 5.13  Valid NDCG: 0.4362\n",
      "Data Preparation: 37.7s\n",
      "Epoch: 135 (252.0s)  LR: 0.00096 Train Loss: 1.20  Valid Loss: 5.50  Valid NDCG: 0.4192\n",
      "0.5174450794835735\n",
      "Data Preparation: 28.7s\n",
      "Epoch: 136 (245.8s)  LR: 0.00099 Train Loss: 1.53  Valid Loss: 5.05  Valid NDCG: 0.4506\n",
      "Data Preparation: 35.3s\n",
      "Epoch: 137 (248.5s)  LR: 0.00100 Train Loss: 1.51  Valid Loss: 4.92  Valid NDCG: 0.4297\n",
      "Data Preparation: 32.9s\n",
      "Epoch: 138 (246.5s)  LR: 0.00099 Train Loss: 1.34  Valid Loss: 4.68  Valid NDCG: 0.4540\n",
      "Data Preparation: 36.8s\n",
      "Epoch: 139 (251.2s)  LR: 0.00097 Train Loss: 1.35  Valid Loss: 5.43  Valid NDCG: 0.3776\n",
      "Data Preparation: 25.6s\n",
      "Epoch: 140 (244.7s)  LR: 0.00092 Train Loss: 1.54  Valid Loss: 5.23  Valid NDCG: 0.4905\n",
      "0.4664018231069988\n",
      "Data Preparation: 44.0s\n",
      "Epoch: 141 (255.1s)  LR: 0.00086 Train Loss: 1.13  Valid Loss: 5.04  Valid NDCG: 0.4533\n",
      "Data Preparation: 27.3s\n",
      "Epoch: 142 (240.2s)  LR: 0.00079 Train Loss: 1.73  Valid Loss: 5.13  Valid NDCG: 0.4080\n",
      "Data Preparation: 41.4s\n",
      "Epoch: 143 (250.4s)  LR: 0.00070 Train Loss: 1.20  Valid Loss: 4.42  Valid NDCG: 0.5107\n",
      "Data Preparation: 30.8s\n",
      "Epoch: 144 (245.1s)  LR: 0.00061 Train Loss: 1.56  Valid Loss: 4.75  Valid NDCG: 0.4497\n",
      "Data Preparation: 34.7s\n",
      "Epoch: 145 (248.2s)  LR: 0.00052 Train Loss: 1.49  Valid Loss: 4.58  Valid NDCG: 0.4915\n",
      "0.5238194719478637\n",
      "Data Preparation: 30.1s\n"
     ]
    },
    {
     "name": "stderr",
     "output_type": "stream",
     "text": [
      "/home/ziniu/anaconda3/lib/python3.7/site-packages/torch/serialization.py:256: UserWarning: Couldn't retrieve source code for container of type GNN. It won't be checked for correctness upon loading.\n",
      "  \"type \" + obj.__name__ + \". It won't be checked \"\n",
      "/home/ziniu/anaconda3/lib/python3.7/site-packages/torch/serialization.py:256: UserWarning: Couldn't retrieve source code for container of type RAGCNConv. It won't be checked for correctness upon loading.\n",
      "  \"type \" + obj.__name__ + \". It won't be checked \"\n"
     ]
    },
    {
     "name": "stdout",
     "output_type": "stream",
     "text": [
      "Epoch: 146 (240.4s)  LR: 0.00042 Train Loss: 1.70  Valid Loss: 4.18  Valid NDCG: 0.5290\n",
      "Data Preparation: 40.1s\n",
      "Epoch: 147 (246.2s)  LR: 0.00033 Train Loss: 1.41  Valid Loss: 4.55  Valid NDCG: 0.5058\n",
      "Data Preparation: 39.5s\n",
      "Epoch: 148 (247.4s)  LR: 0.00024 Train Loss: 1.40  Valid Loss: 4.57  Valid NDCG: 0.4883\n",
      "Data Preparation: 31.6s\n",
      "Epoch: 149 (249.4s)  LR: 0.00016 Train Loss: 1.27  Valid Loss: 4.90  Valid NDCG: 0.4456\n",
      "Data Preparation: 33.7s\n",
      "Epoch: 150 (248.4s)  LR: 0.00010 Train Loss: 1.27  Valid Loss: 5.01  Valid NDCG: 0.4812\n",
      "0.5309158905617668\n",
      "Data Preparation: 33.6s\n"
     ]
    },
    {
     "name": "stderr",
     "output_type": "stream",
     "text": [
      "/home/ziniu/anaconda3/lib/python3.7/site-packages/torch/serialization.py:256: UserWarning: Couldn't retrieve source code for container of type GNN. It won't be checked for correctness upon loading.\n",
      "  \"type \" + obj.__name__ + \". It won't be checked \"\n",
      "/home/ziniu/anaconda3/lib/python3.7/site-packages/torch/serialization.py:256: UserWarning: Couldn't retrieve source code for container of type RAGCNConv. It won't be checked for correctness upon loading.\n",
      "  \"type \" + obj.__name__ + \". It won't be checked \"\n"
     ]
    },
    {
     "name": "stdout",
     "output_type": "stream",
     "text": [
      "Epoch: 151 (252.5s)  LR: 0.00005 Train Loss: 1.32  Valid Loss: 4.04  Valid NDCG: 0.5671\n",
      "Data Preparation: 30.4s\n",
      "Epoch: 152 (252.4s)  LR: 0.00002 Train Loss: 1.23  Valid Loss: 5.28  Valid NDCG: 0.3845\n",
      "Data Preparation: 31.8s\n",
      "Epoch: 153 (244.5s)  LR: 0.00000 Train Loss: 1.63  Valid Loss: 4.80  Valid NDCG: 0.4930\n",
      "Data Preparation: 39.7s\n",
      "Epoch: 154 (247.6s)  LR: 0.00001 Train Loss: 1.19  Valid Loss: 4.61  Valid NDCG: 0.5081\n",
      "Data Preparation: 32.6s\n",
      "Epoch: 155 (254.6s)  LR: 0.00003 Train Loss: 0.98  Valid Loss: 5.12  Valid NDCG: 0.4512\n",
      "0.5171851350722048\n",
      "Data Preparation: 29.2s\n",
      "Epoch: 156 (240.7s)  LR: 0.00007 Train Loss: 1.59  Valid Loss: 4.88  Valid NDCG: 0.4613\n",
      "Data Preparation: 44.0s\n",
      "Epoch: 157 (253.1s)  LR: 0.00013 Train Loss: 1.30  Valid Loss: 4.95  Valid NDCG: 0.4780\n",
      "Data Preparation: 25.3s\n",
      "Epoch: 158 (240.7s)  LR: 0.00020 Train Loss: 1.40  Valid Loss: 4.20  Valid NDCG: 0.5387\n",
      "Data Preparation: 34.9s\n",
      "Epoch: 159 (247.7s)  LR: 0.00028 Train Loss: 1.26  Valid Loss: 4.91  Valid NDCG: 0.4419\n",
      "Data Preparation: 33.6s\n",
      "Epoch: 160 (247.4s)  LR: 0.00038 Train Loss: 1.50  Valid Loss: 4.47  Valid NDCG: 0.4913\n",
      "0.531024008673223\n",
      "Data Preparation: 43.0s\n",
      "Epoch: 161 (250.3s)  LR: 0.00047 Train Loss: 1.26  Valid Loss: 4.70  Valid NDCG: 0.4606\n",
      "Data Preparation: 29.6s\n",
      "Epoch: 162 (242.0s)  LR: 0.00057 Train Loss: 1.62  Valid Loss: 4.28  Valid NDCG: 0.5203\n",
      "Data Preparation: 33.0s\n",
      "Epoch: 163 (240.2s)  LR: 0.00066 Train Loss: 1.70  Valid Loss: 4.47  Valid NDCG: 0.4918\n",
      "Data Preparation: 36.8s\n",
      "Epoch: 164 (237.5s)  LR: 0.00075 Train Loss: 1.55  Valid Loss: 4.49  Valid NDCG: 0.4889\n",
      "Data Preparation: 46.3s\n",
      "Epoch: 165 (256.9s)  LR: 0.00083 Train Loss: 0.92  Valid Loss: 4.87  Valid NDCG: 0.4845\n",
      "0.5196015476545977\n",
      "Data Preparation: 29.4s\n",
      "Epoch: 166 (243.4s)  LR: 0.00090 Train Loss: 1.48  Valid Loss: 5.46  Valid NDCG: 0.4166\n",
      "Data Preparation: 31.0s\n",
      "Epoch: 167 (235.9s)  LR: 0.00095 Train Loss: 1.72  Valid Loss: 4.40  Valid NDCG: 0.4991\n",
      "Data Preparation: 42.0s\n",
      "Epoch: 168 (250.5s)  LR: 0.00098 Train Loss: 1.34  Valid Loss: 4.54  Valid NDCG: 0.4748\n",
      "Data Preparation: 33.1s\n",
      "Epoch: 169 (244.8s)  LR: 0.00100 Train Loss: 1.53  Valid Loss: 4.30  Valid NDCG: 0.5080\n",
      "Data Preparation: 32.4s\n",
      "Epoch: 170 (239.4s)  LR: 0.00100 Train Loss: 1.54  Valid Loss: 4.77  Valid NDCG: 0.4574\n",
      "0.4837106864309565\n",
      "Data Preparation: 40.6s\n",
      "Epoch: 171 (242.9s)  LR: 0.00097 Train Loss: 1.49  Valid Loss: 4.68  Valid NDCG: 0.4785\n",
      "Data Preparation: 36.5s\n",
      "Epoch: 172 (242.3s)  LR: 0.00094 Train Loss: 1.52  Valid Loss: 5.62  Valid NDCG: 0.3908\n",
      "Data Preparation: 44.3s\n",
      "Epoch: 173 (249.3s)  LR: 0.00088 Train Loss: 1.26  Valid Loss: 4.92  Valid NDCG: 0.4478\n",
      "Data Preparation: 36.6s\n",
      "Epoch: 174 (250.7s)  LR: 0.00081 Train Loss: 1.22  Valid Loss: 4.83  Valid NDCG: 0.4679\n",
      "Data Preparation: 34.1s\n",
      "Epoch: 175 (250.8s)  LR: 0.00073 Train Loss: 1.22  Valid Loss: 4.76  Valid NDCG: 0.4872\n",
      "0.4914133073962374\n",
      "Data Preparation: 29.6s\n",
      "Epoch: 176 (247.0s)  LR: 0.00064 Train Loss: 1.31  Valid Loss: 4.73  Valid NDCG: 0.4778\n",
      "Data Preparation: 28.9s\n",
      "Epoch: 177 (243.4s)  LR: 0.00054 Train Loss: 1.50  Valid Loss: 4.80  Valid NDCG: 0.4393\n",
      "Data Preparation: 41.7s\n",
      "Epoch: 178 (249.8s)  LR: 0.00044 Train Loss: 1.37  Valid Loss: 4.85  Valid NDCG: 0.4528\n",
      "Data Preparation: 31.2s\n",
      "Epoch: 179 (237.2s)  LR: 0.00035 Train Loss: 1.46  Valid Loss: 4.51  Valid NDCG: 0.4971\n",
      "Data Preparation: 38.1s\n",
      "Epoch: 180 (242.9s)  LR: 0.00026 Train Loss: 1.61  Valid Loss: 4.19  Valid NDCG: 0.5129\n",
      "0.5777782848834156\n",
      "Data Preparation: 36.6s\n",
      "Epoch: 181 (238.6s)  LR: 0.00018 Train Loss: 1.69  Valid Loss: 4.36  Valid NDCG: 0.5339\n",
      "Data Preparation: 43.7s\n",
      "Epoch: 182 (245.1s)  LR: 0.00011 Train Loss: 1.33  Valid Loss: 4.07  Valid NDCG: 0.5461\n",
      "Data Preparation: 33.6s\n",
      "Epoch: 183 (234.2s)  LR: 0.00006 Train Loss: 1.76  Valid Loss: 5.22  Valid NDCG: 0.4267\n",
      "Data Preparation: 43.0s\n",
      "Epoch: 184 (242.9s)  LR: 0.00002 Train Loss: 1.42  Valid Loss: 4.39  Valid NDCG: 0.5072\n",
      "Data Preparation: 37.9s\n",
      "Epoch: 185 (249.1s)  LR: 0.00000 Train Loss: 1.38  Valid Loss: 4.39  Valid NDCG: 0.5088\n",
      "0.6122081531534788\n",
      "Data Preparation: 32.2s\n",
      "Epoch: 186 (252.4s)  LR: 0.00000 Train Loss: 1.13  Valid Loss: 4.72  Valid NDCG: 0.4674\n",
      "Data Preparation: 34.9s\n",
      "Epoch: 187 (250.6s)  LR: 0.00002 Train Loss: 1.37  Valid Loss: 4.42  Valid NDCG: 0.4862\n",
      "Data Preparation: 29.9s\n",
      "Epoch: 188 (250.0s)  LR: 0.00006 Train Loss: 1.19  Valid Loss: 4.43  Valid NDCG: 0.5149\n",
      "Data Preparation: 34.3s\n",
      "Epoch: 189 (242.5s)  LR: 0.00011 Train Loss: 1.49  Valid Loss: 4.45  Valid NDCG: 0.5055\n",
      "Data Preparation: 38.8s\n",
      "Epoch: 190 (248.4s)  LR: 0.00018 Train Loss: 1.28  Valid Loss: 4.53  Valid NDCG: 0.4684\n",
      "0.5569137449925106\n",
      "Data Preparation: 38.6s\n",
      "Epoch: 191 (251.9s)  LR: 0.00026 Train Loss: 0.89  Valid Loss: 4.58  Valid NDCG: 0.4835\n",
      "Data Preparation: 35.1s\n",
      "Epoch: 192 (250.6s)  LR: 0.00035 Train Loss: 1.09  Valid Loss: 4.53  Valid NDCG: 0.4939\n",
      "Data Preparation: 25.8s\n",
      "Epoch: 193 (236.8s)  LR: 0.00045 Train Loss: 1.81  Valid Loss: 4.36  Valid NDCG: 0.5149\n",
      "Data Preparation: 41.4s\n",
      "Epoch: 194 (237.0s)  LR: 0.00054 Train Loss: 1.67  Valid Loss: 4.72  Valid NDCG: 0.4651\n",
      "Data Preparation: 38.7s\n",
      "Epoch: 195 (239.2s)  LR: 0.00064 Train Loss: 1.64  Valid Loss: 4.22  Valid NDCG: 0.5201\n",
      "0.5498933709156302\n",
      "Data Preparation: 46.7s\n",
      "Epoch: 196 (257.1s)  LR: 0.00073 Train Loss: 0.95  Valid Loss: 4.57  Valid NDCG: 0.4897\n",
      "Data Preparation: 22.8s\n",
      "Epoch: 197 (246.4s)  LR: 0.00081 Train Loss: 1.43  Valid Loss: 4.89  Valid NDCG: 0.4748\n",
      "Data Preparation: 31.7s\n",
      "Epoch: 198 (238.9s)  LR: 0.00088 Train Loss: 1.54  Valid Loss: 4.64  Valid NDCG: 0.4750\n",
      "Data Preparation: 41.1s\n",
      "Epoch: 199 (244.9s)  LR: 0.00094 Train Loss: 1.35  Valid Loss: 4.41  Valid NDCG: 0.4768\n",
      "Data Preparation: 33.9s\n",
      "Epoch: 200 (248.7s)  LR: 0.00098 Train Loss: 1.28  Valid Loss: 4.66  Valid NDCG: 0.5005\n",
      "0.5456962332670239\n"
     ]
    }
   ],
   "source": [
    "stats = []\n",
    "pool = mp.Pool(4)\n",
    "process_ids = np.arange(batch_num // 4)\n",
    "st = time.time()\n",
    "jobs = prepare_data(pool, process_ids)\n",
    "train_step = 1500\n",
    "best_val   = 0\n",
    "res = []\n",
    "criterion = nn.KLDivLoss(reduction='batchmean')\n",
    "for epoch in np.arange(epoch_num)+1:\n",
    "    '''\n",
    "        Prepare Training and Validation Data\n",
    "    '''\n",
    "    train_data = [job.get() for job in jobs[:-1]]\n",
    "    valid_data = jobs[-1].get()\n",
    "    pool.close()\n",
    "    pool.join()\n",
    "    pool = mp.Pool(4)\n",
    "    jobs = prepare_data(pool, process_ids)\n",
    "    et = time.time()\n",
    "    print('Data Preparation: %.1fs' % (et - st))\n",
    "    \n",
    "    model.train()\n",
    "    train_losses = []\n",
    "    torch.cuda.empty_cache()\n",
    "    for batch in np.arange(2):\n",
    "        for node_feature, node_type, edge_time, edge_index, edge_type, field_ids, paper_ids, ylabel in train_data:\n",
    "            node_rep = gnn.forward(node_feature.to(device), node_type.to(device), \\\n",
    "                                   edge_time.to(device), edge_index.to(device), edge_type.to(device))\n",
    "            res  = classifier.forward(node_rep[paper_ids])\n",
    "            loss = criterion(res, ylabel.to(device))\n",
    "            optimizer.zero_grad() \n",
    "            torch.cuda.empty_cache()\n",
    "            loss.backward()\n",
    "            \n",
    "            torch.nn.utils.clip_grad_norm_(model.parameters(), 0.2)\n",
    "            optimizer.step()\n",
    "            train_losses += [loss.cpu().detach().tolist()]\n",
    "            train_step += 1\n",
    "            scheduler.step(train_step)\n",
    "            del res, loss\n",
    "    '''\n",
    "        Valid\n",
    "    '''\n",
    "    model.eval()\n",
    "    with torch.no_grad():\n",
    "        node_feature, node_type, edge_time, edge_index, edge_type, field_ids, paper_ids, ylabel = valid_data\n",
    "        node_rep = gnn.forward(node_feature.to(device), node_type.to(device), \\\n",
    "                                   edge_time.to(device), edge_index.to(device), edge_type.to(device))\n",
    "        res  = classifier.forward(node_rep[paper_ids])\n",
    "        loss = criterion(res, ylabel.to(device))\n",
    "        valid_res = []\n",
    "\n",
    "        for ai, bi in zip(ylabel, res.argsort(descending = True)):\n",
    "            valid_res += [ai[bi].tolist()]\n",
    "        valid_ndcg = np.average([ndcg_at_k(resi, len(resi)) for resi in valid_res])\n",
    "        if valid_ndcg > best_val:\n",
    "            best_val = valid_ndcg\n",
    "            torch.save(model, './save/rgt_1.pt')\n",
    "        st = time.time()\n",
    "        print((\"Epoch: %d (%.1fs)  LR: %.5f Train Loss: %.2f  Valid Loss: %.2f  Valid NDCG: %.4f\") % \\\n",
    "              (epoch, (st-et), optimizer.param_groups[0]['lr'], np.average(train_losses), loss.cpu().detach().tolist(),\\\n",
    "              valid_ndcg))\n",
    "        stats += [[np.average(train_losses), loss.cpu().detach().tolist()]]\n",
    "        del res, loss\n",
    "        if epoch % 5 == 0:\n",
    "            '''\n",
    "                Test\n",
    "            '''\n",
    "            _time = np.random.choice(list(test_papers.keys()))\n",
    "            node_feature, node_type, edge_time, edge_index, edge_type, field_ids, paper_ids, ylabel = pf_sample(np.random.randint(2 ** 32 - 1), test_papers, \\\n",
    "                                                           test_pairs, test_range, batch_size, test=True)\n",
    "            paper_rep = gnn.forward(node_feature.to(device), node_type.to(device), \\\n",
    "                      edge_time.to(device), edge_index.to(device), edge_type.to(device))[paper_ids]\n",
    "            res  = classifier.forward(paper_rep)\n",
    "            test_res = []\n",
    "            for ai, bi in zip(ylabel, res.argsort(descending = True)):\n",
    "                test_res += [ai[bi].tolist()]\n",
    "            test_ndcg = np.average([ndcg_at_k(resi, len(resi)) for resi in test_res])\n",
    "            print(test_ndcg)\n",
    "            del res\n",
    "    del train_data, valid_data"
   ]
  },
  {
   "cell_type": "code",
   "execution_count": 10,
   "metadata": {},
   "outputs": [
    {
     "data": {
      "image/png": "[encoded data removed]",
      "text/plain": [
       "<Figure size 432x288 with 1 Axes>"
      ]
     },
     "metadata": {
      "needs_background": "light"
     },
     "output_type": "display_data"
    }
   ],
   "source": [
    "stats = np.array(stats)\n",
    "plt.plot(stats[:,0])\n",
    "plt.plot(stats[:,1])\n",
    "plt.show()"
   ]
  },
  {
   "cell_type": "code",
   "execution_count": null,
   "metadata": {},
   "outputs": [],
   "source": [
    "print(1)"
   ]
  },
  {
   "cell_type": "code",
   "execution_count": 11,
   "metadata": {},
   "outputs": [
    {
     "name": "stdout",
     "output_type": "stream",
     "text": [
      "0.5578343167745036 0.15839030819782246\n",
      "0.4339889438037153 0.20014724556195002\n"
     ]
    }
   ],
   "source": [
    "model.eval()\n",
    "gnn, classifier = model\n",
    "with torch.no_grad():\n",
    "    test_res = []\n",
    "    for _ in range(10):\n",
    "        _time = np.random.choice(list(test_papers.keys()))\n",
    "        node_feature, node_type, edge_time, edge_index, edge_type, field_ids, paper_ids, ylabel = pf_sample(np.random.randint(2 ** 32 - 1), test_papers, \\\n",
    "                                                       test_pairs, test_range, batch_size, test=True)\n",
    "        paper_rep = gnn.forward(node_feature.to(device), node_type.to(device), \\\n",
    "                      edge_time.to(device), edge_index.to(device), edge_type.to(device))[paper_ids]\n",
    "        res = classifier.forward(paper_rep)\n",
    "        for ai, bi in zip(ylabel, res.argsort(descending = True)):\n",
    "            test_res += [ai[bi].tolist()]\n",
    "    test_ndcg = [ndcg_at_k(resi, len(resi)) for resi in test_res]\n",
    "    print(np.average(test_ndcg), np.var(test_ndcg))\n",
    "    test_mrr = mean_reciprocal_rank(test_res)\n",
    "    print(np.average(test_mrr), np.var(test_mrr))"
   ]
  },
  {
   "cell_type": "code",
   "execution_count": 12,
   "metadata": {},
   "outputs": [],
   "source": [
    "best_model = torch.load('./save/rgt_1.pt')"
   ]
  },
  {
   "cell_type": "code",
   "execution_count": 14,
   "metadata": {},
   "outputs": [
    {
     "name": "stdout",
     "output_type": "stream",
     "text": [
      "0.5076243647515813 0.15678021712988516\n",
      "0.3847016170881379 0.19512317641167734\n"
     ]
    }
   ],
   "source": [
    "best_model.eval()\n",
    "gnn, classifier = best_model\n",
    "with torch.no_grad():\n",
    "    test_res = []\n",
    "    for _ in range(10):\n",
    "        _time = np.random.choice(list(test_papers.keys()))\n",
    "        node_feature, node_type, edge_time, edge_index, edge_type, field_ids, paper_ids, ylabel = pf_sample(np.random.randint(2 ** 32 - 1), test_papers, \\\n",
    "                                                       test_pairs, test_range, batch_size, test=True)\n",
    "        paper_rep = gnn.forward(node_feature.to(device), node_type.to(device), \\\n",
    "                      edge_time.to(device), edge_index.to(device), edge_type.to(device))[paper_ids]\n",
    "        res = classifier.forward(paper_rep)\n",
    "        for ai, bi in zip(ylabel, res.argsort(descending = True)):\n",
    "            test_res += [ai[bi].tolist()]\n",
    "    test_ndcg = [ndcg_at_k(resi, len(resi)) for resi in test_res]\n",
    "    print(np.average(test_ndcg), np.var(test_ndcg))\n",
    "    test_mrr = mean_reciprocal_rank(test_res)\n",
    "    print(np.average(test_mrr), np.var(test_mrr))"
   ]
  }
 ],
 "metadata": {
  "kernelspec": {
   "display_name": "Python 3",
   "language": "python",
   "name": "python3"
  },
  "language_info": {
   "codemirror_mode": {
    "name": "ipython",
    "version": 3
   },
   "file_extension": ".py",
   "mimetype": "text/x-python",
   "name": "python",
   "nbconvert_exporter": "python",
   "pygments_lexer": "ipython3",
   "version": "3.7.3"
  }
 },
 "nbformat": 4,
 "nbformat_minor": 2
}
