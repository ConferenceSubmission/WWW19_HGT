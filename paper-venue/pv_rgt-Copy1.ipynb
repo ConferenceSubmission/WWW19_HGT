{
 "cells": [
  {
   "cell_type": "code",
   "execution_count": 1,
   "metadata": {},
   "outputs": [],
   "source": [
    "import sys\n",
    "sys.path.append('../')\n",
    "from utils import *\n",
    "from model import *"
   ]
  },
  {
   "cell_type": "code",
   "execution_count": 2,
   "metadata": {},
   "outputs": [],
   "source": [
    "data_dir = '/datadrive/data_med/'\n",
    "batch_size = 256\n",
    "batch_num  = 128\n",
    "epoch_num  = 200\n",
    "samp_num   = 7\n",
    "\n",
    "device = torch.device(\"cuda:0\")\n",
    "graph = dill.load(open(data_dir + 'graph.pk', 'rb'))"
   ]
  },
  {
   "cell_type": "code",
   "execution_count": 3,
   "metadata": {},
   "outputs": [],
   "source": [
    "train_range = {t: True for t in graph.times if t != None and t < 2015}\n",
    "valid_range = {t: True for t in graph.times if t != None and t >= 2015  and t <= 2016}\n",
    "test_range  = {t: True for t in graph.times if t != None and t > 2016}"
   ]
  },
  {
   "cell_type": "code",
   "execution_count": 4,
   "metadata": {},
   "outputs": [],
   "source": [
    "def pf_sample(seed, papers, pairs, t_range, batch_size, test = False):\n",
    "    np.random.seed(seed)\n",
    "    _time = np.random.choice(list(papers.keys()))\n",
    "    sampn = min(len(papers[_time]), batch_size)\n",
    "    pids = np.array(papers[_time])[np.random.choice(len(papers[_time]), sampn, replace = False)]\n",
    "    fids = []\n",
    "    edge = defaultdict(lambda: {})\n",
    "    for x_id, p_id in enumerate(pids):\n",
    "        f_ids = pairs[p_id]\n",
    "        for f_id in f_ids:\n",
    "            if f_id not in fids:\n",
    "                fids += [f_id]\n",
    "            edge[x_id][fids.index(f_id)] = True\n",
    "    pids = np.stack([pids, np.repeat([_time], sampn)]).T\n",
    "    fids = np.stack([fids, np.repeat([_time], len(fids))]).T\n",
    " \n",
    "    feature, times, edge_list, _ = sample_subgraph(graph, t_range, \\\n",
    "                inp = {'paper': pids, 'venue': fids}, sampled_depth = 3, sampled_number = 100)\n",
    "\n",
    "    el = []\n",
    "    for i in edge_list['paper']['venue']['rev_PV_Journal']:\n",
    "        if i[0] in edge and i[1] in edge[i[0]]:\n",
    "            continue\n",
    "        el += [i]\n",
    "    edge_list['paper']['venue']['rev_PV_Journal'] = el\n",
    "\n",
    "    el = []\n",
    "    for i in edge_list['venue']['paper']['PV_Journal']:\n",
    "        if i[1] in edge and i[0] in edge[i[1]]:\n",
    "            continue\n",
    "        el += [i]\n",
    "    edge_list['venue']['paper']['PV_Journal'] = el\n",
    "    \n",
    "    \n",
    "    node_feature, node_type, edge_time, edge_index, edge_type, node_dict, edge_dict = \\\n",
    "            to_torch(feature, times, edge_list, graph)\n",
    "    '''\n",
    "        Trace the paper_id and venue_id by its own index plus the type start index\n",
    "    '''\n",
    "    paper_ids = np.arange(len(pids)) + node_dict['paper'][0]\n",
    "    venue_ids = np.arange(len(fids)) + node_dict['venue'][0]\n",
    "    ylabel = torch.zeros(sampn, len(cand_list))\n",
    "    for x_id, p_id in enumerate(pids[:,0]):\n",
    "        for f_id in pairs[p_id]:\n",
    "            ylabel[x_id][cand_list.index(f_id)] = 1\n",
    "    ylabel /= ylabel.sum(axis=1).view(-1, 1)\n",
    "    return node_feature, node_type, edge_time, edge_index, edge_type, venue_ids, paper_ids, ylabel\n",
    "    \n",
    "def prepare_data(pool, process_ids):\n",
    "    jobs = []\n",
    "    for process_id in process_ids[:-1]:\n",
    "        p = pool.apply_async(pf_sample, args=(np.random.randint(2**32 - 1), train_papers, \\\n",
    "                                               train_pairs, train_range, batch_size))\n",
    "        jobs.append(p)\n",
    "    p = pool.apply_async(pf_sample, args=(np.random.randint(2**32 - 1), valid_papers, \\\n",
    "                                           valid_pairs, valid_range, batch_size))\n",
    "    jobs.append(p)\n",
    "    return jobs"
   ]
  },
  {
   "cell_type": "code",
   "execution_count": 5,
   "metadata": {},
   "outputs": [],
   "source": [
    "# class RAGCNConv(MessagePassing):\n",
    "#     def __init__(self, in_dim, out_dim, num_types, num_relations, n_heads, dropout = 0.3, **kwargs):\n",
    "#         super(RAGCNConv, self).__init__(aggr='add', **kwargs)\n",
    "\n",
    "#         self.in_dim        = in_dim\n",
    "#         self.out_dim       = out_dim\n",
    "#         self.num_types     = num_types\n",
    "#         self.num_relations = num_relations\n",
    "#         self.total_rel     = num_types * num_relations * num_types\n",
    "#         self.n_heads       = n_heads\n",
    "#         self.d_k           = out_dim // n_heads\n",
    "#         self.sqrt_dk       = math.sqrt(self.d_k)\n",
    "#         self.att           = None\n",
    "        \n",
    "#         self.interact_sw   = nn.Linear(in_dim,   out_dim)\n",
    "#         self.interact_tw   = nn.Linear(in_dim,   out_dim)\n",
    "#         self.transfer_sw   = nn.Linear(in_dim,   out_dim)\n",
    "        \n",
    "#         self.aggregat_w   = nn.Linear(out_dim,  out_dim)\n",
    "#         self.norm         = BatchNorm(out_dim)\n",
    "        \n",
    "    \n",
    "\n",
    "#         self.relation_ws   = nn.Parameter(torch.ones(num_types, num_relations, num_types, self.n_heads))\n",
    "#         self.interact_rw   = nn.Parameter(torch.Tensor(n_heads, self.d_k, self.d_k))\n",
    "#         self.transfer_rw   = nn.Parameter(torch.Tensor(n_heads, self.d_k, self.d_k))\n",
    "        \n",
    "#         self.drop          = nn.Dropout(dropout)\n",
    "#         self.emb           = RelTemporalEncoding(in_dim)\n",
    "        \n",
    "#         glorot(self.interact_rw)\n",
    "#         glorot(self.transfer_rw)\n",
    "        \n",
    "#     def forward(self, node_inp, node_type, edge_index, edge_type, edge_time):\n",
    "#         return self.propagate(edge_index, node_inp=node_inp, node_type=node_type, \\\n",
    "#                               edge_type=edge_type, edge_time = edge_time)\n",
    "\n",
    "#     def message(self, edge_index_i, node_inp_i, node_inp_j, node_type_i, node_type_j, edge_type, edge_time, num_nodes):\n",
    "#         '''\n",
    "#             i: target; j: source\n",
    "#         '''\n",
    "#         data_size = edge_index_i.size(0)\n",
    "#         atts, vals = [], []\n",
    "#         res_att     = torch.zeros(data_size, self.n_heads).to(node_inp_i.device)\n",
    "#         res_val     = torch.zeros(data_size, self.n_heads, self.d_k).to(node_inp_i.device)\n",
    "        \n",
    "#         for source_id in range(self.num_types):\n",
    "#             sb = node_type_j == source_id\n",
    "#             interact_sw = self.interact_sw\n",
    "#             transfer_sw = self.transfer_sw\n",
    "#             for target_id in range(self.num_types):\n",
    "#                 tb = (node_type_i == target_id) & sb\n",
    "#                 interact_tw = self.interact_tw\n",
    "#                 for relation_id in range(self.num_relations):\n",
    "#                     idx = tb & (edge_type == relation_id)\n",
    "#                     if idx.sum() == 0:\n",
    "#                         continue\n",
    "#                     _node_inp_i = node_inp_i[idx]\n",
    "#                     _node_inp_j = self.emb(node_inp_j[idx], edge_time[idx])\n",
    "                    \n",
    "#                     _int_i = interact_tw(_node_inp_i).view(-1, self.n_heads, self.d_k)\n",
    "#                     _int_j = interact_sw(_node_inp_j).view(-1, self.n_heads, self.d_k)\n",
    "                    \n",
    "#                     _int_s = torch.bmm(_int_j.transpose(1,0), self.interact_rw).transpose(1,0)\n",
    "#                     res_att[idx] = (_int_s * _int_i).sum(dim=-1) / self.sqrt_dk\n",
    "                    \n",
    "#                     _tra_j = transfer_sw(_node_inp_j).view(-1, self.n_heads, self.d_k)\n",
    "#                     res_val[idx] = torch.bmm(_tra_j.transpose(1,0), self.transfer_rw).transpose(1,0)\n",
    "                    \n",
    "#         self.att = softmax(res_att, edge_index_i, data_size)\n",
    "#         res = res_val * self.att.view(-1, self.n_heads, 1)\n",
    "#         del res_att, res_val\n",
    "#         return res.view(-1, self.out_dim)\n",
    "\n",
    "\n",
    "#     def update(self, aggr_out, node_inp, node_type):\n",
    "#         '''\n",
    "#            x = BN[node_type](W[node_type] * GNN(x) + x)\n",
    "#         '''\n",
    "#         res = torch.zeros(aggr_out.size(0), self.out_dim).to(node_inp.device)\n",
    "#         for t_id in range(self.num_types):\n",
    "#             aggregat_w = self.aggregat_w\n",
    "#             norm = self.norm\n",
    "#             idx = (node_type == t_id)\n",
    "#             if idx.sum() == 0:\n",
    "#                 continue\n",
    "#             res[idx] = norm(F.relu(aggregat_w(aggr_out[idx])) + node_inp[idx])\n",
    "#         out = self.drop(res)\n",
    "#         del res\n",
    "#         return out\n",
    "\n",
    "#     def __repr__(self):\n",
    "#         return '{}(in_dim={}, out_dim={}, num_types={}, num_types={})'.format(\n",
    "#             self.__class__.__name__, self.in_dim, self.out_dim,\n",
    "#             self.num_types, self.num_relations)"
   ]
  },
  {
   "cell_type": "code",
   "execution_count": 6,
   "metadata": {},
   "outputs": [],
   "source": [
    "class GNN(nn.Module):\n",
    "    def __init__(self, in_dim, n_hid, num_types, num_relations, n_heads, n_layers, dropout = 0.3):\n",
    "        super(GNN, self).__init__()\n",
    "        self.gcs = nn.ModuleList()\n",
    "        self.num_types = num_types\n",
    "        self.in_dim    = in_dim\n",
    "        self.n_hid     = n_hid\n",
    "        self.aggregat_ws   = nn.ModuleList()\n",
    "        self.drop          = nn.Dropout(dropout)\n",
    "        for t in range(num_types):\n",
    "            self.aggregat_ws.append(nn.Linear(in_dim, n_hid))\n",
    "        for l in range(n_layers):\n",
    "            self.gcs.append(RAGCNConv(n_hid, n_hid, num_types, num_relations, n_heads, dropout))\n",
    "    def set_device(self, device):\n",
    "        self.device = device\n",
    "        for gc in self.gcs:\n",
    "            gc.device = device\n",
    "    def forward(self, node_feature, node_type, edge_time, edge_index, edge_type):\n",
    "        res = torch.zeros(node_feature.size(0), self.n_hid).to(node_feature.device)\n",
    "        for t_id in range(self.num_types):\n",
    "            aggregat_w = self.aggregat_ws[t_id]\n",
    "            idx = (node_type == t_id)\n",
    "            if idx.sum() == 0:\n",
    "                continue\n",
    "            res[idx] = torch.tanh(aggregat_w(node_feature[idx]))\n",
    "        meta_xs = self.drop(res)\n",
    "        del res\n",
    "        for gc in self.gcs:\n",
    "            meta_xs = gc(meta_xs, node_type, edge_index, edge_type, edge_time)\n",
    "        return meta_xs"
   ]
  },
  {
   "cell_type": "code",
   "execution_count": 7,
   "metadata": {},
   "outputs": [],
   "source": [
    "'''\n",
    "Paper-Venue\n",
    "'''\n",
    "paper_ser = {}\n",
    "\n",
    "train_pairs = {}\n",
    "valid_pairs = {}\n",
    "test_pairs  = {}\n",
    "\n",
    "train_papers = {_time: {} for _time in train_range}\n",
    "valid_papers = {_time: {} for _time in valid_range}\n",
    "test_papers  = {_time: {} for _time in test_range}\n",
    "\n",
    "for f_id in graph.edge_list['venue']['paper']['PV_Journal']:\n",
    "    for p_id in graph.edge_list['venue']['paper']['PV_Journal'][f_id]:\n",
    "        _time = graph.edge_list['venue']['paper']['PV_Journal'][f_id][p_id]\n",
    "        if _time in train_range:\n",
    "            if p_id not in train_pairs:\n",
    "                train_pairs[p_id] = []\n",
    "            train_pairs[p_id] += [f_id]\n",
    "            train_papers[_time][p_id] = True\n",
    "        elif _time in valid_range:\n",
    "            if p_id not in valid_pairs:\n",
    "                valid_pairs[p_id] = []\n",
    "            valid_pairs[p_id] += [f_id]\n",
    "            valid_papers[_time][p_id] = True\n",
    "        else:\n",
    "            if p_id not in test_pairs:\n",
    "                test_pairs[p_id] = []\n",
    "            test_pairs[p_id] += [f_id]\n",
    "            test_papers[_time][p_id] = True\n",
    "for _time in list(train_papers.keys()):\n",
    "    if len(train_papers[_time]) < batch_size // 2:\n",
    "        train_papers.pop(_time)\n",
    "    else:\n",
    "        train_papers[_time] = np.array(list(train_papers[_time].keys()))\n",
    "for _time in list(valid_papers.keys()):\n",
    "    if len(valid_papers[_time]) < batch_size // 2:\n",
    "        valid_papers.pop(_time)\n",
    "    else:\n",
    "        valid_papers[_time] = np.array(list(valid_papers[_time].keys()))\n",
    "for _time in list(test_papers.keys()):\n",
    "    if len(test_papers[_time]) < batch_size // 2:\n",
    "        test_papers.pop(_time)\n",
    "    else:\n",
    "        test_papers[_time] = np.array(list(test_papers[_time].keys()))"
   ]
  },
  {
   "cell_type": "code",
   "execution_count": 8,
   "metadata": {},
   "outputs": [],
   "source": [
    "types = graph.get_types()\n",
    "cand_list = list(graph.edge_list['venue']['paper']['PV_Journal'])\n",
    "gnn = GNN(in_dim = len(graph.node_feature['paper']['emb'][0]) + 401, n_hid = 256, num_types = len(types), \\\n",
    "          num_relations = len(graph.get_meta_graph()) + 1, n_heads = 8, n_layers = 3).to(device)\n",
    "# gnn = torch.load('../pre-train/save/cpc_model.pt').to(device)\n",
    "classifier = Classifier(256, len(cand_list)).to(device)\n",
    "model = nn.Sequential(gnn, classifier)\n",
    "optimizer = torch.optim.AdamW(model.parameters())\n",
    "scheduler = torch.optim.lr_scheduler.CosineAnnealingLR(optimizer, 1000, eta_min=1e-6)"
   ]
  },
  {
   "cell_type": "code",
   "execution_count": 9,
   "metadata": {},
   "outputs": [
    {
     "name": "stdout",
     "output_type": "stream",
     "text": [
      "8.056248\n"
     ]
    }
   ],
   "source": [
    "total_size = 0\n",
    "for l in gnn.parameters():   \n",
    "    size = 1\n",
    "    if l.requires_grad:\n",
    "        for i in l.shape:\n",
    "            size *= i\n",
    "    total_size += size\n",
    "print(total_size / 1000 / 1000)"
   ]
  },
  {
   "cell_type": "code",
   "execution_count": 10,
   "metadata": {
    "scrolled": false
   },
   "outputs": [
    {
     "name": "stdout",
     "output_type": "stream",
     "text": [
      "Data Preparation: 270.9s\n"
     ]
    },
    {
     "name": "stderr",
     "output_type": "stream",
     "text": [
      "/home/ziniu/anaconda3/lib/python3.7/site-packages/torch/serialization.py:256: UserWarning: Couldn't retrieve source code for container of type GNN. It won't be checked for correctness upon loading.\n",
      "  \"type \" + obj.__name__ + \". It won't be checked \"\n"
     ]
    },
    {
     "name": "stdout",
     "output_type": "stream",
     "text": [
      "Epoch: 1 (291.0s)  LR: 0.00060 Train Loss: 7.62  Valid Loss: 8.26  Valid NDCG: 0.1201\n",
      "Data Preparation: 5.5s\n"
     ]
    },
    {
     "name": "stderr",
     "output_type": "stream",
     "text": [
      "/home/ziniu/anaconda3/lib/python3.7/site-packages/torch/serialization.py:256: UserWarning: Couldn't retrieve source code for container of type GNN. It won't be checked for correctness upon loading.\n",
      "  \"type \" + obj.__name__ + \". It won't be checked \"\n"
     ]
    },
    {
     "name": "stdout",
     "output_type": "stream",
     "text": [
      "Epoch: 2 (279.4s)  LR: 0.00069 Train Loss: 5.73  Valid Loss: 8.07  Valid NDCG: 0.1435\n",
      "Data Preparation: 5.7s\n"
     ]
    },
    {
     "name": "stderr",
     "output_type": "stream",
     "text": [
      "/home/ziniu/anaconda3/lib/python3.7/site-packages/torch/serialization.py:256: UserWarning: Couldn't retrieve source code for container of type GNN. It won't be checked for correctness upon loading.\n",
      "  \"type \" + obj.__name__ + \". It won't be checked \"\n"
     ]
    },
    {
     "name": "stdout",
     "output_type": "stream",
     "text": [
      "Epoch: 3 (285.3s)  LR: 0.00078 Train Loss: 4.76  Valid Loss: 8.19  Valid NDCG: 0.1508\n",
      "Data Preparation: 5.8s\n"
     ]
    },
    {
     "name": "stderr",
     "output_type": "stream",
     "text": [
      "/home/ziniu/anaconda3/lib/python3.7/site-packages/torch/serialization.py:256: UserWarning: Couldn't retrieve source code for container of type GNN. It won't be checked for correctness upon loading.\n",
      "  \"type \" + obj.__name__ + \". It won't be checked \"\n"
     ]
    },
    {
     "name": "stdout",
     "output_type": "stream",
     "text": [
      "Epoch: 4 (286.4s)  LR: 0.00085 Train Loss: 4.15  Valid Loss: 8.21  Valid NDCG: 0.1530\n",
      "Data Preparation: 5.5s\n"
     ]
    },
    {
     "name": "stderr",
     "output_type": "stream",
     "text": [
      "/home/ziniu/anaconda3/lib/python3.7/site-packages/torch/serialization.py:256: UserWarning: Couldn't retrieve source code for container of type GNN. It won't be checked for correctness upon loading.\n",
      "  \"type \" + obj.__name__ + \". It won't be checked \"\n"
     ]
    },
    {
     "name": "stdout",
     "output_type": "stream",
     "text": [
      "Epoch: 5 (278.5s)  LR: 0.00091 Train Loss: 4.39  Valid Loss: 8.38  Valid NDCG: 0.1605\n",
      "0.17911613924298786\n",
      "Data Preparation: 25.8s\n"
     ]
    },
    {
     "name": "stderr",
     "output_type": "stream",
     "text": [
      "/home/ziniu/anaconda3/lib/python3.7/site-packages/torch/serialization.py:256: UserWarning: Couldn't retrieve source code for container of type GNN. It won't be checked for correctness upon loading.\n",
      "  \"type \" + obj.__name__ + \". It won't be checked \"\n"
     ]
    },
    {
     "name": "stdout",
     "output_type": "stream",
     "text": [
      "Epoch: 6 (278.7s)  LR: 0.00096 Train Loss: 3.97  Valid Loss: 7.19  Valid NDCG: 0.2116\n",
      "Data Preparation: 5.5s\n",
      "Epoch: 7 (284.8s)  LR: 0.00099 Train Loss: 3.34  Valid Loss: 7.36  Valid NDCG: 0.1942\n",
      "Data Preparation: 5.5s\n",
      "Epoch: 8 (287.3s)  LR: 0.00100 Train Loss: 3.33  Valid Loss: 7.06  Valid NDCG: 0.2012\n",
      "Data Preparation: 5.6s\n",
      "Epoch: 9 (289.6s)  LR: 0.00099 Train Loss: 2.79  Valid Loss: 7.31  Valid NDCG: 0.2088\n",
      "Data Preparation: 5.3s\n",
      "Epoch: 10 (277.1s)  LR: 0.00096 Train Loss: 3.51  Valid Loss: 7.24  Valid NDCG: 0.2089\n",
      "0.2438563664718582\n",
      "Data Preparation: 27.8s\n"
     ]
    },
    {
     "name": "stderr",
     "output_type": "stream",
     "text": [
      "/home/ziniu/anaconda3/lib/python3.7/site-packages/torch/serialization.py:256: UserWarning: Couldn't retrieve source code for container of type GNN. It won't be checked for correctness upon loading.\n",
      "  \"type \" + obj.__name__ + \". It won't be checked \"\n"
     ]
    },
    {
     "name": "stdout",
     "output_type": "stream",
     "text": [
      "Epoch: 11 (278.9s)  LR: 0.00092 Train Loss: 3.41  Valid Loss: 6.93  Valid NDCG: 0.2444\n",
      "Data Preparation: 5.6s\n"
     ]
    },
    {
     "name": "stderr",
     "output_type": "stream",
     "text": [
      "/home/ziniu/anaconda3/lib/python3.7/site-packages/torch/serialization.py:256: UserWarning: Couldn't retrieve source code for container of type GNN. It won't be checked for correctness upon loading.\n",
      "  \"type \" + obj.__name__ + \". It won't be checked \"\n"
     ]
    },
    {
     "name": "stdout",
     "output_type": "stream",
     "text": [
      "Epoch: 12 (277.5s)  LR: 0.00086 Train Loss: 3.04  Valid Loss: 6.41  Valid NDCG: 0.2807\n",
      "Data Preparation: 5.6s\n",
      "Epoch: 13 (276.2s)  LR: 0.00079 Train Loss: 2.92  Valid Loss: 6.41  Valid NDCG: 0.2712\n",
      "Data Preparation: 5.7s\n",
      "Epoch: 14 (275.7s)  LR: 0.00070 Train Loss: 2.58  Valid Loss: 6.55  Valid NDCG: 0.2789\n",
      "Data Preparation: 5.5s\n",
      "Epoch: 15 (276.2s)  LR: 0.00061 Train Loss: 2.70  Valid Loss: 6.94  Valid NDCG: 0.2401\n",
      "0.32781233737130455\n",
      "Data Preparation: 26.5s\n",
      "Epoch: 16 (283.1s)  LR: 0.00051 Train Loss: 2.28  Valid Loss: 6.51  Valid NDCG: 0.2793\n",
      "Data Preparation: 5.5s\n"
     ]
    },
    {
     "name": "stderr",
     "output_type": "stream",
     "text": [
      "/home/ziniu/anaconda3/lib/python3.7/site-packages/torch/serialization.py:256: UserWarning: Couldn't retrieve source code for container of type GNN. It won't be checked for correctness upon loading.\n",
      "  \"type \" + obj.__name__ + \". It won't be checked \"\n"
     ]
    },
    {
     "name": "stdout",
     "output_type": "stream",
     "text": [
      "Epoch: 17 (275.8s)  LR: 0.00042 Train Loss: 2.94  Valid Loss: 6.37  Valid NDCG: 0.2973\n",
      "Data Preparation: 5.7s\n"
     ]
    },
    {
     "name": "stderr",
     "output_type": "stream",
     "text": [
      "/home/ziniu/anaconda3/lib/python3.7/site-packages/torch/serialization.py:256: UserWarning: Couldn't retrieve source code for container of type GNN. It won't be checked for correctness upon loading.\n",
      "  \"type \" + obj.__name__ + \". It won't be checked \"\n"
     ]
    },
    {
     "name": "stdout",
     "output_type": "stream",
     "text": [
      "Epoch: 18 (286.4s)  LR: 0.00032 Train Loss: 2.11  Valid Loss: 6.03  Valid NDCG: 0.3212\n",
      "Data Preparation: 5.5s\n",
      "Epoch: 19 (274.7s)  LR: 0.00024 Train Loss: 2.68  Valid Loss: 6.13  Valid NDCG: 0.3074\n",
      "Data Preparation: 5.5s\n",
      "Epoch: 20 (279.3s)  LR: 0.00016 Train Loss: 2.12  Valid Loss: 6.16  Valid NDCG: 0.2907\n",
      "0.359436572980566\n",
      "Data Preparation: 25.8s\n",
      "Epoch: 21 (271.7s)  LR: 0.00009 Train Loss: 2.78  Valid Loss: 6.50  Valid NDCG: 0.2987\n",
      "Data Preparation: 5.7s\n"
     ]
    },
    {
     "name": "stderr",
     "output_type": "stream",
     "text": [
      "/home/ziniu/anaconda3/lib/python3.7/site-packages/torch/serialization.py:256: UserWarning: Couldn't retrieve source code for container of type GNN. It won't be checked for correctness upon loading.\n",
      "  \"type \" + obj.__name__ + \". It won't be checked \"\n"
     ]
    },
    {
     "name": "stdout",
     "output_type": "stream",
     "text": [
      "Epoch: 22 (285.8s)  LR: 0.00005 Train Loss: 1.87  Valid Loss: 5.85  Valid NDCG: 0.3454\n",
      "Data Preparation: 5.7s\n",
      "Epoch: 23 (277.8s)  LR: 0.00001 Train Loss: 2.47  Valid Loss: 6.66  Valid NDCG: 0.2581\n",
      "Data Preparation: 5.5s\n",
      "Epoch: 24 (281.8s)  LR: 0.00000 Train Loss: 2.19  Valid Loss: 6.39  Valid NDCG: 0.3045\n",
      "Data Preparation: 5.8s\n",
      "Epoch: 25 (286.9s)  LR: 0.00001 Train Loss: 2.03  Valid Loss: 6.59  Valid NDCG: 0.2711\n",
      "0.2846642674666916\n",
      "Data Preparation: 25.9s\n",
      "Epoch: 26 (276.9s)  LR: 0.00003 Train Loss: 2.50  Valid Loss: 6.32  Valid NDCG: 0.3135\n",
      "Data Preparation: 5.7s\n",
      "Epoch: 27 (278.3s)  LR: 0.00007 Train Loss: 2.39  Valid Loss: 6.16  Valid NDCG: 0.3087\n",
      "Data Preparation: 5.5s\n",
      "Epoch: 28 (273.5s)  LR: 0.00013 Train Loss: 2.52  Valid Loss: 6.30  Valid NDCG: 0.2998\n",
      "Data Preparation: 5.7s\n"
     ]
    },
    {
     "name": "stderr",
     "output_type": "stream",
     "text": [
      "/home/ziniu/anaconda3/lib/python3.7/site-packages/torch/serialization.py:256: UserWarning: Couldn't retrieve source code for container of type GNN. It won't be checked for correctness upon loading.\n",
      "  \"type \" + obj.__name__ + \". It won't be checked \"\n"
     ]
    },
    {
     "name": "stdout",
     "output_type": "stream",
     "text": [
      "Epoch: 29 (283.6s)  LR: 0.00020 Train Loss: 2.03  Valid Loss: 5.70  Valid NDCG: 0.3611\n",
      "Data Preparation: 6.1s\n",
      "Epoch: 30 (280.5s)  LR: 0.00029 Train Loss: 2.16  Valid Loss: 6.57  Valid NDCG: 0.2762\n",
      "0.3776621224435497\n",
      "Data Preparation: 26.5s\n",
      "Epoch: 31 (281.9s)  LR: 0.00038 Train Loss: 1.78  Valid Loss: 6.51  Valid NDCG: 0.2931\n",
      "Data Preparation: 5.7s\n",
      "Epoch: 32 (277.3s)  LR: 0.00048 Train Loss: 2.55  Valid Loss: 5.70  Valid NDCG: 0.3563\n",
      "Data Preparation: 5.5s\n",
      "Epoch: 33 (281.5s)  LR: 0.00057 Train Loss: 1.84  Valid Loss: 5.83  Valid NDCG: 0.3335\n",
      "Data Preparation: 5.5s\n",
      "Epoch: 34 (277.1s)  LR: 0.00067 Train Loss: 2.31  Valid Loss: 6.17  Valid NDCG: 0.3209\n",
      "Data Preparation: 5.6s\n"
     ]
    },
    {
     "name": "stderr",
     "output_type": "stream",
     "text": [
      "/home/ziniu/anaconda3/lib/python3.7/site-packages/torch/serialization.py:256: UserWarning: Couldn't retrieve source code for container of type GNN. It won't be checked for correctness upon loading.\n",
      "  \"type \" + obj.__name__ + \". It won't be checked \"\n"
     ]
    },
    {
     "name": "stdout",
     "output_type": "stream",
     "text": [
      "Epoch: 35 (276.9s)  LR: 0.00075 Train Loss: 2.58  Valid Loss: 5.93  Valid NDCG: 0.3697\n",
      "0.3925798481524829\n",
      "Data Preparation: 26.8s\n",
      "Epoch: 36 (283.2s)  LR: 0.00083 Train Loss: 1.86  Valid Loss: 6.23  Valid NDCG: 0.3239\n",
      "Data Preparation: 5.8s\n",
      "Epoch: 37 (284.8s)  LR: 0.00090 Train Loss: 1.82  Valid Loss: 5.73  Valid NDCG: 0.3627\n",
      "Data Preparation: 5.8s\n",
      "Epoch: 38 (275.8s)  LR: 0.00095 Train Loss: 2.29  Valid Loss: 5.76  Valid NDCG: 0.3292\n",
      "Data Preparation: 6.0s\n",
      "Epoch: 39 (277.7s)  LR: 0.00098 Train Loss: 2.23  Valid Loss: 6.12  Valid NDCG: 0.3084\n",
      "Data Preparation: 5.6s\n",
      "Epoch: 40 (284.0s)  LR: 0.00100 Train Loss: 1.98  Valid Loss: 5.93  Valid NDCG: 0.3489\n",
      "0.3426185644836568\n",
      "Data Preparation: 26.2s\n",
      "Epoch: 41 (278.2s)  LR: 0.00100 Train Loss: 2.13  Valid Loss: 5.98  Valid NDCG: 0.3287\n",
      "Data Preparation: 5.7s\n"
     ]
    },
    {
     "name": "stderr",
     "output_type": "stream",
     "text": [
      "/home/ziniu/anaconda3/lib/python3.7/site-packages/torch/serialization.py:256: UserWarning: Couldn't retrieve source code for container of type GNN. It won't be checked for correctness upon loading.\n",
      "  \"type \" + obj.__name__ + \". It won't be checked \"\n"
     ]
    },
    {
     "name": "stdout",
     "output_type": "stream",
     "text": [
      "Epoch: 42 (276.7s)  LR: 0.00097 Train Loss: 1.92  Valid Loss: 5.47  Valid NDCG: 0.3826\n",
      "Data Preparation: 5.9s\n",
      "Epoch: 43 (275.9s)  LR: 0.00093 Train Loss: 1.81  Valid Loss: 6.37  Valid NDCG: 0.3121\n",
      "Data Preparation: 5.8s\n",
      "Epoch: 44 (280.8s)  LR: 0.00088 Train Loss: 2.15  Valid Loss: 5.94  Valid NDCG: 0.3200\n",
      "Data Preparation: 5.8s\n",
      "Epoch: 45 (279.6s)  LR: 0.00081 Train Loss: 1.93  Valid Loss: 5.61  Valid NDCG: 0.3728\n",
      "0.38433973929267434\n",
      "Data Preparation: 26.2s\n",
      "Epoch: 46 (281.9s)  LR: 0.00072 Train Loss: 1.79  Valid Loss: 5.84  Valid NDCG: 0.3668\n",
      "Data Preparation: 6.0s\n",
      "Epoch: 47 (275.0s)  LR: 0.00063 Train Loss: 2.19  Valid Loss: 6.12  Valid NDCG: 0.3136\n",
      "Data Preparation: 6.2s\n"
     ]
    },
    {
     "name": "stderr",
     "output_type": "stream",
     "text": [
      "/home/ziniu/anaconda3/lib/python3.7/site-packages/torch/serialization.py:256: UserWarning: Couldn't retrieve source code for container of type GNN. It won't be checked for correctness upon loading.\n",
      "  \"type \" + obj.__name__ + \". It won't be checked \"\n"
     ]
    },
    {
     "name": "stdout",
     "output_type": "stream",
     "text": [
      "Epoch: 48 (274.3s)  LR: 0.00054 Train Loss: 2.16  Valid Loss: 5.43  Valid NDCG: 0.3840\n",
      "Data Preparation: 6.1s\n"
     ]
    },
    {
     "name": "stderr",
     "output_type": "stream",
     "text": [
      "/home/ziniu/anaconda3/lib/python3.7/site-packages/torch/serialization.py:256: UserWarning: Couldn't retrieve source code for container of type GNN. It won't be checked for correctness upon loading.\n",
      "  \"type \" + obj.__name__ + \". It won't be checked \"\n"
     ]
    },
    {
     "name": "stdout",
     "output_type": "stream",
     "text": [
      "Epoch: 49 (273.8s)  LR: 0.00044 Train Loss: 2.17  Valid Loss: 5.41  Valid NDCG: 0.3851\n",
      "Data Preparation: 6.2s\n",
      "Epoch: 50 (277.9s)  LR: 0.00035 Train Loss: 1.78  Valid Loss: 5.57  Valid NDCG: 0.3748\n",
      "0.4642002888848862\n",
      "Data Preparation: 25.7s\n"
     ]
    },
    {
     "name": "stderr",
     "output_type": "stream",
     "text": [
      "/home/ziniu/anaconda3/lib/python3.7/site-packages/torch/serialization.py:256: UserWarning: Couldn't retrieve source code for container of type GNN. It won't be checked for correctness upon loading.\n",
      "  \"type \" + obj.__name__ + \". It won't be checked \"\n"
     ]
    },
    {
     "name": "stdout",
     "output_type": "stream",
     "text": [
      "Epoch: 51 (280.1s)  LR: 0.00026 Train Loss: 1.60  Valid Loss: 5.42  Valid NDCG: 0.4090\n",
      "Data Preparation: 6.3s\n"
     ]
    },
    {
     "name": "stderr",
     "output_type": "stream",
     "text": [
      "/home/ziniu/anaconda3/lib/python3.7/site-packages/torch/serialization.py:256: UserWarning: Couldn't retrieve source code for container of type GNN. It won't be checked for correctness upon loading.\n",
      "  \"type \" + obj.__name__ + \". It won't be checked \"\n"
     ]
    },
    {
     "name": "stdout",
     "output_type": "stream",
     "text": [
      "Epoch: 52 (280.7s)  LR: 0.00018 Train Loss: 1.69  Valid Loss: 4.87  Valid NDCG: 0.4364\n",
      "Data Preparation: 6.2s\n",
      "Epoch: 53 (279.4s)  LR: 0.00011 Train Loss: 1.69  Valid Loss: 5.68  Valid NDCG: 0.3686\n",
      "Data Preparation: 6.4s\n",
      "Epoch: 54 (275.7s)  LR: 0.00006 Train Loss: 1.72  Valid Loss: 5.33  Valid NDCG: 0.4053\n",
      "Data Preparation: 6.6s\n",
      "Epoch: 55 (286.3s)  LR: 0.00002 Train Loss: 1.47  Valid Loss: 5.56  Valid NDCG: 0.4063\n",
      "0.43723931072676014\n",
      "Data Preparation: 27.1s\n",
      "Epoch: 56 (287.8s)  LR: 0.00000 Train Loss: 1.36  Valid Loss: 5.12  Valid NDCG: 0.4202\n",
      "Data Preparation: 6.5s\n",
      "Epoch: 57 (275.2s)  LR: 0.00000 Train Loss: 1.91  Valid Loss: 5.38  Valid NDCG: 0.3848\n",
      "Data Preparation: 6.6s\n",
      "Epoch: 58 (281.5s)  LR: 0.00002 Train Loss: 1.73  Valid Loss: 5.03  Valid NDCG: 0.4315\n",
      "Data Preparation: 6.8s\n",
      "Epoch: 59 (284.3s)  LR: 0.00006 Train Loss: 1.78  Valid Loss: 5.79  Valid NDCG: 0.3302\n",
      "Data Preparation: 6.4s\n",
      "Epoch: 60 (287.8s)  LR: 0.00012 Train Loss: 1.46  Valid Loss: 5.34  Valid NDCG: 0.3705\n",
      "0.4628622016922486\n",
      "Data Preparation: 50.4s\n",
      "Epoch: 61 (273.6s)  LR: 0.00018 Train Loss: 2.03  Valid Loss: 5.36  Valid NDCG: 0.4131\n",
      "Data Preparation: 6.3s\n",
      "Epoch: 62 (281.9s)  LR: 0.00027 Train Loss: 1.43  Valid Loss: 5.89  Valid NDCG: 0.3414\n",
      "Data Preparation: 6.5s\n",
      "Epoch: 63 (281.5s)  LR: 0.00036 Train Loss: 1.75  Valid Loss: 5.36  Valid NDCG: 0.4055\n",
      "Data Preparation: 6.1s\n",
      "Epoch: 64 (277.0s)  LR: 0.00045 Train Loss: 1.87  Valid Loss: 5.27  Valid NDCG: 0.4074\n",
      "Data Preparation: 6.6s\n",
      "Epoch: 65 (282.7s)  LR: 0.00055 Train Loss: 1.50  Valid Loss: 4.95  Valid NDCG: 0.4220\n",
      "0.4594899600258906\n",
      "Data Preparation: 26.2s\n",
      "Epoch: 66 (281.9s)  LR: 0.00064 Train Loss: 1.66  Valid Loss: 5.03  Valid NDCG: 0.4318\n",
      "Data Preparation: 6.3s\n",
      "Epoch: 67 (276.4s)  LR: 0.00073 Train Loss: 1.82  Valid Loss: 5.42  Valid NDCG: 0.3903\n",
      "Data Preparation: 6.4s\n",
      "Epoch: 68 (281.4s)  LR: 0.00081 Train Loss: 1.68  Valid Loss: 5.53  Valid NDCG: 0.3877\n",
      "Data Preparation: 6.4s\n",
      "Epoch: 69 (282.0s)  LR: 0.00088 Train Loss: 1.69  Valid Loss: 5.11  Valid NDCG: 0.4115\n",
      "Data Preparation: 6.3s\n",
      "Epoch: 70 (279.0s)  LR: 0.00094 Train Loss: 1.79  Valid Loss: 5.64  Valid NDCG: 0.3628\n",
      "0.4523040885359665\n",
      "Data Preparation: 26.3s\n"
     ]
    },
    {
     "name": "stderr",
     "output_type": "stream",
     "text": [
      "/home/ziniu/anaconda3/lib/python3.7/site-packages/torch/serialization.py:256: UserWarning: Couldn't retrieve source code for container of type GNN. It won't be checked for correctness upon loading.\n",
      "  \"type \" + obj.__name__ + \". It won't be checked \"\n"
     ]
    },
    {
     "name": "stdout",
     "output_type": "stream",
     "text": [
      "Epoch: 71 (277.5s)  LR: 0.00098 Train Loss: 1.78  Valid Loss: 5.08  Valid NDCG: 0.4414\n",
      "Data Preparation: 6.2s\n",
      "Epoch: 72 (273.5s)  LR: 0.00100 Train Loss: 1.94  Valid Loss: 5.34  Valid NDCG: 0.3904\n",
      "Data Preparation: 6.4s\n",
      "Epoch: 73 (274.2s)  LR: 0.00100 Train Loss: 1.93  Valid Loss: 5.05  Valid NDCG: 0.4210\n",
      "Data Preparation: 6.2s\n",
      "Epoch: 74 (283.4s)  LR: 0.00098 Train Loss: 1.59  Valid Loss: 5.30  Valid NDCG: 0.4170\n",
      "Data Preparation: 6.0s\n",
      "Epoch: 75 (269.4s)  LR: 0.00095 Train Loss: 2.22  Valid Loss: 5.00  Valid NDCG: 0.4376\n",
      "0.48144099966743453\n",
      "Data Preparation: 26.5s\n"
     ]
    },
    {
     "name": "stderr",
     "output_type": "stream",
     "text": [
      "/home/ziniu/anaconda3/lib/python3.7/site-packages/torch/serialization.py:256: UserWarning: Couldn't retrieve source code for container of type GNN. It won't be checked for correctness upon loading.\n",
      "  \"type \" + obj.__name__ + \". It won't be checked \"\n"
     ]
    },
    {
     "name": "stdout",
     "output_type": "stream",
     "text": [
      "Epoch: 76 (270.9s)  LR: 0.00089 Train Loss: 1.73  Valid Loss: 4.84  Valid NDCG: 0.4488\n",
      "Data Preparation: 6.5s\n"
     ]
    },
    {
     "name": "stderr",
     "output_type": "stream",
     "text": [
      "/home/ziniu/anaconda3/lib/python3.7/site-packages/torch/serialization.py:256: UserWarning: Couldn't retrieve source code for container of type GNN. It won't be checked for correctness upon loading.\n",
      "  \"type \" + obj.__name__ + \". It won't be checked \"\n"
     ]
    },
    {
     "name": "stdout",
     "output_type": "stream",
     "text": [
      "Epoch: 77 (280.3s)  LR: 0.00083 Train Loss: 1.26  Valid Loss: 4.94  Valid NDCG: 0.4602\n",
      "Data Preparation: 6.5s\n"
     ]
    },
    {
     "name": "stderr",
     "output_type": "stream",
     "text": [
      "/home/ziniu/anaconda3/lib/python3.7/site-packages/torch/serialization.py:256: UserWarning: Couldn't retrieve source code for container of type GNN. It won't be checked for correctness upon loading.\n",
      "  \"type \" + obj.__name__ + \". It won't be checked \"\n"
     ]
    },
    {
     "name": "stdout",
     "output_type": "stream",
     "text": [
      "Epoch: 78 (282.6s)  LR: 0.00075 Train Loss: 1.55  Valid Loss: 4.37  Valid NDCG: 0.4885\n",
      "Data Preparation: 6.2s\n",
      "Epoch: 79 (269.6s)  LR: 0.00066 Train Loss: 2.06  Valid Loss: 5.44  Valid NDCG: 0.4322\n",
      "Data Preparation: 6.4s\n",
      "Epoch: 80 (274.5s)  LR: 0.00056 Train Loss: 1.68  Valid Loss: 5.59  Valid NDCG: 0.3725\n",
      "0.5083693961117537\n",
      "Data Preparation: 27.7s\n",
      "Epoch: 81 (270.0s)  LR: 0.00047 Train Loss: 1.88  Valid Loss: 5.03  Valid NDCG: 0.4355\n",
      "Data Preparation: 6.2s\n",
      "Epoch: 82 (280.2s)  LR: 0.00037 Train Loss: 1.24  Valid Loss: 5.00  Valid NDCG: 0.4193\n",
      "Data Preparation: 6.3s\n",
      "Epoch: 83 (271.1s)  LR: 0.00028 Train Loss: 1.84  Valid Loss: 4.89  Valid NDCG: 0.4502\n",
      "Data Preparation: 6.3s\n",
      "Epoch: 84 (269.7s)  LR: 0.00020 Train Loss: 1.78  Valid Loss: 4.66  Valid NDCG: 0.4543\n",
      "Data Preparation: 6.3s\n",
      "Epoch: 85 (281.1s)  LR: 0.00013 Train Loss: 1.38  Valid Loss: 5.51  Valid NDCG: 0.4051\n",
      "0.5029790648781862\n",
      "Data Preparation: 27.0s\n",
      "Epoch: 86 (277.4s)  LR: 0.00007 Train Loss: 1.42  Valid Loss: 5.25  Valid NDCG: 0.4208\n",
      "Data Preparation: 6.4s\n"
     ]
    },
    {
     "name": "stderr",
     "output_type": "stream",
     "text": [
      "/home/ziniu/anaconda3/lib/python3.7/site-packages/torch/serialization.py:256: UserWarning: Couldn't retrieve source code for container of type GNN. It won't be checked for correctness upon loading.\n",
      "  \"type \" + obj.__name__ + \". It won't be checked \"\n"
     ]
    },
    {
     "name": "stdout",
     "output_type": "stream",
     "text": [
      "Epoch: 87 (279.2s)  LR: 0.00003 Train Loss: 1.66  Valid Loss: 4.68  Valid NDCG: 0.4904\n",
      "Data Preparation: 6.4s\n",
      "Epoch: 88 (277.2s)  LR: 0.00001 Train Loss: 1.47  Valid Loss: 5.11  Valid NDCG: 0.4451\n",
      "Data Preparation: 6.5s\n",
      "Epoch: 89 (271.4s)  LR: 0.00000 Train Loss: 1.59  Valid Loss: 4.57  Valid NDCG: 0.4668\n",
      "Data Preparation: 6.6s\n",
      "Epoch: 90 (271.6s)  LR: 0.00002 Train Loss: 1.47  Valid Loss: 4.70  Valid NDCG: 0.4567\n",
      "0.50818929759442\n",
      "Data Preparation: 27.6s\n",
      "Epoch: 91 (270.4s)  LR: 0.00005 Train Loss: 1.92  Valid Loss: 4.89  Valid NDCG: 0.4600\n",
      "Data Preparation: 6.6s\n",
      "Epoch: 92 (277.4s)  LR: 0.00010 Train Loss: 1.50  Valid Loss: 4.68  Valid NDCG: 0.4770\n",
      "Data Preparation: 6.5s\n",
      "Epoch: 93 (279.5s)  LR: 0.00017 Train Loss: 1.31  Valid Loss: 5.02  Valid NDCG: 0.4393\n",
      "Data Preparation: 6.1s\n",
      "Epoch: 94 (271.5s)  LR: 0.00024 Train Loss: 1.60  Valid Loss: 4.52  Valid NDCG: 0.4861\n",
      "Data Preparation: 6.3s\n",
      "Epoch: 95 (274.2s)  LR: 0.00033 Train Loss: 1.50  Valid Loss: 4.72  Valid NDCG: 0.4767\n",
      "0.5305116199224456\n",
      "Data Preparation: 27.1s\n",
      "Epoch: 96 (280.5s)  LR: 0.00043 Train Loss: 1.09  Valid Loss: 5.07  Valid NDCG: 0.4402\n",
      "Data Preparation: 6.4s\n",
      "Epoch: 97 (275.1s)  LR: 0.00052 Train Loss: 1.64  Valid Loss: 4.70  Valid NDCG: 0.4715\n",
      "Data Preparation: 6.4s\n"
     ]
    },
    {
     "name": "stderr",
     "output_type": "stream",
     "text": [
      "/home/ziniu/anaconda3/lib/python3.7/site-packages/torch/serialization.py:256: UserWarning: Couldn't retrieve source code for container of type GNN. It won't be checked for correctness upon loading.\n",
      "  \"type \" + obj.__name__ + \". It won't be checked \"\n"
     ]
    },
    {
     "name": "stdout",
     "output_type": "stream",
     "text": [
      "Epoch: 98 (280.9s)  LR: 0.00062 Train Loss: 1.33  Valid Loss: 4.50  Valid NDCG: 0.5140\n",
      "Data Preparation: 6.3s\n",
      "Epoch: 99 (273.8s)  LR: 0.00071 Train Loss: 1.49  Valid Loss: 4.88  Valid NDCG: 0.4576\n",
      "Data Preparation: 6.4s\n",
      "Epoch: 100 (275.3s)  LR: 0.00079 Train Loss: 1.52  Valid Loss: 4.33  Valid NDCG: 0.4967\n",
      "0.5080109461097555\n",
      "Data Preparation: 26.6s\n",
      "Epoch: 101 (269.4s)  LR: 0.00087 Train Loss: 1.77  Valid Loss: 5.03  Valid NDCG: 0.4529\n",
      "Data Preparation: 6.7s\n",
      "Epoch: 102 (282.6s)  LR: 0.00093 Train Loss: 1.33  Valid Loss: 5.34  Valid NDCG: 0.4101\n",
      "Data Preparation: 6.4s\n",
      "Epoch: 103 (267.3s)  LR: 0.00097 Train Loss: 2.22  Valid Loss: 4.71  Valid NDCG: 0.4542\n",
      "Data Preparation: 6.3s\n",
      "Epoch: 104 (276.7s)  LR: 0.00099 Train Loss: 1.61  Valid Loss: 4.61  Valid NDCG: 0.4719\n",
      "Data Preparation: 6.3s\n",
      "Epoch: 105 (276.8s)  LR: 0.00100 Train Loss: 1.53  Valid Loss: 5.08  Valid NDCG: 0.4306\n",
      "0.5429157561491333\n",
      "Data Preparation: 27.7s\n",
      "Epoch: 106 (275.4s)  LR: 0.00099 Train Loss: 1.48  Valid Loss: 4.50  Valid NDCG: 0.4979\n",
      "Data Preparation: 6.7s\n",
      "Epoch: 107 (277.3s)  LR: 0.00096 Train Loss: 1.50  Valid Loss: 5.39  Valid NDCG: 0.4112\n",
      "Data Preparation: 6.6s\n",
      "Epoch: 108 (270.7s)  LR: 0.00091 Train Loss: 1.57  Valid Loss: 4.47  Valid NDCG: 0.4854\n",
      "Data Preparation: 7.0s\n",
      "Epoch: 109 (273.9s)  LR: 0.00084 Train Loss: 1.48  Valid Loss: 5.11  Valid NDCG: 0.4457\n",
      "Data Preparation: 6.5s\n",
      "Epoch: 110 (268.5s)  LR: 0.00077 Train Loss: 1.77  Valid Loss: 4.32  Valid NDCG: 0.5112\n",
      "0.5333530797048001\n",
      "Data Preparation: 26.4s\n",
      "Epoch: 111 (265.4s)  LR: 0.00068 Train Loss: 2.02  Valid Loss: 5.00  Valid NDCG: 0.4203\n",
      "Data Preparation: 6.6s\n",
      "Epoch: 112 (279.0s)  LR: 0.00059 Train Loss: 1.39  Valid Loss: 4.30  Valid NDCG: 0.5032\n",
      "Data Preparation: 6.6s\n"
     ]
    },
    {
     "name": "stderr",
     "output_type": "stream",
     "text": [
      "/home/ziniu/anaconda3/lib/python3.7/site-packages/torch/serialization.py:256: UserWarning: Couldn't retrieve source code for container of type GNN. It won't be checked for correctness upon loading.\n",
      "  \"type \" + obj.__name__ + \". It won't be checked \"\n"
     ]
    },
    {
     "name": "stdout",
     "output_type": "stream",
     "text": [
      "Epoch: 113 (276.7s)  LR: 0.00049 Train Loss: 1.67  Valid Loss: 4.22  Valid NDCG: 0.5335\n",
      "Data Preparation: 6.5s\n"
     ]
    },
    {
     "name": "stderr",
     "output_type": "stream",
     "text": [
      "/home/ziniu/anaconda3/lib/python3.7/site-packages/torch/serialization.py:256: UserWarning: Couldn't retrieve source code for container of type GNN. It won't be checked for correctness upon loading.\n",
      "  \"type \" + obj.__name__ + \". It won't be checked \"\n"
     ]
    },
    {
     "name": "stdout",
     "output_type": "stream",
     "text": [
      "Epoch: 114 (275.9s)  LR: 0.00039 Train Loss: 1.48  Valid Loss: 4.13  Valid NDCG: 0.5429\n",
      "Data Preparation: 6.8s\n",
      "Epoch: 115 (277.4s)  LR: 0.00030 Train Loss: 1.44  Valid Loss: 4.81  Valid NDCG: 0.4914\n",
      "0.5779412351583426\n",
      "Data Preparation: 27.1s\n",
      "Epoch: 116 (277.9s)  LR: 0.00022 Train Loss: 1.46  Valid Loss: 4.80  Valid NDCG: 0.4741\n",
      "Data Preparation: 6.5s\n",
      "Epoch: 117 (274.3s)  LR: 0.00014 Train Loss: 1.45  Valid Loss: 4.86  Valid NDCG: 0.4704\n",
      "Data Preparation: 6.9s\n",
      "Epoch: 118 (272.0s)  LR: 0.00008 Train Loss: 1.62  Valid Loss: 5.13  Valid NDCG: 0.4319\n",
      "Data Preparation: 6.6s\n",
      "Epoch: 119 (269.3s)  LR: 0.00004 Train Loss: 1.72  Valid Loss: 4.27  Valid NDCG: 0.5140\n",
      "Data Preparation: 7.0s\n"
     ]
    },
    {
     "name": "stderr",
     "output_type": "stream",
     "text": [
      "/home/ziniu/anaconda3/lib/python3.7/site-packages/torch/serialization.py:256: UserWarning: Couldn't retrieve source code for container of type GNN. It won't be checked for correctness upon loading.\n",
      "  \"type \" + obj.__name__ + \". It won't be checked \"\n"
     ]
    },
    {
     "name": "stdout",
     "output_type": "stream",
     "text": [
      "Epoch: 120 (275.5s)  LR: 0.00001 Train Loss: 1.52  Valid Loss: 4.31  Valid NDCG: 0.5436\n",
      "0.5283969670634048\n",
      "Data Preparation: 27.5s\n",
      "Epoch: 121 (262.3s)  LR: 0.00000 Train Loss: 1.92  Valid Loss: 4.34  Valid NDCG: 0.5050\n",
      "Data Preparation: 6.6s\n",
      "Epoch: 122 (278.6s)  LR: 0.00001 Train Loss: 1.35  Valid Loss: 4.50  Valid NDCG: 0.4949\n",
      "Data Preparation: 6.6s\n",
      "Epoch: 123 (276.3s)  LR: 0.00004 Train Loss: 1.36  Valid Loss: 4.16  Valid NDCG: 0.5356\n",
      "Data Preparation: 6.3s\n",
      "Epoch: 124 (272.3s)  LR: 0.00009 Train Loss: 1.66  Valid Loss: 4.46  Valid NDCG: 0.4958\n",
      "Data Preparation: 6.3s\n"
     ]
    },
    {
     "name": "stderr",
     "output_type": "stream",
     "text": [
      "/home/ziniu/anaconda3/lib/python3.7/site-packages/torch/serialization.py:256: UserWarning: Couldn't retrieve source code for container of type GNN. It won't be checked for correctness upon loading.\n",
      "  \"type \" + obj.__name__ + \". It won't be checked \"\n"
     ]
    },
    {
     "name": "stdout",
     "output_type": "stream",
     "text": [
      "Epoch: 125 (278.5s)  LR: 0.00015 Train Loss: 1.44  Valid Loss: 3.93  Valid NDCG: 0.5750\n",
      "0.5355531559258551\n",
      "Data Preparation: 27.4s\n",
      "Epoch: 126 (271.3s)  LR: 0.00022 Train Loss: 1.52  Valid Loss: 3.96  Valid NDCG: 0.5455\n",
      "Data Preparation: 6.8s\n",
      "Epoch: 127 (276.4s)  LR: 0.00031 Train Loss: 1.31  Valid Loss: 4.52  Valid NDCG: 0.5087\n",
      "Data Preparation: 6.8s\n",
      "Epoch: 128 (275.1s)  LR: 0.00040 Train Loss: 1.34  Valid Loss: 4.41  Valid NDCG: 0.5105\n",
      "Data Preparation: 7.1s\n",
      "Epoch: 129 (270.5s)  LR: 0.00050 Train Loss: 1.65  Valid Loss: 4.58  Valid NDCG: 0.4698\n",
      "Data Preparation: 6.9s\n",
      "Epoch: 130 (269.6s)  LR: 0.00059 Train Loss: 1.77  Valid Loss: 4.34  Valid NDCG: 0.5039\n",
      "0.5125350234971151\n",
      "Data Preparation: 28.0s\n",
      "Epoch: 131 (281.2s)  LR: 0.00069 Train Loss: 1.16  Valid Loss: 4.78  Valid NDCG: 0.4773\n",
      "Data Preparation: 7.0s\n",
      "Epoch: 132 (272.9s)  LR: 0.00077 Train Loss: 1.61  Valid Loss: 4.69  Valid NDCG: 0.4656\n",
      "Data Preparation: 6.6s\n",
      "Epoch: 133 (276.5s)  LR: 0.00085 Train Loss: 1.17  Valid Loss: 4.34  Valid NDCG: 0.5105\n",
      "Data Preparation: 6.7s\n",
      "Epoch: 134 (271.9s)  LR: 0.00091 Train Loss: 1.58  Valid Loss: 4.97  Valid NDCG: 0.4446\n",
      "Data Preparation: 6.8s\n",
      "Epoch: 135 (276.4s)  LR: 0.00096 Train Loss: 1.31  Valid Loss: 4.72  Valid NDCG: 0.4838\n",
      "0.5492023920031188\n",
      "Data Preparation: 27.6s\n",
      "Epoch: 136 (275.0s)  LR: 0.00099 Train Loss: 1.42  Valid Loss: 5.66  Valid NDCG: 0.3834\n",
      "Data Preparation: 6.6s\n",
      "Epoch: 137 (282.9s)  LR: 0.00100 Train Loss: 1.19  Valid Loss: 4.55  Valid NDCG: 0.4869\n",
      "Data Preparation: 6.4s\n",
      "Epoch: 138 (277.1s)  LR: 0.00099 Train Loss: 1.43  Valid Loss: 4.70  Valid NDCG: 0.4816\n",
      "Data Preparation: 7.0s\n",
      "Epoch: 139 (284.4s)  LR: 0.00097 Train Loss: 1.27  Valid Loss: 4.85  Valid NDCG: 0.4508\n",
      "Data Preparation: 6.8s\n",
      "Epoch: 140 (282.9s)  LR: 0.00092 Train Loss: 1.32  Valid Loss: 4.18  Valid NDCG: 0.5150\n",
      "0.5335958265998566\n",
      "Data Preparation: 27.4s\n",
      "Epoch: 141 (272.7s)  LR: 0.00086 Train Loss: 1.61  Valid Loss: 4.56  Valid NDCG: 0.4853\n",
      "Data Preparation: 6.3s\n",
      "Epoch: 142 (280.8s)  LR: 0.00079 Train Loss: 1.30  Valid Loss: 4.12  Valid NDCG: 0.5408\n",
      "Data Preparation: 6.7s\n",
      "Epoch: 143 (276.8s)  LR: 0.00070 Train Loss: 1.40  Valid Loss: 4.70  Valid NDCG: 0.4753\n",
      "Data Preparation: 6.4s\n",
      "Epoch: 144 (268.3s)  LR: 0.00061 Train Loss: 1.66  Valid Loss: 4.32  Valid NDCG: 0.5221\n",
      "Data Preparation: 6.4s\n",
      "Epoch: 145 (269.5s)  LR: 0.00052 Train Loss: 1.56  Valid Loss: 4.77  Valid NDCG: 0.4643\n",
      "0.5239258540352449\n",
      "Data Preparation: 30.3s\n",
      "Epoch: 146 (274.6s)  LR: 0.00042 Train Loss: 1.40  Valid Loss: 5.10  Valid NDCG: 0.4293\n",
      "Data Preparation: 6.3s\n",
      "Epoch: 147 (274.9s)  LR: 0.00033 Train Loss: 1.22  Valid Loss: 4.74  Valid NDCG: 0.4888\n",
      "Data Preparation: 6.7s\n",
      "Epoch: 148 (276.6s)  LR: 0.00024 Train Loss: 1.41  Valid Loss: 4.14  Valid NDCG: 0.5371\n",
      "Data Preparation: 6.8s\n",
      "Epoch: 149 (273.2s)  LR: 0.00016 Train Loss: 1.45  Valid Loss: 3.86  Valid NDCG: 0.5539\n",
      "Data Preparation: 6.7s\n",
      "Epoch: 150 (275.8s)  LR: 0.00010 Train Loss: 1.09  Valid Loss: 5.11  Valid NDCG: 0.4284\n",
      "0.6042594571221822\n",
      "Data Preparation: 27.4s\n",
      "Epoch: 151 (271.7s)  LR: 0.00005 Train Loss: 1.45  Valid Loss: 4.25  Valid NDCG: 0.5172\n",
      "Data Preparation: 6.8s\n",
      "Epoch: 152 (276.9s)  LR: 0.00002 Train Loss: 1.02  Valid Loss: 4.48  Valid NDCG: 0.4929\n",
      "Data Preparation: 6.6s\n",
      "Epoch: 153 (267.3s)  LR: 0.00000 Train Loss: 1.59  Valid Loss: 4.80  Valid NDCG: 0.4448\n",
      "Data Preparation: 6.7s\n",
      "Epoch: 154 (263.1s)  LR: 0.00001 Train Loss: 1.83  Valid Loss: 4.41  Valid NDCG: 0.5015\n",
      "Data Preparation: 6.5s\n",
      "Epoch: 155 (273.2s)  LR: 0.00003 Train Loss: 1.45  Valid Loss: 5.00  Valid NDCG: 0.4752\n",
      "0.550182068653262\n",
      "Data Preparation: 27.5s\n",
      "Epoch: 156 (274.2s)  LR: 0.00007 Train Loss: 1.33  Valid Loss: 4.58  Valid NDCG: 0.4997\n",
      "Data Preparation: 6.5s\n",
      "Epoch: 157 (271.0s)  LR: 0.00013 Train Loss: 1.44  Valid Loss: 4.68  Valid NDCG: 0.4468\n",
      "Data Preparation: 6.7s\n",
      "Epoch: 158 (271.6s)  LR: 0.00020 Train Loss: 1.39  Valid Loss: 4.26  Valid NDCG: 0.5197\n",
      "Data Preparation: 7.1s\n",
      "Epoch: 159 (273.1s)  LR: 0.00028 Train Loss: 1.40  Valid Loss: 4.36  Valid NDCG: 0.5236\n",
      "Data Preparation: 7.4s\n",
      "Epoch: 160 (274.1s)  LR: 0.00038 Train Loss: 1.24  Valid Loss: 3.78  Valid NDCG: 0.5605\n",
      "0.5523251651517792\n",
      "Data Preparation: 26.6s\n"
     ]
    },
    {
     "name": "stderr",
     "output_type": "stream",
     "text": [
      "/home/ziniu/anaconda3/lib/python3.7/site-packages/torch/serialization.py:256: UserWarning: Couldn't retrieve source code for container of type GNN. It won't be checked for correctness upon loading.\n",
      "  \"type \" + obj.__name__ + \". It won't be checked \"\n"
     ]
    },
    {
     "name": "stdout",
     "output_type": "stream",
     "text": [
      "Epoch: 161 (272.9s)  LR: 0.00047 Train Loss: 1.34  Valid Loss: 3.77  Valid NDCG: 0.5872\n",
      "Data Preparation: 6.7s\n",
      "Epoch: 162 (268.7s)  LR: 0.00057 Train Loss: 1.45  Valid Loss: 4.67  Valid NDCG: 0.4797\n",
      "Data Preparation: 6.7s\n",
      "Epoch: 163 (270.1s)  LR: 0.00066 Train Loss: 1.39  Valid Loss: 4.45  Valid NDCG: 0.4786\n",
      "Data Preparation: 6.9s\n",
      "Epoch: 164 (274.5s)  LR: 0.00075 Train Loss: 1.33  Valid Loss: 4.55  Valid NDCG: 0.4823\n",
      "Data Preparation: 6.9s\n",
      "Epoch: 165 (266.4s)  LR: 0.00083 Train Loss: 1.82  Valid Loss: 4.71  Valid NDCG: 0.4694\n",
      "0.5792299278751738\n",
      "Data Preparation: 26.6s\n",
      "Epoch: 166 (265.4s)  LR: 0.00090 Train Loss: 1.83  Valid Loss: 4.48  Valid NDCG: 0.4914\n",
      "Data Preparation: 6.7s\n",
      "Epoch: 167 (267.1s)  LR: 0.00095 Train Loss: 1.64  Valid Loss: 4.25  Valid NDCG: 0.5305\n",
      "Data Preparation: 6.8s\n",
      "Epoch: 168 (271.7s)  LR: 0.00098 Train Loss: 1.37  Valid Loss: 4.82  Valid NDCG: 0.4778\n",
      "Data Preparation: 6.7s\n",
      "Epoch: 169 (275.7s)  LR: 0.00100 Train Loss: 1.23  Valid Loss: 4.35  Valid NDCG: 0.5069\n",
      "Data Preparation: 6.6s\n",
      "Epoch: 170 (268.2s)  LR: 0.00100 Train Loss: 1.51  Valid Loss: 3.95  Valid NDCG: 0.5722\n",
      "0.5217876660543097\n",
      "Data Preparation: 27.1s\n",
      "Epoch: 171 (273.9s)  LR: 0.00097 Train Loss: 1.37  Valid Loss: 4.39  Valid NDCG: 0.4944\n",
      "Data Preparation: 6.7s\n",
      "Epoch: 172 (276.9s)  LR: 0.00094 Train Loss: 1.44  Valid Loss: 4.70  Valid NDCG: 0.4897\n",
      "Data Preparation: 6.9s\n",
      "Epoch: 173 (273.1s)  LR: 0.00088 Train Loss: 1.47  Valid Loss: 4.70  Valid NDCG: 0.4659\n",
      "Data Preparation: 6.6s\n",
      "Epoch: 174 (274.4s)  LR: 0.00081 Train Loss: 1.33  Valid Loss: 4.90  Valid NDCG: 0.4412\n",
      "Data Preparation: 6.7s\n",
      "Epoch: 175 (271.0s)  LR: 0.00073 Train Loss: 1.37  Valid Loss: 4.96  Valid NDCG: 0.4673\n",
      "0.5176583890033\n",
      "Data Preparation: 27.9s\n",
      "Epoch: 176 (265.5s)  LR: 0.00064 Train Loss: 1.67  Valid Loss: 4.52  Valid NDCG: 0.4858\n",
      "Data Preparation: 6.8s\n",
      "Epoch: 177 (273.6s)  LR: 0.00054 Train Loss: 1.48  Valid Loss: 4.42  Valid NDCG: 0.5354\n",
      "Data Preparation: 6.5s\n",
      "Epoch: 178 (280.5s)  LR: 0.00044 Train Loss: 1.15  Valid Loss: 4.45  Valid NDCG: 0.5149\n",
      "Data Preparation: 6.4s\n",
      "Epoch: 179 (277.5s)  LR: 0.00035 Train Loss: 1.20  Valid Loss: 4.47  Valid NDCG: 0.4880\n",
      "Data Preparation: 6.7s\n",
      "Epoch: 180 (273.0s)  LR: 0.00026 Train Loss: 1.38  Valid Loss: 4.83  Valid NDCG: 0.4758\n",
      "0.5516372518253904\n",
      "Data Preparation: 26.6s\n",
      "Epoch: 181 (271.0s)  LR: 0.00018 Train Loss: 1.60  Valid Loss: 4.30  Valid NDCG: 0.5042\n",
      "Data Preparation: 6.5s\n",
      "Epoch: 182 (272.5s)  LR: 0.00011 Train Loss: 1.53  Valid Loss: 4.36  Valid NDCG: 0.5255\n",
      "Data Preparation: 6.4s\n",
      "Epoch: 183 (275.7s)  LR: 0.00006 Train Loss: 1.28  Valid Loss: 3.83  Valid NDCG: 0.5664\n",
      "Data Preparation: 6.7s\n",
      "Epoch: 184 (269.7s)  LR: 0.00002 Train Loss: 1.36  Valid Loss: 4.04  Valid NDCG: 0.5475\n",
      "Data Preparation: 6.6s\n",
      "Epoch: 185 (276.1s)  LR: 0.00000 Train Loss: 1.11  Valid Loss: 3.95  Valid NDCG: 0.5601\n",
      "0.6092508235261257\n",
      "Data Preparation: 27.4s\n",
      "Epoch: 186 (278.0s)  LR: 0.00000 Train Loss: 1.11  Valid Loss: 4.45  Valid NDCG: 0.5029\n",
      "Data Preparation: 6.7s\n",
      "Epoch: 187 (263.6s)  LR: 0.00002 Train Loss: 1.23  Valid Loss: 4.68  Valid NDCG: 0.4720\n",
      "Data Preparation: 6.5s\n",
      "Epoch: 188 (260.6s)  LR: 0.00006 Train Loss: 1.20  Valid Loss: 4.03  Valid NDCG: 0.5588\n",
      "Data Preparation: 6.5s\n",
      "Epoch: 189 (260.1s)  LR: 0.00011 Train Loss: 1.37  Valid Loss: 4.69  Valid NDCG: 0.4827\n",
      "Data Preparation: 6.5s\n",
      "Epoch: 190 (261.7s)  LR: 0.00018 Train Loss: 1.24  Valid Loss: 4.42  Valid NDCG: 0.5063\n",
      "0.5597107659821203\n",
      "Data Preparation: 27.2s\n",
      "Epoch: 191 (269.9s)  LR: 0.00026 Train Loss: 1.12  Valid Loss: 4.79  Valid NDCG: 0.4986\n",
      "Data Preparation: 6.4s\n",
      "Epoch: 192 (268.1s)  LR: 0.00035 Train Loss: 1.00  Valid Loss: 4.32  Valid NDCG: 0.5227\n",
      "Data Preparation: 6.4s\n",
      "Epoch: 193 (257.4s)  LR: 0.00045 Train Loss: 1.39  Valid Loss: 4.25  Valid NDCG: 0.5045\n",
      "Data Preparation: 6.4s\n",
      "Epoch: 194 (253.6s)  LR: 0.00054 Train Loss: 1.55  Valid Loss: 4.15  Valid NDCG: 0.5296\n",
      "Data Preparation: 6.3s\n",
      "Epoch: 195 (254.9s)  LR: 0.00064 Train Loss: 1.67  Valid Loss: 4.19  Valid NDCG: 0.5302\n",
      "0.5546307993238797\n",
      "Data Preparation: 26.5s\n",
      "Epoch: 196 (262.0s)  LR: 0.00073 Train Loss: 1.25  Valid Loss: 4.81  Valid NDCG: 0.4699\n",
      "Data Preparation: 6.3s\n",
      "Epoch: 197 (261.5s)  LR: 0.00081 Train Loss: 1.42  Valid Loss: 4.61  Valid NDCG: 0.4734\n",
      "Data Preparation: 6.5s\n",
      "Epoch: 198 (261.9s)  LR: 0.00088 Train Loss: 1.33  Valid Loss: 4.88  Valid NDCG: 0.4734\n",
      "Data Preparation: 6.2s\n",
      "Epoch: 199 (257.9s)  LR: 0.00094 Train Loss: 1.40  Valid Loss: 4.10  Valid NDCG: 0.5556\n",
      "Data Preparation: 6.3s\n",
      "Epoch: 200 (252.8s)  LR: 0.00098 Train Loss: 1.49  Valid Loss: 4.42  Valid NDCG: 0.5160\n",
      "0.5600400828968928\n"
     ]
    }
   ],
   "source": [
    "stats = []\n",
    "pool = mp.Pool(4)\n",
    "process_ids = np.arange(batch_num // 4)\n",
    "st = time.time()\n",
    "jobs = prepare_data(pool, process_ids)\n",
    "train_step = 1500\n",
    "best_val   = 0\n",
    "res = []\n",
    "criterion = nn.KLDivLoss(reduction='batchmean')\n",
    "for epoch in np.arange(epoch_num)+1:\n",
    "    '''\n",
    "        Prepare Training and Validation Data\n",
    "    '''\n",
    "    train_data = [job.get() for job in jobs[:-1]]\n",
    "    valid_data = jobs[-1].get()\n",
    "    pool.close()\n",
    "    pool.join()\n",
    "    pool = mp.Pool(4)\n",
    "    jobs = prepare_data(pool, process_ids)\n",
    "    et = time.time()\n",
    "    print('Data Preparation: %.1fs' % (et - st))\n",
    "    \n",
    "    model.train()\n",
    "    train_losses = []\n",
    "    torch.cuda.empty_cache()\n",
    "    for batch in np.arange(2):\n",
    "        for node_feature, node_type, edge_time, edge_index, edge_type, field_ids, paper_ids, ylabel in train_data:\n",
    "            node_rep = gnn.forward(node_feature.to(device), node_type.to(device), \\\n",
    "                                   edge_time.to(device), edge_index.to(device), edge_type.to(device))\n",
    "            res  = classifier.forward(node_rep[paper_ids])\n",
    "            loss = criterion(res, ylabel.to(device))\n",
    "            optimizer.zero_grad() \n",
    "            torch.cuda.empty_cache()\n",
    "            loss.backward()\n",
    "            \n",
    "            torch.nn.utils.clip_grad_norm_(model.parameters(), 0.2)\n",
    "            optimizer.step()\n",
    "            train_losses += [loss.cpu().detach().tolist()]\n",
    "            train_step += 1\n",
    "            scheduler.step(train_step)\n",
    "            del res, loss\n",
    "    '''\n",
    "        Valid\n",
    "    '''\n",
    "    model.eval()\n",
    "    with torch.no_grad():\n",
    "        node_feature, node_type, edge_time, edge_index, edge_type, field_ids, paper_ids, ylabel = valid_data\n",
    "        node_rep = gnn.forward(node_feature.to(device), node_type.to(device), \\\n",
    "                                   edge_time.to(device), edge_index.to(device), edge_type.to(device))\n",
    "        res  = classifier.forward(node_rep[paper_ids])\n",
    "        loss = criterion(res, ylabel.to(device))\n",
    "        valid_res = []\n",
    "\n",
    "        for ai, bi in zip(ylabel, res.argsort(descending = True)):\n",
    "            valid_res += [ai[bi].tolist()]\n",
    "        valid_ndcg = np.average([ndcg_at_k(resi, len(resi)) for resi in valid_res])\n",
    "        if valid_ndcg > best_val:\n",
    "            best_val = valid_ndcg\n",
    "            torch.save(model, './save/rgt_2.pt')\n",
    "        st = time.time()\n",
    "        print((\"Epoch: %d (%.1fs)  LR: %.5f Train Loss: %.2f  Valid Loss: %.2f  Valid NDCG: %.4f\") % \\\n",
    "              (epoch, (st-et), optimizer.param_groups[0]['lr'], np.average(train_losses), loss.cpu().detach().tolist(),\\\n",
    "              valid_ndcg))\n",
    "        stats += [[np.average(train_losses), loss.cpu().detach().tolist()]]\n",
    "        del res, loss\n",
    "        if epoch % 5 == 0:\n",
    "            '''\n",
    "                Test\n",
    "            '''\n",
    "            _time = np.random.choice(list(test_papers.keys()))\n",
    "            node_feature, node_type, edge_time, edge_index, edge_type, field_ids, paper_ids, ylabel = pf_sample(np.random.randint(2 ** 32 - 1), test_papers, \\\n",
    "                                                           test_pairs, test_range, batch_size, test=True)\n",
    "            paper_rep = gnn.forward(node_feature.to(device), node_type.to(device), \\\n",
    "                      edge_time.to(device), edge_index.to(device), edge_type.to(device))[paper_ids]\n",
    "            res  = classifier.forward(paper_rep)\n",
    "            test_res = []\n",
    "            for ai, bi in zip(ylabel, res.argsort(descending = True)):\n",
    "                test_res += [ai[bi].tolist()]\n",
    "            test_ndcg = np.average([ndcg_at_k(resi, len(resi)) for resi in test_res])\n",
    "            print(test_ndcg)\n",
    "            del res\n",
    "    del train_data, valid_data"
   ]
  },
  {
   "cell_type": "code",
   "execution_count": null,
   "metadata": {},
   "outputs": [],
   "source": []
  },
  {
   "cell_type": "code",
   "execution_count": null,
   "metadata": {},
   "outputs": [],
   "source": []
  },
  {
   "cell_type": "code",
   "execution_count": 11,
   "metadata": {},
   "outputs": [
    {
     "data": {
      "image/png": "[encoded data removed]",
      "text/plain": [
       "<Figure size 432x288 with 1 Axes>"
      ]
     },
     "metadata": {
      "needs_background": "light"
     },
     "output_type": "display_data"
    }
   ],
   "source": [
    "stats = np.array(stats)\n",
    "plt.plot(stats[:,0])\n",
    "plt.plot(stats[:,1])\n",
    "plt.show()"
   ]
  },
  {
   "cell_type": "code",
   "execution_count": 12,
   "metadata": {},
   "outputs": [
    {
     "name": "stdout",
     "output_type": "stream",
     "text": [
      "0.5610165953913713 0.1580046772348867\n",
      "0.43958718947136016 0.20178621711110983\n"
     ]
    }
   ],
   "source": [
    "model.eval()\n",
    "gnn, classifier = model\n",
    "with torch.no_grad():\n",
    "    test_res = []\n",
    "    for _ in range(10):\n",
    "        _time = np.random.choice(list(test_papers.keys()))\n",
    "        node_feature, node_type, edge_time, edge_index, edge_type, field_ids, paper_ids, ylabel = pf_sample(np.random.randint(2 ** 32 - 1), test_papers, \\\n",
    "                                                       test_pairs, test_range, batch_size, test=True)\n",
    "        paper_rep = gnn.forward(node_feature.to(device), node_type.to(device), \\\n",
    "                      edge_time.to(device), edge_index.to(device), edge_type.to(device))[paper_ids]\n",
    "        res = classifier.forward(paper_rep)\n",
    "        for ai, bi in zip(ylabel, res.argsort(descending = True)):\n",
    "            test_res += [ai[bi].tolist()]\n",
    "    test_ndcg = [ndcg_at_k(resi, len(resi)) for resi in test_res]\n",
    "    print(np.average(test_ndcg), np.var(test_ndcg))\n",
    "    test_mrr = mean_reciprocal_rank(test_res)\n",
    "    print(np.average(test_mrr), np.var(test_mrr))"
   ]
  },
  {
   "cell_type": "code",
   "execution_count": 13,
   "metadata": {},
   "outputs": [],
   "source": [
    "best_model = torch.load('./save/rgt_2.pt')"
   ]
  },
  {
   "cell_type": "code",
   "execution_count": null,
   "metadata": {},
   "outputs": [],
   "source": [
    "from sklearn import datasets\n",
    "\n",
    "iris = datasets.load_iris()"
   ]
  },
  {
   "cell_type": "code",
   "execution_count": null,
   "metadata": {},
   "outputs": [],
   "source": [
    "print(1)"
   ]
  },
  {
   "cell_type": "code",
   "execution_count": null,
   "metadata": {},
   "outputs": [],
   "source": [
    "iris.label"
   ]
  },
  {
   "cell_type": "code",
   "execution_count": 14,
   "metadata": {},
   "outputs": [
    {
     "name": "stdout",
     "output_type": "stream",
     "text": [
      "0.5446488079714522 0.15889689245511424\n",
      "0.4251208434273849 0.20238461459614615\n"
     ]
    }
   ],
   "source": [
    "best_model.eval()\n",
    "gnn, classifier = best_model\n",
    "with torch.no_grad():\n",
    "    test_res = []\n",
    "    for _ in range(10):\n",
    "        _time = np.random.choice(list(test_papers.keys()))\n",
    "        node_feature, node_type, edge_time, edge_index, edge_type, field_ids, paper_ids, ylabel = pf_sample(np.random.randint(2 ** 32 - 1), test_papers, \\\n",
    "                                                       test_pairs, test_range, batch_size, test=True)\n",
    "        paper_rep = gnn.forward(node_feature.to(device), node_type.to(device), \\\n",
    "                      edge_time.to(device), edge_index.to(device), edge_type.to(device))[paper_ids]\n",
    "        res = classifier.forward(paper_rep)\n",
    "        for ai, bi in zip(ylabel, res.argsort(descending = True)):\n",
    "            test_res += [ai[bi].tolist()]\n",
    "    test_ndcg = [ndcg_at_k(resi, len(resi)) for resi in test_res]\n",
    "    print(np.average(test_ndcg), np.var(test_ndcg))\n",
    "    test_mrr = mean_reciprocal_rank(test_res)\n",
    "    print(np.average(test_mrr), np.var(test_mrr))"
   ]
  },
  {
   "cell_type": "code",
   "execution_count": null,
   "metadata": {},
   "outputs": [],
   "source": []
  },
  {
   "cell_type": "code",
   "execution_count": null,
   "metadata": {},
   "outputs": [],
   "source": []
  },
  {
   "cell_type": "code",
   "execution_count": null,
   "metadata": {},
   "outputs": [],
   "source": [
    "types = graph.get_types()\n",
    "cand_list = list(graph.edge_list['venue']['paper']['PV_Journal'])\n",
    "gnn2 = GNN(in_dim = len(graph.node_feature['paper']['emb'][0]) + 401, n_hid = 256, num_types = len(types), \\\n",
    "          num_relations = len(graph.get_meta_graph()) + 1, n_heads = 8, n_layers = 3).to(device)"
   ]
  },
  {
   "cell_type": "code",
   "execution_count": null,
   "metadata": {},
   "outputs": [],
   "source": []
  }
 ],
 "metadata": {
  "kernelspec": {
   "display_name": "Python 3",
   "language": "python",
   "name": "python3"
  },
  "language_info": {
   "codemirror_mode": {
    "name": "ipython",
    "version": 3
   },
   "file_extension": ".py",
   "mimetype": "text/x-python",
   "name": "python",
   "nbconvert_exporter": "python",
   "pygments_lexer": "ipython3",
   "version": "3.7.3"
  }
 },
 "nbformat": 4,
 "nbformat_minor": 2
}
