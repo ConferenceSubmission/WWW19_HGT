{
 "cells": [
  {
   "cell_type": "code",
   "execution_count": 1,
   "metadata": {},
   "outputs": [],
   "source": [
    "from utils import *\n",
    "import gensim\n",
    "from gensim.models import Word2Vec\n",
    "from tqdm import tqdm_notebook as tqdm"
   ]
  },
  {
   "cell_type": "code",
   "execution_count": 2,
   "metadata": {},
   "outputs": [],
   "source": [
    "data_dir = '/datadrive/data_cs/'"
   ]
  },
  {
   "cell_type": "code",
   "execution_count": 3,
   "metadata": {},
   "outputs": [
    {
     "data": {
      "application/vnd.jupyter.widget-view+json": {
       "model_id": "fb1368f6c0064ea19cd57eb57b4a807b",
       "version_major": 2,
       "version_minor": 0
      },
      "text/plain": [
       "HBox(children=(IntProgress(value=0, max=31441552), HTML(value='')))"
      ]
     },
     "metadata": {},
     "output_type": "display_data"
    },
    {
     "name": "stdout",
     "output_type": "stream",
     "text": [
      "\n"
     ]
    }
   ],
   "source": [
    "cite_dict = defaultdict(lambda: 0)\n",
    "num_lines = sum(1 for line in open('/datadrive/MAG_0919/PR_CS_20190919.tsv', 'r'))\n",
    "with open('/datadrive/MAG_0919/PR_CS_20190919.tsv', 'r') as fin:\n",
    "    fin.readline()\n",
    "    for l in tqdm(fin, total = num_lines):\n",
    "        l = l[:-1].split('\\t')\n",
    "        cite_dict[l[1]] += 1"
   ]
  },
  {
   "cell_type": "code",
   "execution_count": 10,
   "metadata": {},
   "outputs": [],
   "source": [
    "data_dir = '/datadrive/data_med/'\n",
    "graph = dill.load(open(data_dir + 'graph.pk', 'rb'))"
   ]
  },
  {
   "cell_type": "code",
   "execution_count": null,
   "metadata": {},
   "outputs": [],
   "source": []
  },
  {
   "cell_type": "code",
   "execution_count": null,
   "metadata": {},
   "outputs": [],
   "source": []
  },
  {
   "cell_type": "code",
   "execution_count": 4,
   "metadata": {},
   "outputs": [
    {
     "data": {
      "application/vnd.jupyter.widget-view+json": {
       "model_id": "55ab7665ae8647b18be663d746398455",
       "version_major": 2,
       "version_minor": 0
      },
      "text/plain": [
       "HBox(children=(IntProgress(value=0, max=5597606), HTML(value='')))"
      ]
     },
     "metadata": {},
     "output_type": "display_data"
    },
    {
     "name": "stdout",
     "output_type": "stream",
     "text": [
      "\n"
     ]
    }
   ],
   "source": [
    "pfl = defaultdict(lambda: {})\n",
    "num_lines = sum(1 for line in open('/datadrive/MAG_0919/Papers_CS_20190919.tsv', 'r'))\n",
    "with open('/datadrive/MAG_0919/Papers_CS_20190919.tsv') as fin:\n",
    "    fin.readline()\n",
    "    for l in tqdm(fin, total = num_lines):\n",
    "        l = l[:-1].split('\\t')\n",
    "        bound = min(2020 - int(l[1]), 20)\n",
    "        if cite_dict[l[0]] < bound or l[0] == '' or l[1] == '' or l[2] == '' or l[3] == '' and l[4] == '' or int(l[1]) < 1900:\n",
    "            continue\n",
    "        pi = {'id': l[0], 'title': l[2], 'type': 'paper', 'time': int(l[1])}\n",
    "        pfl[l[0]] = pi"
   ]
  },
  {
   "cell_type": "code",
   "execution_count": 5,
   "metadata": {},
   "outputs": [],
   "source": [
    "from pytorch_transformers import *\n",
    "device = torch.device(\"cuda:2\")\n",
    "tokenizer = XLNetTokenizer.from_pretrained('xlnet-base-cased')\n",
    "model = XLNetModel.from_pretrained('xlnet-base-cased',\n",
    "                                    output_hidden_states=True,\n",
    "                                    output_attentions=True).to(device)"
   ]
  },
  {
   "cell_type": "code",
   "execution_count": 6,
   "metadata": {
    "scrolled": true
   },
   "outputs": [
    {
     "data": {
      "application/vnd.jupyter.widget-view+json": {
       "model_id": "57e18e6be0344b10b2fe2e5a516fcc90",
       "version_major": 2,
       "version_minor": 0
      },
      "text/plain": [
       "HBox(children=(IntProgress(value=0, max=5597606), HTML(value='')))"
      ]
     },
     "metadata": {},
     "output_type": "display_data"
    },
    {
     "name": "stdout",
     "output_type": "stream",
     "text": [
      "\n"
     ]
    }
   ],
   "source": [
    "num_lines = sum(1 for line in open('/datadrive/MAG_0919/PAb_CS_20190919.tsv', 'r'))\n",
    "with open('/datadrive/MAG_0919/PAb_CS_20190919.tsv') as fin:\n",
    "    fin.readline()\n",
    "    for l in tqdm(fin, total = num_lines):\n",
    "        try:\n",
    "            l = l.split('\\t')\n",
    "            if l[0] in pfl:\n",
    "                input_ids = torch.tensor([tokenizer.encode(pfl[l[0]]['title'])]).to(device)[:, :64]\n",
    "                if len(input_ids[0]) < 4:\n",
    "                    continue\n",
    "                all_hidden_states, all_attentions = model(input_ids)[-2:]\n",
    "                rep = (all_hidden_states[-2][0] * all_attentions[-2][0].mean(dim=0).mean(dim=0).view(-1, 1)).sum(dim=0)\n",
    "                pfl[l[0]]['emb'] = rep.tolist()\n",
    "        except Exception as e:\n",
    "            print(e)"
   ]
  },
  {
   "cell_type": "code",
   "execution_count": 230,
   "metadata": {},
   "outputs": [
    {
     "data": {
      "application/vnd.jupyter.widget-view+json": {
       "model_id": "c482288d4cf846059f4b5787da7658a7",
       "version_major": 2,
       "version_minor": 0
      },
      "text/plain": [
       "HBox(children=(IntProgress(value=0, max=561578), HTML(value='')))"
      ]
     },
     "metadata": {},
     "output_type": "display_data"
    }
   ],
   "source": [
    "vfi_ids = {}\n",
    "num_lines = sum(1 for line in open('/datadrive/MAG_0919/vfi_vector.tsv', 'r'))\n",
    "with open('/datadrive/MAG_0919/vfi_vector.tsv', 'r') as fin:\n",
    "    for l in tqdm(fin, total = num_lines):\n",
    "        l = l[:-1].split('\\t')\n",
    "        vfi_ids[l[0]] = True"
   ]
  },
  {
   "cell_type": "code",
   "execution_count": 231,
   "metadata": {},
   "outputs": [
    {
     "data": {
      "application/vnd.jupyter.widget-view+json": {
       "model_id": "33c1331e88d746578b6425c21d6ab05e",
       "version_major": 2,
       "version_minor": 0
      },
      "text/plain": [
       "HBox(children=(IntProgress(value=0, max=5597606), HTML(value='')))"
      ]
     },
     "metadata": {},
     "output_type": "display_data"
    },
    {
     "name": "stdout",
     "output_type": "stream",
     "text": [
      "544244\n"
     ]
    }
   ],
   "source": [
    "graph = Graph()\n",
    "rem = []\n",
    "num_lines = sum(1 for line in open('/datadrive/MAG_0919/Papers_CS_20190919.tsv', 'r'))\n",
    "with open('/datadrive/MAG_0919/Papers_CS_20190919.tsv') as fin:\n",
    "    fin.readline()\n",
    "    for l in tqdm(fin, total = num_lines):\n",
    "        l = l[:-1].split('\\t')\n",
    "        if l[0] not in pfl or l[4] != 'en' or 'emb' not in pfl[l[0]] or l[3] not in vfi_ids:\n",
    "            continue\n",
    "        rem += [l[0]]\n",
    "        vi = {'id': l[3], 'type': 'venue', 'attr': l[-2]}\n",
    "        graph.add_edge(pfl[l[0]], vi, time = int(l[1]), relation_type = 'PV_' + l[-2])\n",
    "pfl = {i: pfl[i] for i in rem}\n",
    "print(len(pfl))"
   ]
  },
  {
   "cell_type": "code",
   "execution_count": 232,
   "metadata": {},
   "outputs": [
    {
     "data": {
      "application/vnd.jupyter.widget-view+json": {
       "model_id": "b1fb3c08d2904ce293b0989697a3cafc",
       "version_major": 2,
       "version_minor": 0
      },
      "text/plain": [
       "HBox(children=(IntProgress(value=0, max=31441552), HTML(value='')))"
      ]
     },
     "metadata": {},
     "output_type": "display_data"
    }
   ],
   "source": [
    "num_lines = sum(1 for line in open('/datadrive/MAG_0919/PR_CS_20190919.tsv', 'r'))\n",
    "with open('/datadrive/MAG_0919/PR_CS_20190919.tsv', 'r') as fin:\n",
    "    fin.readline()\n",
    "    for l in tqdm(fin, total = num_lines):\n",
    "        l = l[:-1].split('\\t')\n",
    "        if l[0] in pfl and l[1] in pfl:\n",
    "            p1 = pfl[l[0]]\n",
    "            p2 = pfl[l[1]]\n",
    "            if p1['time'] >= p2['time']:\n",
    "                graph.add_edge(p1, p2, time = p1['time'], relation_type = 'PP_cite')"
   ]
  },
  {
   "cell_type": "code",
   "execution_count": 233,
   "metadata": {},
   "outputs": [
    {
     "data": {
      "application/vnd.jupyter.widget-view+json": {
       "model_id": "7621752344814dceb5e6ee885d4779cf",
       "version_major": 2,
       "version_minor": 0
      },
      "text/plain": [
       "HBox(children=(IntProgress(value=0, max=47462559), HTML(value='')))"
      ]
     },
     "metadata": {},
     "output_type": "display_data"
    }
   ],
   "source": [
    "num_lines = sum(1 for line in open('/datadrive/MAG_0919/PF_CS_20190919.tsv', 'r'))\n",
    "ffl = {}\n",
    "with open('/datadrive/MAG_0919/PF_CS_20190919.tsv', 'r') as fin:\n",
    "    fin.readline()\n",
    "    for l in tqdm(fin, total = num_lines):\n",
    "        l = l[:-1].split('\\t')\n",
    "        if l[0] in pfl and l[1] in vfi_ids:\n",
    "            ffl[l[1]] = True"
   ]
  },
  {
   "cell_type": "code",
   "execution_count": 234,
   "metadata": {},
   "outputs": [
    {
     "data": {
      "application/vnd.jupyter.widget-view+json": {
       "model_id": "3f0aa15d679440e288ee7d9ce6a723c8",
       "version_major": 2,
       "version_minor": 0
      },
      "text/plain": [
       "HBox(children=(IntProgress(value=0, max=2602800), HTML(value='')))"
      ]
     },
     "metadata": {},
     "output_type": "display_data"
    }
   ],
   "source": [
    "num_lines = sum(1 for line in open('/datadrive/MAG_0919/FHierarchy_20190919.tsv', 'r'))\n",
    "with open('/datadrive/MAG_0919/FHierarchy_20190919.tsv', 'r') as fin:\n",
    "    fin.readline()\n",
    "    for l in tqdm(fin, total = num_lines):\n",
    "        l = l[:-1].split('\\t')\n",
    "        if l[0] in ffl and l[1] in ffl:\n",
    "            fi = {'id': l[0], 'type': 'field', 'attr': l[2]}\n",
    "            fj = {'id': l[1], 'type': 'field', 'attr': l[3]}\n",
    "            graph.add_edge(fi, fj, relation_type = 'FF_in')\n",
    "            ffl[l[0]] = fi\n",
    "            ffl[l[1]] = fj"
   ]
  },
  {
   "cell_type": "code",
   "execution_count": 235,
   "metadata": {},
   "outputs": [
    {
     "data": {
      "application/vnd.jupyter.widget-view+json": {
       "model_id": "6b1bf93d26b346a19f3e2cad6513f60d",
       "version_major": 2,
       "version_minor": 0
      },
      "text/plain": [
       "HBox(children=(IntProgress(value=0, max=47462559), HTML(value='')))"
      ]
     },
     "metadata": {},
     "output_type": "display_data"
    }
   ],
   "source": [
    "num_lines = sum(1 for line in open('/datadrive/MAG_0919/PF_CS_20190919.tsv', 'r'))\n",
    "with open('/datadrive/MAG_0919/PF_CS_20190919.tsv', 'r') as fin:\n",
    "    fin.readline()\n",
    "    for l in tqdm(fin, total = num_lines):\n",
    "        l = l[:-1].split('\\t')\n",
    "        if l[0] in pfl and l[1] in ffl and type(ffl[l[1]]) == dict:\n",
    "            pi = pfl[l[0]]\n",
    "            fi = ffl[l[1]]\n",
    "            graph.add_edge(pi, fi, time = pi['time'], relation_type = 'PF_in_' + fi['attr'])"
   ]
  },
  {
   "cell_type": "code",
   "execution_count": 237,
   "metadata": {},
   "outputs": [
    {
     "data": {
      "application/vnd.jupyter.widget-view+json": {
       "model_id": "2f4933bf92154916b8fa8212dfafeac8",
       "version_major": 2,
       "version_minor": 0
      },
      "text/plain": [
       "HBox(children=(IntProgress(value=0, max=15571614), HTML(value='')))"
      ]
     },
     "metadata": {},
     "output_type": "display_data"
    }
   ],
   "source": [
    "coi = defaultdict(lambda: [])\n",
    "coa = defaultdict(lambda: {})\n",
    "num_lines = sum(1 for line in open('/datadrive/MAG_0919/PAuAf_CS_20190919.tsv', 'r'))\n",
    "with open('/datadrive/MAG_0919/PAuAf_CS_20190919.tsv', 'r') as fin:\n",
    "    fin.readline()\n",
    "    for l in tqdm(fin, total = num_lines):\n",
    "        l = l[:-1].split('\\t')\n",
    "        if l[0] in pfl and l[2] in vfi_ids:\n",
    "            pi = pfl[l[0]]\n",
    "            ai = {'id': l[1], 'type': 'author'}\n",
    "            fi = {'id': l[2], 'type': 'affiliation'}\n",
    "            coa[l[0]][int(l[-1])] = ai\n",
    "            coi[l[0]] += [fi]\n",
    "            graph.add_edge(ai, fi, relation_type = 'in')\n",
    "            pid = graph.node_forward['paper'][l[0]]\n",
    "            for rel in graph.edge_list['paper']['venue']:\n",
    "                for vid in graph.edge_list['paper']['venue'][rel][pid]:\n",
    "                    graph.add_edge(ai, graph.node_bacward['venue'][vid], relation_type = 'APV_in')\n",
    "            for rel in graph.edge_list['paper']['field']:\n",
    "                for fid in graph.edge_list['paper']['field'][rel][pid]:\n",
    "                    graph.add_edge(ai, graph.node_bacward['field'][fid], relation_type = 'APF_in')"
   ]
  },
  {
   "cell_type": "code",
   "execution_count": 238,
   "metadata": {},
   "outputs": [
    {
     "data": {
      "application/vnd.jupyter.widget-view+json": {
       "model_id": "258764aaf7e54389b8d1023adfe6837d",
       "version_major": 2,
       "version_minor": 0
      },
      "text/plain": [
       "HBox(children=(IntProgress(value=0, max=479274), HTML(value='')))"
      ]
     },
     "metadata": {},
     "output_type": "display_data"
    }
   ],
   "source": [
    "for pid in tqdm(coa):\n",
    "    pi = pfl[pid]\n",
    "    max_seq = max(coa[pid].keys())\n",
    "    for seq_i in coa[pid]:\n",
    "        ai = coa[pid][seq_i]\n",
    "        if seq_i == 1:\n",
    "            graph.add_edge(ai, pi, time = pi['time'], relation_type = 'AP_write_first')\n",
    "        elif seq_i == max_seq:\n",
    "            graph.add_edge(ai, pi, time = pi['time'], relation_type = 'AP_write_last')\n",
    "        else:\n",
    "            graph.add_edge(ai, pi, time = pi['time'], relation_type = 'AP_write_other')\n",
    "        for seq_j in coa[pid]:\n",
    "            if seq_j > seq_i:\n",
    "                aj = coa[pid][seq_j]\n",
    "                graph.add_edge(ai, aj, time = pi['time'], relation_type = 'APA_coauthor', directed = False)"
   ]
  },
  {
   "cell_type": "code",
   "execution_count": 239,
   "metadata": {},
   "outputs": [
    {
     "data": {
      "application/vnd.jupyter.widget-view+json": {
       "model_id": "061fb505892c40559d7f443f26f2ca23",
       "version_major": 2,
       "version_minor": 0
      },
      "text/plain": [
       "HBox(children=(IntProgress(value=0, max=479274), HTML(value='')))"
      ]
     },
     "metadata": {},
     "output_type": "display_data"
    }
   ],
   "source": [
    "for pid in tqdm(coi):\n",
    "    pi = pfl[pid]\n",
    "    for seq_i, fi in enumerate(coi[pid]):\n",
    "        for seq_j, fj in enumerate(coi[pid]):\n",
    "            if seq_j > seq_i:\n",
    "                graph.add_edge(fi, fj, time = pi['time'], relation_type = 'IPI_coauthor', directed = False)"
   ]
  },
  {
   "cell_type": "code",
   "execution_count": 240,
   "metadata": {},
   "outputs": [
    {
     "data": {
      "application/vnd.jupyter.widget-view+json": {
       "model_id": "9381d88549e74d138d0520b4c0629d78",
       "version_major": 2,
       "version_minor": 0
      },
      "text/plain": [
       "HBox(children=(IntProgress(value=0, max=561578), HTML(value='')))"
      ]
     },
     "metadata": {},
     "output_type": "display_data"
    }
   ],
   "source": [
    "num_lines = sum(1 for line in open('/datadrive/MAG_0919/vfi_vector.tsv', 'r'))\n",
    "with open('/datadrive/MAG_0919/vfi_vector.tsv', 'r') as fin:\n",
    "    for l in tqdm(fin, total = num_lines):\n",
    "        l = l[:-1].split('\\t')\n",
    "        ser = l[0]\n",
    "        for idx in ['venue', 'field', 'affiliation']:\n",
    "            if ser in graph.node_forward[idx]:\n",
    "                graph.node_bacward[idx][graph.node_forward[idx][ser]]['node_emb'] = np.array(l[1].split(' '))"
   ]
  },
  {
   "cell_type": "code",
   "execution_count": 241,
   "metadata": {},
   "outputs": [
    {
     "name": "stdout",
     "output_type": "stream",
     "text": [
      "6934 6934\n",
      "45717 45717\n",
      "9079 9079\n"
     ]
    }
   ],
   "source": [
    "for idx in ['venue', 'field', 'affiliation']:\n",
    "    tot = 0\n",
    "    for i in graph.node_bacward[idx]:\n",
    "        if 'node_emb' in i:\n",
    "            tot += 1\n",
    "    print(tot, len(graph.node_bacward[idx]))"
   ]
  },
  {
   "cell_type": "code",
   "execution_count": 242,
   "metadata": {},
   "outputs": [
    {
     "name": "stdout",
     "output_type": "stream",
     "text": [
      "paper 544244\n",
      "venue 6934\n",
      "field 45717\n",
      "author 510189\n",
      "affiliation 9079\n"
     ]
    }
   ],
   "source": [
    "for target_type in graph.node_bacward:\n",
    "    print(target_type, len(graph.node_bacward[target_type]))"
   ]
  },
  {
   "cell_type": "code",
   "execution_count": 243,
   "metadata": {
    "scrolled": true
   },
   "outputs": [
    {
     "name": "stdout",
     "output_type": "stream",
     "text": [
      "venue\n",
      "----paper\n",
      "--------PV_Conference 296775\n",
      "--------PV_Journal 228062\n",
      "--------PV_Repository 19216\n",
      "--------PV_Patent 191\n",
      "----author\n",
      "--------APV_in 1169046\n",
      "paper\n",
      "----venue\n",
      "--------rev_PV_Conference 296775\n",
      "--------rev_PV_Journal 228062\n",
      "--------rev_PV_Repository 19216\n",
      "--------rev_PV_Patent 191\n",
      "----paper\n",
      "--------PP_cite 5796354\n",
      "--------rev_PP_cite 5796354\n",
      "----field\n",
      "--------rev_PF_in_L0 544371\n",
      "--------rev_PF_in_L3 866423\n",
      "--------rev_PF_in_L1 1197205\n",
      "--------rev_PF_in_L2 2337525\n",
      "--------rev_PF_in_L5 202221\n",
      "--------rev_PF_in_L4 303541\n",
      "----author\n",
      "--------AP_write_last 429392\n",
      "--------AP_write_other 662167\n",
      "--------AP_write_first 454913\n",
      "field\n",
      "----field\n",
      "--------FF_in 262526\n",
      "--------rev_FF_in 262526\n",
      "----paper\n",
      "--------PF_in_L0 544371\n",
      "--------PF_in_L3 866423\n",
      "--------PF_in_L1 1197205\n",
      "--------PF_in_L2 2337525\n",
      "--------PF_in_L5 202221\n",
      "--------PF_in_L4 303541\n",
      "----author\n",
      "--------APF_in 10403670\n",
      "affiliation\n",
      "----author\n",
      "--------in 612872\n",
      "----affiliation\n",
      "--------IPI_coauthor 330225\n",
      "author\n",
      "----affiliation\n",
      "--------rev_in 612872\n",
      "----venue\n",
      "--------rev_APV_in 1169046\n",
      "----field\n",
      "--------rev_APF_in 10403670\n",
      "----paper\n",
      "--------rev_AP_write_last 429392\n",
      "--------rev_AP_write_other 662167\n",
      "--------rev_AP_write_first 454913\n",
      "----author\n",
      "--------APA_coauthor 3845866\n"
     ]
    }
   ],
   "source": [
    "for target_type in graph.edge_list:\n",
    "    print(target_type)\n",
    "    for source_type in graph.edge_list[target_type]:\n",
    "        print('-' * 4 + source_type)\n",
    "        for rel_type in graph.edge_list[target_type][source_type]:\n",
    "            tot = 0\n",
    "            for tid in graph.edge_list[target_type][source_type][rel_type]:\n",
    "                tot += len(graph.edge_list[target_type][source_type][rel_type][tid])\n",
    "            print('-' * 8 + rel_type, tot)"
   ]
  },
  {
   "cell_type": "code",
   "execution_count": 345,
   "metadata": {},
   "outputs": [
    {
     "data": {
      "application/vnd.jupyter.widget-view+json": {
       "model_id": "09ce153195074f14861d5ae2860d1c0f",
       "version_major": 2,
       "version_minor": 0
      },
      "text/plain": [
       "HBox(children=(IntProgress(value=0, max=6149660), HTML(value='')))"
      ]
     },
     "metadata": {},
     "output_type": "display_data"
    }
   ],
   "source": [
    "num_lines = sum(1 for line in open('/datadrive/MAG_0919/SeqName_CS_20190919.tsv', 'r'))\n",
    "with open('/datadrive/MAG_0919/SeqName_CS_20190919.tsv', 'r') as fin:\n",
    "    for l in tqdm(fin, total = num_lines):\n",
    "        l = l[:-1].split('\\t')\n",
    "        key = l[2]\n",
    "        if key in ['conference', 'journal', 'repository', 'patent']:\n",
    "            key = 'venue'\n",
    "        if key == 'fos':\n",
    "            key = 'field'\n",
    "        if l[0] in graph.node_forward[key]:\n",
    "            s = graph.node_bacward[key][graph.node_forward[key][l[0]]]\n",
    "            s['name'] = l[1]"
   ]
  },
  {
   "cell_type": "code",
   "execution_count": 346,
   "metadata": {},
   "outputs": [
    {
     "data": {
      "text/plain": [
       "[['very deep convolutional networks for large scale image recognition', 4631],\n",
       " ['histograms of oriented gradients for human detection', 3713],\n",
       " ['adam a method for stochastic optimization', 3646],\n",
       " ['imagenet classification with deep convolutional neural networks', 3455],\n",
       " ['mapreduce simplified data processing on large clusters', 3304],\n",
       " ['imagenet a large scale hierarchical image database', 3241],\n",
       " ['deep residual learning for image recognition', 2934],\n",
       " ['deep residual learning for image recognition', 2622],\n",
       " ['imagenet large scale visual recognition challenge', 2560],\n",
       " ['rich feature hierarchies for accurate object detection and semantic segmentation',\n",
       "  2396]]"
      ]
     },
     "execution_count": 346,
     "metadata": {},
     "output_type": "execute_result"
    }
   ],
   "source": [
    "res = []\n",
    "for idx, pi in enumerate(graph.node_bacward['paper']):\n",
    "    pi['citation'] = len(graph.edge_list['paper']['paper']['PP_cite'][idx])\n",
    "    res += [[pi['title'], pi['citation']]]\n",
    "res.sort(key=lambda x: x[1], reverse = True)\n",
    "res[:10]"
   ]
  },
  {
   "cell_type": "code",
   "execution_count": 347,
   "metadata": {},
   "outputs": [
    {
     "data": {
      "text/plain": [
       "[['li feifei', 13286],\n",
       " ['geoffrey e hinton', 12875],\n",
       " ['andrew zisserman', 12454],\n",
       " ['jian sun', 12281],\n",
       " ['ross b girshick', 11999],\n",
       " ['scott shenker', 11881],\n",
       " ['christopher d manning', 11235],\n",
       " ['david e culler', 11109],\n",
       " ['andrew y ng', 11040],\n",
       " ['rajkumar buyya', 10366]]"
      ]
     },
     "execution_count": 347,
     "metadata": {},
     "output_type": "execute_result"
    }
   ],
   "source": [
    "res = []\n",
    "for idx, ai in enumerate(graph.node_bacward['author']):\n",
    "    citation = 0\n",
    "    for rel in graph.edge_list['author']['paper'].keys():\n",
    "        for pid in graph.edge_list['author']['paper'][rel][idx]:\n",
    "            citation += graph.node_bacward['paper'][pid]['citation']\n",
    "    ai['citation'] = citation\n",
    "    res += [[ai['name'], ai['citation']]]\n",
    "res.sort(key=lambda x: x[1], reverse = True)\n",
    "res[:10]"
   ]
  },
  {
   "cell_type": "code",
   "execution_count": 348,
   "metadata": {},
   "outputs": [
    {
     "data": {
      "text/plain": [
       "[['microsoft', 1181476],\n",
       " ['university of california berkeley', 1000070],\n",
       " ['stanford university', 869939],\n",
       " ['carnegie mellon university', 858205],\n",
       " ['massachusetts institute of technology', 849884],\n",
       " ['ibm', 785791],\n",
       " ['google', 666682],\n",
       " ['university of illinois at urbana champaign', 575059],\n",
       " ['university of california', 477534],\n",
       " ['university of washington', 427362]]"
      ]
     },
     "execution_count": 348,
     "metadata": {},
     "output_type": "execute_result"
    }
   ],
   "source": [
    "res = []\n",
    "for idx, fi in enumerate(graph.node_bacward['affiliation']):\n",
    "    citation = 0\n",
    "    for aid in graph.edge_list['affiliation']['author']['in'][idx]:\n",
    "        citation += graph.node_bacward['author'][aid]['citation']\n",
    "    fi['citation'] = citation\n",
    "    res += [[fi['name'], fi['citation']]]\n",
    "res.sort(key=lambda x: x[1], reverse = True)\n",
    "res[:10]"
   ]
  },
  {
   "cell_type": "code",
   "execution_count": 349,
   "metadata": {},
   "outputs": [
    {
     "data": {
      "text/plain": [
       "[['CVPR', 151542, 'Conference'],\n",
       " ['lecture notes in computer science', 126897, 'Conference'],\n",
       " ['CHI', 87812, 'Conference'],\n",
       " ['arxiv computer vision and pattern recognition', 80557, 'Repository'],\n",
       " ['sigplan notices', 74173, 'Conference'],\n",
       " ['INFOCOM', 61041, 'Conference'],\n",
       " ['ieee transactions on pattern analysis and machine intelligence',\n",
       "  60607,\n",
       "  'Journal'],\n",
       " ['ICCV', 59503, 'Conference'],\n",
       " ['NeurIPS', 55138, 'Conference'],\n",
       " ['computer communication review', 51380, 'Conference']]"
      ]
     },
     "execution_count": 349,
     "metadata": {},
     "output_type": "execute_result"
    }
   ],
   "source": [
    "res = []\n",
    "for idx, vi in enumerate(graph.node_bacward['venue']):\n",
    "    citation = 0\n",
    "    for rel in graph.edge_list['venue']['paper'].keys():\n",
    "        for pid in graph.edge_list['venue']['paper'][rel][idx]:\n",
    "            citation += graph.node_bacward['paper'][pid]['citation']\n",
    "    vi['citation'] = citation\n",
    "    res += [[vi['name'], vi['citation'], vi['attr']]]\n",
    "res.sort(key=lambda x: x[1], reverse = True)\n",
    "res[:10]"
   ]
  },
  {
   "cell_type": "code",
   "execution_count": 351,
   "metadata": {
    "scrolled": true
   },
   "outputs": [
    {
     "data": {
      "text/plain": [
       "[['Computer science', 5796354, 'L0'],\n",
       " ['Artificial intelligence', 1907214, 'L1'],\n",
       " ['Machine learning', 1092810, 'L1'],\n",
       " ['Distributed computing', 936494, 'L1'],\n",
       " ['Real-time computing', 932037, 'L1'],\n",
       " ['Data mining', 848932, 'L1'],\n",
       " ['Computer network', 819089, 'L1'],\n",
       " ['Pattern recognition', 770406, 'L1'],\n",
       " ['Computer vision', 701076, 'L1'],\n",
       " ['Theoretical computer science', 527403, 'L1'],\n",
       " ['Parallel computing', 396259, 'L1'],\n",
       " ['Computer security', 333644, 'L1'],\n",
       " ['Database', 311806, 'L1'],\n",
       " ['Architecture', 284175, 'L2'],\n",
       " ['Information retrieval', 280678, 'L1'],\n",
       " ['Natural language processing', 238116, 'L1'],\n",
       " ['Electronic engineering', 236191, 'L1'],\n",
       " ['Software', 222512, 'L2'],\n",
       " ['Multimedia', 220977, 'L1'],\n",
       " ['Scalability', 216968, 'L2'],\n",
       " ['Algorithm', 208528, 'L1'],\n",
       " ['Human–computer interaction', 207960, 'L1'],\n",
       " ['Artificial neural network', 204302, 'L2'],\n",
       " ['The Internet', 192492, 'L2'],\n",
       " ['Wireless sensor network', 188220, 'L2'],\n",
       " ['Knowledge management', 183620, 'L1'],\n",
       " ['Channel', 167674, 'L2'],\n",
       " ['Mathematical optimization', 165902, 'L1'],\n",
       " ['Programming language', 163957, 'L1'],\n",
       " ['World Wide Web', 158007, 'L1'],\n",
       " ['Feature extraction', 154672, 'L2'],\n",
       " ['Cluster analysis', 146716, 'L2'],\n",
       " ['Scheduling', 146670, 'L2'],\n",
       " ['Cloud computing', 139868, 'L2'],\n",
       " ['Simulation', 137697, 'L1'],\n",
       " ['Internet privacy', 135592, 'L1'],\n",
       " ['Wireless network', 130110, 'L3'],\n",
       " ['Speech recognition', 129596, 'L1'],\n",
       " ['Throughput', 126782, 'L2'],\n",
       " ['Computation', 116520, 'L2'],\n",
       " ['Robustness', 115939, 'L2'],\n",
       " ['Network packet', 112607, 'L2'],\n",
       " ['Systems engineering', 110740, 'L1'],\n",
       " ['Wireless', 108518, 'L2'],\n",
       " ['Management science', 103472, 'L1'],\n",
       " ['Support vector machine', 102589, 'L2'],\n",
       " ['Convolutional neural network', 102388, 'L3'],\n",
       " ['Exploit', 101353, 'L2'],\n",
       " ['Object detection', 100709, 'L2'],\n",
       " ['Server', 100329, 'L2'],\n",
       " ['Visualization', 95186, 'L2'],\n",
       " ['Embedded system', 94477, 'L1'],\n",
       " ['Wireless ad hoc network', 93987, 'L2'],\n",
       " ['Probabilistic logic', 93732, 'L2'],\n",
       " ['Mobile computing', 92902, 'L2'],\n",
       " ['Key distribution in wireless sensor networks', 89469, 'L3'],\n",
       " ['Deep learning', 86303, 'L3'],\n",
       " ['Social network', 83076, 'L2'],\n",
       " ['User interface', 82850, 'L2'],\n",
       " ['Cryptography', 81741, 'L2'],\n",
       " ['Discrete mathematics', 81476, 'L1'],\n",
       " ['Quality of service', 81323, 'L2'],\n",
       " ['Contextual image classification', 77633, 'L3'],\n",
       " ['Cache', 77318, 'L2'],\n",
       " ['Image processing', 76210, 'L2'],\n",
       " ['Image segmentation', 75721, 'L2'],\n",
       " ['Semantics', 74022, 'L2'],\n",
       " ['Software deployment', 73328, 'L2'],\n",
       " ['Resource allocation', 72921, 'L2'],\n",
       " ['Ranking', 70954, 'L2'],\n",
       " ['Information system', 68881, 'L2'],\n",
       " ['Inference', 68479, 'L2'],\n",
       " ['Network topology', 66777, 'L2'],\n",
       " ['Mobile device', 66373, 'L2'],\n",
       " ['Latency', 66245, 'L2'],\n",
       " ['Software development', 66093, 'L3'],\n",
       " ['Virtual machine', 65938, 'L2'],\n",
       " ['Data structure', 65867, 'L2'],\n",
       " ['Encryption', 65166, 'L2'],\n",
       " ['Graph', 64584, 'L2'],\n",
       " ['Energy consumption', 63573, 'L2'],\n",
       " ['Data set', 62724, 'L2'],\n",
       " ['Training set', 61427, 'L2'],\n",
       " ['Segmentation', 61295, 'L2'],\n",
       " ['Discriminative model', 60639, 'L2'],\n",
       " ['Computer architecture', 60539, 'L1'],\n",
       " ['Recommender system', 59636, 'L2'],\n",
       " ['Control theory', 59633, 'L1'],\n",
       " ['Indexation', 59384, 'L2'],\n",
       " ['Computer graphics (images)', 58950, 'L1'],\n",
       " ['Pixel', 58447, 'L2'],\n",
       " ['Compiler', 56942, 'L2'],\n",
       " ['Web service', 56767, 'L2'],\n",
       " ['Bandwidth', 56589, 'L2'],\n",
       " ['Data science', 55445, 'L1'],\n",
       " ['Hidden Markov model', 55173, 'L2'],\n",
       " ['Java', 54966, 'L2'],\n",
       " ['Software system', 54589, 'L3'],\n",
       " ['Usability', 54292, 'L2'],\n",
       " ['Source code', 54008, 'L3']]"
      ]
     },
     "execution_count": 351,
     "metadata": {},
     "output_type": "execute_result"
    }
   ],
   "source": [
    "res = []\n",
    "for idx, fi in enumerate(graph.node_bacward['field']):\n",
    "    citation = 0\n",
    "    for rel in graph.edge_list['field']['paper'].keys():\n",
    "        for pid in graph.edge_list['field']['paper'][rel][idx]:\n",
    "            citation += graph.node_bacward['paper'][pid]['citation']\n",
    "    fi['citation'] = citation\n",
    "    res += [[fi['name'], fi['citation'], fi['attr']]]\n",
    "res.sort(key=lambda x: x[1], reverse = True)\n",
    "res[:100]"
   ]
  },
  {
   "cell_type": "code",
   "execution_count": 353,
   "metadata": {},
   "outputs": [],
   "source": [
    "graph.propagate_feature()"
   ]
  },
  {
   "cell_type": "code",
   "execution_count": 354,
   "metadata": {},
   "outputs": [],
   "source": [
    "del graph.node_bacward"
   ]
  },
  {
   "cell_type": "code",
   "execution_count": 355,
   "metadata": {},
   "outputs": [],
   "source": [
    "dill.dump(graph, open(data_dir + 'graph.pk', 'wb'))"
   ]
  },
  {
   "cell_type": "code",
   "execution_count": null,
   "metadata": {},
   "outputs": [],
   "source": [
    "# type_dict = {'field': 0, 'venue' : 1, 'paper' : 2, 'author': 3, 'affiliation': 4}\n",
    "# for target_type in layer_data:\n",
    "#     for _id in layer_data[target_type]:\n",
    "#         yi = layer_data[target_type][_id]\n",
    "#         plt.scatter(type_dict[target_type], yi, color = cm.hot(type_dict[target_type] / len(type_dict)), s = 100)\n",
    "# #         plt.annotate(_id, (type_dict[target_type] - 0.1, yi + 0.05), fontsize = 12)\n",
    "# for target_type in sub_graph_list:\n",
    "#     for source_type in sub_graph_list[target_type]:\n",
    "#         for relation_type in sub_graph_list[target_type][source_type]:\n",
    "#             for e in sub_graph_list[target_type][source_type][relation_type]:\n",
    "#                 x1 = type_dict[target_type]\n",
    "#                 x2 = type_dict[source_type]\n",
    "#                 y1 = e[0]\n",
    "#                 y2 = e[1]\n",
    "#                 plt.plot([x1, x2], [y1, y2], \\\n",
    "#                     color = cm.hot((x1 + x2) / 2 / len(type_dict)))\n",
    "# plt.xticks(list(type_dict.values()), list(type_dict.keys()))"
   ]
  }
 ],
 "metadata": {
  "kernelspec": {
   "display_name": "Python 3",
   "language": "python",
   "name": "python3"
  },
  "language_info": {
   "codemirror_mode": {
    "name": "ipython",
    "version": 3
   },
   "file_extension": ".py",
   "mimetype": "text/x-python",
   "name": "python",
   "nbconvert_exporter": "python",
   "pygments_lexer": "ipython3",
   "version": "3.7.3"
  }
 },
 "nbformat": 4,
 "nbformat_minor": 2
}
