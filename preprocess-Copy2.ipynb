{
 "cells": [
  {
   "cell_type": "code",
   "execution_count": 1,
   "metadata": {},
   "outputs": [],
   "source": [
    "from utils import *\n",
    "import gensim\n",
    "from gensim.models import Word2Vec\n",
    "from tqdm import tqdm_notebook as tqdm"
   ]
  },
  {
   "cell_type": "code",
   "execution_count": 2,
   "metadata": {},
   "outputs": [],
   "source": [
    "data_dir = '/datadrive/data_all/'"
   ]
  },
  {
   "cell_type": "code",
   "execution_count": 3,
   "metadata": {},
   "outputs": [
    {
     "data": {
      "application/vnd.jupyter.widget-view+json": {
       "model_id": "8f20afa8297b4fc992d73c6bd9b33471",
       "version_major": 2,
       "version_minor": 0
      },
      "text/plain": [
       "HBox(children=(IntProgress(value=0, max=1021237518), HTML(value='')))"
      ]
     },
     "metadata": {},
     "output_type": "display_data"
    },
    {
     "name": "stdout",
     "output_type": "stream",
     "text": [
      "\n"
     ]
    }
   ],
   "source": [
    "cite_dict = defaultdict(lambda: 0)\n",
    "num_lines = sum(1 for line in open('/datadrive/MAG_0919/PR_20190919.tsv', 'r'))\n",
    "with open('/datadrive/MAG_0919/PR_20190919.tsv', 'r') as fin:\n",
    "    fin.readline()\n",
    "    for l in tqdm(fin, total = num_lines):\n",
    "        l = l[:-1].split('\\t')\n",
    "        cite_dict[l[1]] += 1"
   ]
  },
  {
   "cell_type": "code",
   "execution_count": null,
   "metadata": {},
   "outputs": [
    {
     "data": {
      "application/vnd.jupyter.widget-view+json": {
       "model_id": "11acb0ce5cbb4a4ba0d89e1d061020ad",
       "version_major": 2,
       "version_minor": 0
      },
      "text/plain": [
       "HBox(children=(IntProgress(value=0, max=89606258), HTML(value='')))"
      ]
     },
     "metadata": {},
     "output_type": "display_data"
    },
    {
     "name": "stdout",
     "output_type": "stream",
     "text": [
      "\n"
     ]
    }
   ],
   "source": [
    "pfl = defaultdict(lambda: {})\n",
    "num_lines = sum(1 for line in open('/datadrive/MAG_0919/Papers_20190919.tsv', 'r'))\n",
    "with open('/datadrive/MAG_0919/Papers_20190919.tsv') as fin:\n",
    "    fin.readline()\n",
    "    for l in tqdm(fin, total = num_lines):\n",
    "        l = l[:-1].split('\\t')\n",
    "        bound = min(8*(2020 - int(l[1])), 160)\n",
    "        if cite_dict[l[0]] < bound or l[0] == '' or l[1] == '' or l[2] == '' or l[3] == '' and l[4] == '' or int(l[1]) < 1900:\n",
    "            continue\n",
    "        pi = {'id': l[0], 'title': l[2], 'type': 'paper', 'time': int(l[1])}\n",
    "        pfl[l[0]] = pi"
   ]
  },
  {
   "cell_type": "code",
   "execution_count": null,
   "metadata": {},
   "outputs": [],
   "source": [
    "from pytorch_transformers import *\n",
    "device = torch.device(\"cuda:3\")\n",
    "tokenizer = XLNetTokenizer.from_pretrained('xlnet-base-cased')\n",
    "model = XLNetModel.from_pretrained('xlnet-base-cased',\n",
    "                                    output_hidden_states=True,\n",
    "                                    output_attentions=True).to(device)"
   ]
  },
  {
   "cell_type": "code",
   "execution_count": null,
   "metadata": {
    "scrolled": true
   },
   "outputs": [
    {
     "data": {
      "application/vnd.jupyter.widget-view+json": {
       "model_id": "12ca9388e9774bc1958db7e28b9783bb",
       "version_major": 2,
       "version_minor": 0
      },
      "text/plain": [
       "HBox(children=(IntProgress(value=0, max=56681917), HTML(value='')))"
      ]
     },
     "metadata": {},
     "output_type": "display_data"
    }
   ],
   "source": [
    "num_lines = sum(1 for line in open('/datadrive/MAG_0919/PAb_20190919.tsv', 'r'))\n",
    "with open('/datadrive/MAG_0919/PAb_20190919.tsv') as fin:\n",
    "    fin.readline()\n",
    "    for l in tqdm(fin, total = num_lines):\n",
    "        try:\n",
    "            l = l.split('\\t')\n",
    "            if l[0] in pfl:\n",
    "                input_ids = torch.tensor([tokenizer.encode(pfl[l[0]]['title'])]).to(device)[:, :64]\n",
    "                if len(input_ids[0]) < 4:\n",
    "                    continue\n",
    "                all_hidden_states, all_attentions = model(input_ids)[-2:]\n",
    "                rep = (all_hidden_states[-2][0] * all_attentions[-2][0].mean(dim=0).mean(dim=0).view(-1, 1)).sum(dim=0)\n",
    "                pfl[l[0]]['emb'] = rep.tolist()\n",
    "        except Exception as e:\n",
    "            print(e)"
   ]
  },
  {
   "cell_type": "code",
   "execution_count": null,
   "metadata": {},
   "outputs": [],
   "source": [
    "dill.dump(pfl, open(data_dir + 'tmp.pk', 'wb'))"
   ]
  },
  {
   "cell_type": "code",
   "execution_count": null,
   "metadata": {},
   "outputs": [],
   "source": [
    "vfi_ids = {}\n",
    "num_lines = sum(1 for line in open('/datadrive/MAG_0919/vfi_vector.tsv', 'r'))\n",
    "with open('/datadrive/MAG_0919/vfi_vector.tsv', 'r') as fin:\n",
    "    for l in tqdm(fin, total = num_lines):\n",
    "        l = l[:-1].split('\\t')\n",
    "        vfi_ids[l[0]] = True"
   ]
  },
  {
   "cell_type": "code",
   "execution_count": null,
   "metadata": {},
   "outputs": [],
   "source": [
    "graph = Graph()\n",
    "rem = []\n",
    "num_lines = sum(1 for line in open('/datadrive/MAG_0919/Papers_20190919.tsv', 'r'))\n",
    "with open('/datadrive/MAG_0919/Papers_20190919.tsv') as fin:\n",
    "    fin.readline()\n",
    "    for l in tqdm(fin, total = num_lines):\n",
    "        l = l[:-1].split('\\t')\n",
    "        if l[0] not in pfl or l[4] != 'en' or 'emb' not in pfl[l[0]] or l[3] not in vfi_ids:\n",
    "            continue\n",
    "        rem += [l[0]]\n",
    "        vi = {'id': l[3], 'type': 'venue', 'attr': l[-2]}\n",
    "        graph.add_edge(pfl[l[0]], vi, time = int(l[1]), relation_type = 'PV_' + l[-2])\n",
    "pfl = {i: pfl[i] for i in rem}\n",
    "print(len(pfl))"
   ]
  },
  {
   "cell_type": "code",
   "execution_count": null,
   "metadata": {},
   "outputs": [],
   "source": [
    "num_lines = sum(1 for line in open('/datadrive/MAG_0919/PR_20190919.tsv', 'r'))\n",
    "with open('/datadrive/MAG_0919/PR_20190919.tsv', 'r') as fin:\n",
    "    fin.readline()\n",
    "    for l in tqdm(fin, total = num_lines):\n",
    "        l = l[:-1].split('\\t')\n",
    "        if l[0] in pfl and l[1] in pfl:\n",
    "            p1 = pfl[l[0]]\n",
    "            p2 = pfl[l[1]]\n",
    "            if p1['time'] >= p2['time']:\n",
    "                graph.add_edge(p1, p2, time = p1['time'], relation_type = 'PP_cite')"
   ]
  },
  {
   "cell_type": "code",
   "execution_count": null,
   "metadata": {},
   "outputs": [],
   "source": [
    "num_lines = sum(1 for line in open('/datadrive/MAG_0919/PF_20190919.tsv', 'r'))\n",
    "ffl = {}\n",
    "with open('/datadrive/MAG_0919/PF_20190919.tsv', 'r') as fin:\n",
    "    fin.readline()\n",
    "    for l in tqdm(fin, total = num_lines):\n",
    "        l = l[:-1].split('\\t')\n",
    "        if l[0] in pfl and l[1] in vfi_ids:\n",
    "            ffl[l[1]] = True"
   ]
  },
  {
   "cell_type": "code",
   "execution_count": null,
   "metadata": {},
   "outputs": [],
   "source": [
    "num_lines = sum(1 for line in open('/datadrive/MAG_0919/FHierarchy_20190919.tsv', 'r'))\n",
    "with open('/datadrive/MAG_0919/FHierarchy_20190919.tsv', 'r') as fin:\n",
    "    fin.readline()\n",
    "    for l in tqdm(fin, total = num_lines):\n",
    "        l = l[:-1].split('\\t')\n",
    "        if l[0] in ffl and l[1] in ffl:\n",
    "            fi = {'id': l[0], 'type': 'field', 'attr': l[2]}\n",
    "            fj = {'id': l[1], 'type': 'field', 'attr': l[3]}\n",
    "            graph.add_edge(fi, fj, relation_type = 'FF_in')\n",
    "            ffl[l[0]] = fi\n",
    "            ffl[l[1]] = fj"
   ]
  },
  {
   "cell_type": "code",
   "execution_count": null,
   "metadata": {},
   "outputs": [],
   "source": [
    "num_lines = sum(1 for line in open('/datadrive/MAG_0919/PF_20190919.tsv', 'r'))\n",
    "with open('/datadrive/MAG_0919/PF_20190919.tsv', 'r') as fin:\n",
    "    fin.readline()\n",
    "    for l in tqdm(fin, total = num_lines):\n",
    "        l = l[:-1].split('\\t')\n",
    "        if l[0] in pfl and l[1] in ffl and type(ffl[l[1]]) == dict:\n",
    "            pi = pfl[l[0]]\n",
    "            fi = ffl[l[1]]\n",
    "            graph.add_edge(pi, fi, time = pi['time'], relation_type = 'PF_in_' + fi['attr'])"
   ]
  },
  {
   "cell_type": "code",
   "execution_count": null,
   "metadata": {},
   "outputs": [],
   "source": [
    "coi = defaultdict(lambda: [])\n",
    "coa = defaultdict(lambda: {})\n",
    "num_lines = sum(1 for line in open('/datadrive/MAG_0919/PAuAf_20190919.tsv', 'r'))\n",
    "with open('/datadrive/MAG_0919/PAuAf_20190919.tsv', 'r') as fin:\n",
    "    fin.readline()\n",
    "    for l in tqdm(fin, total = num_lines):\n",
    "        l = l[:-1].split('\\t')\n",
    "        if l[0] in pfl and l[2] in vfi_ids:\n",
    "            pi = pfl[l[0]]\n",
    "            ai = {'id': l[1], 'type': 'author'}\n",
    "            fi = {'id': l[2], 'type': 'affiliation'}\n",
    "            coa[l[0]][int(l[-1])] = ai\n",
    "            coi[l[0]] += [fi]\n",
    "            graph.add_edge(ai, fi, relation_type = 'in')\n",
    "            pid = graph.node_forward['paper'][l[0]]\n",
    "            for rel in graph.edge_list['paper']['venue']:\n",
    "                for vid in graph.edge_list['paper']['venue'][rel][pid]:\n",
    "                    graph.add_edge(ai, graph.node_bacward['venue'][vid], relation_type = 'APV_in')\n",
    "            for rel in graph.edge_list['paper']['field']:\n",
    "                for fid in graph.edge_list['paper']['field'][rel][pid]:\n",
    "                    graph.add_edge(ai, graph.node_bacward['field'][fid], relation_type = 'APF_in')"
   ]
  },
  {
   "cell_type": "code",
   "execution_count": null,
   "metadata": {},
   "outputs": [],
   "source": [
    "for pid in tqdm(coa):\n",
    "    pi = pfl[pid]\n",
    "    max_seq = max(coa[pid].keys())\n",
    "    for seq_i in coa[pid]:\n",
    "        ai = coa[pid][seq_i]\n",
    "        if seq_i == 1:\n",
    "            graph.add_edge(ai, pi, time = pi['time'], relation_type = 'AP_write_first')\n",
    "        elif seq_i == max_seq:\n",
    "            graph.add_edge(ai, pi, time = pi['time'], relation_type = 'AP_write_last')\n",
    "        else:\n",
    "            graph.add_edge(ai, pi, time = pi['time'], relation_type = 'AP_write_other')\n",
    "        for seq_j in coa[pid]:\n",
    "            if seq_j > seq_i:\n",
    "                aj = coa[pid][seq_j]\n",
    "                graph.add_edge(ai, aj, time = pi['time'], relation_type = 'APA_coauthor', directed = False)"
   ]
  },
  {
   "cell_type": "code",
   "execution_count": null,
   "metadata": {},
   "outputs": [],
   "source": [
    "for pid in tqdm(coi):\n",
    "    pi = pfl[pid]\n",
    "    for seq_i, fi in enumerate(coi[pid]):\n",
    "        for seq_j, fj in enumerate(coi[pid]):\n",
    "            if seq_j > seq_i:\n",
    "                graph.add_edge(fi, fj, time = pi['time'], relation_type = 'IPI_coauthor', directed = False)"
   ]
  },
  {
   "cell_type": "code",
   "execution_count": null,
   "metadata": {},
   "outputs": [],
   "source": [
    "num_lines = sum(1 for line in open('/datadrive/MAG_0919/vfi_vector.tsv', 'r'))\n",
    "with open('/datadrive/MAG_0919/vfi_vector.tsv', 'r') as fin:\n",
    "    for l in tqdm(fin, total = num_lines):\n",
    "        l = l[:-1].split('\\t')\n",
    "        ser = l[0]\n",
    "        for idx in ['venue', 'field', 'affiliation']:\n",
    "            if ser in graph.node_forward[idx]:\n",
    "                graph.node_bacward[idx][graph.node_forward[idx][ser]]['node_emb'] = np.array(l[1].split(' '))"
   ]
  },
  {
   "cell_type": "code",
   "execution_count": null,
   "metadata": {},
   "outputs": [],
   "source": [
    "for idx in ['venue', 'field', 'affiliation']:\n",
    "    tot = 0\n",
    "    for i in graph.node_bacward[idx]:\n",
    "        if 'node_emb' in i:\n",
    "            tot += 1\n",
    "    print(tot, len(graph.node_bacward[idx]))"
   ]
  },
  {
   "cell_type": "code",
   "execution_count": null,
   "metadata": {},
   "outputs": [],
   "source": [
    "for target_type in graph.node_bacward:\n",
    "    print(target_type, len(graph.node_bacward[target_type]))"
   ]
  },
  {
   "cell_type": "code",
   "execution_count": null,
   "metadata": {
    "scrolled": true
   },
   "outputs": [],
   "source": [
    "for target_type in graph.edge_list:\n",
    "    print(target_type)\n",
    "    for source_type in graph.edge_list[target_type]:\n",
    "        print('-' * 4 + source_type)\n",
    "        for rel_type in graph.edge_list[target_type][source_type]:\n",
    "            tot = 0\n",
    "            for tid in graph.edge_list[target_type][source_type][rel_type]:\n",
    "                tot += len(graph.edge_list[target_type][source_type][rel_type][tid])\n",
    "            print('-' * 8 + rel_type, tot)"
   ]
  },
  {
   "cell_type": "code",
   "execution_count": null,
   "metadata": {},
   "outputs": [],
   "source": [
    "num_lines = sum(1 for line in open('/datadrive/MAG_0919/SeqName_20190919.tsv', 'r'))\n",
    "with open('/datadrive/MAG_0919/SeqName_20190919.tsv', 'r') as fin:\n",
    "    for l in tqdm(fin, total = num_lines):\n",
    "        l = l[:-1].split('\\t')\n",
    "        key = l[2]\n",
    "        if key in ['conference', 'journal', 'repository', 'patent']:\n",
    "            key = 'venue'\n",
    "        if key == 'fos':\n",
    "            key = 'field'\n",
    "        if l[0] in graph.node_forward[key]:\n",
    "            s = graph.node_bacward[key][graph.node_forward[key][l[0]]]\n",
    "            s['name'] = l[1]"
   ]
  },
  {
   "cell_type": "code",
   "execution_count": null,
   "metadata": {},
   "outputs": [],
   "source": [
    "res = []\n",
    "for idx, pi in enumerate(graph.node_bacward['paper']):\n",
    "    pi['citation'] = len(graph.edge_list['paper']['paper']['PP_cite'][idx])\n",
    "    res += [[pi['title'], pi['citation']]]\n",
    "res.sort(key=lambda x: x[1], reverse = True)\n",
    "res[:10]"
   ]
  },
  {
   "cell_type": "code",
   "execution_count": null,
   "metadata": {},
   "outputs": [],
   "source": [
    "res = []\n",
    "for idx, ai in enumerate(graph.node_bacward['author']):\n",
    "    citation = 0\n",
    "    for rel in graph.edge_list['author']['paper'].keys():\n",
    "        for pid in graph.edge_list['author']['paper'][rel][idx]:\n",
    "            citation += graph.node_bacward['paper'][pid]['citation']\n",
    "    ai['citation'] = citation\n",
    "    res += [[ai['name'], ai['citation']]]\n",
    "res.sort(key=lambda x: x[1], reverse = True)\n",
    "res[:10]"
   ]
  },
  {
   "cell_type": "code",
   "execution_count": null,
   "metadata": {},
   "outputs": [],
   "source": [
    "res = []\n",
    "for idx, fi in enumerate(graph.node_bacward['affiliation']):\n",
    "    citation = 0\n",
    "    for aid in graph.edge_list['affiliation']['author']['in'][idx]:\n",
    "        citation += graph.node_bacward['author'][aid]['citation']\n",
    "    fi['citation'] = citation\n",
    "    res += [[fi['name'], fi['citation']]]\n",
    "res.sort(key=lambda x: x[1], reverse = True)\n",
    "res[:10]"
   ]
  },
  {
   "cell_type": "code",
   "execution_count": null,
   "metadata": {},
   "outputs": [],
   "source": [
    "res = []\n",
    "for idx, vi in enumerate(graph.node_bacward['venue']):\n",
    "    citation = 0\n",
    "    for rel in graph.edge_list['venue']['paper'].keys():\n",
    "        for pid in graph.edge_list['venue']['paper'][rel][idx]:\n",
    "            citation += graph.node_bacward['paper'][pid]['citation']\n",
    "    vi['citation'] = citation\n",
    "    res += [[vi['name'], vi['citation'], vi['attr']]]\n",
    "res.sort(key=lambda x: x[1], reverse = True)\n",
    "res[:10]"
   ]
  },
  {
   "cell_type": "code",
   "execution_count": null,
   "metadata": {
    "scrolled": true
   },
   "outputs": [],
   "source": [
    "res = []\n",
    "for idx, fi in enumerate(graph.node_bacward['field']):\n",
    "    citation = 0\n",
    "    for rel in graph.edge_list['field']['paper'].keys():\n",
    "        for pid in graph.edge_list['field']['paper'][rel][idx]:\n",
    "            citation += graph.node_bacward['paper'][pid]['citation']\n",
    "    fi['citation'] = citation\n",
    "    res += [[fi['name'], fi['citation'], fi['attr']]]\n",
    "res.sort(key=lambda x: x[1], reverse = True)\n",
    "res[:100]"
   ]
  },
  {
   "cell_type": "code",
   "execution_count": null,
   "metadata": {},
   "outputs": [],
   "source": [
    "graph.propagate_feature()"
   ]
  },
  {
   "cell_type": "code",
   "execution_count": null,
   "metadata": {},
   "outputs": [],
   "source": [
    "del graph.node_bacward"
   ]
  },
  {
   "cell_type": "code",
   "execution_count": null,
   "metadata": {},
   "outputs": [],
   "source": [
    "dill.dump(graph, open(data_dir + 'graph.pk', 'wb'))"
   ]
  },
  {
   "cell_type": "code",
   "execution_count": null,
   "metadata": {},
   "outputs": [],
   "source": []
  },
  {
   "cell_type": "code",
   "execution_count": null,
   "metadata": {},
   "outputs": [],
   "source": [
    "# type_dict = {'field': 0, 'venue' : 1, 'paper' : 2, 'author': 3, 'affiliation': 4}\n",
    "# for target_type in layer_data:\n",
    "#     for _id in layer_data[target_type]:\n",
    "#         yi = layer_data[target_type][_id]\n",
    "#         plt.scatter(type_dict[target_type], yi, color = cm.hot(type_dict[target_type] / len(type_dict)), s = 100)\n",
    "# #         plt.annotate(_id, (type_dict[target_type] - 0.1, yi + 0.05), fontsize = 12)\n",
    "# for target_type in sub_graph_list:\n",
    "#     for source_type in sub_graph_list[target_type]:\n",
    "#         for relation_type in sub_graph_list[target_type][source_type]:\n",
    "#             for e in sub_graph_list[target_type][source_type][relation_type]:\n",
    "#                 x1 = type_dict[target_type]\n",
    "#                 x2 = type_dict[source_type]\n",
    "#                 y1 = e[0]\n",
    "#                 y2 = e[1]\n",
    "#                 plt.plot([x1, x2], [y1, y2], \\\n",
    "#                     color = cm.hot((x1 + x2) / 2 / len(type_dict)))\n",
    "# plt.xticks(list(type_dict.values()), list(type_dict.keys()))"
   ]
  }
 ],
 "metadata": {
  "kernelspec": {
   "display_name": "Python 3",
   "language": "python",
   "name": "python3"
  },
  "language_info": {
   "codemirror_mode": {
    "name": "ipython",
    "version": 3
   },
   "file_extension": ".py",
   "mimetype": "text/x-python",
   "name": "python",
   "nbconvert_exporter": "python",
   "pygments_lexer": "ipython3",
   "version": "3.7.3"
  }
 },
 "nbformat": 4,
 "nbformat_minor": 2
}
